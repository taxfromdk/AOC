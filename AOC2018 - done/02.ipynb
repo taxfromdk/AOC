{
 "cells": [
  {
   "cell_type": "code",
   "execution_count": 1,
   "id": "742089f8",
   "metadata": {},
   "outputs": [],
   "source": [
    "def getData():\n",
    "    return [x.strip() for x in open(\"02.txt\").readlines()]\n"
   ]
  },
  {
   "cell_type": "code",
   "execution_count": 2,
   "id": "9a511149",
   "metadata": {},
   "outputs": [
    {
     "name": "stdout",
     "output_type": "stream",
     "text": [
      "part1: 7688 7688\n"
     ]
    }
   ],
   "source": [
    "def hist(s):\n",
    "    h = {}\n",
    "    for c in s:\n",
    "        if not c in h:\n",
    "            h[c] = 0\n",
    "        h[c]+=1\n",
    "    return h\n",
    "\n",
    "def part1(d):\n",
    "    twos = 0\n",
    "    threes = 0\n",
    "    for l in d:\n",
    "        h = hist(l)\n",
    "        if 2 in h.values():\n",
    "            twos += 1\n",
    "        if 3 in h.values():\n",
    "            threes += 1\n",
    "        \n",
    "    return twos*threes\n",
    "\n",
    "print(\"part1:\", part1(getData()),7688)"
   ]
  },
  {
   "cell_type": "code",
   "execution_count": 11,
   "id": "37d67c55",
   "metadata": {},
   "outputs": [
    {
     "name": "stdout",
     "output_type": "stream",
     "text": [
      "part1: lsrivmotzbdxpkxnaqmuwcchj lsrivmotzbdxpkxnaqmuwcgchj\n"
     ]
    }
   ],
   "source": [
    "def match(a,b):\n",
    "    m = 0\n",
    "    r = \"\"\n",
    "    for i in range(len(a)):\n",
    "        if a[i] != b[i]:\n",
    "            m+=1\n",
    "            if m > 1:\n",
    "                return False\n",
    "        else:\n",
    "            r += a[i] \n",
    "    return r\n",
    "\n",
    "def part2(d):\n",
    "    for a in d:\n",
    "        for b in d:\n",
    "            if a != b:\n",
    "                m = match(a,b)\n",
    "                if m:\n",
    "                    return m\n",
    "                    print(m, a ,b)\n",
    "            \n",
    "            \n",
    "    return 0\n",
    "\n",
    "print(\"part1:\", part2(getData()), \"lsrivmotzbdxpkxnaqmuwcchj\")"
   ]
  }
 ],
 "metadata": {
  "kernelspec": {
   "display_name": "Python 3 (ipykernel)",
   "language": "python",
   "name": "python3"
  },
  "language_info": {
   "codemirror_mode": {
    "name": "ipython",
    "version": 3
   },
   "file_extension": ".py",
   "mimetype": "text/x-python",
   "name": "python",
   "nbconvert_exporter": "python",
   "pygments_lexer": "ipython3",
   "version": "3.8.10"
  }
 },
 "nbformat": 4,
 "nbformat_minor": 5
}
