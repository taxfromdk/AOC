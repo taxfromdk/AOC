{
 "cells": [
  {
   "cell_type": "code",
   "execution_count": 1,
   "id": "1c0f61d4",
   "metadata": {},
   "outputs": [
    {
     "name": "stdout",
     "output_type": "stream",
     "text": [
      "part1: ACBDESULXKYZIMNTFGWJVPOHRQ ACBDESULXKYZIMNTFGWJVPOHRQ\n"
     ]
    }
   ],
   "source": [
    "import re\n",
    "def ld():\n",
    "    r=[]\n",
    "    for l in [x.strip() for x in open(\"07.txt\").readlines()]:\n",
    "        #print(l)\n",
    "        r.append(re.findall(\" ([A-z]) \",l))\n",
    "    return r\n",
    "\n",
    "#Step U must be finished before step R can begin.\n",
    "#Step C must be finished before step B can begin.\n",
    "\n",
    "\n",
    "def part1():\n",
    "    d=ld()\n",
    "    D={}\n",
    "    for a,b in d:\n",
    "        if not b in D:\n",
    "            D[b]=[]\n",
    "        D[b].append(a)    \n",
    "        if not a in D:\n",
    "            D[a]=[]\n",
    "    \n",
    "    #for k in D.keys():\n",
    "    #    print(k,D[k])\n",
    "    \n",
    "    l=len(D.keys())\n",
    "    \n",
    "    done=[]\n",
    "    while len(done) < l:\n",
    "        sortedkeys=list(D.keys())\n",
    "        sortedkeys.sort()\n",
    "        for k in sortedkeys:\n",
    "            if len(D[k]) == 0:\n",
    "                for k2 in D.keys():\n",
    "                    if k in D[k2]:\n",
    "                        D[k2].remove(k)\n",
    "                del D[k]\n",
    "                done.append(k)\n",
    "                break\n",
    "    return \"\".join(done)\n",
    "\n",
    "\n",
    "print(\"part1:\",part1(),'ACBDESULXKYZIMNTFGWJVPOHRQ')\n"
   ]
  },
  {
   "cell_type": "code",
   "execution_count": 2,
   "id": "78b3cc09",
   "metadata": {},
   "outputs": [
    {
     "name": "stdout",
     "output_type": "stream",
     "text": [
      "part2: 980 980\n"
     ]
    }
   ],
   "source": [
    "def part2():\n",
    "    d = ld()\n",
    "    \n",
    "    D={}\n",
    "    for a,b in d:\n",
    "        if not b in D:\n",
    "            D[b]=[]\n",
    "        D[b].append(a)    \n",
    "        if not a in D:\n",
    "            D[a]=[]\n",
    "    \n",
    "    N=5\n",
    "    workers = []\n",
    "   \n",
    "    t=0\n",
    "    done= []\n",
    "    while len(done)<26:\n",
    "        #put all workers to work\n",
    "        while 1: \n",
    "            sortedkeys=list(D.keys())\n",
    "            sortedkeys.sort()\n",
    "            vain=True\n",
    "            for k in sortedkeys:\n",
    "                if len(D[k]) == 0:\n",
    "                    if len(workers) < N:\n",
    "                        workers.append((k, 61+ord(k)-ord('A')))\n",
    "                        del D[k]\n",
    "                        vain=False\n",
    "            if vain:\n",
    "                break\n",
    "        #update workers\n",
    "        nw=[]\n",
    "        for k,d in workers:\n",
    "            d-=1\n",
    "            if d == 0:\n",
    "                #task is done\n",
    "                for k2 in D.keys():\n",
    "                    if k in D[k2]:\n",
    "                        D[k2].remove(k)\n",
    "                done.append(k)\n",
    "            else:\n",
    "                nw.append((k,d))\n",
    "        workers=nw\n",
    "        t+=1\n",
    "    return t\n",
    "\n",
    "print(\"part2:\",part2(),980)\n"
   ]
  }
 ],
 "metadata": {
  "kernelspec": {
   "display_name": "Python 3 (ipykernel)",
   "language": "python",
   "name": "python3"
  },
  "language_info": {
   "codemirror_mode": {
    "name": "ipython",
    "version": 3
   },
   "file_extension": ".py",
   "mimetype": "text/x-python",
   "name": "python",
   "nbconvert_exporter": "python",
   "pygments_lexer": "ipython3",
   "version": "3.8.10"
  }
 },
 "nbformat": 4,
 "nbformat_minor": 5
}
