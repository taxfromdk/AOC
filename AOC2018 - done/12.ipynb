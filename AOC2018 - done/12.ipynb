{
 "cells": [
  {
   "cell_type": "code",
   "execution_count": 1,
   "id": "888c76d0",
   "metadata": {},
   "outputs": [
    {
     "name": "stdout",
     "output_type": "stream",
     "text": [
      "part1: 3605 3605\n"
     ]
    }
   ],
   "source": [
    "def ld():\n",
    "    d = [x.strip() for x in open(\"12.txt\").readlines()]\n",
    "    st=d[0].split(\": \")[1]\n",
    "    \n",
    "    #print(st)\n",
    "    \n",
    "    s={}\n",
    "    for x in range(len(st)):\n",
    "        if st[x] == \"#\":\n",
    "            s[x]=\"#\"\n",
    "    \n",
    "    r={}\n",
    "    for x in d[2:]:\n",
    "        f,t=x.split(\" => \")\n",
    "        if t==\"#\":\n",
    "            r[f]=t\n",
    "    \n",
    "    return s,r\n",
    "\n",
    "def o(s,r):\n",
    "    ns={}\n",
    "    for k in range(min(s.keys())-2, max(s.keys())+3):\n",
    "        sp=\"\"\n",
    "        for x in range(-2,3):\n",
    "            if k+x in s:\n",
    "                sp+=\"#\"\n",
    "            else:\n",
    "                sp+=\".\"\n",
    "        #print(sp)\n",
    "        if sp in r:\n",
    "            ns[k]=\"#\"\n",
    "    return ns\n",
    "\n",
    "\n",
    "\n",
    "def part1():\n",
    "    s,r=ld()\n",
    "    for x in range(20):\n",
    "        s=o(s,r)\n",
    "    return sum(s.keys())\n",
    "    \n",
    "\n",
    "print(\"part1:\",part1(),3605)\n",
    "\n",
    "\n"
   ]
  },
  {
   "cell_type": "code",
   "execution_count": 2,
   "id": "0d15da70",
   "metadata": {
    "scrolled": false
   },
   "outputs": [
    {
     "name": "stdout",
     "output_type": "stream",
     "text": [
      "part2: 4050000000798 4050000000798\n"
     ]
    }
   ],
   "source": [
    "def part2():\n",
    "    s,r=ld()\n",
    "    lv=None\n",
    "    steps=[]\n",
    "    i=0\n",
    "    while 1:\n",
    "        s=o(s,r)\n",
    "        i+=1\n",
    "        v=sum(s.keys())\n",
    "        \n",
    "        #record steps and trigger \n",
    "        #if conatant over time\n",
    "        vv=None\n",
    "        if not lv is None:\n",
    "            vv=v-lv\n",
    "            steps.append(vv)\n",
    "            steps=steps[-1000:]\n",
    "            if len(steps) >= 100 and min(steps)==max(steps):\n",
    "                #print(i,steps[0])\n",
    "                #now increments are fixed\n",
    "                return v+(50_000_000_000-i)*steps[0]\n",
    "                \n",
    "        #print(vv)\n",
    "        \n",
    "        lv=v\n",
    "        \n",
    "        \n",
    "    \n",
    "print(\"part2:\",part2(),  4050000000798 )\n",
    "\n",
    "\n",
    "\n",
    "    "
   ]
  }
 ],
 "metadata": {
  "kernelspec": {
   "display_name": "Python 3 (ipykernel)",
   "language": "python",
   "name": "python3"
  },
  "language_info": {
   "codemirror_mode": {
    "name": "ipython",
    "version": 3
   },
   "file_extension": ".py",
   "mimetype": "text/x-python",
   "name": "python",
   "nbconvert_exporter": "python",
   "pygments_lexer": "ipython3",
   "version": "3.8.10"
  }
 },
 "nbformat": 4,
 "nbformat_minor": 5
}
