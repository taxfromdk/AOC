{
 "cells": [
  {
   "cell_type": "code",
   "execution_count": 1,
   "id": "f140910e",
   "metadata": {},
   "outputs": [
    {
     "name": "stdout",
     "output_type": "stream",
     "text": [
      "c: 305\n",
      "part1: 305 305\n"
     ]
    }
   ],
   "source": [
    "def l():\n",
    "    return [[int(y) for y in x.strip().split(',')] for x in open(\"25.txt\").readlines()]\n",
    "\n",
    "def close(a,b):\n",
    "    r=0\n",
    "    for i in range(4):\n",
    "        r+=a[i]-b[i] if a[i]>b[i] else b[i]-a[i]\n",
    "        if r>3:\n",
    "            return False\n",
    "    return True\n",
    "\n",
    "def r(d):\n",
    "    d=[[x] for x in d]\n",
    "    while 1:\n",
    "        z=0  \n",
    "        l=len(d)\n",
    "        d=sorted(d,key=lambda x:len(x))\n",
    "        for a in range(l):\n",
    "            for aa in d[a]:\n",
    "                for b in range(l):\n",
    "                    if a!=b:\n",
    "                        for bb in d[b]:\n",
    "                            if close(aa,bb):\n",
    "                                d[a]+=d[b]\n",
    "                                #d[a]=sorted(d[a],key=lambda x:x[0])\n",
    "                                del d[b]\n",
    "                                z=1\n",
    "                                break\n",
    "                    if z:\n",
    "                        break\n",
    "                if z:\n",
    "                    break\n",
    "            if z:\n",
    "                break\n",
    "        if z:\n",
    "            print(\"c:%4d\"%(len(d)),end='\\r')\n",
    "        else:\n",
    "            break\n",
    "            \n",
    "    return len(d)\n",
    "print(\"\\npart1:\",r(l()),305)\n",
    "\n",
    "\n"
   ]
  }
 ],
 "metadata": {
  "kernelspec": {
   "display_name": "Python 3 (ipykernel)",
   "language": "python",
   "name": "python3"
  },
  "language_info": {
   "codemirror_mode": {
    "name": "ipython",
    "version": 3
   },
   "file_extension": ".py",
   "mimetype": "text/x-python",
   "name": "python",
   "nbconvert_exporter": "python",
   "pygments_lexer": "ipython3",
   "version": "3.8.10"
  }
 },
 "nbformat": 4,
 "nbformat_minor": 5
}
