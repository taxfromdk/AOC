{
 "cells": [
  {
   "cell_type": "code",
   "execution_count": 1,
   "id": "8be66a99",
   "metadata": {
    "scrolled": false
   },
   "outputs": [
    {
     "name": "stdout",
     "output_type": "stream",
     "text": [
      "99403102 614\n",
      "1000\n",
      "part1: 393 393\n"
     ]
    }
   ],
   "source": [
    "import re\n",
    "def nbe(l):\n",
    "    return[int(v) for v in re.findall(\"[+-]?[-0-9]+\",l)]\n",
    "    \n",
    "nb=[nbe(x) for x in open(\"23.txt\").readlines()]\n",
    "\n",
    "lo=0\n",
    "ix=0\n",
    "\n",
    "for i,b in enumerate(nb):\n",
    "    x,y,z,r=b\n",
    "    if r == lo:\n",
    "        print(\"equal\")\n",
    "    if r>lo:\n",
    "        lo=r\n",
    "        ix=i\n",
    "    \n",
    " \n",
    "print(lo,ix)\n",
    "\n",
    "def dist(a,b):\n",
    "    \n",
    "    r=0\n",
    "    for i in range(3):\n",
    "        r+=abs(a[i]-b[i])\n",
    "        \n",
    "    #print(a,b,r)\n",
    "    return r\n",
    "r=0\n",
    "for i,b in enumerate(nb):\n",
    "    \n",
    "    mhd=dist(nb[i],nb[ix])\n",
    "    if mhd<=lo:\n",
    "        r+=1\n",
    "\n",
    "print(len(nb))\n",
    "print(\"part1:\",r,393)\n",
    "\n",
    "\n"
   ]
  },
  {
   "cell_type": "code",
   "execution_count": 2,
   "id": "0ec74e69",
   "metadata": {},
   "outputs": [
    {
     "name": "stdout",
     "output_type": "stream",
     "text": [
      "sat\n",
      "part2: 113799398 113799398\n"
     ]
    }
   ],
   "source": [
    "from z3 import *\n",
    "\n",
    "#this is magic to me.\n",
    "#heavily inspired from the reddit thread\n",
    "\n",
    "\n",
    "def zabs(x):\n",
    "    return If(x >= 0,x,-x)\n",
    "\n",
    "(x, y, z) = (Int('x'), Int('y'), Int('z'))\n",
    "in_ranges = [\n",
    "  Int('in_range_' + str(i)) for i in range(len(nb))\n",
    "]\n",
    "range_count = Int('sum')\n",
    "o = Optimize()\n",
    "\n",
    "for i in range(len(nb)):\n",
    "    nx, ny, nz, nrng = nb[i]\n",
    "    o.add(in_ranges[i] == If(zabs(x - nx) + zabs(y - ny) + zabs(z - nz) <= nrng, 1, 0))\n",
    "\n",
    "o.add(range_count == sum(in_ranges))\n",
    "\n",
    "dist_from_zero = Int('dist')\n",
    "\n",
    "o.add(dist_from_zero == zabs(x) + zabs(y) + zabs(z))\n",
    "\n",
    "h1 = o.maximize(range_count)\n",
    "h2 = o.minimize(dist_from_zero)\n",
    "\n",
    "print( o.check())\n",
    "\n",
    "#print (\"b\", o.lower(h2), o.upper(h2))\n",
    "\n",
    "print(\"part2:\",o.lower(h2),113799398)\n",
    "\n"
   ]
  }
 ],
 "metadata": {
  "kernelspec": {
   "display_name": "Python 3 (ipykernel)",
   "language": "python",
   "name": "python3"
  },
  "language_info": {
   "codemirror_mode": {
    "name": "ipython",
    "version": 3
   },
   "file_extension": ".py",
   "mimetype": "text/x-python",
   "name": "python",
   "nbconvert_exporter": "python",
   "pygments_lexer": "ipython3",
   "version": "3.8.10"
  }
 },
 "nbformat": 4,
 "nbformat_minor": 5
}
