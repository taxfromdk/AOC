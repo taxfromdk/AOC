{
 "cells": [
  {
   "cell_type": "code",
   "execution_count": 1,
   "id": "6fffa22e",
   "metadata": {
    "scrolled": false
   },
   "outputs": [
    {
     "name": "stdout",
     "output_type": "stream",
     "text": [
      "[[[2, 0, 0, 1], [15, 3, 1, 3], [2, 0, 0, 1]], [[3, 2, 3, 3], [4, 3, 3, 0], [3, 2, 3, 3]], [[3, 2, 1, 3], [12, 3, 0, 0], [1, 2, 1, 3]], [[1, 2, 2, 2], [2, 0, 2, 0], [0, 2, 2, 2]], [[0, 1, 2, 1], [10, 1, 0, 1], [0, 1, 2, 1]], [[2, 1, 3, 2], [11, 0, 3, 3], [2, 1, 3, 1]], [[1, 2, 1, 1], [9, 2, 0, 2], [1, 2, 2, 1]], [[3, 0, 1, 1], [15, 3, 1, 3], [3, 0, 1, 1]], [[0, 1, 1, 1], [10, 1, 0, 3], [0, 1, 1, 1]], [[1, 3, 2, 2], [2, 0, 2, 2], [1, 3, 0, 2]]]\n"
     ]
    }
   ],
   "source": [
    "import re\n",
    "\n",
    "def ex(d):\n",
    "    d = re.findall(\"[0-9]+[ ,]*[0-9]+[ ,]*[0-9]+[ ,]*[0-9]+\",d)\n",
    "    #print(d[:10])\n",
    "    d = [[int(x) for x in y.replace(\",\",\"\").split(' ')] for y in d]\n",
    "    return d\n",
    "    \n",
    "\n",
    "\n",
    "def ld():\n",
    "    \n",
    "    d = open(\"16.txt\").read().split(\"\\n\\n\\n\")\n",
    "    a,b=[ex(x) for x in d]\n",
    "    a=[a[i:i+3] for i in range(0,len(a),3)]\n",
    "    return a,b\n",
    "\n",
    "a,b=ld()\n",
    "print(a[:10])\n",
    "#print(b[:10])\n",
    "\n",
    "\n",
    "\n"
   ]
  },
  {
   "cell_type": "code",
   "execution_count": 2,
   "id": "cb8ee717",
   "metadata": {
    "scrolled": false
   },
   "outputs": [
    {
     "name": "stdout",
     "output_type": "stream",
     "text": [
      "['gtir']\n",
      "['mulr']\n",
      "['seti']\n",
      "['gtrr']\n",
      "['bori']\n",
      "['borr']\n",
      "['banr']\n",
      "['eqri']\n",
      "['bani']\n",
      "['addr']\n",
      "['addi']\n",
      "['eqrr']\n",
      "['gtri']\n",
      "['eqir']\n",
      "['setr']\n",
      "['muli']\n",
      "part1:  618 618\n"
     ]
    }
   ],
   "source": [
    "import copy\n",
    "A,B,C,D=range(4)\n",
    "opA=1\n",
    "opB=2\n",
    "opC=3\n",
    "#print(A,B,C,D)\n",
    "\n",
    "def op(cmd,r,op):\n",
    "    r=copy.copy(r)\n",
    "    _,opA,opB,opC=op\n",
    "    #print(c,r,op)\n",
    "    if cmd==\"addr\":\n",
    "        r[opC]=r[opA]+r[opB]\n",
    "    elif cmd==\"addi\":\n",
    "        r[opC]=r[opA]+opB\n",
    "    elif cmd==\"mulr\":\n",
    "        r[opC]=r[opA]*r[opB]\n",
    "    elif cmd==\"muli\":\n",
    "        r[opC]=r[opA]*opB\n",
    "    elif cmd==\"banr\":\n",
    "        r[opC]=r[opA]&r[opB]\n",
    "    elif cmd==\"bani\":\n",
    "        r[opC]=r[opA]&opB\n",
    "    elif cmd==\"borr\":\n",
    "        r[opC]=r[opA]|r[opB]\n",
    "    elif cmd==\"bori\":\n",
    "        r[opC]=r[opA]|opB\n",
    "    elif cmd==\"setr\":\n",
    "        r[opC]=r[opA]\n",
    "    elif cmd==\"seti\":\n",
    "        r[opC]=opA\n",
    "    elif cmd==\"gtir\":\n",
    "        r[opC]=int(opA>r[opB])\n",
    "    elif cmd==\"gtri\":\n",
    "        r[opC]=int(r[opA]>opB)\n",
    "    elif cmd==\"gtrr\":\n",
    "        r[opC]=int(r[opA]>r[opB])\n",
    "    elif cmd==\"eqir\":\n",
    "        r[opC]=int(opA==r[opB])\n",
    "    elif cmd==\"eqri\":\n",
    "        r[opC]=int(r[opA]==opB)\n",
    "    elif cmd==\"eqrr\":\n",
    "        r[opC]=int(r[opA]==r[opB])\n",
    "        \n",
    "    else:\n",
    "        assert(0)\n",
    "    return r\n",
    "    \n",
    "    \n",
    "\n",
    "\n",
    "opmap=[]\n",
    "for i in range(16):\n",
    "    opmap.append([\"addr\",\"addi\",\"mulr\",\"muli\",\"banr\",\"bani\",\"borr\",\"bori\",\"setr\",\"seti\",\"gtir\",\"gtri\",\"gtrr\",\"eqir\",\"eqri\",\"eqrr\"])\n",
    "\n",
    "for _in,_op,_out in a:\n",
    "    #print(_in,_op,_out,_in==_out)\n",
    "    for candidate in range(len(opmap[_op[0]])):\n",
    "        if opmap[_op[0]][candidate]:\n",
    "            #print(opmap[opcode][candidate])\n",
    "            r = op(opmap[_op[0]][candidate],_in,_op)\n",
    "            #print(r,_in,_op,_out)\n",
    "            if r != _out:\n",
    "                #print(r,_out)\n",
    "                opmap[_op[0]][candidate]=None\n",
    "    if None in opmap[_op[0]]:\n",
    "        opmap[_op[0]].remove(None)\n",
    "        \n",
    "while 1:\n",
    "    done=True \n",
    "    for i in range(len(opmap)):\n",
    "        if len(opmap[i])==1:\n",
    "            for j in range(len(opmap)):\n",
    "                if i!=j:\n",
    "                    if opmap[i][0] in opmap[j]:\n",
    "                        opmap[j].remove(opmap[i][0])\n",
    "                        done=False\n",
    "    if done:\n",
    "        break\n",
    "        \n",
    "        \n",
    "        \n",
    "for l in opmap:\n",
    "    \n",
    "    print(l)\n",
    "\n",
    "multifit=0\n",
    "for _in,_op,_out in a:\n",
    "    fit=0\n",
    "    for l in opmap:\n",
    "        if op(l[0],_in,_op)==_out:\n",
    "            fit+=1\n",
    "    if fit > 2:\n",
    "        multifit+=1\n",
    "print(\"part1: \", multifit, 618)\n",
    "        \n",
    "\n",
    "\n",
    "\n",
    "\n"
   ]
  },
  {
   "cell_type": "code",
   "execution_count": 3,
   "id": "5fe97237",
   "metadata": {},
   "outputs": [
    {
     "name": "stdout",
     "output_type": "stream",
     "text": [
      "part2:  514 514\n"
     ]
    }
   ],
   "source": [
    "r=[0,0,0,0]\n",
    "\n",
    "for _op in b:\n",
    "    r=op(opmap[_op[0]][0],r,_op)\n",
    "\n",
    "print(\"part2: \", r[0], 514)"
   ]
  }
 ],
 "metadata": {
  "kernelspec": {
   "display_name": "Python 3 (ipykernel)",
   "language": "python",
   "name": "python3"
  },
  "language_info": {
   "codemirror_mode": {
    "name": "ipython",
    "version": 3
   },
   "file_extension": ".py",
   "mimetype": "text/x-python",
   "name": "python",
   "nbconvert_exporter": "python",
   "pygments_lexer": "ipython3",
   "version": "3.8.10"
  }
 },
 "nbformat": 4,
 "nbformat_minor": 5
}
