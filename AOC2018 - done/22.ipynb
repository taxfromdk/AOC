{
 "cells": [
  {
   "cell_type": "code",
   "execution_count": 1,
   "id": "a4039234",
   "metadata": {
    "scrolled": false
   },
   "outputs": [
    {
     "name": "stdout",
     "output_type": "stream",
     "text": [
      "\n",
      "part1: 7743 7743\n"
     ]
    }
   ],
   "source": [
    "import cmath\n",
    "import sys \n",
    "\n",
    "#sys.setrecursionlimit(10000)\n",
    "\n",
    "depth=8103\n",
    "tx,ty=(9,758)\n",
    "#tx,ty=(10,10)\n",
    "\n",
    "\n",
    "types=\".=|\" #rocky, wet, narrow\n",
    "gih={}\n",
    "def gi(x,y):\n",
    "    p=(x,y)\n",
    "    global gih\n",
    "    if p in gih:\n",
    "        print(\"reuse: %d %d % 6d\"%(x,y,len(gih)),end=\"\\r\")\n",
    "        return gih[p]\n",
    "    r=0\n",
    "    if not p in [(0,0),(tx,ty)]:\n",
    "        \n",
    "        if y==0:\n",
    "            r=x*16807\n",
    "        elif x==0:\n",
    "            r=y*48271\n",
    "        else:\n",
    "            r=el(x-1,y)*el(x,y-1)\n",
    "    \n",
    "    gih[p]=r\n",
    "    return r\n",
    "elh={}\n",
    "def el(x,y):\n",
    "    p=(x,y)\n",
    "    if p in elh:\n",
    "        return elh[p]\n",
    "    r=(gi(x,y)+depth)%20183\n",
    "    elh[p]=r\n",
    "    return r\n",
    "\n",
    "tpnames=[\"rocky\",\"wet\",\"narrow\"]\n",
    "tptools=[\"ct\",\"cn\",\"tn\"]\n",
    "def tp(x,y):\n",
    "    return el(x,y)%3\n",
    "\n",
    "totalrisk=0\n",
    "for x in range(tx+1):\n",
    "    for y in range(ty+1):\n",
    "        totalrisk+=tp(x,y)\n",
    "print(\"\\npart1:\",totalrisk,7743)\n",
    "\n",
    "\n",
    "\n"
   ]
  },
  {
   "cell_type": "code",
   "execution_count": 2,
   "id": "5c602d22",
   "metadata": {
    "scrolled": false
   },
   "outputs": [
    {
     "data": {
      "image/png": "[encoded data removed]",
      "text/plain": [
       "<PIL.Image.Image image mode=RGB size=48x100>"
      ]
     },
     "metadata": {},
     "output_type": "display_data"
    }
   ],
   "source": [
    "from PIL import Image\n",
    "from IPython import display\n",
    "import numpy as np\n",
    "import cv2\n",
    "\n",
    "m=3\n",
    "w=tx+m\n",
    "h=ty+m\n",
    "\n",
    "pix = np.zeros([h,w,3]).astype(np.ubyte)\n",
    "for y in range(h):\n",
    "    for x in range(w):\n",
    "        v=[[0,0,0],[0,0,255],[255,0,0]]\n",
    "        pix[y,x,:]=v[tp(x,y)]\n",
    "pix[ty,tx,:]=[255,0,255]\n",
    "pix[0,0,:]=[255,0,255]\n",
    "F=4          \n",
    "pix = cv2.resize(pix, fx=F, fy=F, dsize=(0, 0), interpolation=cv2.INTER_NEAREST)\n",
    "#display.clear_output(wait=True)\n",
    "display.display(Image.fromarray(pix[:100,:,:], 'RGB'))\n"
   ]
  },
  {
   "cell_type": "code",
   "execution_count": 3,
   "id": "f1e17d0b",
   "metadata": {
    "scrolled": false
   },
   "outputs": [
    {
     "name": "stdout",
     "output_type": "stream",
     "text": [
      "        2202 844 192\n",
      "\n",
      "\n",
      "part2 1029 0\n",
      "fin\n"
     ]
    }
   ],
   "source": [
    "def H(x,y):\n",
    "    return abs(x-tx)+abs(y-ty)\n",
    "    \n",
    "def isgoal(s):\n",
    "    x,y,t,c,h=s\n",
    "    if x==tx and y==ty and t=='t':\n",
    "        print(\"\\n\\n\\npart2\",c,0)\n",
    "        return True\n",
    "    return False\n",
    "\n",
    "\n",
    "#explore list\n",
    "#x,y,tool,cost\n",
    "e=[(0,0,'t',0, H(x,y))]\n",
    "past={}\n",
    "running=1\n",
    "it=0\n",
    "\n",
    "while len(e):\n",
    "    x,y,t,c,h=e[-1]\n",
    "    e=e[:-1]\n",
    "    past[(x,y,t)]=1\n",
    "    options=[]\n",
    "    \n",
    "    #swap tool\n",
    "    for t2 in tptools[tp(x,y)]:\n",
    "        if t!=t2:\n",
    "            options.append((x,y,t2,c+7))\n",
    "            \n",
    "    #walk map\n",
    "    for dx,dy in [[-1,0],[1,0],[0,-1],[0,1]]:\n",
    "        xxx=x+dx\n",
    "        yyy=y+dy\n",
    "        if xxx>=0 and yyy>=0 and xxx<tx*6:\n",
    "            if t in tptools[tp(xxx,yyy)]:\n",
    "                options.append((xxx,yyy,t,c+1))\n",
    "    \n",
    "    for xxx,yyy,ttt,ccc in options:\n",
    "        if not (xxx,yyy,ttt) in past:\n",
    "            s2=(xxx,yyy,ttt,ccc,H(xxx,yyy))\n",
    "            if isgoal(s2):\n",
    "                running=0\n",
    "                break\n",
    "            e.append(s2)\n",
    "            \n",
    "    if not running:\n",
    "        break\n",
    "    \n",
    "    e = sorted(e, key=lambda x: x[-2]+x[-1],reverse=True)\n",
    "    \n",
    "    it+=1\n",
    "    if not it % 100:\n",
    "        print(\"% 20s\"%(\"%d %d %d\"%(len(e),e[0][-2],e[0][-1])), end='\\r')\n",
    "\n",
    "print(\"fin\")    \n",
    "\n",
    "        \n",
    "#1045 too high\n",
    "#1058 too high\n",
    "#1067\n",
    "#1031\n",
    "\n",
    "\n",
    "\n",
    "\n",
    "\n",
    "\n"
   ]
  }
 ],
 "metadata": {
  "kernelspec": {
   "display_name": "Python 3 (ipykernel)",
   "language": "python",
   "name": "python3"
  },
  "language_info": {
   "codemirror_mode": {
    "name": "ipython",
    "version": 3
   },
   "file_extension": ".py",
   "mimetype": "text/x-python",
   "name": "python",
   "nbconvert_exporter": "python",
   "pygments_lexer": "ipython3",
   "version": "3.8.10"
  }
 },
 "nbformat": 4,
 "nbformat_minor": 5
}
