{
 "cells": [
  {
   "cell_type": "code",
   "execution_count": 3,
   "metadata": {},
   "outputs": [
    {
     "name": "stdout",
     "output_type": "stream",
     "text": [
      "Day 1 - Part 1:  1387\n",
      "Day 1 - Part 2:  1362\n"
     ]
    }
   ],
   "source": [
    "#Day 1\n",
    "I = open(\"i1.txt\", \"r\").read()\n",
    "I = [int(x) for x in I.split(\"\\n\") ] \n",
    "#print(I[:20]) \n",
    "s=0\n",
    "for i in range(len(I)-1):\n",
    "    if I[i] < I[i+1]:\n",
    "        s+=1\n",
    "print(\"Day 1 - Part 1: \", s)\n",
    "\n",
    "W = [sum(I[x:x+3]) for x in range(len(I)-2)] \n",
    "#print(W)\n",
    "s=0\n",
    "for i in range(len(W)-1):\n",
    "    if W[i] < W[i+1]:\n",
    "        s+=1\n",
    "print(\"Day 1 - Part 2: \", s)"
   ]
  }
 ],
 "metadata": {
  "kernelspec": {
   "display_name": "Python 3",
   "language": "python",
   "name": "python3"
  },
  "language_info": {
   "codemirror_mode": {
    "name": "ipython",
    "version": 3
   },
   "file_extension": ".py",
   "mimetype": "text/x-python",
   "name": "python",
   "nbconvert_exporter": "python",
   "pygments_lexer": "ipython3",
   "version": "3.7.3"
  }
 },
 "nbformat": 4,
 "nbformat_minor": 2
}
