{
 "cells": [
  {
   "cell_type": "code",
   "execution_count": 2,
   "metadata": {},
   "outputs": [
    {
     "name": "stdout",
     "output_type": "stream",
     "text": [
      "i25_test.txt Movement stopped after 58 steps\n",
      "i25.txt Movement stopped after 378 steps\n",
      "fin\n"
     ]
    }
   ],
   "source": [
    "# Day 25\n",
    "#\n",
    "# https://adventofcode.com/2021/day/25\n",
    "\n",
    "from copy import *\n",
    "\n",
    "def load_seafloor(fn):\n",
    "    return [list(x) for x in open(fn).read().split(\"\\n\")]\n",
    "    \n",
    "def print_seafloor(seafloor):\n",
    "    for l in seafloor:\n",
    "        print(\"\".join(l))\n",
    "\n",
    "\n",
    "def solve(fn):\n",
    "    def update(seafloor, target):\n",
    "        after = deepcopy(seafloor)\n",
    "        \n",
    "        h = len(seafloor)\n",
    "        w = len(seafloor[0])\n",
    "        dx = 0\n",
    "        dy = 0\n",
    "        if target == '>':\n",
    "            dx = 1\n",
    "        else: \n",
    "            dy = 1\n",
    "        \n",
    "        #print(iteration, iteration%2)\n",
    "        movement = 0\n",
    "        for y in range(h):\n",
    "            for x in range(w):\n",
    "                xx = (x + dx)%w\n",
    "                yy = (y + dy)%h\n",
    "                if seafloor[y][x] == target and seafloor[yy][xx] == '.':\n",
    "                    tmp = after[y][x]\n",
    "                    after[y][x] = after[yy][xx]\n",
    "                    after[yy][xx] = tmp\n",
    "                    movement += 1\n",
    "        return after, movement            \n",
    "    \n",
    "    seafloor = load_seafloor(fn)\n",
    "\n",
    "    #print_seafloor(seafloor)\n",
    "    #print(seafloor)\n",
    "    i = 0\n",
    "    while True:        \n",
    "        movement = 0\n",
    "        seafloor, m = update(seafloor, '>')\n",
    "        movement += m\n",
    "        seafloor, m = update(seafloor, 'v')\n",
    "        movement += m\n",
    "        \n",
    "        i+=1\n",
    "        \n",
    "        #print_seafloor(seafloor)\n",
    "        #print(\"movement:\", movement)\n",
    "        if movement == 0:\n",
    "            print(fn,\"Movement stopped after %d steps\" % (i))\n",
    "            break\n",
    "        \n",
    "        #if i > 1000:\n",
    "        #    break\n",
    "\n",
    "solve(\"i25_test.txt\")\n",
    "solve(\"i25.txt\")\n",
    "\n",
    "print(\"fin\")"
   ]
  }
 ],
 "metadata": {
  "kernelspec": {
   "display_name": "Python 3 (ipykernel)",
   "language": "python",
   "name": "python3"
  },
  "language_info": {
   "codemirror_mode": {
    "name": "ipython",
    "version": 3
   },
   "file_extension": ".py",
   "mimetype": "text/x-python",
   "name": "python",
   "nbconvert_exporter": "python",
   "pygments_lexer": "ipython3",
   "version": "3.8.10"
  }
 },
 "nbformat": 4,
 "nbformat_minor": 4
}
