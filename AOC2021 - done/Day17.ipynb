{
 "cells": [
  {
   "cell_type": "code",
   "execution_count": 1,
   "metadata": {
    "scrolled": true
   },
   "outputs": [
    {
     "name": "stdout",
     "output_type": "stream",
     "text": [
      "part1: 5253\n",
      "part2: 1701\n"
     ]
    }
   ],
   "source": [
    "def step(state):\n",
    "    x, v, a, d, r_min, r_max, i = state\n",
    "    #stop simulation if it will never reach target\n",
    "    if x > r_max and v >= 0 and  a >= 0:\n",
    "        return None\n",
    "    if x < r_min and v <= 0 and  a <= 0:\n",
    "        return None\n",
    "        \n",
    "    \n",
    "    x1 = x + v        \n",
    "        \n",
    "    #acceleration\n",
    "    v += a        \n",
    "        \n",
    "    #drag\n",
    "    if d:\n",
    "        if v > 0:\n",
    "            v-=1\n",
    "        if v < 0:\n",
    "            v+=1\n",
    "    i=x1 >= r_min and x1 <= r_max\n",
    "    return [x1, v, a, d, r_min, r_max, i]\n",
    "\n",
    "\n",
    "def sim(state):\n",
    "    state_x, state_y = state\n",
    "    \n",
    "    hist = [state]\n",
    "    while True:\n",
    "        nx=step(state_x)\n",
    "        ny=step(state_y)\n",
    "        #futile\n",
    "        if nx is None or ny is None:\n",
    "            break\n",
    "        \n",
    "        state_x = nx\n",
    "        state_y = ny\n",
    "        hist.append([nx,ny])\n",
    "        #goal\n",
    "        if nx[6] and ny[6]:\n",
    "            break\n",
    "    return hist\n",
    "\n",
    "def makestate(vx,vy):\n",
    "    \n",
    "    #x=265..287, y=-103..-58\n",
    "    s = []\n",
    "    s.append([0, vx,  0, True,   265, 287, False])\n",
    "    s.append([0, vy, -1, False, -103, -58, False])\n",
    "    return s\n",
    "\n",
    "def high(hist):\n",
    "    hy = None\n",
    "    for i in range(len(hist)):\n",
    "        y = hist[i][1][0]\n",
    "        if hy is None or y > hy:\n",
    "            hy = y\n",
    "    return hy\n",
    "        \n",
    "\n",
    "def hit(state):\n",
    "    return state[-1][0][6] and state[-1][1][6]\n",
    "    \n",
    "\n",
    "\n",
    "#h = sim(makestate(6,9))\n",
    "#for st in h:\n",
    "#    print(st)\n",
    "#print(len(h))\n",
    "#print(hit(h), high(h))\n",
    "\n",
    "sol = []\n",
    "for y in range(-100,300,1):  \n",
    "    for x in range(300):\n",
    "        h = sim(makestate(x,y))\n",
    "        if hit(h):\n",
    "            hgh=high(h)\n",
    "            #print(hgh, x, y)\n",
    "            sol.append(hgh)\n",
    "            \n",
    "print(\"part1:\",max(sol))\n",
    "print(\"part2:\",len(sol))\n",
    "\n",
    "        \n",
    "\n"
   ]
  },
  {
   "cell_type": "code",
   "execution_count": null,
   "metadata": {},
   "outputs": [],
   "source": []
  },
  {
   "cell_type": "code",
   "execution_count": null,
   "metadata": {},
   "outputs": [],
   "source": []
  }
 ],
 "metadata": {
  "kernelspec": {
   "display_name": "Python 3 (ipykernel)",
   "language": "python",
   "name": "python3"
  },
  "language_info": {
   "codemirror_mode": {
    "name": "ipython",
    "version": 3
   },
   "file_extension": ".py",
   "mimetype": "text/x-python",
   "name": "python",
   "nbconvert_exporter": "python",
   "pygments_lexer": "ipython3",
   "version": "3.8.10"
  }
 },
 "nbformat": 4,
 "nbformat_minor": 2
}
