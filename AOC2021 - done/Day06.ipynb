{
 "cells": [
  {
   "cell_type": "code",
   "execution_count": 2,
   "metadata": {},
   "outputs": [
    {
     "name": "stdout",
     "output_type": "stream",
     "text": [
      "Test simulation after 5 days (should be 26): 26\n",
      "Test simulation after 18 days (should be 5934): 5934\n",
      "Test simulation after 5 days (should be 26): 1638\n",
      "Test simulation after 18 days (should be 5934): 362740\n",
      "Test simulation after 256 days (should be 5934): 1644874076764\n"
     ]
    }
   ],
   "source": [
    "#Day 6\n",
    "test_input = [int(x) for x in \"3,4,3,1,2\".split(\",\")]\n",
    "input=[int(x) for x in open(\"i6.txt\").read().split(\",\")]\n",
    "\n",
    "def sim(fishes, days):\n",
    "    maxage = 8+1\n",
    "    fish = [0]*maxage\n",
    "    for f in fishes:\n",
    "        fish[f] += 1\n",
    "    \n",
    "    for day in range(days):\n",
    "        z = fish[0]\n",
    "        fish=fish[1:]\n",
    "        fish[6] +=z\n",
    "        fish.append(z)\n",
    "        \n",
    "    #print(fish)\n",
    "    return sum(fish)\n",
    "\n",
    "print(\"Test simulation after 5 days (should be 26):\",   sim(test_input, 18))\n",
    "print(\"Test simulation after 18 days (should be 5934):\", sim(test_input, 80))\n",
    "\n",
    "print(\"Test simulation after 5 days (should be 26):\",   sim(input, 18))\n",
    "print(\"Test simulation after 18 days (should be 5934):\", sim(input, 80))\n",
    "print(\"Test simulation after 256 days (should be 5934):\", sim(input, 256))\n"
   ]
  }
 ],
 "metadata": {
  "kernelspec": {
   "display_name": "Python 3",
   "language": "python",
   "name": "python3"
  },
  "language_info": {
   "codemirror_mode": {
    "name": "ipython",
    "version": 3
   },
   "file_extension": ".py",
   "mimetype": "text/x-python",
   "name": "python",
   "nbconvert_exporter": "python",
   "pygments_lexer": "ipython3",
   "version": "3.7.3"
  }
 },
 "nbformat": 4,
 "nbformat_minor": 2
}
