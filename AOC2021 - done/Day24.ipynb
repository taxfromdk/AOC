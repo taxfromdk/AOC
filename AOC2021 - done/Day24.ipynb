{
 "cells": [
  {
   "cell_type": "code",
   "execution_count": 1,
   "metadata": {},
   "outputs": [
    {
     "name": "stdout",
     "output_type": "stream",
     "text": [
      "start\n",
      "Largest: (True, '91398299697996') 91398299697996\n",
      "Smallest: (True, '41171183141291') 41171183141291\n",
      "fin\n"
     ]
    }
   ],
   "source": [
    "# Day 24\n",
    "#\n",
    "# https://adventofcode.com/2021/day/24\n",
    "#\n",
    "#  I DID NOT WORK THIS ONE OUT MYSELF!!!\n",
    "#\n",
    "#inspiration \n",
    "# https://github.com/kemmel-dev/AdventOfCode2021/blob/master/day24/AoC%20Day%2024.pdf\n",
    "# https://www.reddit.com/r/adventofcode/comments/rnejv5/2021_day_24_solutions/\n",
    "#\n",
    "# Confession time. I had no clue how to proceed.\n",
    "#\n",
    "# I looked into hand solutions (No real progress)\n",
    "# I found people using the Z3 solver to proceed. I need to look into this\n",
    "#\n",
    "# At youtube I found this guy (Neal Wu), which was a recursive approach\n",
    "#  I could follow the approach and learned to cache function results\n",
    "#  https://www.youtube.com/watch?v=uNSO3y4WdVQ\n",
    "#\n",
    "# He solves it somehow by chance by limiting the range z is allowed to be\n",
    "\n",
    "import copy\n",
    "import functools\n",
    "import sys\n",
    "\n",
    "sys.setrecursionlimit(10**7)\n",
    "\n",
    "\n",
    "ops = [x.split(\" \") for x in open(\"i24.txt\").read().split(\"\\n\")]\n",
    "\n",
    "#print(ops)\n",
    "\n",
    "@functools.lru_cache(maxsize=None)\n",
    "def search(op_index, x_value, y_value, z_value, w_value, part):\n",
    "    if z_value > 10**7:\n",
    "        return (False, '')\n",
    "    \n",
    "    if op_index >= len(ops):\n",
    "        return(z_value==0, '')\n",
    "    \n",
    "    values = { 'x':x_value, 'y':y_value, 'z':z_value, 'w':w_value }\n",
    "    \n",
    "    #print(values)\n",
    "    \n",
    "    def evaluate(var):\n",
    "        return values[var] if var in values else int(var)\n",
    "    \n",
    "    op = ops[op_index]\n",
    "    \n",
    "    if op[0] == 'inp':\n",
    "        \n",
    "        if part == 1:\n",
    "            r = range(9,0,-1)\n",
    "        else:\n",
    "            r = range(1,10,1)\n",
    "        for d in r:\n",
    "            values[op[1]] = d\n",
    "            result = search(op_index + 1, values['x'],  values['y'],  values['z'],  values['w'], part)\n",
    "            if result[0]:\n",
    "                return (True, str(d) + result[1])\n",
    "        return (False, 0)\n",
    "    second = evaluate(op[2])\n",
    "    if op[0] == 'add':\n",
    "        values[op[1]] += second\n",
    "    elif op[0] == 'mul':\n",
    "        values[op[1]] *= second\n",
    "    elif op[0] == 'div':\n",
    "        if second == 0:\n",
    "            return (False, '')\n",
    "        values[op[1]] = int(values[op[1]]/second)\n",
    "    elif op[0] == 'mod':\n",
    "        if values[op[1]] < 0 or second <= 0:\n",
    "            return (False, '')\n",
    "        values[op[1]] %= second\n",
    "    elif op[0] == 'eql':\n",
    "        values[op[1]] = 1 if values[op[1]] == second else 0\n",
    "    else:\n",
    "        assert(False)\n",
    "    return search(op_index+1, values['x'], values['y'], values['z'], values['w'], part)\n",
    "print(\"start\")\n",
    "print(\"Largest:\", search(0, 0, 0, 0, 0, 1), \"91398299697996\")\n",
    "print(\"Smallest:\", search(0, 0, 0, 0, 0, 2), \"41171183141291\")\n",
    "print(\"fin\")"
   ]
  },
  {
   "cell_type": "code",
   "execution_count": null,
   "metadata": {},
   "outputs": [],
   "source": [
    "\n"
   ]
  }
 ],
 "metadata": {
  "kernelspec": {
   "display_name": "Python 3",
   "language": "python",
   "name": "python3"
  },
  "language_info": {
   "codemirror_mode": {
    "name": "ipython",
    "version": 3
   },
   "file_extension": ".py",
   "mimetype": "text/x-python",
   "name": "python",
   "nbconvert_exporter": "python",
   "pygments_lexer": "ipython3",
   "version": "3.8.10"
  }
 },
 "nbformat": 4,
 "nbformat_minor": 4
}
