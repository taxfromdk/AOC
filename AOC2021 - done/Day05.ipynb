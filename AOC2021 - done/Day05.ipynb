{
 "cells": [
  {
   "cell_type": "code",
   "execution_count": 3,
   "metadata": {},
   "outputs": [
    {
     "name": "stdout",
     "output_type": "stream",
     "text": [
      "Day 5 - Part 1: 5698\n",
      "Day 5 - Part 2: 15463\n"
     ]
    }
   ],
   "source": [
    "#Day 5\n",
    "\n",
    "from IPython.display import Image, display\n",
    "import numpy as np\n",
    "from PIL import Image\n",
    "\n",
    "def count_multi_vent_in_map(do_diagonal, show):\n",
    "    lines = [[[int(z) for z in y.split(\",\")] for y in x.split(\" -> \")] for x in open(\"i5.txt\", \"r\").read().split(\"\\n\")]\n",
    "    W = 1000\n",
    "    M = np.zeros((W,W), dtype=np.uint8)\n",
    "    for line in lines:\n",
    "        x0, y0 = line[0]\n",
    "        x1, y1 = line[1]\n",
    "        if not do_diagonal and (x0 != x1 and y0 != y1): \n",
    "            #only consider horizontal and vertical lines for now\n",
    "            continue\n",
    "        x = x0\n",
    "        y = y0\n",
    "        M[y,x] += 1\n",
    "        while x != x1 or y != y1:\n",
    "            dx = min(max(x1 - x, -1),1)\n",
    "            dy = min(max(y1 - y, -1),1)\n",
    "            x += dx\n",
    "            y += dy\n",
    "            M[y,x] += 1\n",
    "    if show:\n",
    "        display(Image.fromarray(M.copy()*255))\n",
    "    return (M > 1).sum()\n",
    "\n",
    "print(\"Day 5 - Part 1: %d\"%(count_multi_vent_in_map(False, False)))\n",
    "print(\"Day 5 - Part 2: %d\"%(count_multi_vent_in_map(True, False)))\n",
    "\n",
    "#count_multi_vent_in_map(False, True)\n",
    "#count_multi_vent_in_map(True, True)"
   ]
  }
 ],
 "metadata": {
  "kernelspec": {
   "display_name": "Python 3",
   "language": "python",
   "name": "python3"
  },
  "language_info": {
   "codemirror_mode": {
    "name": "ipython",
    "version": 3
   },
   "file_extension": ".py",
   "mimetype": "text/x-python",
   "name": "python",
   "nbconvert_exporter": "python",
   "pygments_lexer": "ipython3",
   "version": "3.7.3"
  }
 },
 "nbformat": 4,
 "nbformat_minor": 2
}
