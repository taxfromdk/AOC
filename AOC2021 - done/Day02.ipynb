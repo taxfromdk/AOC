{
 "cells": [
  {
   "cell_type": "code",
   "execution_count": 3,
   "metadata": {},
   "outputs": [
    {
     "name": "stdout",
     "output_type": "stream",
     "text": [
      "Day 2 - Part 1:  1488669\n",
      "Day 2 - Part 2:  1176514794\n"
     ]
    }
   ],
   "source": [
    "#Day 2\n",
    "I2 = open(\"i2.txt\", \"r\").read()\n",
    "\n",
    "#print(I2[:10])\n",
    "cmds=[x.split(\" \") for x in I2.split(\"\\n\")] \n",
    "#print(cmds[:10])\n",
    "\n",
    "x=0\n",
    "y=0\n",
    "for c, v in cmds:\n",
    "    v=int(v) \n",
    "    if c==\"up\" :\n",
    "        y-=v\n",
    "    elif c==\"down\" :\n",
    "        y+=v\n",
    "    elif c==\"forward\" :\n",
    "        x+=v\n",
    "print(\"Day 2 - Part 1: \", x*y) \n",
    "\n",
    "x=0\n",
    "y=0\n",
    "a=0\n",
    "for c, v in cmds:\n",
    "    v=int(v) \n",
    "    if c==\"up\" :\n",
    "        a-=v\n",
    "    elif c==\"down\" :\n",
    "        a+=v\n",
    "    elif c==\"forward\" :\n",
    "        x+=v\n",
    "        y+=a*v\n",
    "print(\"Day 2 - Part 2: \", x*y) \n"
   ]
  }
 ],
 "metadata": {
  "kernelspec": {
   "display_name": "Python 3",
   "language": "python",
   "name": "python3"
  },
  "language_info": {
   "codemirror_mode": {
    "name": "ipython",
    "version": 3
   },
   "file_extension": ".py",
   "mimetype": "text/x-python",
   "name": "python",
   "nbconvert_exporter": "python",
   "pygments_lexer": "ipython3",
   "version": "3.7.3"
  }
 },
 "nbformat": 4,
 "nbformat_minor": 2
}
