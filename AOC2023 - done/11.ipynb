{
 "cells": [
  {
   "cell_type": "code",
   "execution_count": 1,
   "id": "b7066b55",
   "metadata": {},
   "outputs": [
    {
     "name": "stdout",
     "output_type": "stream",
     "text": [
      "t1: 374 374\n",
      "t2: 1030 1030\n",
      "t3: 8410 8410\n",
      "p1: 9545480 9545480\n",
      "p2: 406725732046 406725732046\n"
     ]
    }
   ],
   "source": [
    "\n",
    "def parse(fn):\n",
    "    lines=open(fn).read().split('\\n')\n",
    "    M={}\n",
    "    h=len(lines)\n",
    "    w=len(lines[0])\n",
    "    for y in range(h):\n",
    "        for x in range(w):\n",
    "            \n",
    "            c=lines[y][x]\n",
    "            if c in \"#\":\n",
    "                d=(x,y)\n",
    "                M[len(M.keys())]=d\n",
    "    #map non expanded rows and columns\n",
    "    X=[x for x,y in M.values()]\n",
    "    Y=[y for x,y in M.values()]\n",
    "    X.sort()\n",
    "    Y.sort()\n",
    "    return M,X,Y\n",
    "\n",
    "def prts(fn,N):\n",
    "    M,X,Y=parse(fn)\n",
    "    k=list(M.keys())\n",
    "    #print(len(k))\n",
    "    a1=0\n",
    "    a2=0\n",
    "    O=[]\n",
    "    for i in range(len(k)):\n",
    "        for j in range(len(k)):\n",
    "            if i!=j:\n",
    "                p=(min(i,j),max(i,j))\n",
    "                if not p in O:\n",
    "                    x0,y0=M[k[i]]\n",
    "                    x1,y1=M[k[j]]\n",
    "                    dx=abs(x1-x0)\n",
    "                    a1+=dx\n",
    "                    a2+=dx\n",
    "                    for x in range(X[-1]):\n",
    "                        if not x in X:\n",
    "                            if x > min(x0,x1) and x < max(x0,x1):\n",
    "                                a1+=1\n",
    "                                a2+=N-1\n",
    "                    dy=abs(y1-y0)\n",
    "                    a1+=dy\n",
    "                    a2+=dy\n",
    "                    for y in range(Y[-1]):\n",
    "                        if not y in Y:\n",
    "                            if y > min(y0,y1) and y < max(y0,y1):\n",
    "                                a1+=1\n",
    "                                a2+=N-1\n",
    "                    \n",
    "                    O.append(p)\n",
    "    #print(len(O))\n",
    "    return a1,a2\n",
    "\n",
    "#9561146 too high\n",
    "t1,t2=prts(\"test11.txt\",10)\n",
    "print(\"t1:\",t1,374)\n",
    "print(\"t2:\",t2,1030)\n",
    "_,t3=prts(\"test11.txt\",100)\n",
    "print(\"t3:\",t3,8410)\n",
    "p1,p2=prts(\"11.txt\",1000000)\n",
    "print(\"p1:\",p1,9545480)\n",
    "print(\"p2:\",p2,406725732046)\n",
    "\n",
    "                \n",
    "            \n",
    "\n"
   ]
  }
 ],
 "metadata": {
  "kernelspec": {
   "display_name": "Python 3 (ipykernel)",
   "language": "python",
   "name": "python3"
  },
  "language_info": {
   "codemirror_mode": {
    "name": "ipython",
    "version": 3
   },
   "file_extension": ".py",
   "mimetype": "text/x-python",
   "name": "python",
   "nbconvert_exporter": "python",
   "pygments_lexer": "ipython3",
   "version": "3.8.10"
  }
 },
 "nbformat": 4,
 "nbformat_minor": 5
}
