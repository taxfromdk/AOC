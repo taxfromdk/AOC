{
 "cells": [
  {
   "cell_type": "code",
   "execution_count": 1,
   "id": "6e53498b",
   "metadata": {
    "scrolled": false
   },
   "outputs": [
    {
     "name": "stdout",
     "output_type": "stream",
     "text": [
      "p1: 516469 516469\n",
      "p2: 221627 221627\n"
     ]
    }
   ],
   "source": [
    "def val(s):\n",
    "    c=0\n",
    "    for i in range(len(s)):\n",
    "        c+=ord(s[i])\n",
    "        c*=17\n",
    "        c=c%256\n",
    "    return c\n",
    "\n",
    "def p1(fn):\n",
    "    d=open(fn).read().replace(\"\\n\",\"\").split(',')\n",
    "    return sum([val(x) for x in d])\n",
    "\n",
    "print(\"p1:\",p1(\"15.txt\"),516469)\n",
    "\n",
    "\n",
    "def p2(fn):\n",
    "    lb={}\n",
    "    for i in range(256):\n",
    "        lb[i]=[]\n",
    "    \n",
    "    d=open(fn).read().replace(\"\\n\",\"\").split(',')\n",
    "    for p in d:\n",
    "        if '=' in p:\n",
    "            l,v=p.split(\"=\")\n",
    "            ix=val(l)\n",
    "            v=int(v)\n",
    "            ins=0\n",
    "            nl=[]\n",
    "            for ll,vv in lb[ix]:\n",
    "                if ll!=l:\n",
    "                    nl.append((ll,vv))\n",
    "                else:\n",
    "                    nl.append((ll,v))\n",
    "                    ins=1\n",
    "            lb[ix]=nl\n",
    "            if ins==0:\n",
    "                lb[ix].append((l,v))\n",
    "        elif '-' in p:\n",
    "            l,_=p.split('-')\n",
    "            ix=val(l)\n",
    "            nl=[]\n",
    "            for ll,v in lb[ix]:\n",
    "                if ll!=l:\n",
    "                    nl.append((ll,v))\n",
    "            lb[ix]=nl\n",
    "    a=0\n",
    "    for i in range(256):\n",
    "        for j,z in enumerate(lb[i]):\n",
    "            l,v=z\n",
    "            #print(i,l,v)\n",
    "            a+=(i+1)*(j+1)*v\n",
    "    return a\n",
    "\n",
    "\n",
    "\n",
    "print(\"p2:\",p2(\"15.txt\"),221627)\n"
   ]
  }
 ],
 "metadata": {
  "kernelspec": {
   "display_name": "Python 3 (ipykernel)",
   "language": "python",
   "name": "python3"
  },
  "language_info": {
   "codemirror_mode": {
    "name": "ipython",
    "version": 3
   },
   "file_extension": ".py",
   "mimetype": "text/x-python",
   "name": "python",
   "nbconvert_exporter": "python",
   "pygments_lexer": "ipython3",
   "version": "3.8.10"
  }
 },
 "nbformat": 4,
 "nbformat_minor": 5
}
