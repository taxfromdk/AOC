{
 "cells": [
  {
   "cell_type": "code",
   "execution_count": 1,
   "id": "90388f63",
   "metadata": {
    "scrolled": true
   },
   "outputs": [
    {
     "name": "stdout",
     "output_type": "stream",
     "text": [
      "part1:54708 54708\n",
      "test2:281 281\n",
      "part2:54087 54087\n"
     ]
    }
   ],
   "source": [
    "def getdigits(l):\n",
    "    return [int(x) for x in l if x.isdigit()]\n",
    "    \n",
    "\n",
    "#9987 too low\n",
    "def part1(i):\n",
    "    a=0\n",
    "    for l in i:\n",
    "        d=getdigits(l)\n",
    "        a+=d[0]*10+d[-1]\n",
    "    return a\n",
    "\n",
    "digits=[]\n",
    "#digits.append(\"zero\")\n",
    "digits.append(\"one\")\n",
    "digits.append(\"two\")\n",
    "digits.append(\"three\")\n",
    "digits.append(\"four\")\n",
    "digits.append(\"five\")\n",
    "digits.append(\"six\")\n",
    "digits.append(\"seven\")\n",
    "digits.append(\"eight\")\n",
    "digits.append(\"nine\")\n",
    "\n",
    "\n",
    "\n",
    "def fst(l):\n",
    "    for i in range(len(l)):\n",
    "        if l[i].isdigit():\n",
    "            return int(l[i])\n",
    "        for j in range(len(digits)):\n",
    "            if digits[j] in l[:i+1]:\n",
    "                return j+1\n",
    "def lst(l):\n",
    "    #print(l)\n",
    "    ri=list(range(len(l)))\n",
    "    ri.reverse()\n",
    "    for i in ri:\n",
    "        #print(i)\n",
    "        if l[i].isdigit():\n",
    "            return int(l[i])\n",
    "        #print(l[i:])\n",
    "        for j in range(len(digits)):\n",
    "            if digits[j] in l[i-1:]:\n",
    "                \n",
    "                return j+1\n",
    "            \n",
    "def part2(i):\n",
    "    a=0\n",
    "    for l in i:\n",
    "        #print(l)\n",
    "        X=fst(l)\n",
    "        Y=lst(l)\n",
    "        a+=X*10+Y\n",
    "        #print(X,Y)\n",
    "    return a\n",
    "\n",
    "\n",
    "\n",
    "    \n",
    "ri = open(\"01.txt\",\"r\").readlines()\n",
    "ti = open(\"test01.txt\",\"r\").readlines()\n",
    "\n",
    "print(\"part1:%d\"% part1(ri), 54708)\n",
    "\n",
    "print(\"test2:%d\"% part2(ti), 281)  \n",
    "\n",
    "print(\"part2:%d\"% part2(ri), 54087)  \n",
    " \n",
    "    "
   ]
  }
 ],
 "metadata": {
  "kernelspec": {
   "display_name": "Python 3 (ipykernel)",
   "language": "python",
   "name": "python3"
  },
  "language_info": {
   "codemirror_mode": {
    "name": "ipython",
    "version": 3
   },
   "file_extension": ".py",
   "mimetype": "text/x-python",
   "name": "python",
   "nbconvert_exporter": "python",
   "pygments_lexer": "ipython3",
   "version": "3.8.10"
  }
 },
 "nbformat": 4,
 "nbformat_minor": 5
}
