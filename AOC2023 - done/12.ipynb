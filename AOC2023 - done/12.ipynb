{
 "cells": [
  {
   "cell_type": "code",
   "execution_count": 1,
   "id": "ee35717e",
   "metadata": {
    "scrolled": false
   },
   "outputs": [
    {
     "name": "stdout",
     "output_type": "stream",
     "text": [
      "p1: 7344 7344\n",
      "p2: 1088006519007 1088006519007\n"
     ]
    }
   ],
   "source": [
    "from functools import lru_cache\n",
    "\n",
    "def parse(fn):\n",
    "    D=[]\n",
    "    for l in open(fn).read().split('\\n'):\n",
    "        pts=l.split(' ')\n",
    "        s=pts[0]\n",
    "        o=pts[1]\n",
    "        f=None\n",
    "        if len(pts)>3:\n",
    "            f=int(pts[3])\n",
    "        o=[int(x) for x in o.split(',')]\n",
    "        D.append((s,tuple(o),f))\n",
    "        #print(D[-1])\n",
    "    return D\n",
    "\n",
    "def expn(S,N):\n",
    "    s,o,f=S\n",
    "    d='?'\n",
    "    return (d.join([s]*N),tuple(list(o)*N),f)\n",
    "    \n",
    "@lru_cache(maxsize=None)\n",
    "def cnt2(S,dbg=0):\n",
    "    s,o=S\n",
    "    o=list(o)\n",
    "    \n",
    "    leno=len(o)\n",
    "    lens=len(s)\n",
    "    \n",
    "    if leno==0:\n",
    "        if '#' in s:\n",
    "            return 0\n",
    "        return 1\n",
    "        \n",
    "    if lens == 0:\n",
    "        return 0\n",
    "    \n",
    "    first_s=s[0]\n",
    "    last_s=s[-1]\n",
    "    if first_s=='.':\n",
    "        return cnt2((s[1:],tuple(o)),dbg)\n",
    "    \n",
    "    if first_s=='#':\n",
    "        first_o=o[0]\n",
    "        if lens<first_o:\n",
    "            return 0\n",
    "        if lens>first_o:\n",
    "            if s[first_o]=='#':\n",
    "                return 0\n",
    "        if '.' in s[:first_o]:\n",
    "            return 0\n",
    "        return cnt2((s[first_o+1:],tuple(o[1:])))\n",
    "    \n",
    "    if s[0]=='?':\n",
    "        acc=0\n",
    "        if leno:\n",
    "            acc+=cnt2(('#'+s[1:],tuple(o)),dbg)\n",
    "        acc+=cnt2((s[1:],tuple(o)),dbg)\n",
    "        return acc\n",
    "    else:\n",
    "        assert(0)\n",
    "             \n",
    "def prt(fn,N):\n",
    "    D=parse(fn)\n",
    "    a=0\n",
    "    for d in D:\n",
    "        s,o,f=expn(d,N)\n",
    "        v=cnt2((s,o))\n",
    "        if f:\n",
    "            print(v,f)\n",
    "        a+=v\n",
    "    return a\n",
    "\n",
    "print(\"p1:\",prt(\"12.txt\",1),7344)\n",
    "\n",
    "#print(\"t2:\",prt(\"test12.txt\",5),525152)\n",
    "# too low 1001333988183\n",
    "print(\"p2:\",prt(\"12.txt\",5), 1088006519007)\n",
    "\n",
    "\n"
   ]
  }
 ],
 "metadata": {
  "kernelspec": {
   "display_name": "Python 3 (ipykernel)",
   "language": "python",
   "name": "python3"
  },
  "language_info": {
   "codemirror_mode": {
    "name": "ipython",
    "version": 3
   },
   "file_extension": ".py",
   "mimetype": "text/x-python",
   "name": "python",
   "nbconvert_exporter": "python",
   "pygments_lexer": "ipython3",
   "version": "3.8.10"
  }
 },
 "nbformat": 4,
 "nbformat_minor": 5
}
