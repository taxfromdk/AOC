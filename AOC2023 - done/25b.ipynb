{
 "cells": [
  {
   "cell_type": "code",
   "execution_count": 23,
   "id": "7c4a42cd",
   "metadata": {},
   "outputs": [
    {
     "name": "stdout",
     "output_type": "stream",
     "text": [
      "{(0, 3), (8, 6), (12, 9)}\n",
      "\n",
      "t1: 54 54\n",
      "{(1211, 1154), (75, 594), (1329, 89)}\n",
      "\n",
      "p1: 548960 1\n"
     ]
    }
   ],
   "source": [
    "import networkx as nx\n",
    "\n",
    "def parse2(fn):\n",
    "    A=[]\n",
    "    W={}\n",
    "    for l in open(fn).read().split('\\n'):\n",
    "        a,b=l.split(': ')\n",
    "        W[a]=b.split(' ')\n",
    "        if not a in A:\n",
    "            A.append(a)\n",
    "        for x in W[a]:\n",
    "            if not x in A:\n",
    "                A.append(x)\n",
    "    AA={}\n",
    "    for i,x in enumerate(A):\n",
    "        AA[x]=i\n",
    "    A=[AA[x] for x in A]\n",
    "    #print(A)\n",
    "    WW=[]\n",
    "    for k in W:\n",
    "        for kk in W[k]:\n",
    "          WW.append((AA[k],AA[kk]))\n",
    "    W=WW\n",
    "    \n",
    "    #A is a list of the devices as integers\n",
    "    #W is a list of tuples representing the wires \n",
    "    \n",
    "    return W,A\n",
    "\n",
    "def p1b(fn):\n",
    "    W,A=parse2(fn)\n",
    "    #print(W)\n",
    "    \n",
    "    g = nx.Graph()\n",
    "    \n",
    "    for a,b in W:\n",
    "        g.add_edge(a,b)\n",
    "        \n",
    "    mc = nx.minimum_edge_cut(g)\n",
    "    print(mc)\n",
    "    g.remove_edges_from(mc)\n",
    "    a,b = nx.connected_components(g)\n",
    "    return len(a)*len(b)\n",
    "    \n",
    "    \n",
    "print(\"\\nt1:\",p1b(\"test25.txt\"),54)                   \n",
    "print(\"\\np1:\",p1b(\"25.txt\"),1)\n"
   ]
  }
 ],
 "metadata": {
  "kernelspec": {
   "display_name": "Python 3 (ipykernel)",
   "language": "python",
   "name": "python3"
  },
  "language_info": {
   "codemirror_mode": {
    "name": "ipython",
    "version": 3
   },
   "file_extension": ".py",
   "mimetype": "text/x-python",
   "name": "python",
   "nbconvert_exporter": "python",
   "pygments_lexer": "ipython3",
   "version": "3.8.10"
  }
 },
 "nbformat": 4,
 "nbformat_minor": 5
}
