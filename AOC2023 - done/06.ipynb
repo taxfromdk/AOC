{
 "cells": [
  {
   "cell_type": "code",
   "execution_count": 1,
   "id": "304afb88",
   "metadata": {
    "scrolled": false
   },
   "outputs": [
    {
     "name": "stdout",
     "output_type": "stream",
     "text": [
      "part1: 1624896 1624896\n",
      "part2: 32583852 32583852\n"
     ]
    }
   ],
   "source": [
    "import re\n",
    "import math\n",
    "from sympy.solvers import solve\n",
    "from sympy import Symbol\n",
    "\n",
    "\n",
    "\n",
    "def parse(fn):\n",
    "    d=[]\n",
    "    l=open(fn).readlines()\n",
    "    time=[int(x) for x in re.findall('\\d+', l[0])]\n",
    "    dist=[int(x) for x in re.findall('\\d+', l[1])]\n",
    "    #print(time,dist)\n",
    "    return list(zip(time,dist))\n",
    "\n",
    "\n",
    "def parse2(fn):\n",
    "    d=[]\n",
    "    l=open(fn).readlines()\n",
    "    time=[int(x) for x in re.findall('\\d+', l[0].replace(\" \",\"\"))]\n",
    "    dist=[int(x) for x in re.findall('\\d+', l[1].replace(\" \",\"\"))]\n",
    "    #print(time,dist)\n",
    "    return list(zip(time,dist))\n",
    "\n",
    "\n",
    "def race(w,t):\n",
    "    d=0\n",
    "    s=0\n",
    "    for i in range(t):\n",
    "        if i<w:\n",
    "            s+=1\n",
    "        else:\n",
    "            d+=s\n",
    "    return d\n",
    "        \n",
    "\n",
    "def part1(fn):\n",
    "    D=parse(fn)\n",
    "\n",
    "    a=1\n",
    "    for t,d in D:\n",
    "        n=0\n",
    "        for w in range(t):\n",
    "            if race(w,t) > d:\n",
    "                n+=1\n",
    "        #print(t,d,n)\n",
    "        a*=n\n",
    "            \n",
    "    return a\n",
    "\n",
    "\n",
    "\n",
    "def part2(fn):\n",
    "    D=parse2(fn)\n",
    "    #print(D)\n",
    "    A=1\n",
    "    #racetime, record\n",
    "    for t,r in D:\n",
    "        w = Symbol('w')\n",
    "        n=solve(w*(t-w)-r, w)\n",
    "        a,b=[x.evalf() for x in n]\n",
    "        #print(a,b)\n",
    "        a=math.floor(a)\n",
    "        b=math.floor(b)\n",
    "        n=int(b-a)\n",
    "        #print(t,r,n)\n",
    "        A*=n\n",
    "        \n",
    "            \n",
    "    return A\n",
    "\n",
    "\n",
    "\n",
    "\n",
    "\n",
    "print(\"part1:\",part1(\"06.txt\"),1624896)\n",
    "print(\"part2:\",part2(\"06.txt\"), 32583852)\n",
    "\n",
    "\n",
    "        "
   ]
  }
 ],
 "metadata": {
  "kernelspec": {
   "display_name": "Python 3 (ipykernel)",
   "language": "python",
   "name": "python3"
  },
  "language_info": {
   "codemirror_mode": {
    "name": "ipython",
    "version": 3
   },
   "file_extension": ".py",
   "mimetype": "text/x-python",
   "name": "python",
   "nbconvert_exporter": "python",
   "pygments_lexer": "ipython3",
   "version": "3.8.10"
  }
 },
 "nbformat": 4,
 "nbformat_minor": 5
}
