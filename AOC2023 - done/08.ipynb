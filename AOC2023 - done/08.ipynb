{
 "cells": [
  {
   "cell_type": "code",
   "execution_count": 1,
   "id": "a994f2f2",
   "metadata": {
    "scrolled": false
   },
   "outputs": [
    {
     "name": "stdout",
     "output_type": "stream",
     "text": [
      "p1: 22411 22411\n",
      "p2: 11188774513823 11188774513823\n"
     ]
    }
   ],
   "source": [
    "import numpy as np\n",
    "\n",
    "def parse(fn):\n",
    "    M={}\n",
    "    s,m=open(fn).read().split(\"\\n\\n\")\n",
    "    for l in m.split(\"\\n\"):\n",
    "        M[l[0:3]]=(l[7:10],l[12:15])\n",
    "\n",
    "    \n",
    "    #print(M)\n",
    "    return s,M\n",
    "\n",
    "def p1(fn):\n",
    "    s,M=parse(fn)\n",
    "    n=0\n",
    "    l=len(s)\n",
    "    p=\"AAA\"\n",
    "    while 1:\n",
    "        if s[n%l] == 'L':\n",
    "            p=M[p][0]\n",
    "        elif s[n%l] == 'R':\n",
    "            p=M[p][1]\n",
    "        n+=1\n",
    "        if p==\"ZZZ\":\n",
    "            return n\n",
    "\n",
    "        \n",
    "def cnt(s,M,p):\n",
    "    n=0\n",
    "    l=len(s)\n",
    "    while 1:\n",
    "        if s[n%l] == 'L':\n",
    "            p=M[p][0]\n",
    "        elif s[n%l] == 'R':\n",
    "            p=M[p][1]\n",
    "        n=n+1\n",
    "        if p[-1]==\"Z\":\n",
    "            return n\n",
    "\n",
    "def p2(fn):\n",
    "    s,M=parse(fn)\n",
    "    c=[]\n",
    "    for p in M.keys():\n",
    "        #print(p)\n",
    "        if p[-1]==\"A\":\n",
    "            c.append(cnt(s,M,p))\n",
    "            #print(p,c[-1])\n",
    "    #print(c)\n",
    "    st=max(c)\n",
    "    n=0\n",
    "    while 1:\n",
    "        n=n+st\n",
    "        happy=1\n",
    "        for x in c:\n",
    "            if n%x:\n",
    "                happy=0\n",
    "                break\n",
    "        if happy:\n",
    "            return n\n",
    "            \n",
    "    \n",
    "        \n",
    "           \n",
    "    \n",
    "\n",
    "\n",
    "print(\"p1:\",p1(\"08.txt\"),22411)\n",
    "# too high 278957171567325693\n",
    "# too high 30512261589190150737457661\n",
    "print(\"p2:\",p2(\"08.txt\"),11188774513823)\n",
    "\n"
   ]
  }
 ],
 "metadata": {
  "kernelspec": {
   "display_name": "Python 3 (ipykernel)",
   "language": "python",
   "name": "python3"
  },
  "language_info": {
   "codemirror_mode": {
    "name": "ipython",
    "version": 3
   },
   "file_extension": ".py",
   "mimetype": "text/x-python",
   "name": "python",
   "nbconvert_exporter": "python",
   "pygments_lexer": "ipython3",
   "version": "3.8.10"
  }
 },
 "nbformat": 4,
 "nbformat_minor": 5
}
