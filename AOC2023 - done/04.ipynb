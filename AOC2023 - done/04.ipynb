{
 "cells": [
  {
   "cell_type": "code",
   "execution_count": 1,
   "id": "45f882f7",
   "metadata": {},
   "outputs": [
    {
     "name": "stdout",
     "output_type": "stream",
     "text": [
      "part1: 18519 18519\n",
      "part2: 11787590 123\n"
     ]
    }
   ],
   "source": [
    "def parse(fn):\n",
    "    \n",
    "    C=[]\n",
    "    for l in open(fn,\"r\").readlines():\n",
    "        c={}\n",
    "        for x in range(3):\n",
    "            l=l.replace(\"  \",\" \")\n",
    "        l=l.split(\"|\")\n",
    "        \n",
    "        c[\"id\"]=int(l[0].split(\" \")[1][:-1])\n",
    "        c[\"w\"]=[int(x) for x in l[0].split(\" \")[2:-1]]\n",
    "        c[\"n\"]=[int(x) for x in l[1].split(\" \")[1:]]\n",
    "        c[\"x\"]=1\n",
    "        \n",
    "        C.append(c)\n",
    "    return C\n",
    "    \n",
    "\n",
    "\n",
    "def part1(fn):\n",
    "    C=parse(fn)\n",
    "    s=0\n",
    "    for c in C:\n",
    "        m=list(set(c[\"n\"]).intersection(set(c[\"w\"])))\n",
    "        p=0\n",
    "        if m:\n",
    "            lm=len(m)\n",
    "            #print(c,m,lm)\n",
    "            for i in range(lm):\n",
    "                if p==0:\n",
    "                    p=1\n",
    "                else:\n",
    "                    p*=2\n",
    "        s+=p\n",
    "    return s\n",
    "\n",
    "def part2(fn):\n",
    "    C=parse(fn)\n",
    "    for i in range(len(C)):\n",
    "        p=0\n",
    "        c=C[i]\n",
    "        m=list(set(c[\"n\"]).intersection(set(c[\"w\"])))\n",
    "        if m:\n",
    "            lm=len(m)\n",
    "            for j in range(i+1,i+1+lm,1):\n",
    "                if j<len(C):\n",
    "                    C[j][\"x\"]+=C[i][\"x\"]\n",
    "    a=0\n",
    "    for c in C:\n",
    "        a+=c[\"x\"]\n",
    "    return a\n",
    "    \n",
    "    \n",
    "\n",
    "\n",
    "\n",
    "#1538 too small\n",
    "print(\"part1:\", part1(\"04.txt\"),18519)\n",
    "#1104 too small\n",
    "print(\"part2:\", part2(\"04.txt\"),123)\n",
    "\n",
    "print()\n",
    "\n"
   ]
  }
 ],
 "metadata": {
  "kernelspec": {
   "display_name": "Python 3 (ipykernel)",
   "language": "python",
   "name": "python3"
  },
  "language_info": {
   "codemirror_mode": {
    "name": "ipython",
    "version": 3
   },
   "file_extension": ".py",
   "mimetype": "text/x-python",
   "name": "python",
   "nbconvert_exporter": "python",
   "pygments_lexer": "ipython3",
   "version": "3.8.10"
  }
 },
 "nbformat": 4,
 "nbformat_minor": 5
}
