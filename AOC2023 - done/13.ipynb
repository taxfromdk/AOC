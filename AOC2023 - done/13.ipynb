{
 "cells": [
  {
   "cell_type": "code",
   "execution_count": 1,
   "id": "ffca1cdb",
   "metadata": {},
   "outputs": [
    {
     "name": "stdout",
     "output_type": "stream",
     "text": [
      "p1: 31739 31739\n",
      "p2: 31539 31539\n"
     ]
    }
   ],
   "source": [
    "def parse(fn):\n",
    "    D=[]\n",
    "    for p in open(fn).read().split(\"\\n\\n\"):\n",
    "        m={}\n",
    "        lines=p.split('\\n')\n",
    "        w=0\n",
    "        h=0\n",
    "        for y in range(len(lines)):\n",
    "            for x in range(len(lines[y])):\n",
    "                h=max(y,h)\n",
    "                w=max(x,w)\n",
    "                m[(x,y)]=lines[y][x]\n",
    "        D.append((m,w+1,y+1))\n",
    "    return D\n",
    "\n",
    "def mirror(i,m):\n",
    "    return 2*m-1-i\n",
    "    \n",
    "#m=4\n",
    "#012345\n",
    "#765432\n",
    "\n",
    "\n",
    "def check_mirror_x(xx,o):\n",
    "    m,w,h=o\n",
    "    e=0\n",
    "    for p in m.keys():\n",
    "        x,y=p\n",
    "        xxx= mirror(x,xx)\n",
    "        if xxx>= 0 and xxx<w:\n",
    "            if m[p]!=m[(xxx,y)]:\n",
    "                e+=1\n",
    "    return e\n",
    "\n",
    "def check_mirror_y(yy,o):\n",
    "    m,w,h=o\n",
    "    e=0\n",
    "    for p in m.keys():\n",
    "        x,y=p\n",
    "        yyy=mirror(y,yy)\n",
    "        if yyy>= 0 and yyy<h:\n",
    "            if m[p]!=m[(x,yyy)]:\n",
    "                e+=1\n",
    "    return e\n",
    "   \n",
    "\n",
    "def score(o,errors=0):\n",
    "    m,w,h=o\n",
    "    \n",
    "    c={}\n",
    "    for xx in range(1,w):\n",
    "        e=check_mirror_x(xx,o)\n",
    "        c[e]=xx\n",
    "    \n",
    "    for yy in range(1,h):\n",
    "        e=check_mirror_y(yy,o)\n",
    "        c[e]=yy*100\n",
    "    #print(c)\n",
    "    return c[errors]\n",
    "\n",
    "def p1(fn):\n",
    "    D=parse(fn)\n",
    "    return sum([score(x) for x in D])\n",
    "\n",
    "def p2(fn):\n",
    "    D=parse(fn)\n",
    "    return sum([score(x,2) for x in D])\n",
    "\n",
    "\n",
    "\n",
    "print(\"p1:\",p1(\"13.txt\"),31739)\n",
    "print(\"p2:\",p2(\"13.txt\"),31539)\n",
    "                \n",
    "        "
   ]
  }
 ],
 "metadata": {
  "kernelspec": {
   "display_name": "Python 3 (ipykernel)",
   "language": "python",
   "name": "python3"
  },
  "language_info": {
   "codemirror_mode": {
    "name": "ipython",
    "version": 3
   },
   "file_extension": ".py",
   "mimetype": "text/x-python",
   "name": "python",
   "nbconvert_exporter": "python",
   "pygments_lexer": "ipython3",
   "version": "3.8.10"
  }
 },
 "nbformat": 4,
 "nbformat_minor": 5
}
