{
 "cells": [
  {
   "cell_type": "code",
   "execution_count": 1,
   "id": "4b4fdc69",
   "metadata": {},
   "outputs": [
    {
     "name": "stdout",
     "output_type": "stream",
     "text": [
      "part1 921 921\n",
      "part2 603 0\n"
     ]
    }
   ],
   "source": [
    "a,b=278384,824795\n",
    "\n",
    "\n",
    "def q1(i):\n",
    "    s = str(i)\n",
    "    l = len(s)\n",
    "    has_double = False\n",
    "    has_decrease = False\n",
    "    last = None\n",
    "    for c in s:\n",
    "        vc = int(c)\n",
    "        if not last is None:\n",
    "            if vc == last:\n",
    "                has_double = 1\n",
    "            if vc < last:\n",
    "                has_decrease = 1\n",
    "        last = vc\n",
    "    return l == 6 and has_double and not has_decrease\n",
    "\n",
    "\n",
    "\n",
    "def q2(i):\n",
    "    ok=1\n",
    "    last=0\n",
    "    cnt=0\n",
    "    st={}\n",
    "    for c in str(i)+'z':\n",
    "        #print(c,last)\n",
    "        if c==last:\n",
    "            cnt+=1\n",
    "            if cnt==2:\n",
    "                ok=0\n",
    "        else:\n",
    "            if cnt>0:\n",
    "                if not last in st:\n",
    "                    st[last]=[]\n",
    "                st[last].append(cnt+1)\n",
    "            cnt=0\n",
    "        last=c\n",
    "    #print(st)\n",
    "    for s in st.values():\n",
    "        if 2 in s:\n",
    "            return 1\n",
    "    return 0\n",
    "            \n",
    "\n",
    "\n",
    "print(\"part1\",sum([1 if q1(x) else 0 for x in range(a,b+1) ]),921)\n",
    "print(\"part2\",sum([1 if q1(x) and q2(x) else 0 for x in range(a,b+1) ]),0)\n",
    "\n",
    "#print(q2(111122))\n",
    "\n",
    "\n"
   ]
  },
  {
   "cell_type": "code",
   "execution_count": null,
   "id": "3ed53a99",
   "metadata": {},
   "outputs": [],
   "source": []
  }
 ],
 "metadata": {
  "kernelspec": {
   "display_name": "Python 3 (ipykernel)",
   "language": "python",
   "name": "python3"
  },
  "language_info": {
   "codemirror_mode": {
    "name": "ipython",
    "version": 3
   },
   "file_extension": ".py",
   "mimetype": "text/x-python",
   "name": "python",
   "nbconvert_exporter": "python",
   "pygments_lexer": "ipython3",
   "version": "3.8.10"
  }
 },
 "nbformat": 4,
 "nbformat_minor": 5
}
