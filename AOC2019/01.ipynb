{
 "cells": [
  {
   "cell_type": "code",
   "execution_count": 1,
   "id": "2506ef45",
   "metadata": {
    "scrolled": true
   },
   "outputs": [
    {
     "name": "stdout",
     "output_type": "stream",
     "text": [
      "part1: 3331849 3331849\n",
      "part2: 4994898 4994898\n"
     ]
    }
   ],
   "source": [
    "d=[int(x) for x in open(\"01.txt\").readlines()]\n",
    "\n",
    "def op1(x):\n",
    "    return int(x/3)-2\n",
    "\n",
    "def op2(x):\n",
    "    r=op1(x)\n",
    "    if r>0:\n",
    "        return r+op2(r)\n",
    "    return 0\n",
    "\n",
    "def p(d,op):\n",
    "    return sum([op(x) for x in d])\n",
    "\n",
    "print(\"part1:\",p(d,op1),3331849)\n",
    "\n",
    "print(\"part2:\",p(d,op2),4994898)\n",
    "\n"
   ]
  }
 ],
 "metadata": {
  "kernelspec": {
   "display_name": "Python 3 (ipykernel)",
   "language": "python",
   "name": "python3"
  },
  "language_info": {
   "codemirror_mode": {
    "name": "ipython",
    "version": 3
   },
   "file_extension": ".py",
   "mimetype": "text/x-python",
   "name": "python",
   "nbconvert_exporter": "python",
   "pygments_lexer": "ipython3",
   "version": "3.8.10"
  }
 },
 "nbformat": 4,
 "nbformat_minor": 5
}
