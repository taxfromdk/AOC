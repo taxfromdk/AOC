{
 "cells": [
  {
   "cell_type": "code",
   "execution_count": 1,
   "id": "b9970ef9",
   "metadata": {},
   "outputs": [
    {
     "name": "stdout",
     "output_type": "stream",
     "text": [
      "part1 6849 6849\n"
     ]
    }
   ],
   "source": [
    "import re\n",
    "\n",
    "def l():\n",
    "    r=open(\"12.txt\").readlines()\n",
    "    r=[[int(x) for x in re.findall(\"[-0-9]+\",l)] for l in r]\n",
    "    return r\n",
    "\n",
    "\n",
    "\n",
    "def upd(M):\n",
    "    for i in range(len(M)):\n",
    "        \n",
    "        for j in range(len(M)):\n",
    "            if i!=j:\n",
    "                for k in range(3):\n",
    "                    if M[i][0][k] > M[j][0][k]:\n",
    "                        M[i][1][k]-=1\n",
    "                    if M[i][0][k] < M[j][0][k]:\n",
    "                        M[i][1][k]+=1  \n",
    "    for i in range(len(M)):\n",
    "        for k in range(3):\n",
    "            M[i][0][k]+=M[i][1][k]\n",
    "                        \n",
    "                \n",
    "            \n",
    "    return M\n",
    "\n",
    "def e(M):\n",
    "    r=0\n",
    "    for p,v in M:\n",
    "        x,y,z=p\n",
    "        vx,vy,vz=v\n",
    "        pe=abs(x)+abs(y)+abs(z)\n",
    "        ke=abs(vx)+abs(vy)+abs(vz)\n",
    "        r+=pe*ke\n",
    "    return r\n",
    "\n",
    "def p1():\n",
    "    m=l()\n",
    "    M=[]\n",
    "    for x,y,z in m:\n",
    "        M.append([[x,y,z],[0,0,0]])\n",
    "    #print(M)\n",
    "    for i in range(1000):\n",
    "        M=upd(M)\n",
    "    return e(M)\n",
    "\n",
    "print(\"part1\", p1(),6849)\n",
    "\n",
    "\n"
   ]
  },
  {
   "cell_type": "code",
   "execution_count": 2,
   "id": "6fdac928",
   "metadata": {},
   "outputs": [
    {
     "name": "stdout",
     "output_type": "stream",
     "text": [
      "      260000\n",
      "part2: 356658899375688 356658899375688\n"
     ]
    }
   ],
   "source": [
    "import numpy as np\n",
    "\n",
    "def ser(M):\n",
    "    r=[[],[],[]]\n",
    "    \n",
    "    for p,v in M:\n",
    "        for k in range(3):\n",
    "            r[k]+=[p[k],v[k]]\n",
    "        \n",
    "    return [tuple(x) for x in r]\n",
    "    \n",
    "\n",
    "\n",
    "def p2():\n",
    "    m=[{},{},{}]\n",
    "    M=[]\n",
    "    for x,y,z in l():\n",
    "        M.append([[x,y,z],[0,0,0]])\n",
    "    #print(M)\n",
    "    ss=[0,0,0]\n",
    "    s=ser(M)\n",
    "    for k in range(3):\n",
    "        m[k][s[k]]=1\n",
    "    stps=0\n",
    "    while 1:\n",
    "        M=upd(M)\n",
    "        stps+=1\n",
    "        if stps%10000==0:\n",
    "            print(\"%12d\"%(stps),end=\"\\r\")\n",
    "        \n",
    "        s=ser(M)\n",
    "        for k in range(3):\n",
    "            if ss[k]==0:\n",
    "                if s[k] in m[k]:\n",
    "                    ss[k]=stps\n",
    "                m[k][s[k]]=1\n",
    "            \n",
    "            \n",
    "        if not 0 in ss:\n",
    "            break\n",
    "        \n",
    "    \n",
    "    #print(ss)\n",
    "    return np.lcm(np.lcm(ss[0],ss[1]),ss[2])\n",
    "\n",
    "\n",
    "print(\"\\npart2:\",p2(),356658899375688)\n",
    "\n"
   ]
  }
 ],
 "metadata": {
  "kernelspec": {
   "display_name": "Python 3 (ipykernel)",
   "language": "python",
   "name": "python3"
  },
  "language_info": {
   "codemirror_mode": {
    "name": "ipython",
    "version": 3
   },
   "file_extension": ".py",
   "mimetype": "text/x-python",
   "name": "python",
   "nbconvert_exporter": "python",
   "pygments_lexer": "ipython3",
   "version": "3.8.10"
  }
 },
 "nbformat": 4,
 "nbformat_minor": 5
}
