{
 "cells": [
  {
   "cell_type": "code",
   "execution_count": 1,
   "id": "2239c5a3",
   "metadata": {
    "scrolled": false
   },
   "outputs": [
    {
     "name": "stdout",
     "output_type": "stream",
     "text": [
      "part1: 12234644 12234644\n",
      "part2: 3508186 3508186\n"
     ]
    }
   ],
   "source": [
    "def l():\n",
    "    return [int(x) for x in open(\"05.txt\").read().split(',')]\n",
    "\n",
    "\n",
    "def i(x):\n",
    "    assert(x>=0)\n",
    "    x=\"%05d\"%(x)\n",
    "    op=int(x[3:])\n",
    "    m3,m2,m1=[int(c) for c in x[:3]]\n",
    "    return op,m1,m2,m3\n",
    "\n",
    "\n",
    "def gv(p,ip,m,ix):\n",
    "    assert(ix in [1,2,3])\n",
    "    return p[ip+ix] if m else p[p[ip+ix]]\n",
    "\n",
    "def run(p,input):\n",
    "    ip=0\n",
    "    l=len(p)\n",
    "    output=[]\n",
    "    while 1:\n",
    "        op,m1,m2,m3=i(p[ip])\n",
    "        \n",
    "        if op==1:#add\n",
    "            assert(m3==0)\n",
    "            p[p[ip+3]]=gv(p,ip,m1,1)+gv(p,ip,m2,2)\n",
    "            ip+=4\n",
    "        elif op==2:#mul\n",
    "            assert(m3==0)\n",
    "            p[p[ip+3]]=gv(p,ip,m1,1)*gv(p,ip,m2,2)\n",
    "            ip+=4\n",
    "        elif op==3:#in\n",
    "            assert(m1==0)\n",
    "            p[p[ip+1]]=input[0]\n",
    "            input=input[1:]\n",
    "            ip+=2\n",
    "        elif op==4:#out\n",
    "            output.append(gv(p,ip,m1,1))\n",
    "            ip+=2\n",
    "        elif op==5:#jump-if-true\n",
    "            if gv(p,ip,m1,1):\n",
    "                ip=gv(p,ip,m2,2)\n",
    "            else:\n",
    "                ip+=3\n",
    "        elif op==6:#jump-if-false\n",
    "            if not gv(p,ip,m1,1):\n",
    "                ip=gv(p,ip,m2,2)\n",
    "            else:\n",
    "                ip+=3\n",
    "        elif op==7:#less-than\n",
    "            assert(m3==0)\n",
    "            p[p[ip+3]]=gv(p,ip,m1,1)<gv(p,ip,m2,2)\n",
    "            ip+=4\n",
    "        elif op==8:#equals\n",
    "            assert(m3==0)\n",
    "            p[p[ip+3]]=gv(p,ip,m1,1)==gv(p,ip,m2,2)\n",
    "            ip+=4\n",
    "        elif op in [99]:#end\n",
    "            break\n",
    "        else:\n",
    "            assert(0)\n",
    "    return output\n",
    "      \n",
    "def p1():\n",
    "    o=run(l(),[1])\n",
    "    #print(o)\n",
    "    return o[-1]\n",
    "\n",
    "def p2():\n",
    "    o=run(l(),[5])\n",
    "    #print(o)\n",
    "    return o[-1]\n",
    "        \n",
    "                      \n",
    "print(\"part1:\",p1(),12234644) \n",
    "print(\"part2:\",p2(),3508186) \n",
    "\n",
    "\n",
    "                        "
   ]
  }
 ],
 "metadata": {
  "kernelspec": {
   "display_name": "Python 3 (ipykernel)",
   "language": "python",
   "name": "python3"
  },
  "language_info": {
   "codemirror_mode": {
    "name": "ipython",
    "version": 3
   },
   "file_extension": ".py",
   "mimetype": "text/x-python",
   "name": "python",
   "nbconvert_exporter": "python",
   "pygments_lexer": "ipython3",
   "version": "3.8.10"
  }
 },
 "nbformat": 4,
 "nbformat_minor": 5
}
