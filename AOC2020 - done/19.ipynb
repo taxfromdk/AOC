{
 "cells": [
  {
   "cell_type": "code",
   "execution_count": 1,
   "id": "e83c7790",
   "metadata": {
    "scrolled": false
   },
   "outputs": [
    {
     "name": "stdout",
     "output_type": "stream",
     "text": [
      "part1: 210\n",
      "part2: 422\n"
     ]
    }
   ],
   "source": [
    "#quite some help from https://0xdf.gitlab.io/adventofcode2020/19\n",
    "\n",
    "import re\n",
    "\n",
    "f = [x.strip() for x in open(\"i19.txt\").readlines()]\n",
    "\n",
    "rules = {}\n",
    "messages = []\n",
    "\n",
    "mode = \"rules\"\n",
    "for l in f:\n",
    "    if len(l):\n",
    "        if mode == \"rules\":\n",
    "            #print(l)\n",
    "            ix,rest = l.split(\": \")\n",
    "            rules[ix] = [[y for y in x.split(\" \")] for x in rest.split(\" | \")]\n",
    "        else:\n",
    "            messages.append(l)\n",
    "    else:\n",
    "        mode = \"messages\"\n",
    "\n",
    "def gen(i=\"0\",depth=25):\n",
    "    #print(\"a\",i)\n",
    "    if depth==0:\n",
    "        return \"\"\n",
    "    #print(\"b\",rules[i])\n",
    "    if rules[i][0][0].startswith('\"'):\n",
    "        return rules[i][0][0].replace('\"','')\n",
    "    return \"(\" + \"|\".join([\"\".join([gen(y,depth-1) for y in x]) for x in rules[i]]) + \")\"\n",
    "\n",
    "#print(rules)\n",
    "\n",
    "\n",
    "re1=re.compile(gen())\n",
    "print(\"part1:\", len([m for m in messages if re1.fullmatch(m)]))\n",
    "#8: 42 | 42 8\n",
    "#11: 42 31 | 42 11 31\n",
    "\n",
    "rules['8']=[['42'],['42','8']]\n",
    "rules['11']=[['42','31'],['42','11','31']]\n",
    "re2=re.compile(gen())\n",
    "print(\"part2:\", len([m for m in messages if re2.fullmatch(m)]))\n",
    "\n"
   ]
  }
 ],
 "metadata": {
  "kernelspec": {
   "display_name": "Python 3 (ipykernel)",
   "language": "python",
   "name": "python3"
  },
  "language_info": {
   "codemirror_mode": {
    "name": "ipython",
    "version": 3
   },
   "file_extension": ".py",
   "mimetype": "text/x-python",
   "name": "python",
   "nbconvert_exporter": "python",
   "pygments_lexer": "ipython3",
   "version": "3.8.10"
  }
 },
 "nbformat": 4,
 "nbformat_minor": 5
}
