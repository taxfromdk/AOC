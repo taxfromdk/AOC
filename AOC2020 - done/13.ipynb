{
 "cells": [
  {
   "cell_type": "code",
   "execution_count": 1,
   "id": "69f0105e",
   "metadata": {},
   "outputs": [
    {
     "name": "stdout",
     "output_type": "stream",
     "text": [
      "leastwait:  7\n",
      "bestbus:  23\n",
      "part1 161\n"
     ]
    }
   ],
   "source": [
    "t, d = [x.strip() for x in open(\"i13.txt\").readlines()]\n",
    "t=int(t)\n",
    "#print(t)\n",
    "#print(d)\n",
    "\n",
    "busses=[]\n",
    "for x in d.split(','):\n",
    "    if x != 'x':\n",
    "        busses.append(int(x))\n",
    "        \n",
    "leastwait = None\n",
    "bestbus = None\n",
    "for b in busses:\n",
    "    w = b - (t % b)\n",
    "    if leastwait is None or w < leastwait:\n",
    "        leastwait = w\n",
    "        bestbus = b\n",
    "print(\"leastwait: \", leastwait)\n",
    "print(\"bestbus: \", bestbus)\n",
    "print(\"part1\", leastwait * bestbus)\n",
    "\n"
   ]
  },
  {
   "cell_type": "code",
   "execution_count": 2,
   "id": "b6e76e65",
   "metadata": {},
   "outputs": [
    {
     "name": "stdout",
     "output_type": "stream",
     "text": [
      "[[2, 13], [0, 17], [3, 19]]\n",
      "19\n",
      "test1:  3417 3417\n",
      "[[1, 7], [2, 59], [3, 61], [0, 67]]\n",
      "67\n",
      "test2:  754018 754018\n",
      "[[2, 7], [3, 59], [4, 61], [0, 67]]\n",
      "67\n",
      "test3:  779210 779210\n",
      "[[1, 7], [3, 59], [4, 61], [0, 67]]\n",
      "67\n",
      "test4:  1261476 1261476\n",
      "[[1, 37], [2, 47], [0, 1789], [3, 1889]]\n",
      "1889\n",
      "test5:  1202161486 1202161486\n",
      "[[42, 13], [43, 17], [79, 19], [52, 23], [0, 29], [66, 37], [19, 41], [60, 521], [29, 661]]\n",
      "7312643\n",
      "part2:  213890632230818\n"
     ]
    }
   ],
   "source": [
    "import time\n",
    "\n",
    "\n",
    "\n",
    "\n",
    "def part2(busses):\n",
    "    constraints = []\n",
    "    for i,b in enumerate(busses.split(',')):\n",
    "        if b.isnumeric():\n",
    "            b = int(b)\n",
    "            constraints.append([i,b]) \n",
    "    #print(len(constraints))\n",
    "    constraints = constraints\n",
    "\n",
    "    #order constraints by step\n",
    "    constraints.sort(key=lambda x: x[1])\n",
    "\n",
    "    print(constraints)\n",
    "\n",
    "    #increment by largest step for speed\n",
    "    maxindex, maxstep = constraints[-1]\n",
    "    \n",
    "    #other indices where step is offset\n",
    "    #can be used for even larger steps\n",
    "    ms=maxstep\n",
    "    for i,s in constraints:\n",
    "        if i-maxindex==s:\n",
    "            ms*=s\n",
    "            \n",
    "            \n",
    "            \n",
    "    print(ms)\n",
    "    \n",
    "    #print(maxindex)\n",
    "    #keep time for printout\n",
    "    nt = time.time()\n",
    "\n",
    "    t = 0\n",
    "    while 1:\n",
    "        #periodic print\n",
    "        n = time.time()\n",
    "        if n > nt:\n",
    "            nt = n + 1\n",
    "            print(\"%d\"%(t), end='\\r')\n",
    "\n",
    "        valid = 1\n",
    "        for ix, step in constraints[:-1]:\n",
    "            offset = ix - maxindex \n",
    "            if (t + offset)%step:\n",
    "                valid = 0\n",
    "                break\n",
    "        if valid:\n",
    "            break\n",
    "        t += ms\n",
    "    return t - maxindex\n",
    "\n",
    "print(\"test1: \", part2(\"17,x,13,19\"), 3417)\n",
    "print(\"test2: \", part2(\"67,7,59,61\"), 754018)\n",
    "print(\"test3: \", part2(\"67,x,7,59,61\"), 779210)\n",
    "print(\"test4: \", part2(\"67,7,x,59,61\"), 1261476)\n",
    "print(\"test5: \", part2(\"1789,37,47,1889\"), 1202161486)\n",
    "\n",
    "t, busses = [x.strip() for x in open(\"i13.txt\").readlines()]\n",
    "print(\"part2: \", part2(busses))\n",
    "      \n",
    "      \n"
   ]
  }
 ],
 "metadata": {
  "kernelspec": {
   "display_name": "Python 3 (ipykernel)",
   "language": "python",
   "name": "python3"
  },
  "language_info": {
   "codemirror_mode": {
    "name": "ipython",
    "version": 3
   },
   "file_extension": ".py",
   "mimetype": "text/x-python",
   "name": "python",
   "nbconvert_exporter": "python",
   "pygments_lexer": "ipython3",
   "version": "3.8.10"
  }
 },
 "nbformat": 4,
 "nbformat_minor": 5
}
