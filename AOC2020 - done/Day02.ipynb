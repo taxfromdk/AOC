{
 "cells": [
  {
   "cell_type": "code",
   "execution_count": 4,
   "metadata": {},
   "outputs": [
    {
     "name": "stdout",
     "output_type": "stream",
     "text": [
      "test part 1: (2):  2\n",
      "real part 1: (666)  666\n",
      "test part 2: ():  1\n",
      "real part 2: ()  670\n"
     ]
    }
   ],
   "source": [
    "#Day 2\n",
    "\n",
    "test_data = \"\"\"1-3 a: abcde\n",
    "1-3 b: cdefg\n",
    "2-9 c: ccccccccc\"\"\"\n",
    "\n",
    "\n",
    "def parse(data):\n",
    "    data = data.split(\"\\n\")\n",
    "    data = [[x[0].split(\"-\"), x[1].split(\":\")[0], x[2]] for x in [ x.split(\" \") for x in data]]\n",
    "    return data\n",
    "\n",
    "test_data = parse(test_data)\n",
    "\n",
    "def solve1(data):\n",
    "    valid = 0\n",
    "    for r, c, p in data:\n",
    "        f,t = r\n",
    "        n = p.count(c)\n",
    "        verdict = n >= int(f) and n <= int(t)\n",
    "        #print(f,t,c,p, verdict)\n",
    "        if verdict:\n",
    "            valid += 1\n",
    "    return valid\n",
    "\n",
    "real_data = parse(open(\"i02.txt\").read())\n",
    "\n",
    "\n",
    "print(\"test part 1: (2): \", solve1(test_data))\n",
    "print(\"real part 1: (666) \", solve1(real_data))\n",
    "\n",
    "def solve2(data):\n",
    "    valid = 0\n",
    "    for r, c, p in data:\n",
    "        f,t = r\n",
    "        n = p.count(c)\n",
    "        x = 0\n",
    "        if p[int(f)-1] == c:\n",
    "            x+=1\n",
    "        if p[int(t)-1] == c:\n",
    "            x+=1        \n",
    "        verdict = x == 1\n",
    "        #print(f,t,c,p, verdict)\n",
    "        if verdict:\n",
    "            valid += 1\n",
    "    return valid\n",
    "\n",
    "\n",
    "print(\"test part 2: (): \", solve2(test_data))\n",
    "print(\"real part 2: () \", solve2(real_data))\n",
    "\n"
   ]
  }
 ],
 "metadata": {
  "kernelspec": {
   "display_name": "Python 3",
   "language": "python",
   "name": "python3"
  },
  "language_info": {
   "codemirror_mode": {
    "name": "ipython",
    "version": 3
   },
   "file_extension": ".py",
   "mimetype": "text/x-python",
   "name": "python",
   "nbconvert_exporter": "python",
   "pygments_lexer": "ipython3",
   "version": "3.7.3"
  }
 },
 "nbformat": 4,
 "nbformat_minor": 2
}
