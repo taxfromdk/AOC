{
 "cells": [
  {
   "cell_type": "code",
   "execution_count": 26,
   "metadata": {},
   "outputs": [
    {
     "name": "stdout",
     "output_type": "stream",
     "text": [
      " 70, 7, 567 (70, 7, 567)\n",
      " 14, 7, 119 (14, 7, 119)\n",
      "102, 4, 820 (102, 4, 820)\n",
      "part 1: (801)  801\n",
      "part 2: (801)  597\n"
     ]
    }
   ],
   "source": [
    "#day 5\n",
    "\n",
    "def decode(s):\n",
    "    row = s[:7]\n",
    "    row = row.replace(\"B\", \"1\").replace(\"F\", \"0\")\n",
    "    row = int(row,2)\n",
    "    \n",
    "    col = s[7:]\n",
    "    col = col.replace(\"L\", \"0\").replace(\"R\", \"1\")\n",
    "    col = int(col,2)\n",
    "    \n",
    "    sid = row*8+col\n",
    "    return row, col, sid\n",
    "\n",
    "print(\" 70, 7, 567\", decode(\"BFFFBBFRRR\"))\n",
    "print(\" 14, 7, 119\", decode(\"FFFBBBFRRR\"))\n",
    "print(\"102, 4, 820\", decode(\"BBFFBBFRLL\"))\n",
    "\n",
    "real_data = open(\"i05.txt\").read().split(\"\\n\")\n",
    "seat_ids = []\n",
    "for r in real_data:\n",
    "    row, col, sid = decode(r)\n",
    "    seat_ids.append(sid)\n",
    "\n",
    "print(\"part 1: (801) \", max(seat_ids))\n",
    "\n",
    "for i in range(max(seat_ids)):\n",
    "    if i not in seat_ids and i-1 in seat_ids and i+1 in seat_ids:\n",
    "        print(\"part 2: (597) \", i)\n"
   ]
  }
 ],
 "metadata": {
  "kernelspec": {
   "display_name": "Python 3",
   "language": "python",
   "name": "python3"
  },
  "language_info": {
   "codemirror_mode": {
    "name": "ipython",
    "version": 3
   },
   "file_extension": ".py",
   "mimetype": "text/x-python",
   "name": "python",
   "nbconvert_exporter": "python",
   "pygments_lexer": "ipython3",
   "version": "3.7.3"
  }
 },
 "nbformat": 4,
 "nbformat_minor": 2
}
