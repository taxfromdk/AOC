{
 "cells": [
  {
   "cell_type": "code",
   "execution_count": 10,
   "metadata": {
    "scrolled": false
   },
   "outputs": [
    {
     "name": "stdout",
     "output_type": "stream",
     "text": [
      "11 11\n",
      "31 323\n",
      "test1 (7): 7\n",
      "real1 (169): 169\n",
      "test2 (336): 336\n",
      "real2 (7560370818): 7560370818\n"
     ]
    }
   ],
   "source": [
    "def parse(data):\n",
    "    return data.split(\"\\n\")\n",
    "\n",
    "\n",
    "\n",
    "test_data = parse(\"\"\"..##.......\n",
    "#...#...#..\n",
    ".#....#..#.\n",
    "..#.#...#.#\n",
    ".#...##..#.\n",
    "..#.##.....\n",
    ".#.#.#....#\n",
    ".#........#\n",
    "#.##...#...\n",
    "#...##....#\n",
    ".#..#...#.#\"\"\")\n",
    "\n",
    "print(len(test_data[0]),len(test_data))\n",
    "\n",
    "real_data = parse(open(\"i03.txt\").read())\n",
    "\n",
    "print(len(real_data[0]),len(real_data))\n",
    "\n",
    "def solve(data, dx, dy):\n",
    "    x = 0\n",
    "    y = 0\n",
    "    w=len(data[0])\n",
    "    h=len(data)\n",
    "\n",
    "    t=0\n",
    "    while y < h:\n",
    "        #print(x,y)\n",
    "\n",
    "        if data[y][x%w] == '#':\n",
    "            t+=1\n",
    "        \n",
    "        x += dx\n",
    "        y += dy\n",
    " \n",
    "    return t\n",
    "\n",
    "print(\"test1 (7):\", solve(test_data,3,1))\n",
    "\n",
    "print(\"real1 (169):\", solve(real_data,3,1))\n",
    "\n",
    "\n",
    "slopes = [(1,1),(3,1),(5,1),(7,1),(1,2)]  \n",
    "\n",
    "def solve2(data, slopes):\n",
    "    acc = 1\n",
    "    for dx,dy in slopes:\n",
    "        acc *= solve(data, dx, dy)\n",
    "    \n",
    "        \n",
    "    return acc\n",
    "\n",
    "\n",
    "print(\"test2 (336):\", solve2(test_data,slopes))\n",
    "\n",
    "print(\"real2 (7560370818):\", solve2(real_data,slopes))\n",
    "\n",
    "        \n",
    "       \n",
    "        \n",
    "\n"
   ]
  },
  {
   "cell_type": "code",
   "execution_count": null,
   "metadata": {},
   "outputs": [],
   "source": []
  },
  {
   "cell_type": "code",
   "execution_count": null,
   "metadata": {},
   "outputs": [],
   "source": []
  }
 ],
 "metadata": {
  "kernelspec": {
   "display_name": "Python 3",
   "language": "python",
   "name": "python3"
  },
  "language_info": {
   "codemirror_mode": {
    "name": "ipython",
    "version": 3
   },
   "file_extension": ".py",
   "mimetype": "text/x-python",
   "name": "python",
   "nbconvert_exporter": "python",
   "pygments_lexer": "ipython3",
   "version": "3.7.3"
  }
 },
 "nbformat": 4,
 "nbformat_minor": 2
}
