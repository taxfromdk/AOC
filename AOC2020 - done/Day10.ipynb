{
 "cells": [
  {
   "cell_type": "code",
   "execution_count": 1,
   "metadata": {},
   "outputs": [
    {
     "name": "stdout",
     "output_type": "stream",
     "text": [
      "part1 1848 1848\n"
     ]
    }
   ],
   "source": [
    "def parse(s):\n",
    "    return sorted([int(x) for x in s.split(\"\\n\")])\n",
    "    \n",
    "    \n",
    "    \n",
    "real=parse(open(\"i10.txt\").read())\n",
    "#print(real)\n",
    "test= parse(\"\"\"16\n",
    "10\n",
    "15\n",
    "5\n",
    "1\n",
    "11\n",
    "7\n",
    "19\n",
    "6\n",
    "12\n",
    "4\"\"\")\n",
    "\n",
    "\n",
    "test2 = parse(\"\"\"28\n",
    "33\n",
    "18\n",
    "42\n",
    "31\n",
    "14\n",
    "46\n",
    "20\n",
    "48\n",
    "47\n",
    "24\n",
    "23\n",
    "49\n",
    "45\n",
    "19\n",
    "38\n",
    "39\n",
    "11\n",
    "1\n",
    "32\n",
    "25\n",
    "35\n",
    "8\n",
    "17\n",
    "7\n",
    "9\n",
    "4\n",
    "2\n",
    "34\n",
    "10\n",
    "3\"\"\")\n",
    "\n",
    "def part1(data):\n",
    "    j={ 3: 1}\n",
    "    z=0\n",
    "    for i in range(len(data)):\n",
    "        d = data[i]-z\n",
    "        if d not in j.keys():\n",
    "            j[d]=0\n",
    "        j[d] += 1\n",
    "        z=data[i]\n",
    "    return j[3]*j[1]\n",
    "    \n",
    "        \n",
    "        \n",
    "    \n",
    "print(\"part1\", part1(real), 1848)\n"
   ]
  },
  {
   "cell_type": "code",
   "execution_count": 2,
   "metadata": {},
   "outputs": [
    {
     "name": "stdout",
     "output_type": "stream",
     "text": [
      "part2 8099130339328\n"
     ]
    }
   ],
   "source": [
    "real=parse(open(\"i10.txt\").read())\n",
    "\n",
    "C = {}\n",
    "\n",
    "def explore(j, d, m):\n",
    "    \n",
    "    #use cache only for similar remaining adapters, as \n",
    "    #they are sorted and we cant step down\n",
    "    ser = str(j)+ \",\" + \",\".join([str(x) for x in d])\n",
    "    if ser in C:\n",
    "        #print(\"cache\", ser)\n",
    "        return C[ser]\n",
    "    \n",
    "    if j == m:\n",
    "        return 1\n",
    "    a = 0\n",
    "    for i in range(len(d)):\n",
    "        if d[i] - j in [1,2,3]:\n",
    "            a += explore(d[i], d[i+1:], m)\n",
    "    C[ser] = a\n",
    "    return a\n",
    "    \n",
    "print(\"part2\", explore(0, real, max(real)))\n",
    "\n"
   ]
  }
 ],
 "metadata": {
  "kernelspec": {
   "display_name": "Python 3 (ipykernel)",
   "language": "python",
   "name": "python3"
  },
  "language_info": {
   "codemirror_mode": {
    "name": "ipython",
    "version": 3
   },
   "file_extension": ".py",
   "mimetype": "text/x-python",
   "name": "python",
   "nbconvert_exporter": "python",
   "pygments_lexer": "ipython3",
   "version": "3.8.10"
  }
 },
 "nbformat": 4,
 "nbformat_minor": 2
}
