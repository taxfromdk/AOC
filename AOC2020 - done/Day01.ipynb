{
 "cells": [
  {
   "cell_type": "code",
   "execution_count": 4,
   "metadata": {},
   "outputs": [
    {
     "name": "stdout",
     "output_type": "stream",
     "text": [
      "test part 1: (514579):  514579\n",
      "real part 1:  1014624\n",
      "test part 2: (241861950):  241861950\n",
      "real part 2:  80072256\n"
     ]
    }
   ],
   "source": [
    "#Day 1\n",
    "\n",
    "test_data = \"\"\"1721\n",
    "979\n",
    "366\n",
    "299\n",
    "675\n",
    "1456\"\"\"\n",
    "\n",
    "def parse(i):    \n",
    "    return [int(x) for x in i.split(\"\\n\")]\n",
    "\n",
    "test_data = parse(test_data)\n",
    "real_data = parse(open(\"i01.txt\").read())\n",
    "\n",
    "def solve1(data):\n",
    "    l = len(data)\n",
    "    for i in range(l):\n",
    "        for j in range(l):\n",
    "            if data[i] + data[j] == 2020:\n",
    "                return data[i] * data[j]\n",
    "\n",
    "def solve2(data):\n",
    "    l = len(data)\n",
    "    for i in range(l):\n",
    "        for j in range(l):\n",
    "            for k in range(l):\n",
    "                if data[i] + data[j] + data[k] == 2020:\n",
    "                    return data[i] * data[j] * data[k]\n",
    "            \n",
    "            \n",
    "print(\"test part 1: (514579): \", solve1(test_data))\n",
    "print(\"real part 1: \", solve1(real_data))\n",
    "\n",
    "print(\"test part 2: (241861950): \", solve2(test_data))\n",
    "print(\"real part 2: \", solve2(real_data))\n"
   ]
  }
 ],
 "metadata": {
  "kernelspec": {
   "display_name": "Python 3",
   "language": "python",
   "name": "python3"
  },
  "language_info": {
   "codemirror_mode": {
    "name": "ipython",
    "version": 3
   },
   "file_extension": ".py",
   "mimetype": "text/x-python",
   "name": "python",
   "nbconvert_exporter": "python",
   "pygments_lexer": "ipython3",
   "version": "3.7.3"
  }
 },
 "nbformat": 4,
 "nbformat_minor": 2
}
