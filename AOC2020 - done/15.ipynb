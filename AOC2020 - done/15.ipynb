{
 "cells": [
  {
   "cell_type": "code",
   "execution_count": 1,
   "id": "a7985b9c",
   "metadata": {
    "scrolled": true
   },
   "outputs": [
    {
     "name": "stdout",
     "output_type": "stream",
     "text": [
      "test1-1: 1 1\n",
      "test1-2: 10 10\n",
      "test1-3: 27 27\n",
      "test1-4: 78 78\n",
      "test1-5: 438 478\n",
      "test1-6: 1836 1836\n",
      "part1: 1280 1280\n",
      "--------------------------\n",
      "test2-1: 175594 175594\n",
      "test2-2: 2578 2578\n",
      "test2-3: 3544142 3544142\n",
      "test2-4: 261214 261214\n",
      "test2-5: 6895259 6895259\n",
      "test2-6: 18 18\n",
      "test2-7: 362 362\n",
      "part2: 651639 651639\n"
     ]
    }
   ],
   "source": [
    "\n",
    "def a(s, part):\n",
    "    seq = [int(x) for x in s.split(',')]\n",
    "    m = {}       \n",
    "    i = 0\n",
    "    ln = None\n",
    "    \n",
    "    target=2020\n",
    "    if part==2:\n",
    "        target = 30000000\n",
    "        \n",
    "    n=None\n",
    "    for j in range(len(seq)):\n",
    "        n=seq[i]\n",
    "        \n",
    "        if not n in m:\n",
    "            m[n] = (None,i)\n",
    "        else:\n",
    "            p0,p1=m[n]\n",
    "            m[n]=(p1,i)\n",
    "       \n",
    "        i+=1\n",
    "        \n",
    "    while i < target:\n",
    "        \n",
    "        if m[n][0] is None:\n",
    "            n = 0\n",
    "        else:\n",
    "            p0,p1=m[n]\n",
    "            n = p1 - p0\n",
    "           \n",
    "        if not n in m:\n",
    "            m[n] = (None,i)\n",
    "        else:\n",
    "            p0,p1=m[n]\n",
    "            m[n]=(p1,i)\n",
    "        \n",
    "        \n",
    "        i += 1\n",
    "    \n",
    "    return n\n",
    "        \n",
    "        \n",
    "         \n",
    "print(\"test1-1:\", a(\"1,3,2\",1),1)\n",
    "print(\"test1-2:\", a(\"2,1,3\",1), 10)\n",
    "print(\"test1-3:\", a(\"1,2,3\",1),27)\n",
    "print(\"test1-4:\", a(\"2,3,1\",1),78)\n",
    "print(\"test1-5:\", a(\"3,2,1\",1),478)\n",
    "print(\"test1-6:\", a(\"3,1,2\",1),1836)\n",
    "print(\"part1:\",   a(\"2,15,0,9,1,20\",1), 1280)\n",
    "\n",
    "print(\"--------------------------\")\n",
    "\n",
    "print(\"test2-1:\", a(\"0,3,6\",2),175594)\n",
    "print(\"test2-2:\", a(\"1,3,2\",2), 2578)\n",
    "print(\"test2-3:\", a(\"2,1,3\",2),3544142)\n",
    "print(\"test2-4:\", a(\"1,2,3\",2),261214)\n",
    "print(\"test2-5:\", a(\"2,3,1\",2),6895259)\n",
    "print(\"test2-6:\", a(\"3,2,1\",2),18)\n",
    "print(\"test2-7:\", a(\"3,1,2\",2),362)\n",
    "print(\"part2:\", a(\"2,15,0,9,1,20\",2), 651639)\n",
    "\n",
    "\n"
   ]
  }
 ],
 "metadata": {
  "kernelspec": {
   "display_name": "Python 3 (ipykernel)",
   "language": "python",
   "name": "python3"
  },
  "language_info": {
   "codemirror_mode": {
    "name": "ipython",
    "version": 3
   },
   "file_extension": ".py",
   "mimetype": "text/x-python",
   "name": "python",
   "nbconvert_exporter": "python",
   "pygments_lexer": "ipython3",
   "version": "3.8.10"
  }
 },
 "nbformat": 4,
 "nbformat_minor": 5
}
