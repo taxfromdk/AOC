{
 "cells": [
  {
   "cell_type": "code",
   "execution_count": 1,
   "id": "3a654245",
   "metadata": {},
   "outputs": [
    {
     "name": "stdout",
     "output_type": "stream",
     "text": [
      "part1: 362 362\n"
     ]
    }
   ],
   "source": [
    "m = [x.strip() for x in open(\"i17.txt\").readlines()]\n",
    "\n",
    "a = {}\n",
    "for y in range(len(m)):\n",
    "    for x in range(len(m[0])):\n",
    "        if m[y][x] == '#':\n",
    "            a[\"%d,%d,%d\"%(x,y,0)] = 0\n",
    "\n",
    "#print(a)\n",
    "\n",
    "neighbours = []\n",
    "for z in range(-1,2,1):\n",
    "    for y in range(-1,2,1):\n",
    "        for x in range(-1,2,1):\n",
    "            if x != 0 or y != 0 or z != 0:\n",
    "                neighbours.append([x,y,z])\n",
    "\n",
    "#print(\"neighbours\", len(neighbours), neighbours)\n",
    "                \n",
    "for i in range(6):\n",
    "    na = {}\n",
    "    potential={}\n",
    "    #count neighbours in spread fashion\n",
    "    for k in a.keys():\n",
    "        x,y,z =[int(x) for x in k.split(\",\")]\n",
    "        for dx,dy,dz in neighbours:\n",
    "            xx = x + dx\n",
    "            yy = y + dy\n",
    "            zz = z + dz\n",
    "            lbl = \"%d,%d,%d\"%(xx,yy,zz)\n",
    "            if lbl in a:\n",
    "                a[lbl]+=1\n",
    "            else:\n",
    "                if not lbl in potential:\n",
    "                    potential[lbl]=0\n",
    "                potential[lbl]+=1\n",
    "            \n",
    "    \n",
    "    #walk through all active cells and see if they remain active\n",
    "    for k in a.keys():\n",
    "        if a[k] in [2,3]:\n",
    "            #remain lit\n",
    "            na[k] = 0\n",
    "    for k in potential.keys():\n",
    "        if potential[k]==3:\n",
    "            na[k] =0\n",
    "    a = na\n",
    "    #print(i, a)\n",
    "\n",
    "print(\"part1:\", len(a.keys()), 362)\n",
    "    "
   ]
  },
  {
   "cell_type": "code",
   "execution_count": 2,
   "id": "cbbd36b6",
   "metadata": {},
   "outputs": [
    {
     "name": "stdout",
     "output_type": "stream",
     "text": [
      "part2: 1980 ?\n"
     ]
    }
   ],
   "source": [
    "m = [x.strip() for x in open(\"i17.txt\").readlines()]\n",
    "\n",
    "a = {}\n",
    "for y in range(len(m)):\n",
    "    for x in range(len(m[0])):\n",
    "        if m[y][x] == '#':\n",
    "            a[\"%d,%d,%d,%d\"%(x,y,0,0)] = 0\n",
    "\n",
    "#print(a)\n",
    "\n",
    "neighbours = []\n",
    "for w in range(-1,2,1):\n",
    "    for z in range(-1,2,1):\n",
    "        for y in range(-1,2,1):\n",
    "            for x in range(-1,2,1):\n",
    "                if x != 0 or y != 0 or z != 0 or w != 0:\n",
    "                    neighbours.append([x,y,z,w])\n",
    "\n",
    "#print(\"neighbours\", len(neighbours), neighbours)\n",
    "                \n",
    "for i in range(6):\n",
    "    na = {}\n",
    "    potential={}\n",
    "    #count neighbours in spread fashion\n",
    "    for k in a.keys():\n",
    "        x,y,z,w =[int(x) for x in k.split(\",\")]\n",
    "        for dx,dy,dz,dw in neighbours:\n",
    "            xx = x + dx\n",
    "            yy = y + dy\n",
    "            zz = z + dz\n",
    "            ww = w + dw\n",
    "            lbl = \"%d,%d,%d,%d\"%(xx,yy,zz,ww)\n",
    "            if lbl in a:\n",
    "                a[lbl]+=1\n",
    "            else:\n",
    "                if not lbl in potential:\n",
    "                    potential[lbl]=0\n",
    "                potential[lbl]+=1\n",
    "            \n",
    "    \n",
    "    #walk through all active cells and see if they remain active\n",
    "    for k in a.keys():\n",
    "        if a[k] in [2,3]:\n",
    "            #remain lit\n",
    "            na[k] = 0\n",
    "    for k in potential.keys():\n",
    "        if potential[k]==3:\n",
    "            na[k] =0\n",
    "    a = na\n",
    "    #print(i, a)\n",
    "\n",
    "print(\"part2:\", len(a.keys()), 1980)\n",
    "    "
   ]
  }
 ],
 "metadata": {
  "kernelspec": {
   "display_name": "Python 3 (ipykernel)",
   "language": "python",
   "name": "python3"
  },
  "language_info": {
   "codemirror_mode": {
    "name": "ipython",
    "version": 3
   },
   "file_extension": ".py",
   "mimetype": "text/x-python",
   "name": "python",
   "nbconvert_exporter": "python",
   "pygments_lexer": "ipython3",
   "version": "3.8.10"
  }
 },
 "nbformat": 4,
 "nbformat_minor": 5
}
