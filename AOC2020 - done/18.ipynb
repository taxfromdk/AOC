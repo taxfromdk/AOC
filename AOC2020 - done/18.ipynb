{
 "cells": [
  {
   "cell_type": "code",
   "execution_count": 1,
   "id": "60d83936",
   "metadata": {},
   "outputs": [
    {
     "name": "stdout",
     "output_type": "stream",
     "text": [
      "part1: 14006719520523 14006719520523\n"
     ]
    }
   ],
   "source": [
    "m=[x.strip() for x in open(\"i18.txt\").readlines()]\n",
    "\n",
    "\n",
    "def e(s):\n",
    "    if '(' in s:\n",
    "        a=None\n",
    "        p=0\n",
    "        for i in range(len(s)):\n",
    "            if s[i]=='(':\n",
    "                if a is None:\n",
    "                    a=i\n",
    "                p+=1\n",
    "            elif s[i]==\")\":\n",
    "                p-=1\n",
    "                if p==0:\n",
    "                    return e(s[:a]+str(e(s[a+1:i]))+s[i+1:])\n",
    "                    \n",
    "    else:\n",
    "        a = None\n",
    "        o = None\n",
    "        for x in s.split(\" \"):\n",
    "            if a is None:\n",
    "                a=int(x)\n",
    "            elif x in \"*+\":\n",
    "                o=x\n",
    "            else:\n",
    "                x=int(x)\n",
    "                if o=='+':\n",
    "                    a+=x\n",
    "                elif o == '*':\n",
    "                    a*=x\n",
    "        return a\n",
    "\n",
    "print(\"part1:\",sum([e(x) for x in m]), 14006719520523)\n",
    "    \n"
   ]
  },
  {
   "cell_type": "code",
   "execution_count": 14,
   "id": "6f07eb0e",
   "metadata": {},
   "outputs": [
    {
     "name": "stdout",
     "output_type": "stream",
     "text": [
      "part2: 545115449981968 545115449981968\n"
     ]
    }
   ],
   "source": [
    "import re\n",
    "\n",
    "def e2(s):\n",
    "    #print(\"e2: \", s)\n",
    "    if '(' in s:\n",
    "        #print(\"(\", s)\n",
    "        a=None\n",
    "        p=0\n",
    "        for i in range(len(s)):\n",
    "            if s[i]=='(':\n",
    "                if a is None:\n",
    "                    a=i\n",
    "                p+=1\n",
    "            elif s[i]==\")\":\n",
    "                p-=1\n",
    "                if p==0:\n",
    "                    return e2(s[:a]+str(e2(s[a+1:i]))+s[i+1:])\n",
    "\n",
    "    x = re.search(\"[-0-9]+ \\+ [-0-9]+\", s)\n",
    "    if x:\n",
    "        #print(\"+:  \", x.group())\n",
    "        a,b=[int(y) for y in x.group().split(' + ')]\n",
    "        return e2(s[:x.start(0)] + str(a+b) + s[x.end(0):])\n",
    "    \n",
    "    x = re.search(\"[-0-9]+ \\* [-0-9]+\", s)\n",
    "    if x:\n",
    "        #print(\"*:  \", x.group())\n",
    "        a,b=[int(y) for y in x.group().split(' * ')]\n",
    "        return e2(s[:x.start(0)] + str(a*b) + s[x.end(0):])\n",
    "    \n",
    "    #print(\"plain number: \", s)\n",
    "    return int(s)\n",
    "\n",
    "#print(\"test2:\", e2(\"1 + (2 * 3) + (4 * (5 + 6))\"), 51)\n",
    "#print(\"test2:\", e2(\"2 * 3 + (4 * 5)\"), 46)\n",
    "#print(\"test2:\", e2(\"5 + (8 * 3 + 9 + 3 * 4 * 3)\"), 1445)\n",
    "#print(\"test2:\", e2(\"5 * 9 * (7 * 3 * 3 + 9 * 3 + (8 + 6 * 4))\"), 669060)\n",
    "#print(\"test2:\", e2(\"((2 + 4 * 9) * (6 + 9 * 8 + 6) + 6) + 2 + 4 * 2\"), 23340)\n",
    "\n",
    "\n",
    "print(\"part2:\",sum([e2(x) for x in m]), 545115449981968)\n",
    "\n",
    "\n"
   ]
  }
 ],
 "metadata": {
  "kernelspec": {
   "display_name": "Python 3 (ipykernel)",
   "language": "python",
   "name": "python3"
  },
  "language_info": {
   "codemirror_mode": {
    "name": "ipython",
    "version": 3
   },
   "file_extension": ".py",
   "mimetype": "text/x-python",
   "name": "python",
   "nbconvert_exporter": "python",
   "pygments_lexer": "ipython3",
   "version": "3.8.10"
  }
 },
 "nbformat": 4,
 "nbformat_minor": 5
}
