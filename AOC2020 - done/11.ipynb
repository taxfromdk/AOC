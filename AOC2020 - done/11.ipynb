{
 "cells": [
  {
   "cell_type": "code",
   "execution_count": 1,
   "id": "cbd8389c",
   "metadata": {},
   "outputs": [
    {
     "name": "stdout",
     "output_type": "stream",
     "text": [
      "98 97\n",
      "part1 2481\n"
     ]
    }
   ],
   "source": [
    "import copy\n",
    "\n",
    "m = [list(x.strip()) for x in open(\"i11.txt\").readlines()]\n",
    "w = len(m[0])\n",
    "h = len(m)\n",
    "\n",
    "\n",
    "print(w,h)\n",
    "\n",
    "change = True\n",
    "while change:\n",
    "    nm = copy.deepcopy(m)\n",
    "    change = False\n",
    "    for y in range(h):\n",
    "        for x in range(w):\n",
    "            if m[y][x] in \"#L\":\n",
    "                avail = 0\n",
    "                occ = 0\n",
    "                for dx,dy in [[-1,0],[-1,1],[0,1],[1,1],[1,0],[1,-1],[0,-1],[-1,-1]]:\n",
    "                    xx=x+dx\n",
    "                    yy=y+dy\n",
    "                    if xx >= 0 and xx < w and yy >=0 and yy < h:\n",
    "                        if m[yy][xx] == '#':\n",
    "                            occ+=1\n",
    "                        elif m[yy][xx] == 'L':\n",
    "                            avail += 1\n",
    "                if m[y][x] == 'L':\n",
    "                    if occ == 0:\n",
    "                        change=True\n",
    "                        nm[y][x]='#'\n",
    "                if m[y][x] == '#':\n",
    "                    if occ >= 4:\n",
    "                        change=True\n",
    "                        nm[y][x]='L'\n",
    "    m = nm\n",
    "\n",
    "o= 0\n",
    "for y in range(h):\n",
    "    for x in range(w):\n",
    "        if m[y][x] == '#':\n",
    "            o+=1\n",
    "print(\"part1\", o)"
   ]
  },
  {
   "cell_type": "code",
   "execution_count": 2,
   "id": "e8333048",
   "metadata": {},
   "outputs": [
    {
     "name": "stdout",
     "output_type": "stream",
     "text": [
      "98 97\n",
      "part2 2227\n"
     ]
    }
   ],
   "source": [
    "import copy\n",
    "\n",
    "m = [list(x.strip()) for x in open(\"i11.txt\").readlines()]\n",
    "w = len(m[0])\n",
    "h = len(m)\n",
    "\n",
    "\n",
    "print(w,h)\n",
    "\n",
    "change = True\n",
    "while change:\n",
    "    nm = copy.deepcopy(m)\n",
    "    change = 0\n",
    "    for y in range(h):\n",
    "        for x in range(w):\n",
    "            if m[y][x] in \"#L\":\n",
    "                avail = 0\n",
    "                occ = 0\n",
    "                for dx,dy in [[-1,0],[-1,1],[0,1],[1,1],[1,0],[1,-1],[0,-1],[-1,-1]]:\n",
    "                    r = 1\n",
    "                    while 1:\n",
    "                        xx=x+dx*r\n",
    "                        yy=y+dy*r\n",
    "                        if xx >= 0 and xx < w and yy >=0 and yy < h:\n",
    "                            if m[yy][xx] == '#':\n",
    "                                occ+=1\n",
    "                                break\n",
    "                            elif m[yy][xx] == 'L':\n",
    "                                avail += 1\n",
    "                                break\n",
    "                        else:\n",
    "                            break\n",
    "                        r += 1\n",
    "                if m[y][x] == 'L':\n",
    "                    if occ == 0:\n",
    "                        change+=1\n",
    "                        nm[y][x]='#'\n",
    "                if m[y][x] == '#':\n",
    "                    if occ >= 5:\n",
    "                        change+=1\n",
    "                        nm[y][x]='L'\n",
    "    #print(change)\n",
    "    m = nm\n",
    "\n",
    "o= 0\n",
    "for y in range(h):\n",
    "    for x in range(w):\n",
    "        if m[y][x] == '#':\n",
    "            o+=1\n",
    "print(\"part2\", o)"
   ]
  }
 ],
 "metadata": {
  "kernelspec": {
   "display_name": "Python 3 (ipykernel)",
   "language": "python",
   "name": "python3"
  },
  "language_info": {
   "codemirror_mode": {
    "name": "ipython",
    "version": 3
   },
   "file_extension": ".py",
   "mimetype": "text/x-python",
   "name": "python",
   "nbconvert_exporter": "python",
   "pygments_lexer": "ipython3",
   "version": "3.8.10"
  }
 },
 "nbformat": 4,
 "nbformat_minor": 5
}
