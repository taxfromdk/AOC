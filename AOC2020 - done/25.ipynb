{
 "cells": [
  {
   "cell_type": "code",
   "execution_count": 1,
   "id": "5576683d",
   "metadata": {},
   "outputs": [
    {
     "name": "stdout",
     "output_type": "stream",
     "text": [
      "(5764801, 17807724)\n",
      "card_loop: 8\n",
      "door_loop: 11\n",
      "score\n",
      "test1: 14897079 14897079\n",
      "[8987316, 14681524]\n",
      "card_loop: 2541700\n",
      "door_loop: 4208732\n",
      "score\n",
      "part1: 15217943 0\n"
     ]
    }
   ],
   "source": [
    "m = {}\n",
    "\n",
    "def transform(subject_number, loop_size):\n",
    "    r = 1\n",
    "    l = 0\n",
    "    \n",
    "    if not subject_number in m:\n",
    "        m[subject_number]=[]\n",
    "    else:\n",
    "        if loop_size < len(m[subject_number]):\n",
    "            return m[subject_number][loop_size]\n",
    "        else:\n",
    "            l = len(m[subject_number])-1\n",
    "            r = m[subject_number][-1]\n",
    "    \n",
    "    \n",
    "    while 1:        \n",
    "        if l == len(m[subject_number]):\n",
    "            m[subject_number].append(r)\n",
    "        \n",
    "        if l == loop_size:\n",
    "            break\n",
    "        \n",
    "        r *=subject_number\n",
    "        r %= 20201227        \n",
    "        l+=1\n",
    "        \n",
    "    #print(m[subject_number])\n",
    "    return r\n",
    "\n",
    "def part1(a):\n",
    "    public_key_card, public_key_door = a\n",
    "    print(a)\n",
    "    i = 0\n",
    "    card_loop = None\n",
    "    door_loop = None\n",
    "    while card_loop == None or door_loop == None:\n",
    "        v = transform(7, i)\n",
    "        if v == public_key_card:\n",
    "            card_loop = i\n",
    "        if v == public_key_door:\n",
    "            door_loop = i\n",
    "        i+=1\n",
    "        if i % 1000 == 0:\n",
    "            #print(i,end='\\r')\n",
    "            pass\n",
    "\n",
    "    print(\"card_loop:\", card_loop)\n",
    "    print(\"door_loop:\", door_loop)\n",
    "    \n",
    "    if transform(public_key_card, door_loop) == transform(public_key_door, card_loop):\n",
    "        print(\"score\")    \n",
    "        return transform(public_key_card, door_loop)\n",
    "    return None\n",
    "    \n",
    "test_input = (5764801, 17807724)\n",
    "real_input = [int(x.strip()) for x in open(\"i25.txt\").readlines()]\n",
    "\n",
    "\n",
    "print(\"test1:\", part1(test_input),14897079)\n",
    "print(\"part1:\", part1(real_input),0)\n",
    "#10219865"
   ]
  }
 ],
 "metadata": {
  "kernelspec": {
   "display_name": "Python 3 (ipykernel)",
   "language": "python",
   "name": "python3"
  },
  "language_info": {
   "codemirror_mode": {
    "name": "ipython",
    "version": 3
   },
   "file_extension": ".py",
   "mimetype": "text/x-python",
   "name": "python",
   "nbconvert_exporter": "python",
   "pygments_lexer": "ipython3",
   "version": "3.8.10"
  }
 },
 "nbformat": 4,
 "nbformat_minor": 5
}
