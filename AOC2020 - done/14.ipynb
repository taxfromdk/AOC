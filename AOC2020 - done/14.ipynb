{
 "cells": [
  {
   "cell_type": "code",
   "execution_count": 1,
   "id": "a3a89123",
   "metadata": {},
   "outputs": [
    {
     "name": "stdout",
     "output_type": "stream",
     "text": [
      "part1:  5055782549997 5055782549997\n"
     ]
    }
   ],
   "source": [
    "import re\n",
    "\n",
    "m = {}\n",
    "\n",
    "mask = None\n",
    "\n",
    "def i2b(v):\n",
    "    return \"{0:036b}\".format(v)\n",
    "    \n",
    "def b2i(v):\n",
    "    return int(v,2)\n",
    "\n",
    "\n",
    "def op(f, t, msk):\n",
    "    l = len(msk)\n",
    "    o = ['?' for x in range(l)]\n",
    "    for i in range(l):\n",
    "        if msk[i] != 'X':\n",
    "            o[i] = msk[i]\n",
    "        else:\n",
    "            o[i] = t[i]\n",
    "    return \"\".join(o)\n",
    "\n",
    "mask = None\n",
    "for l in [x.strip() for x in open(\"i14.txt\").readlines()]:\n",
    "    #print(l)\n",
    "    if l.startswith(\"mask\"):\n",
    "        mask = re.findall(\"[01X]+\", l)[0]\n",
    "        assert(len(mask) == 36)\n",
    "    else:\n",
    "        adr, val = [int(x) for x in re.findall(\"[0-9]+\", l)]\n",
    "        if not adr in m:\n",
    "            m[adr] = 0\n",
    "        m[adr] = b2i(op(i2b(m[adr]), i2b(val), mask))\n",
    "        \n",
    "print(\"part1: \", sum([m[x] for x in m.keys()]), 5055782549997)\n",
    "        "
   ]
  },
  {
   "cell_type": "code",
   "execution_count": 3,
   "id": "1aca6311",
   "metadata": {},
   "outputs": [
    {
     "name": "stdout",
     "output_type": "stream",
     "text": [
      "part2:  4795970362286\n"
     ]
    }
   ],
   "source": [
    "import itertools\n",
    "\n",
    "\n",
    "\n",
    "m = {}\n",
    "mask = None\n",
    "\n",
    "mask = None\n",
    "\n",
    "def changeaddr(bin_adr, bin_mask, fixes):\n",
    "    r = []\n",
    "    j = 0\n",
    "    for i in range(len(bin_adr)):\n",
    "        if bin_mask[i] == '1':\n",
    "            r.append('1')\n",
    "        elif bin_mask[i] == '0':\n",
    "            r.append(bin_adr[i])\n",
    "        else:\n",
    "            r.append(fixes[j])\n",
    "            j+=1\n",
    "    return \"\".join(r)\n",
    "\n",
    "for l in [x.strip() for x in open(\"i14.txt\").readlines()]:\n",
    "    #print(l)\n",
    "    if l.startswith(\"mask\"):\n",
    "        mask = re.findall(\"[01X]+\", l)[0]\n",
    "        assert(len(mask) == 36)\n",
    "    else:\n",
    "        adr, val = [int(x) for x in re.findall(\"[0-9]+\", l)]\n",
    "        \n",
    "        xes = mask.count('X')\n",
    "        for ovr in itertools.product(['0', '1'], repeat=xes):\n",
    "            nadr = b2i(changeaddr(i2b(adr),mask,ovr))\n",
    "            if not nadr in m:\n",
    "                m[nadr] = 0\n",
    "            m[nadr] = val\n",
    "\n",
    "    \n",
    "print(\"part2: \", sum([m[x] for x in m.keys()]))\n",
    "pass"
   ]
  }
 ],
 "metadata": {
  "kernelspec": {
   "display_name": "Python 3 (ipykernel)",
   "language": "python",
   "name": "python3"
  },
  "language_info": {
   "codemirror_mode": {
    "name": "ipython",
    "version": 3
   },
   "file_extension": ".py",
   "mimetype": "text/x-python",
   "name": "python",
   "nbconvert_exporter": "python",
   "pygments_lexer": "ipython3",
   "version": "3.8.10"
  }
 },
 "nbformat": 4,
 "nbformat_minor": 5
}
