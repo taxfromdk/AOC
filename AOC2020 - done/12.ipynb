{
 "cells": [
  {
   "cell_type": "code",
   "execution_count": 1,
   "id": "c036edde",
   "metadata": {},
   "outputs": [
    {
     "name": "stdout",
     "output_type": "stream",
     "text": [
      "part1 439\n"
     ]
    }
   ],
   "source": [
    "from math import *\n",
    "\n",
    "\n",
    "#we use unit circle where degrees grow CCW \n",
    "#starting from positive x axis\n",
    "#\n",
    "#            Y\n",
    "#            ^\n",
    "#            |\n",
    "#            |\n",
    "#    ----------------> X\n",
    "#            | \n",
    "#            |\n",
    "#            |\n",
    "\n",
    "cos(3)\n",
    "h=0\n",
    "x,y = 0,0\n",
    "for i in [x.strip() for x in open(\"i12.txt\").readlines()]:\n",
    "    c = int(i[1:])\n",
    "    if i[0] == 'N':\n",
    "        y += c\n",
    "    elif i[0] == 'S':\n",
    "        y -= c\n",
    "    elif i[0] == 'E':\n",
    "        x += c\n",
    "    elif i[0] == 'W':\n",
    "        x -= c\n",
    "    elif i[0] == 'L':\n",
    "        h+=c\n",
    "    elif i[0] == 'R':\n",
    "        h-=c\n",
    "    elif i[0] == 'F':\n",
    "        x += cos(radians(h))*c\n",
    "        y += sin(radians(h))*c\n",
    "    else:\n",
    "        print(\"unknown command\")\n",
    "print(\"part1\", round(abs(x)+abs(y)))\n",
    "            \n",
    "                \n",
    "#1137   \n",
    "#1087 too high\n",
    "#1071 too high\n",
    "#58\n",
    "        \n",
    "    \n",
    "    \n",
    "\n",
    "\n"
   ]
  },
  {
   "cell_type": "code",
   "execution_count": 4,
   "id": "63323446",
   "metadata": {},
   "outputs": [
    {
     "name": "stdout",
     "output_type": "stream",
     "text": [
      "part2 12385\n"
     ]
    }
   ],
   "source": [
    "from math import *\n",
    "\n",
    "\n",
    "#we use unit circle where degrees grow CCW \n",
    "#starting from positive x axis\n",
    "#\n",
    "#            Y\n",
    "#            ^\n",
    "#            |\n",
    "#            |\n",
    "#    ----------------> X\n",
    "#            | \n",
    "#            |\n",
    "#            |\n",
    "\n",
    "cos(3)\n",
    "h=0\n",
    "wx,wy = 10,1\n",
    "x,y=0,0\n",
    "for i in [x.strip() for x in open(\"i12.txt\").readlines()]:\n",
    "    c = int(i[1:])\n",
    "    if i[0] == 'N':\n",
    "        wy += c\n",
    "    elif i[0] == 'S':\n",
    "        wy -= c\n",
    "    elif i[0] == 'E':\n",
    "        wx += c\n",
    "    elif i[0] == 'W':\n",
    "        wx -= c\n",
    "    elif i[0] == 'R':\n",
    "        dist = sqrt(wx*wx+wy*wy)\n",
    "        angle = atan2(wy,wx)\n",
    "        angle -= radians(c)\n",
    "        wx = cos(angle)*dist\n",
    "        wy = sin(angle)*dist        \n",
    "    elif i[0] == 'L':\n",
    "        dist = sqrt(wx*wx+wy*wy)\n",
    "        angle = atan2(wy,wx)\n",
    "        angle += radians(c)\n",
    "        wx = cos(angle)*dist\n",
    "        wy = sin(angle)*dist        \n",
    "    elif i[0] == 'F':\n",
    "        x += wx*c\n",
    "        y += wy*c     \n",
    "    else:\n",
    "        print(\"unknown command\")\n",
    "print(\"part2\", round(abs(x)+abs(y)))\n",
    "\n",
    "    \n",
    "\n",
    "\n"
   ]
  }
 ],
 "metadata": {
  "kernelspec": {
   "display_name": "Python 3 (ipykernel)",
   "language": "python",
   "name": "python3"
  },
  "language_info": {
   "codemirror_mode": {
    "name": "ipython",
    "version": 3
   },
   "file_extension": ".py",
   "mimetype": "text/x-python",
   "name": "python",
   "nbconvert_exporter": "python",
   "pygments_lexer": "ipython3",
   "version": "3.8.10"
  }
 },
 "nbformat": 4,
 "nbformat_minor": 5
}
