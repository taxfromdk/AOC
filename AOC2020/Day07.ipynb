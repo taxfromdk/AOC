{
 "cells": [
  {
   "cell_type": "code",
   "execution_count": 73,
   "metadata": {},
   "outputs": [
    {
     "name": "stdout",
     "output_type": "stream",
     "text": [
      "test 1 (4): 4\n",
      "real 1 (259): 259\n",
      "test 2 (126): 32\n",
      "real 2 (  ?): 45018\n"
     ]
    }
   ],
   "source": [
    "#day7\n",
    "\n",
    "def parse(s):\n",
    "    r = {}\n",
    "    for rule in s.split(\"\\n\"):\n",
    "        bag, content = rule.split(\" contain \")\n",
    "        bag = bag[:-1]\n",
    "        \n",
    "        l = []\n",
    "        for b in content.split(\",\"):\n",
    "            bgs = b.strip().replace(\"bags\", \"bag\").replace(\"bag.\", \"bag\")\n",
    "            if bgs != \"no other bag\":\n",
    "                l.append((int(bgs[0]),bgs[2:]))\n",
    "        r[bag] = l\n",
    "    return r\n",
    "\n",
    "\n",
    "def hasgold(bag, rules):\n",
    "    for n, b in rules[bag]:\n",
    "        if b == \"shiny gold bag\":\n",
    "            return True\n",
    "    \n",
    "        if hasgold(b, rules):\n",
    "            return True\n",
    "    return False\n",
    "\n",
    "def part1(rules):\n",
    "    goldcontainers = 0\n",
    "    for bag in rules.keys():\n",
    "        if hasgold(bag, rules):\n",
    "            goldcontainers += 1\n",
    "    return goldcontainers\n",
    "\n",
    "def bagcount(n, rules):\n",
    "    acc = 1 #the bag itself\n",
    "    for c, b in rules[n]:\n",
    "        acc += c * bagcount(b, rules)\n",
    "    return acc\n",
    "\n",
    "def pretty(d):\n",
    "    for k in d.keys():\n",
    "        print(k, \" -> \", d[k])\n",
    "\n",
    "test_rules = parse(\"\"\"light red bags contain 1 bright white bag, 2 muted yellow bags.\n",
    "dark orange bags contain 3 bright white bags, 4 muted yellow bags.\n",
    "bright white bags contain 1 shiny gold bag.\n",
    "muted yellow bags contain 2 shiny gold bags, 9 faded blue bags.\n",
    "shiny gold bags contain 1 dark olive bag, 2 vibrant plum bags.\n",
    "dark olive bags contain 3 faded blue bags, 4 dotted black bags.\n",
    "vibrant plum bags contain 5 faded blue bags, 6 dotted black bags.\n",
    "faded blue bags contain no other bags.\n",
    "dotted black bags contain no other bags.\"\"\")\n",
    "\n",
    "real_rules = parse(open(\"i07.txt\").read())\n",
    "\n",
    "#pretty(test_rules)\n",
    "\n",
    "\n",
    "print(\"test 1 (4):\", part1(test_rules))\n",
    "print(\"real 1 (259):\", part1(real_rules))\n",
    "\n",
    "print(\"test 2 (126):\", bagcount(\"shiny gold bag\", test_rules)-1)\n",
    "print(\"real 2 (  ?):\", bagcount(\"shiny gold bag\", real_rules)-1)\n"
   ]
  },
  {
   "cell_type": "code",
   "execution_count": null,
   "metadata": {},
   "outputs": [],
   "source": []
  }
 ],
 "metadata": {
  "kernelspec": {
   "display_name": "Python 3",
   "language": "python",
   "name": "python3"
  },
  "language_info": {
   "codemirror_mode": {
    "name": "ipython",
    "version": 3
   },
   "file_extension": ".py",
   "mimetype": "text/x-python",
   "name": "python",
   "nbconvert_exporter": "python",
   "pygments_lexer": "ipython3",
   "version": "3.7.3"
  }
 },
 "nbformat": 4,
 "nbformat_minor": 2
}
