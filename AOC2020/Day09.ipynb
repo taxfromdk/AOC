{
 "cells": [
  {
   "cell_type": "code",
   "execution_count": 14,
   "metadata": {
    "scrolled": true
   },
   "outputs": [
    {
     "name": "stdout",
     "output_type": "stream",
     "text": [
      "\n",
      "---< part 1 >---\n",
      "test (127): 127\n",
      "real (10884537): 10884537\n",
      "\n",
      "---< part 2 >---\n",
      "test (62): 62\n",
      "real (): 1261309\n"
     ]
    }
   ],
   "source": [
    "# What assignment\n",
    "#\n",
    "# Link to task\n",
    "\n",
    "def  parse(data):\n",
    "    return [int(x) for x in data.split(\"\\n\")]\n",
    "\n",
    "def pretty(data):\n",
    "    print(data)\n",
    "    \n",
    "test_data = parse(\"\"\"35\n",
    "20\n",
    "15\n",
    "25\n",
    "47\n",
    "40\n",
    "62\n",
    "55\n",
    "65\n",
    "95\n",
    "102\n",
    "117\n",
    "150\n",
    "182\n",
    "127\n",
    "219\n",
    "299\n",
    "277\n",
    "309\n",
    "576\"\"\")\n",
    "#pretty(test_data)\n",
    "\n",
    "real_data = parse(open(\"i09.txt\").read())\n",
    "#pretty(real_data)\n",
    "\n",
    "def find(v, lst):\n",
    "    l = len(lst)\n",
    "    for a in range(l):\n",
    "        for b in range(a+1,l,1):\n",
    "            if lst[a]+lst[b]==v:\n",
    "                return True\n",
    "    return False\n",
    "\n",
    "def part1(data, s):\n",
    "    for i in range(s,len(data),1):\n",
    "        if not find(data[i], data[i-s:i]):\n",
    "            return data[i]\n",
    "    return None\n",
    "\n",
    "def part2(data,v):\n",
    "    l= len(data)\n",
    "    for i in range(l):\n",
    "        for j in range(i+1,l,1):\n",
    "            p=sorted(data[i:j])\n",
    "            if sum(p)==v:\n",
    "                return p[0] + p[-1]\n",
    "    return None\n",
    "   \n",
    "                        \n",
    "        \n",
    "    \n",
    "\n",
    "\n",
    "print(\"\\n---< part 1 >---\")\n",
    "\n",
    "tp1 = part1(test_data, 5)\n",
    "print(\"test (127):\", tp1)\n",
    "\n",
    "rp1 = part1(real_data,25) \n",
    "print(\"real (10884537):\", rp1) \n",
    "\n",
    "\n",
    "print(\"\\n---< part 2 >---\")\n",
    "\n",
    "print(\"test (62):\", part2(test_data, tp1))\n",
    "\n",
    "print(\"real (1261309):\", part2(real_data, rp1))\n",
    "\n",
    "            \n"
   ]
  },
  {
   "cell_type": "code",
   "execution_count": null,
   "metadata": {},
   "outputs": [],
   "source": []
  }
 ],
 "metadata": {
  "kernelspec": {
   "display_name": "Python 3",
   "language": "python",
   "name": "python3"
  },
  "language_info": {
   "codemirror_mode": {
    "name": "ipython",
    "version": 3
   },
   "file_extension": ".py",
   "mimetype": "text/x-python",
   "name": "python",
   "nbconvert_exporter": "python",
   "pygments_lexer": "ipython3",
   "version": "3.7.3"
  }
 },
 "nbformat": 4,
 "nbformat_minor": 2
}
