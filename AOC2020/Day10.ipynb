{
 "cells": [
  {
   "cell_type": "code",
   "execution_count": 11,
   "metadata": {},
   "outputs": [
    {
     "name": "stdout",
     "output_type": "stream",
     "text": [
      "1848\n"
     ]
    }
   ],
   "source": [
    "def parse(s):\n",
    "    return sorted([int(x) for x in s.split(\"\\n\")])\n",
    "    \n",
    "    \n",
    "    \n",
    "real=parse(open(\"i10.txt\").read())\n",
    "#print(real)\n",
    "test= parse(\"\"\"16\n",
    "10\n",
    "15\n",
    "5\n",
    "1\n",
    "11\n",
    "7\n",
    "19\n",
    "6\n",
    "12\n",
    "4\"\"\")\n",
    "\n",
    "def part1(data):\n",
    "    j={ 3: 1}\n",
    "    z=0\n",
    "    for i in range(len(data)):\n",
    "        d = data[i]-z\n",
    "        if d not in j.keys():\n",
    "            j[d]=0\n",
    "        j[d] += 1\n",
    "        z=data[i]\n",
    "    return j[3]*j[1]\n",
    "    \n",
    "        \n",
    "        \n",
    "    \n",
    "print(part1(real))\n",
    "\n",
    "\n",
    "        "
   ]
  },
  {
   "cell_type": "code",
   "execution_count": null,
   "metadata": {},
   "outputs": [],
   "source": []
  }
 ],
 "metadata": {
  "kernelspec": {
   "display_name": "Python 3",
   "language": "python",
   "name": "python3"
  },
  "language_info": {
   "codemirror_mode": {
    "name": "ipython",
    "version": 3
   },
   "file_extension": ".py",
   "mimetype": "text/x-python",
   "name": "python",
   "nbconvert_exporter": "python",
   "pygments_lexer": "ipython3",
   "version": "3.7.3"
  }
 },
 "nbformat": 4,
 "nbformat_minor": 2
}
