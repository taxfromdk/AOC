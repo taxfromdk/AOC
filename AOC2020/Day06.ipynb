{
 "cells": [
  {
   "cell_type": "code",
   "execution_count": 31,
   "metadata": {},
   "outputs": [
    {
     "name": "stdout",
     "output_type": "stream",
     "text": [
      "part 1: (6799) 6799\n",
      "part 2: (3354) 3354\n"
     ]
    }
   ],
   "source": [
    "#Day6\n",
    "\n",
    "def parse(s):\n",
    "    return [[[z for z in y] for y in x.split(\"\\n\")] for x in s.split(\"\\n\\n\")]\n",
    "\n",
    "real_data = parse(open(\"i06.txt\").read())\n",
    "\n",
    "def solve(data, part):\n",
    "    r = 0\n",
    "    for group in real_data:\n",
    "        common = None\n",
    "        for person in group:        \n",
    "            answers = []\n",
    "            for answer in person:\n",
    "                answers.append(answer)\n",
    "            s = set(answers)\n",
    "            if common == None:\n",
    "                common = s\n",
    "            else:\n",
    "                if part == 1:\n",
    "                    common = common.union(s)\n",
    "                else:\n",
    "                    common = common.intersection(s)\n",
    "        r += len(common)\n",
    "    return r\n",
    "\n",
    "print(\"part 1: (6799)\", solve(real_data, 1))\n",
    "print(\"part 2: (3354)\", solve(real_data, 2))\n"
   ]
  }
 ],
 "metadata": {
  "kernelspec": {
   "display_name": "Python 3",
   "language": "python",
   "name": "python3"
  },
  "language_info": {
   "codemirror_mode": {
    "name": "ipython",
    "version": 3
   },
   "file_extension": ".py",
   "mimetype": "text/x-python",
   "name": "python",
   "nbconvert_exporter": "python",
   "pygments_lexer": "ipython3",
   "version": "3.7.3"
  }
 },
 "nbformat": 4,
 "nbformat_minor": 2
}
