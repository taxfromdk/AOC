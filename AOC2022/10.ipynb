{
 "cells": [
  {
   "cell_type": "code",
   "execution_count": 1,
   "id": "e49dabeb",
   "metadata": {},
   "outputs": [
    {
     "name": "stdout",
     "output_type": "stream",
     "text": [
      "part1: 14920 14920\n"
     ]
    }
   ],
   "source": [
    "from PIL import Image\n",
    "from IPython import display\n",
    "import numpy as np\n",
    "import cv2\n",
    "import random\n",
    "\n",
    "def pretty(M):\n",
    "    w,h=dims(M)\n",
    "    #print(w,h)\n",
    "\n",
    "    \n",
    "    \n",
    "    \n",
    "    \n",
    "\n",
    "def ld():\n",
    "    return open(\"10.txt\").read().split('\\n')\n",
    "\n",
    "class M:\n",
    "    def __init__(s,p):\n",
    "        s.p=p\n",
    "        s.X=1\n",
    "        s.cycles=0\n",
    "        s.ix=0\n",
    "        \n",
    "        s.r=0\n",
    "        s.nbr=[20,60,100,140,180,220]\n",
    "        s.w=40\n",
    "        s.h=6\n",
    "        s.fb=i=np.zeros([s.h,s.w,3]).astype(np.uint8)\n",
    "    \n",
    "    def cp(s):\n",
    "        x=s.cycles%s.w\n",
    "        y=s.cycles//s.w\n",
    "        if abs(s.X-x)<2:\n",
    "            s.fb[y,x,:]=[255,255,255]\n",
    "        \n",
    "        s.cycles+=1\n",
    "        if s.cycles in s.nbr:\n",
    "            s.r+=s.cycles*s.X\n",
    "            s.nbr.remove(s.cycles)\n",
    "        \n",
    "        \n",
    "    def tick(s):\n",
    "        \n",
    "        if s.cycles>=s.w*s.h:\n",
    "            return 0\n",
    "        i='noop'\n",
    "        if s.ix < len(s.p):\n",
    "            i=s.p[s.ix]\n",
    "            \n",
    "        if i=='noop':\n",
    "            s.ix+=1\n",
    "            s.cp()\n",
    "        \n",
    "        elif 'addx' in i:\n",
    "            s.cp()\n",
    "            s.cp()\n",
    "            s.X+=int(i.split(' ')[1])\n",
    "            s.ix+=1\n",
    "            \n",
    "            \n",
    "        return 1\n",
    "        \n",
    "        \n",
    "    \n",
    "def p(prt):\n",
    "    \n",
    "    m=M(ld())\n",
    "    \n",
    "    while m.tick():\n",
    "        pass\n",
    "    if prt==2:\n",
    "        F=8\n",
    "        i = cv2.resize(m.fb, fx=F, fy=F, dsize=(0, 0), interpolation=cv2.INTER_NEAREST)\n",
    "        #display.clear_output(wait=True)\n",
    "        display.display(Image.fromarray(i))\n",
    "\n",
    "    return m.r\n",
    "    \n",
    "\n",
    "\n",
    "\n",
    "print(\"part1:\",p(1),14920)\n",
    "\n",
    "\n"
   ]
  },
  {
   "cell_type": "code",
   "execution_count": 2,
   "id": "4d541bf5",
   "metadata": {},
   "outputs": [
    {
     "data": {
      "image/png": "[encoded data removed]",
      "text/plain": [
       "<PIL.Image.Image image mode=RGB size=320x48>"
      ]
     },
     "metadata": {},
     "output_type": "display_data"
    },
    {
     "name": "stdout",
     "output_type": "stream",
     "text": [
      "part2: 14920 BUCACBUZ\n"
     ]
    }
   ],
   "source": [
    "#40*6\n",
    "\n",
    "\n",
    "\n",
    "\n",
    "print(\"part2:\",p(2),\"BUCACBUZ\")\n",
    "\n",
    "\n"
   ]
  },
  {
   "cell_type": "code",
   "execution_count": null,
   "id": "4d650c73",
   "metadata": {},
   "outputs": [],
   "source": []
  }
 ],
 "metadata": {
  "kernelspec": {
   "display_name": "Python 3 (ipykernel)",
   "language": "python",
   "name": "python3"
  },
  "language_info": {
   "codemirror_mode": {
    "name": "ipython",
    "version": 3
   },
   "file_extension": ".py",
   "mimetype": "text/x-python",
   "name": "python",
   "nbconvert_exporter": "python",
   "pygments_lexer": "ipython3",
   "version": "3.8.10"
  }
 },
 "nbformat": 4,
 "nbformat_minor": 5
}
