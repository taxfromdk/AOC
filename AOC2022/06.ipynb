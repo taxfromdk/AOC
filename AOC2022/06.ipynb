{
 "cells": [
  {
   "cell_type": "code",
   "execution_count": 1,
   "id": "9c6f4a3f",
   "metadata": {},
   "outputs": [
    {
     "name": "stdout",
     "output_type": "stream",
     "text": [
      "part1: 1850 1850\n",
      "part2: 2823 2823\n"
     ]
    }
   ],
   "source": [
    "def p(N):\n",
    "    d=open(\"06.txt\").read()\n",
    "    for i in range(N,len(d)):\n",
    "        if len(set(d[i-N:i]))==N:\n",
    "            return i\n",
    "    return None\n",
    "\n",
    "print(\"part1:\",p(4),1850)\n",
    "print(\"part2:\",p(14),2823)\n",
    "\n"
   ]
  }
 ],
 "metadata": {
  "kernelspec": {
   "display_name": "Python 3 (ipykernel)",
   "language": "python",
   "name": "python3"
  },
  "language_info": {
   "codemirror_mode": {
    "name": "ipython",
    "version": 3
   },
   "file_extension": ".py",
   "mimetype": "text/x-python",
   "name": "python",
   "nbconvert_exporter": "python",
   "pygments_lexer": "ipython3",
   "version": "3.8.10"
  }
 },
 "nbformat": 4,
 "nbformat_minor": 5
}
