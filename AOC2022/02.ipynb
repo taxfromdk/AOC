{
 "cells": [
  {
   "cell_type": "code",
   "execution_count": 1,
   "id": "20daf2c6",
   "metadata": {
    "scrolled": false
   },
   "outputs": [
    {
     "name": "stdout",
     "output_type": "stream",
     "text": [
      "part1: 15337 15337\n"
     ]
    }
   ],
   "source": [
    "R={}\n",
    "R['r']={}\n",
    "R['r']['r']=0\n",
    "R['r']['p']=-1\n",
    "R['r']['s']=1\n",
    "R['p']={}\n",
    "R['p']['r']=1\n",
    "R['p']['p']=0\n",
    "R['p']['s']=-1\n",
    "R['s']={}\n",
    "R['s']['r']=-1\n",
    "R['s']['p']=1\n",
    "R['s']['s']=0\n",
    "\n",
    "T={}\n",
    "T['A']='r'\n",
    "T['X']='r'\n",
    "T['B']='p'\n",
    "T['Y']='p'\n",
    "T['C']='s'\n",
    "T['Z']='s'\n",
    "\n",
    "V={}\n",
    "V['r']=1\n",
    "V['p']=2\n",
    "V['s']=3\n",
    "\n",
    "def fight(a,b):\n",
    "    r = R[a][b]\n",
    "    return r,(r+1)*3\n",
    "\n",
    "\n",
    "def p1(d):\n",
    "    d = [x.split(' ') for x in d.split('\\n')]\n",
    "    #print(d[:3])\n",
    "    #print(d[-3:])\n",
    "    s = 0\n",
    "    for a,b in d:\n",
    "        #print(a,b)\n",
    "        A=T[a]\n",
    "        B=T[b]\n",
    "        #print(A,B)\n",
    "        w,v=fight(B,A)\n",
    "        #print(a,b,A,B,w,v)\n",
    "        s+=v+V[B]\n",
    "        \n",
    "    return s\n",
    "\n",
    "\n",
    "print(\"part1:\", p1(open(\"02.txt\").read()),15337)\n",
    "\n",
    "\n",
    "                  \n",
    "                 "
   ]
  },
  {
   "cell_type": "code",
   "execution_count": 2,
   "id": "496289dc",
   "metadata": {},
   "outputs": [
    {
     "name": "stdout",
     "output_type": "stream",
     "text": [
      "part2: 11696 11696\n"
     ]
    }
   ],
   "source": [
    "\n",
    "\n",
    "def p2(d):\n",
    "    d = [x.split(' ') for x in d.split('\\n')]\n",
    "    #print(d[:3])\n",
    "    #print(d[-3:])\n",
    "    s = 0\n",
    "    for a,b in d:\n",
    "        #print(a,b)\n",
    "        A=T[a]\n",
    "        B=T[b]\n",
    "        #print(A,B)\n",
    "        for i in \"rps\":\n",
    "            w,v=fight(i,A)\n",
    "            if w+2==V[B]:\n",
    "                s+=v+V[i]\n",
    "                break\n",
    "        #print(a,b,A,B,w,v)\n",
    "        \n",
    "        \n",
    "    return s\n",
    "\n",
    "print(\"part2:\", p2(open(\"02.txt\").read()),11696)\n",
    "\n",
    "\n"
   ]
  }
 ],
 "metadata": {
  "kernelspec": {
   "display_name": "Python 3 (ipykernel)",
   "language": "python",
   "name": "python3"
  },
  "language_info": {
   "codemirror_mode": {
    "name": "ipython",
    "version": 3
   },
   "file_extension": ".py",
   "mimetype": "text/x-python",
   "name": "python",
   "nbconvert_exporter": "python",
   "pygments_lexer": "ipython3",
   "version": "3.8.10"
  }
 },
 "nbformat": 4,
 "nbformat_minor": 5
}
