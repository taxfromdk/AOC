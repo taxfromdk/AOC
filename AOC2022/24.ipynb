{
 "cells": [
  {
   "cell_type": "code",
   "execution_count": 1,
   "id": "7c10213e",
   "metadata": {},
   "outputs": [
    {
     "ename": "IndentationError",
     "evalue": "unexpected indent (296876024.py, line 44)",
     "output_type": "error",
     "traceback": [
      "\u001b[0;36m  Input \u001b[0;32mIn [1]\u001b[0;36m\u001b[0m\n\u001b[0;31m    for x,y in M.keys():\u001b[0m\n\u001b[0m    ^\u001b[0m\n\u001b[0;31mIndentationError\u001b[0m\u001b[0;31m:\u001b[0m unexpected indent\n"
     ]
    }
   ],
   "source": [
    "import cv2\n",
    "import re\n",
    "import numpy as np\n",
    "from PIL import Image\n",
    "from IPython import display\n",
    "\n",
    "\n",
    "\n",
    "def ld():\n",
    "    M={}\n",
    "    b=[]\n",
    "    d=open(\"24.txt\").read().split('\\n')\n",
    "    for y,l in enumerate(d):\n",
    "        for x,v in enumerate(l):\n",
    "            p=(x,y)\n",
    "            if v in \".v<>^\":\n",
    "                M[p]=1\n",
    "            if v in \"v<>^\":\n",
    "                b.append((x,y,v))\n",
    "    s=e=None\n",
    "    for x,y in M.keys:\n",
    "        if s==None or s[1]>y:\n",
    "            s=(x,y)\n",
    "        if e==None or e[1]<y:\n",
    "            e=(x,y)\n",
    "    return M,b,s,e\n",
    "\n",
    "def dims(M):\n",
    "    X=[]\n",
    "    Y=[]\n",
    "    \n",
    "    for x,y in M.keys():\n",
    "        X.append(x)\n",
    "        Y.append(y)\n",
    "    return max(X)+1,max(Y)+1\n",
    "    \n",
    "\n",
    "\n",
    "def pretty(M,b,s,e,p):\n",
    "    C=[[255,0,0],[0,255,0],[0,0,255],[255,0,255],[255,255,0],[0,255,255]]\n",
    "    \n",
    "    w,h=dims(M)\n",
    "    pix = np.zeros([h,w,3]).astype(np.ubyte)\n",
    "        for x,y in M.keys():\n",
    "            pix[y,x,:]=C[0]\n",
    "    \n",
    "        \n",
    "    \n",
    "    \n",
    "    F=8\n",
    "    pix = cv2.resize(pix, fx=F, fy=F, dsize=(0, 0), interpolation=cv2.INTER_NEAREST)\n",
    "    \n",
    "    display.clear_output(wait=True)\n",
    "    \n",
    "    display.display(Image.fromarray(pix, 'RGB'))\n",
    "\n",
    "\n",
    "\n",
    "\n",
    "def p1():\n",
    "    \n",
    "    M,b,s,e,p=ld()\n",
    "    p=s\n",
    "    pretty(M,b,s,e,p)\n",
    "\n",
    "\n",
    "print(\"part1:\",p1(),0)\n",
    "            \n",
    "    "
   ]
  }
 ],
 "metadata": {
  "kernelspec": {
   "display_name": "Python 3 (ipykernel)",
   "language": "python",
   "name": "python3"
  },
  "language_info": {
   "codemirror_mode": {
    "name": "ipython",
    "version": 3
   },
   "file_extension": ".py",
   "mimetype": "text/x-python",
   "name": "python",
   "nbconvert_exporter": "python",
   "pygments_lexer": "ipython3",
   "version": "3.8.10"
  }
 },
 "nbformat": 4,
 "nbformat_minor": 5
}
