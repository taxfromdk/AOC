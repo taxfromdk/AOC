{
 "cells": [
  {
   "cell_type": "code",
   "execution_count": 1,
   "id": "419b353b",
   "metadata": {},
   "outputs": [],
   "source": [
    "import cv2\n",
    "import re\n",
    "import numpy as np\n",
    "from PIL import Image\n",
    "from IPython import display\n",
    "import time\n",
    "\n",
    "dirs=\">v<^\"\n",
    "deltas={}\n",
    "deltas['>']=[ 1, 0]\n",
    "deltas['v']=[ 0, 1]\n",
    "deltas['<']=[-1, 0]\n",
    "deltas['^']=[ 0,-1]\n",
    "\n",
    "td=\"\"\"#.#####\n",
    "#.....#\n",
    "#>....#\n",
    "#.....#\n",
    "#...v.#\n",
    "#.....#\n",
    "#####.#\"\"\"\n",
    "\n",
    "td2=\"\"\"#.######\n",
    "#>>.<^<#\n",
    "#.<..<<#\n",
    "#>v.><>#\n",
    "#<^v^^>#\n",
    "######.#\"\"\"\n",
    "\n",
    "\n",
    "def parse(d):\n",
    "    M={}\n",
    "    b=[]\n",
    "    d=d.split('\\n')\n",
    "    for y,l in enumerate(d):\n",
    "        for x,v in enumerate(l):\n",
    "            p=(x,y)\n",
    "            if v in \".v<>^\":\n",
    "                M[p]=1\n",
    "            else:\n",
    "                M[p]=2\n",
    "            if v in \"v<>^\":\n",
    "                b.append((x,y,dirs.index(v)))\n",
    "    \n",
    "    \n",
    "    #find start and end points        \n",
    "    s=e=None\n",
    "    for x,y in M.keys():\n",
    "        if not M[(x,y)]==1:\n",
    "            continue\n",
    "        if s==None or y<s[1]:\n",
    "            s=(x,y)\n",
    "        if e==None or e[1]<y:\n",
    "            e=(x,y)\n",
    "    #map,blizzards,start,end\n",
    "    return M,b,s,e\n",
    "\n",
    "def dims(M):\n",
    "    X=[]\n",
    "    Y=[]\n",
    "    for x,y in M.keys():\n",
    "        X.append(x)\n",
    "        Y.append(y)\n",
    "    return max(X)+1,max(Y)+1\n",
    "\n",
    "def pretty(M,b,p,t):\n",
    "    C=[[255,255,255],[0,0,0],[200,200,200],[0,0,255],[255,0,0],[255,0,255]]\n",
    "    \n",
    "    w,h=dims(M)\n",
    "    pix = np.zeros([h,w,3]).astype(np.ubyte)\n",
    "    for x,y in M.keys():\n",
    "        pix[y,x,:]=C[M[(x,y)]]\n",
    "    \n",
    "    for x,y,_ in b:\n",
    "        pix[y,x,:]=C[3]\n",
    "    \n",
    "    for x,y in t:\n",
    "        pix[y,x,:]=C[4]\n",
    "    \n",
    "    for x,y in p:\n",
    "        pix[y,x,:]=C[5]\n",
    "        \n",
    "    \n",
    "    \n",
    "    F=8\n",
    "    pix = cv2.resize(pix, fx=F, fy=F, dsize=(0, 0), interpolation=cv2.INTER_NEAREST)\n",
    "    \n",
    "    display.clear_output(wait=True)\n",
    "    \n",
    "    display.display(Image.fromarray(pix, 'RGB'))\n",
    "\n",
    "def blizz(M,b):\n",
    "    b2=[]\n",
    "    for x,y,d in list(b):\n",
    "        dx,dy=deltas[dirs[d]]\n",
    "        xx=x+dx\n",
    "        yy=y+dy\n",
    "        if not (xx,yy) in M or M[(xx,yy)]==2:\n",
    "            o=(d+2)%4\n",
    "            ox,oy=deltas[dirs[o]]\n",
    "            while 1:\n",
    "                xx=x+ox\n",
    "                yy=y+oy\n",
    "                if not (xx,yy) in M or M[(xx,yy)]==2:\n",
    "                    break\n",
    "                x=xx\n",
    "                y=yy\n",
    "        else:\n",
    "            x=xx\n",
    "            y=yy\n",
    "        b2.append((x,y,d))\n",
    "    b2=sorted(b2,key=lambda x: x[2]*10000+x[1]*100+x[0])\n",
    "    return b2\n",
    "\n",
    "#heurestic\n",
    "def H(p,t):\n",
    "    #print(p,t)\n",
    "    t=[p]+t\n",
    "    r=0\n",
    "    for i in range(len(t)-1):\n",
    "        x0,y0=t[i]\n",
    "        x1,y1=t[i+1]\n",
    "        dx=x1-x0\n",
    "        dy=y1-y0\n",
    "        r+=(dx*dx+dy*dy)**0.5\n",
    "    return r\n",
    "\n",
    "def ser(s):\n",
    "    p,b,t,c,h=s\n",
    "    return str(p[-1])+str(c)+str(t)\n",
    "\n",
    "\n",
    "def pt(d,prt,draw=0):\n",
    "    \n",
    "    M,b,s,e=parse(d)\n",
    "    \n",
    "    #path where end is latest\n",
    "    p=[s]\n",
    "    #waypoints\n",
    "    t=[e]\n",
    "    if prt==2:\n",
    "        t=[e,s,e]\n",
    "    #path,blizz,wayppints,cost,h\n",
    "    sit=(p,b,t,0,H(p[-1],t))\n",
    "    e=[sit]\n",
    "    #pretty(M,b,p,t)\n",
    "    #time.sleep(10)\n",
    "    past={}\n",
    "    \n",
    "    lt=time.time()\n",
    "    besth=None\n",
    "    while len(e):\n",
    "        \n",
    "        n=e[0]\n",
    "        e=e[1:]\n",
    "        #print(n)\n",
    "        \n",
    "        s=ser(n)\n",
    "        if s in past:\n",
    "            \n",
    "            #print(\"done that\")\n",
    "            continue\n",
    "        \n",
    "        p,b,t,c,h=n\n",
    "        #print(p[-1])\n",
    "        \n",
    "        if draw:\n",
    "            pretty(M,b,p,t)\n",
    "        nt=time.time()\n",
    "        #if nt > lt+1:\n",
    "        if besth==None or h<=besth:\n",
    "            besth=h\n",
    "            pretty(M,b,p,t)\n",
    "            print(\"%6d %5d %3d %3d\"%(len(past.keys()),len(e),c,h),end='\\r')\n",
    "            lt=nt\n",
    "            \n",
    "        \n",
    "        if p[-1]==t[0]:\n",
    "            t=t[1:]\n",
    "            if len(t)==0:\n",
    "                \n",
    "                return c\n",
    "        \n",
    "        past[s]=1\n",
    "        \n",
    "        b2=blizz(M,b)\n",
    "        x,y=p[-1]\n",
    "        for dx,dy in list(deltas.values())+[(0,0)]:\n",
    "            xx=x+dx\n",
    "            yy=y+dy\n",
    "            pp=xx,yy\n",
    "            #must be walkable\n",
    "            if pp in M and M[pp]==1:\n",
    "                #check not in blizzard\n",
    "                fr=1\n",
    "                for bx,by,_ in b2:\n",
    "                    if bx==xx and by==yy:\n",
    "                        #print(\"hit\")\n",
    "                        fr=0\n",
    "                        break\n",
    "                if not fr:\n",
    "                    continue\n",
    "                p2=p+[pp]\n",
    "                t2=t\n",
    "                c2=c+1\n",
    "                h2=H(p2[-1],t)\n",
    "                e.append((p2,b2,t2,c2,h2))\n",
    "        e = sorted(e,key=lambda x: x[3]+x[4],reverse=False)\n",
    "    return None\n",
    "   \n",
    "\n"
   ]
  },
  {
   "cell_type": "code",
   "execution_count": 2,
   "id": "5e639e79",
   "metadata": {},
   "outputs": [
    {
     "data": {
      "image/png": "[encoded data removed]",
      "text/plain": [
       "<PIL.Image.Image image mode=RGB size=56x56>"
      ]
     },
     "metadata": {},
     "output_type": "display_data"
    },
    {
     "name": "stdout",
     "output_type": "stream",
     "text": [
      "    45    85  10   0\r\n",
      "test1: 10 0\n"
     ]
    }
   ],
   "source": [
    "print(\"\\ntest1:\",pt(td,1,1),0)\n",
    "\n",
    "\n",
    "            "
   ]
  },
  {
   "cell_type": "code",
   "execution_count": 3,
   "id": "7b03a23f",
   "metadata": {},
   "outputs": [
    {
     "data": {
      "image/png": "[encoded data removed]",
      "text/plain": [
       "<PIL.Image.Image image mode=RGB size=64x48>"
      ]
     },
     "metadata": {},
     "output_type": "display_data"
    },
    {
     "name": "stdout",
     "output_type": "stream",
     "text": [
      "    39     8  18   0\r\n",
      "test2: 18 18\n"
     ]
    }
   ],
   "source": [
    "print(\"\\ntest2:\",pt(td2,1,1),18)\n",
    "\n"
   ]
  },
  {
   "cell_type": "code",
   "execution_count": 4,
   "id": "d1d5c97e",
   "metadata": {},
   "outputs": [],
   "source": [
    "#print(\"\\npart1:\",pt(open(\"24.txt\").read(),1),290)\n",
    "\n"
   ]
  },
  {
   "cell_type": "code",
   "execution_count": 5,
   "id": "ae7eeaff",
   "metadata": {},
   "outputs": [
    {
     "data": {
      "image/png": "[encoded data removed]",
      "text/plain": [
       "<PIL.Image.Image image mode=RGB size=64x48>"
      ]
     },
     "metadata": {},
     "output_type": "display_data"
    },
    {
     "name": "stdout",
     "output_type": "stream",
     "text": [
      "   357    37  54   0\r\n",
      "test2: 54 54\n"
     ]
    }
   ],
   "source": [
    "print(\"\\ntest2:\",pt(td2,2,1),54)"
   ]
  },
  {
   "cell_type": "code",
   "execution_count": null,
   "id": "d6e21f65",
   "metadata": {},
   "outputs": [
    {
     "data": {
      "image/png": "[encoded data removed]",
      "text/plain": [
       "<PIL.Image.Image image mode=RGB size=976x216>"
      ]
     },
     "metadata": {},
     "output_type": "display_data"
    },
    {
     "name": "stdout",
     "output_type": "stream",
     "text": [
      "485196  5527 743  41\r"
     ]
    }
   ],
   "source": [
    "print(\"\\npart2:\",pt(open(\"24.txt\").read(),2),842)\n",
    "\n"
   ]
  }
 ],
 "metadata": {
  "kernelspec": {
   "display_name": "Python 3 (ipykernel)",
   "language": "python",
   "name": "python3"
  },
  "language_info": {
   "codemirror_mode": {
    "name": "ipython",
    "version": 3
   },
   "file_extension": ".py",
   "mimetype": "text/x-python",
   "name": "python",
   "nbconvert_exporter": "python",
   "pygments_lexer": "ipython3",
   "version": "3.8.10"
  }
 },
 "nbformat": 4,
 "nbformat_minor": 5
}
