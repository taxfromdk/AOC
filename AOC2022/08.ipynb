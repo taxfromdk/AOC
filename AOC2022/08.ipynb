{
 "cells": [
  {
   "cell_type": "code",
   "execution_count": 1,
   "id": "49daa734",
   "metadata": {},
   "outputs": [
    {
     "name": "stdout",
     "output_type": "stream",
     "text": [
      "part1: 1832 1832\n"
     ]
    }
   ],
   "source": [
    "def p1():\n",
    "    d=open(\"08.txt\").read()\n",
    "    d=d.split(\"\\n\")\n",
    "    d=[[int(y) for y in x] for x in d]\n",
    "    w=len(d[0])\n",
    "    h=len(d)\n",
    "    assert(w==h)\n",
    "    v=[]\n",
    "    for i in range(w):\n",
    "        #right\n",
    "        l=-1\n",
    "        for j in range(w):\n",
    "            if d[i][j]>l:\n",
    "                v.append((j,i))\n",
    "                l=d[i][j]\n",
    "        #left\n",
    "        l=-1\n",
    "        for j in range(w):\n",
    "            if d[i][w-1-j]>l:\n",
    "                v.append((w-1-j,i))\n",
    "                l=d[i][w-1-j]\n",
    "        #down\n",
    "        l=-1\n",
    "        for j in range(w):\n",
    "            if d[j][i]>l:\n",
    "                v.append((i,j))\n",
    "                l=d[j][i]\n",
    "        #up\n",
    "        l=-1\n",
    "        for j in range(w):\n",
    "            if d[w-1-j][i]>l:\n",
    "                v.append((i,w-1-j))\n",
    "                l=d[w-1-j][i]\n",
    "    return len(set(v))\n",
    "\n",
    "print(\"part1:\",p1(),1832)\n"
   ]
  },
  {
   "cell_type": "code",
   "execution_count": 2,
   "id": "71513961",
   "metadata": {},
   "outputs": [
    {
     "name": "stdout",
     "output_type": "stream",
     "text": [
      "part2: 157320 157320\n"
     ]
    }
   ],
   "source": [
    "def p2():\n",
    "    d=open(\"08.txt\").read()\n",
    "    d=d.split(\"\\n\")\n",
    "    d=[[int(y) for y in x] for x in d]\n",
    "    w=len(d[0])\n",
    "    h=len(d)\n",
    "    assert(w==h)\n",
    "    best = -1\n",
    "    for y in range(h):\n",
    "        for x in range(w):\n",
    "            scenic_score = 1\n",
    "            for dx,dy in [(1,0),(0,1),(-1,0),(0,-1)]:\n",
    "                dst = 0\n",
    "                while 1:\n",
    "                    probe = dst+1\n",
    "                    xx=x+dx*probe\n",
    "                    yy=y+dy*probe\n",
    "                    #overstep\n",
    "                    if xx < 0 or yy < 0 or xx >= w or yy >= h:\n",
    "                        scenic_score *= dst\n",
    "                        #print(\"adding\", dst)\n",
    "                        break\n",
    "                    #met tree of equal or higher height\n",
    "                    if d[yy][xx] >= d[y][x]:\n",
    "                        scenic_score*=dst+1\n",
    "                        #print(\"adding\", dst+1)\n",
    "                        break\n",
    "                    dst += 1\n",
    "            if scenic_score > best:\n",
    "                best = scenic_score\n",
    "                    \n",
    "    return best\n",
    "\n",
    "print(\"part2:\",p2(), 157320)"
   ]
  }
 ],
 "metadata": {
  "kernelspec": {
   "display_name": "Python 3 (ipykernel)",
   "language": "python",
   "name": "python3"
  },
  "language_info": {
   "codemirror_mode": {
    "name": "ipython",
    "version": 3
   },
   "file_extension": ".py",
   "mimetype": "text/x-python",
   "name": "python",
   "nbconvert_exporter": "python",
   "pygments_lexer": "ipython3",
   "version": "3.8.10"
  }
 },
 "nbformat": 4,
 "nbformat_minor": 5
}
