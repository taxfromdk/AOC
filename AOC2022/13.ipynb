{
 "cells": [
  {
   "cell_type": "code",
   "execution_count": 1,
   "id": "209f5a5f",
   "metadata": {
    "scrolled": false
   },
   "outputs": [
    {
     "name": "stdout",
     "output_type": "stream",
     "text": [
      "part1: 5938 5938\n"
     ]
    }
   ],
   "source": [
    "import json\n",
    "import functools\n",
    "\n",
    "def ordered(l,r):\n",
    "    #print(\"ordered\")\n",
    "    #print(l)\n",
    "    #print(r)\n",
    "    ll=len(l)\n",
    "    lr=len(r)\n",
    "    #print(ll,lr)\n",
    "    i=0\n",
    "    while 1:\n",
    "        #both runs out = keep checking\n",
    "        if i==ll and i==lr:\n",
    "            return None\n",
    "        #left runs out = right\n",
    "        if i==ll:\n",
    "            return 1\n",
    "        #right runs out = wrong\n",
    "        if i==lr:\n",
    "            return 0\n",
    "        #print(i,ll,len(l))\n",
    "        if type(l[i])==int and type(r[i])==int:\n",
    "            \n",
    "            if l[i] > r[i]:\n",
    "                return 0\n",
    "            if l[i] < r[i]:\n",
    "                return 1\n",
    "        else:\n",
    "            lll=l[i]\n",
    "            if not type(lll)==list:\n",
    "                lll=[lll]\n",
    "            \n",
    "            rrr=r[i]\n",
    "            if not type(rrr)==list:\n",
    "                rrr=[rrr]\n",
    "            \n",
    "            rv=ordered(lll,rrr)\n",
    "            if not rv is None:\n",
    "                return rv\n",
    "        i+=1\n",
    "    return 1\n",
    "    \n",
    "\n",
    "def p1():\n",
    "    pairs=open('13.txt').read()\n",
    "    pairs=pairs.split('\\n\\n')\n",
    "    pairs=[s.split('\\n') for s in pairs]\n",
    "    \n",
    "    good=[]\n",
    "    bad=[]\n",
    "    \n",
    "    for i in range(len(pairs)):\n",
    "        a,b=pairs[i]\n",
    "        a=json.loads(a)\n",
    "        b=json.loads(b)\n",
    "        #print(\"-----\")\n",
    "        if ordered(a,b):\n",
    "            good.append(i+1)\n",
    "        else:\n",
    "            bad.append(i+1)\n",
    "            \n",
    "    return sum(good)\n",
    "\n",
    "print(\"part1:\",p1(),5938)\n",
    "\n",
    "    \n",
    "           "
   ]
  },
  {
   "cell_type": "code",
   "execution_count": 2,
   "id": "10a64080",
   "metadata": {
    "scrolled": false
   },
   "outputs": [
    {
     "name": "stdout",
     "output_type": "stream",
     "text": [
      "part2: 29025 29025\n"
     ]
    }
   ],
   "source": [
    "def cmp(a,b):\n",
    "    a=json.loads(a)\n",
    "    b=json.loads(b)\n",
    "    if ordered(a,b):\n",
    "        return 0\n",
    "    return -1\n",
    "\n",
    "\n",
    "def p2():\n",
    "    lines=open('13.txt').read().split('\\n')\n",
    "    \n",
    "    lines=[l for l in lines if len(l)]\n",
    "    div=[]\n",
    "    div.append(\"[[2]]\")\n",
    "    div.append(\"[[6]]\")\n",
    "    lines+=div\n",
    "    \n",
    "    lines=sorted(lines,key=functools.cmp_to_key(cmp),reverse=True)\n",
    "    #for l in lines:\n",
    "    #    print(l[:12])\n",
    "    \n",
    "    r=1\n",
    "    for d in div:\n",
    "        r*=lines.index(d)+1\n",
    "    return r\n",
    "        \n",
    "\n",
    "print(\"part2:\",p2(),29025)\n",
    "#14784 too low\n",
    "\n"
   ]
  }
 ],
 "metadata": {
  "kernelspec": {
   "display_name": "Python 3 (ipykernel)",
   "language": "python",
   "name": "python3"
  },
  "language_info": {
   "codemirror_mode": {
    "name": "ipython",
    "version": 3
   },
   "file_extension": ".py",
   "mimetype": "text/x-python",
   "name": "python",
   "nbconvert_exporter": "python",
   "pygments_lexer": "ipython3",
   "version": "3.8.10"
  }
 },
 "nbformat": 4,
 "nbformat_minor": 5
}
