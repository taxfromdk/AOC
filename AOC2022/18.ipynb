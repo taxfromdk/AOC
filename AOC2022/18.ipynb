{
 "cells": [
  {
   "cell_type": "code",
   "execution_count": 1,
   "id": "4aada8da",
   "metadata": {},
   "outputs": [
    {
     "name": "stdout",
     "output_type": "stream",
     "text": [
      "part1: 4288 4288\n"
     ]
    }
   ],
   "source": [
    "import re\n",
    "import collections\n",
    "def ld():\n",
    "    d=open(\"18.txt\").read().split('\\n')\n",
    "    M={}\n",
    "    for l in d:\n",
    "        a,b,c=[int(x) for x in re.findall(\"[-0-9]+\",l)]\n",
    "        p=(a,b,c)\n",
    "        M[p]=1\n",
    "    return M\n",
    "\n",
    "\n",
    "\n",
    "def p1():\n",
    "    M=ld()\n",
    "    S=collections.defaultdict(int)\n",
    "    for x,y,z in M.keys():\n",
    "        d=0.5\n",
    "        S[(x+d,y+0,z+0)]+=1\n",
    "        S[(x-d,y+0,z+0)]+=1\n",
    "        S[(x+0,y+d,z+0)]+=1\n",
    "        S[(x+0,y-d,z+0)]+=1\n",
    "        S[(x+0,y+0,z+d)]+=1\n",
    "        S[(x+0,y+0,z-d)]+=1\n",
    "    r=0\n",
    "    for k in S.keys():\n",
    "        if S[k]==1:\n",
    "            r+=1\n",
    "    return r\n",
    "\n",
    "\n",
    "\n",
    "print(\"part1:\",p1(),4288)\n",
    "\n"
   ]
  },
  {
   "cell_type": "code",
   "execution_count": 2,
   "id": "d56d9173",
   "metadata": {},
   "outputs": [
    {
     "name": "stdout",
     "output_type": "stream",
     "text": [
      "a\n",
      "b\n",
      "part2: 2494 2494\n"
     ]
    }
   ],
   "source": [
    "\n",
    "\n",
    "def p2():\n",
    "    M=ld()\n",
    "    X=[]\n",
    "    Y=[]\n",
    "    Z=[]\n",
    "    for x,y,z in M.keys():\n",
    "        X.append(x)\n",
    "        Y.append(y)\n",
    "        Z.append(z)\n",
    "    margin=1\n",
    "    print(\"a\")\n",
    "    e=[(min(X)-1,min(Y)-1,min(Z)-1)]\n",
    "    while len(e):\n",
    "        p=e[0]\n",
    "        e=e[1:]\n",
    "        x,y,z=p\n",
    "        #print(p)\n",
    "        if not p in M:\n",
    "            M[p]=2\n",
    "            for dx,dy,dz in [[-1,0,0],[1,0,0],[0,1,0],[0,-1,0],[0,0,1],[0,0,-1]]:\n",
    "                xx=x+dx\n",
    "                yy=y+dy\n",
    "                zz=z+dz\n",
    "                if xx >= min(X)-1 and xx<=max(X)+1:\n",
    "                    if yy >= min(Y)-1 and yy<=max(Y)+1:\n",
    "                        if zz >= min(Z)-1 and zz<=max(Z)+1:\n",
    "                    \n",
    "                    \n",
    "                            p2=(xx,yy,zz)\n",
    "                            \n",
    "                            e.append(p2)\n",
    "    print(\"b\")                             \n",
    "    S=collections.defaultdict(int)    \n",
    "    for p in M.keys():\n",
    "        x,y,z=p\n",
    "        if M[p]==1:\n",
    "            \n",
    "            for dx,dy,dz in [[-1,0,0],[1,0,0],[0,1,0],[0,-1,0],[0,0,1],[0,0,-1]]:\n",
    "                xx=x+dx\n",
    "                yy=y+dy\n",
    "                zz=z+dz\n",
    "                p2=(xx,yy,zz)\n",
    "                if p2 in M and M[p2]==2:\n",
    "        \n",
    "               \n",
    "                    S[(x+dx/2,y+dy/2,z+dz/2)]+=1\n",
    "    r=0\n",
    "    for k in S.keys():\n",
    "        if S[k]==1:\n",
    "            r+=1\n",
    "    return r\n",
    "    \n",
    "    \n",
    "\n",
    "    \n",
    "    \n",
    "    \n",
    "\n",
    "print(\"part2:\",p2(),2494)"
   ]
  }
 ],
 "metadata": {
  "kernelspec": {
   "display_name": "Python 3 (ipykernel)",
   "language": "python",
   "name": "python3"
  },
  "language_info": {
   "codemirror_mode": {
    "name": "ipython",
    "version": 3
   },
   "file_extension": ".py",
   "mimetype": "text/x-python",
   "name": "python",
   "nbconvert_exporter": "python",
   "pygments_lexer": "ipython3",
   "version": "3.8.10"
  }
 },
 "nbformat": 4,
 "nbformat_minor": 5
}
