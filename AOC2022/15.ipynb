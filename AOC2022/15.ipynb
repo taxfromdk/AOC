{
 "cells": [
  {
   "cell_type": "code",
   "execution_count": 1,
   "id": "948a0a2b",
   "metadata": {
    "scrolled": false
   },
   "outputs": [
    {
     "name": "stdout",
     "output_type": "stream",
     "text": [
      "part1: 4886370 4886370\n"
     ]
    }
   ],
   "source": [
    "import re\n",
    "import glm\n",
    "def ld():\n",
    "    d=open(\"15.txt\").read().split('\\n')\n",
    "    #print(d[0])\n",
    "    d=[[int(y) for y in re.findall(\"-?[0-9]+\",x)] for x in d]\n",
    "    #print(d)\n",
    "    #d=[{'x':x[0],'y':x[1],'dx':x[2],'dy':x[3]} for x in d]\n",
    "    #print(len(d))\n",
    "    return d\n",
    "\n",
    "#3   #\n",
    "#4  ##s\n",
    "#5 ##0##\n",
    "#6  ###\n",
    "#7---*---\n",
    "\n",
    "def p1():\n",
    "    d=ld()\n",
    "    l=2_000_000\n",
    "    i=set()\n",
    "    ob=[]\n",
    "    for sx,sy,bx,by in d:\n",
    "        dx=bx-sx\n",
    "        dy=by-sy\n",
    "        ran=abs(dx)+abs(dy)\n",
    "        dis=abs(sy-l)\n",
    "        if ran >= dis:\n",
    "            sp=ran-dis\n",
    "            i.add(sx)\n",
    "            for j in range(sp):\n",
    "                jj=j+1\n",
    "                i.add(sx+jj)\n",
    "                i.add(sx-jj)\n",
    "                \n",
    "        if by==l:\n",
    "            ob.append(bx)\n",
    "    \n",
    "    return len(i)-len(set(ob))\n",
    "    \n",
    "    \n",
    "print(\"part1:\",p1(),4886370)\n",
    "\n",
    "   "
   ]
  },
  {
   "cell_type": "code",
   "execution_count": 2,
   "id": "8776575a",
   "metadata": {},
   "outputs": [
    {
     "name": "stdout",
     "output_type": "stream",
     "text": [
      "sat\n",
      "part2: 11374534948438 11374534948438\n"
     ]
    }
   ],
   "source": [
    "from z3 import *\n",
    "\n",
    "\n",
    "\n",
    "def p2():\n",
    "    d=ld()\n",
    "    \n",
    "    (x, y) = (Int('x'), Int('y'))\n",
    "    \n",
    "    s = Solver()\n",
    "    s.add(x >= 0)\n",
    "    s.add(x < 4_000_000)\n",
    "    s.add(y >= 0)\n",
    "    s.add(y < 4_000_000)\n",
    "    \n",
    "    for sx,sy,bx,by in d:\n",
    "        dx=bx-sx\n",
    "        dy=by-sy\n",
    "        r=abs(dx)+abs(dy)\n",
    "        s.add(Abs(x-sx)+Abs(y-sy)>r)\n",
    "        \n",
    "    print(s.check())\n",
    "    m=s.model()\n",
    "    return m[y].as_long()+m[x].as_long()*4_000_000\n",
    "    \n",
    "    \n",
    "\n",
    "print(\"part2:\",p2(), 11374534948438 )\n",
    "\n",
    "\n",
    "\n",
    "\n",
    "\n",
    "\n",
    "\n"
   ]
  },
  {
   "cell_type": "code",
   "execution_count": null,
   "id": "94603f9b",
   "metadata": {},
   "outputs": [],
   "source": []
  }
 ],
 "metadata": {
  "kernelspec": {
   "display_name": "Python 3 (ipykernel)",
   "language": "python",
   "name": "python3"
  },
  "language_info": {
   "codemirror_mode": {
    "name": "ipython",
    "version": 3
   },
   "file_extension": ".py",
   "mimetype": "text/x-python",
   "name": "python",
   "nbconvert_exporter": "python",
   "pygments_lexer": "ipython3",
   "version": "3.8.10"
  }
 },
 "nbformat": 4,
 "nbformat_minor": 5
}
