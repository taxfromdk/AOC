{
 "cells": [
  {
   "cell_type": "code",
   "execution_count": 21,
   "id": "9ef7a1de",
   "metadata": {},
   "outputs": [
    {
     "name": "stdout",
     "output_type": "stream",
     "text": [
      "part1: TPGVQPFDH TPGVQPFDH\n",
      "part2: DMRDFRHHH DMRDFRHHH\n"
     ]
    }
   ],
   "source": [
    "def pretty(A):\n",
    "    h=max([len(x) for x in A])\n",
    "    lines = []\n",
    "    \n",
    "    l = \" \"\n",
    "    for i in range(len(A)):\n",
    "        l+=\"%d   \"%(i+1)\n",
    "    lines.append(l)\n",
    "    \n",
    "    for i in range(h):\n",
    "        l = \"\"\n",
    "        for d in range(len(A)):\n",
    "            if i < len(A[d]):\n",
    "                l += \"[%c] \"%(A[d][i])\n",
    "            else:\n",
    "                l += \"    \"\n",
    "        lines.append(l)\n",
    "    lines.reverse()\n",
    "    for l in lines:\n",
    "        print(l)\n",
    "\n",
    "def part(pp):\n",
    "    b=open(\"05.txt\").read()\n",
    "    a,b=b.split(\"\\n\\n\")\n",
    "    \n",
    "    #print(a)\n",
    "    #print(b)\n",
    "    \n",
    "    A=[]\n",
    "    for i in range(9):\n",
    "        A.append([])\n",
    "    for l in a.split('\\n')[:-1]:\n",
    "        for i in range(9):\n",
    "            ix=1+4*i\n",
    "            if ix < len(l):\n",
    "                c=l[ix]\n",
    "                if c.isalpha():\n",
    "                    A[i].append(c)\n",
    "    for i in range(len(A)):\n",
    "        A[i].reverse()\n",
    "    \n",
    "    #print(A)\n",
    "    #pretty(A)\n",
    "    for i,l in enumerate(b.split('\\n')):\n",
    "        #print(\"=======   %3d %s   ========\"%(i, l))\n",
    "        p = l.split(\" \")\n",
    "        n = int(p[1])\n",
    "        f = int(p[3])-1\n",
    "        t = int(p[5])-1\n",
    "        if pp == 1:\n",
    "            for j in range(n):\n",
    "                tmp = A[f][-1:]\n",
    "                A[f] = A[f][:-1]\n",
    "                A[t] += tmp\n",
    "        else:\n",
    "            tmp = A[f][-n:]\n",
    "            A[f] = A[f][:-n]\n",
    "            A[t] += tmp\n",
    "        \n",
    "    #pretty(A)\n",
    "    \n",
    "    r = \"\"\n",
    "    for i in range(len(A)):\n",
    "        r+=A[i][-1]\n",
    "    return r\n",
    "    \n",
    "    \n",
    "print(\"part1:\",part(1),\"TPGVQPFDH\")\n",
    "print(\"part2:\",part(2),\"DMRDFRHHH\")\n",
    "    \n",
    "    \n",
    "    "
   ]
  },
  {
   "cell_type": "code",
   "execution_count": null,
   "id": "6b4507bb",
   "metadata": {},
   "outputs": [],
   "source": []
  }
 ],
 "metadata": {
  "kernelspec": {
   "display_name": "Python 3 (ipykernel)",
   "language": "python",
   "name": "python3"
  },
  "language_info": {
   "codemirror_mode": {
    "name": "ipython",
    "version": 3
   },
   "file_extension": ".py",
   "mimetype": "text/x-python",
   "name": "python",
   "nbconvert_exporter": "python",
   "pygments_lexer": "ipython3",
   "version": "3.8.10"
  }
 },
 "nbformat": 4,
 "nbformat_minor": 5
}
