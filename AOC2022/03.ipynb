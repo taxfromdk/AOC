{
 "cells": [
  {
   "cell_type": "code",
   "execution_count": 1,
   "id": "1a4e4686",
   "metadata": {
    "scrolled": true
   },
   "outputs": [
    {
     "name": "stdout",
     "output_type": "stream",
     "text": [
      "CPU times: user 2 µs, sys: 0 ns, total: 2 µs\n",
      "Wall time: 3.58 µs\n",
      "part1 8088 8088\n"
     ]
    }
   ],
   "source": [
    "%time\n",
    "def split(l):\n",
    "    h = int(len(l)/2)\n",
    "    return (l[:h],l[h:])\n",
    "\n",
    "def l(d):\n",
    "    d=d.split('\\n')\n",
    "    d = [split(l) for l in d]\n",
    "    return d\n",
    "\n",
    "def sc(c):\n",
    "    if c.islower():\n",
    "        return ord(c)-ord('a')+1\n",
    "    return ord(c)-ord('A')+27\n",
    "\n",
    "\n",
    "def p1(b):\n",
    "    d=l(b)\n",
    "    score=0\n",
    "    for a,b in d:\n",
    "        a=set(a)\n",
    "        b=set(b)\n",
    "        i=a.intersection(b)\n",
    "        for c in i:\n",
    "            score+=sc(c)\n",
    "        \n",
    "    return score\n",
    "\n",
    "print(\"part1\",p1(open(\"03.txt\").read()),8088)\n",
    "\n"
   ]
  },
  {
   "cell_type": "code",
   "execution_count": 2,
   "id": "83fcac31",
   "metadata": {},
   "outputs": [
    {
     "name": "stdout",
     "output_type": "stream",
     "text": [
      "CPU times: user 2 µs, sys: 0 ns, total: 2 µs\n",
      "Wall time: 3.34 µs\n",
      "part2 2522 2522\n"
     ]
    }
   ],
   "source": [
    "%time\n",
    "def p2(b):\n",
    "    d=b.split('\\n')\n",
    "    s=0\n",
    "    g=[]\n",
    "    ix=0\n",
    "    while ix<len(d):\n",
    "        a,b,c=d[ix:ix+3]\n",
    "        g.append(set(a).intersection(set(b)).intersection(set(c)))\n",
    "        s+=sc(list(g[-1])[0])\n",
    "        ix+=3\n",
    "    return s\n",
    "            \n",
    "print(\"part2\",p2(open(\"03.txt\").read()),2522)\n",
    "            \n",
    "            "
   ]
  }
 ],
 "metadata": {
  "kernelspec": {
   "display_name": "Python 3 (ipykernel)",
   "language": "python",
   "name": "python3"
  },
  "language_info": {
   "codemirror_mode": {
    "name": "ipython",
    "version": 3
   },
   "file_extension": ".py",
   "mimetype": "text/x-python",
   "name": "python",
   "nbconvert_exporter": "python",
   "pygments_lexer": "ipython3",
   "version": "3.8.10"
  }
 },
 "nbformat": 4,
 "nbformat_minor": 5
}
