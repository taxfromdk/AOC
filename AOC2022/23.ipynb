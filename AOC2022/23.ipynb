{
 "cells": [
  {
   "cell_type": "code",
   "execution_count": 1,
   "id": "5bd961ff",
   "metadata": {
    "scrolled": true
   },
   "outputs": [
    {
     "data": {
      "image/png": "[encoded data removed]",
      "text/plain": [
       "<PIL.Image.Image image mode=RGB size=28x24>"
      ]
     },
     "metadata": {},
     "output_type": "display_data"
    },
    {
     "name": "stdout",
     "output_type": "stream",
     "text": [
      "13 11 22\n",
      "test1: 146 110\n"
     ]
    }
   ],
   "source": [
    "import collections\n",
    "import cv2\n",
    "import re\n",
    "import numpy as np\n",
    "from PIL import Image\n",
    "from IPython import display\n",
    "import time\n",
    "\n",
    "td=\"\"\"....#..\n",
    "..###.#\n",
    "#...#.#\n",
    ".#...##\n",
    "#.###..\n",
    "##.#.##\n",
    ".#..#..\"\"\"\n",
    "\n",
    "\n",
    "\n",
    "\n",
    "def parse(d):\n",
    "    d=d.split('\\n')\n",
    "    M={}\n",
    "    for y,l in enumerate(d):\n",
    "        for x,v in enumerate(l):\n",
    "            if v=='#':\n",
    "                M[(x,y)]=0\n",
    "    #print(len(M.keys()))\n",
    "    return M\n",
    "\n",
    "def sz(M):\n",
    "    X=[]\n",
    "    Y=[]\n",
    "    for x,y in M.keys():\n",
    "        X.append(x)\n",
    "        Y.append(y)\n",
    "    w=max(X)-min(X)\n",
    "    h=max(Y)-min(Y)\n",
    "    return w,h\n",
    "\n",
    "def evolve(M):\n",
    "    cds={}\n",
    "    cds['n']=[(-1,-1),( 0,-1),( 1,-1)]\n",
    "    cds['s']=[(-1, 1),( 0, 1),( 1, 1)]\n",
    "    cds['w']=[(-1,-1),(-1, 0),(-1, 1)]\n",
    "    cds['e']=[( 1,-1),( 1, 0),( 1, 1)]\n",
    "    \n",
    "    dirs=\"\".join(cds.keys())\n",
    "    #print(dirs)\n",
    "    \n",
    "    p={}\n",
    "    pc=collections.defaultdict(int)\n",
    "    \n",
    "    for x,y in M.keys():\n",
    "        #fetch neighbours,\n",
    "        n=[]\n",
    "        for xx in [-1,0,1]:\n",
    "            for yy in [-1,0,1]:\n",
    "                if not (xx==0 and yy==0):\n",
    "                    xxx=x+xx\n",
    "                    yyy=y+yy\n",
    "                    if (xxx,yyy) in M:\n",
    "                        n.append((xx,yy))\n",
    "        \n",
    "        n=set(n)\n",
    "        \n",
    "        dix=M[(x,y)]\n",
    "        \n",
    "        if len(n)==0:\n",
    "            #no neighbours no move\n",
    "            p[(x,y)]=((x,y),dix)\n",
    "        else:\n",
    "            dn=0\n",
    "            for dd in range(4):\n",
    "                d=(dd+dix)%4\n",
    "                lsd=cds[dirs[d]]\n",
    "                if len(n.intersection(set(lsd)))==0:\n",
    "                    dx,dy=lsd[1]\n",
    "                    zzz=(x+dx,y+dy)\n",
    "                    if not zzz in M:\n",
    "                        p[(x,y)]=(zzz,(dix+1))\n",
    "                        dn=1\n",
    "                        break\n",
    "            if not dn:\n",
    "                p[(x,y)]=((x,y),dix+1)\n",
    "    \n",
    "    #print(len(p.keys()),len(M.keys()))\n",
    "    assert(len(p.keys())==len(M.keys()))\n",
    "    \n",
    "    #find collisions\n",
    "    for k in p.keys():\n",
    "        pc[p[k][0]]+=1\n",
    "        \n",
    "    M2={}\n",
    "    for x,y in p.keys():\n",
    "        pp,d=p[(x,y)]\n",
    "        xx,yy=pp\n",
    "        if pc[(xx,yy)]==1:\n",
    "            M2[(xx,yy)]=d\n",
    "        else:\n",
    "            M2[(x,y)]=M[(x,y)]\n",
    "    return M2\n",
    "                    \n",
    "                    \n",
    "\n",
    "def score(M):\n",
    "    w,h=sz(M)\n",
    "    print(w,h,len(M.keys()))\n",
    "    return (w+1)*(h+1)-len(M.keys())\n",
    "\n",
    "def pretty(M):\n",
    "    X=[]\n",
    "    Y=[]\n",
    "    for x,y in M.keys():\n",
    "        X.append(x)\n",
    "        Y.append(y)\n",
    "    w=max(X)-min(X)+1\n",
    "    h=max(Y)-min(Y)+1\n",
    "    \n",
    "    C=[[255,0,255],[0,0,0],[200,200,200],[255,0,255],[255,255,0],[0,255,255]]\n",
    "    \n",
    "    \n",
    "    pix = np.zeros([h,w,3]).astype(np.ubyte)\n",
    "    for x,y in M.keys():\n",
    "        pix[y-min(Y),x-min(X),:]=C[0]\n",
    "    \n",
    "    \n",
    "    \n",
    "    F=2\n",
    "    pix = cv2.resize(pix, fx=F, fy=F, dsize=(0, 0), interpolation=cv2.INTER_NEAREST)\n",
    "    \n",
    "    display.clear_output(wait=True)\n",
    "    \n",
    "    display.display(Image.fromarray(pix, 'RGB'))\n",
    "    #time.sleep(1)\n",
    "\n",
    "\n",
    "def p1(d):\n",
    "    \n",
    "    M=parse(d)\n",
    "    pretty(M)\n",
    "    for i in range(10):\n",
    "        M=evolve(M)\n",
    "        pretty(M)\n",
    "    return score(M)\n",
    "\n",
    "print(\"test1:\",p1(td),110)\n",
    "\n",
    "\n",
    "    \n",
    "    "
   ]
  },
  {
   "cell_type": "code",
   "execution_count": 2,
   "id": "7bc7867f",
   "metadata": {},
   "outputs": [
    {
     "data": {
      "image/png": "[encoded data removed]",
      "text/plain": [
       "<PIL.Image.Image image mode=RGB size=164x160>"
      ]
     },
     "metadata": {},
     "output_type": "display_data"
    },
    {
     "name": "stdout",
     "output_type": "stream",
     "text": [
      "81 79 2574\n",
      "part1: 3986 3987\n"
     ]
    }
   ],
   "source": [
    "print('part1:',p1(open(\"23.txt\").read()),3987)"
   ]
  },
  {
   "cell_type": "code",
   "execution_count": 3,
   "id": "beed85cd",
   "metadata": {
    "scrolled": true
   },
   "outputs": [
    {
     "data": {
      "image/png": "[encoded data removed]",
      "text/plain": [
       "<PIL.Image.Image image mode=RGB size=30x26>"
      ]
     },
     "metadata": {},
     "output_type": "display_data"
    },
    {
     "name": "stdout",
     "output_type": "stream",
     "text": [
      "\n",
      "test2: 21 20\n"
     ]
    }
   ],
   "source": [
    "def p2(d):\n",
    "    M=parse(d)\n",
    "    steps=0\n",
    "    while 1:\n",
    "        L=M\n",
    "        M=evolve(M)\n",
    "        steps+=1\n",
    "        ms=set(L.keys()).difference(set(M.keys()))\n",
    "        moves = len(ms)\n",
    "        #if moves <17:\n",
    "        #    print(ms)\n",
    "        \n",
    "        if steps%100==0:\n",
    "            pretty(M)\n",
    "            print(\"%6d %6d\"%(steps,moves),end=\"\\r\")\n",
    "        \n",
    "        if moves==0:\n",
    "            pretty(M)\n",
    "            break\n",
    "        \n",
    "    return steps\n",
    "\n",
    "\n",
    "print('\\ntest2:',p2(td),20)\n",
    "#875 too low\n"
   ]
  },
  {
   "cell_type": "code",
   "execution_count": 4,
   "id": "80f2ad8f",
   "metadata": {},
   "outputs": [
    {
     "data": {
      "image/png": "[encoded data removed]",
      "text/plain": [
       "<PIL.Image.Image image mode=RGB size=290x288>"
      ]
     },
     "metadata": {},
     "output_type": "display_data"
    },
    {
     "name": "stdout",
     "output_type": "stream",
     "text": [
      "\n",
      "part2: 875 0\n"
     ]
    }
   ],
   "source": [
    "print('\\npart2:',p2(open(\"23.txt\").read()),0)\n",
    "#875 too low\n"
   ]
  },
  {
   "cell_type": "code",
   "execution_count": null,
   "id": "8636ab11",
   "metadata": {},
   "outputs": [],
   "source": []
  }
 ],
 "metadata": {
  "kernelspec": {
   "display_name": "Python 3 (ipykernel)",
   "language": "python",
   "name": "python3"
  },
  "language_info": {
   "codemirror_mode": {
    "name": "ipython",
    "version": 3
   },
   "file_extension": ".py",
   "mimetype": "text/x-python",
   "name": "python",
   "nbconvert_exporter": "python",
   "pygments_lexer": "ipython3",
   "version": "3.8.10"
  }
 },
 "nbformat": 4,
 "nbformat_minor": 5
}
