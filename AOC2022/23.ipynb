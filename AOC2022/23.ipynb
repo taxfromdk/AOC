{
 "cells": [
  {
   "cell_type": "code",
   "execution_count": 1,
   "id": "5bd961ff",
   "metadata": {},
   "outputs": [
    {
     "name": "stdout",
     "output_type": "stream",
     "text": [
      "72\n",
      "part1: 0 0\n"
     ]
    }
   ],
   "source": [
    "def ld():\n",
    "    d=open('23.txt').read().split('\\n')\n",
    "    return d\n",
    "\n",
    "def p1():\n",
    "    d=ld()\n",
    "    print(len(d))\n",
    "    return 0\n",
    "\n",
    "print('part1:',p1(),0)\n",
    "    \n",
    "    "
   ]
  }
 ],
 "metadata": {
  "kernelspec": {
   "display_name": "Python 3 (ipykernel)",
   "language": "python",
   "name": "python3"
  },
  "language_info": {
   "codemirror_mode": {
    "name": "ipython",
    "version": 3
   },
   "file_extension": ".py",
   "mimetype": "text/x-python",
   "name": "python",
   "nbconvert_exporter": "python",
   "pygments_lexer": "ipython3",
   "version": "3.8.10"
  }
 },
 "nbformat": 4,
 "nbformat_minor": 5
}
