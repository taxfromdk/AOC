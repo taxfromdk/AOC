{
 "cells": [
  {
   "cell_type": "code",
   "execution_count": 1,
   "id": "b904dc6b",
   "metadata": {},
   "outputs": [
    {
     "name": "stdout",
     "output_type": "stream",
     "text": [
      "test1: 3068 3068\n",
      "part1: 3168 3168\n"
     ]
    }
   ],
   "source": [
    "import re\n",
    "import sys\n",
    "import cv2\n",
    "import time\n",
    "import numpy as np\n",
    "from PIL import Image\n",
    "from IPython import display\n",
    "\n",
    "def ld():\n",
    "    return open(\"17.txt\").read()\n",
    "def td():\n",
    "    return \">>><<><>><<<>><>>><<<>>><<<><<<>><>><<>>\"\n",
    "\n",
    "pcs=[]\n",
    "pcs.append(\"####\")\n",
    "pcs.append(\" # \\n###\\n # \")\n",
    "pcs.append(\"###\\n  #\\n  #\")\n",
    "pcs.append(\"#\\n#\\n#\\n#\")\n",
    "pcs.append(\"##\\n##\")\n",
    "        \n",
    "def getPiece(n):\n",
    "    global pcs\n",
    "    \n",
    "    r={}\n",
    "    for y,l in enumerate(pcs[n].split('\\n')):\n",
    "        for x,c in enumerate(l):\n",
    "            if c=='#':\n",
    "                r[(x,y)]=1\n",
    "    return r\n",
    "\n",
    "\n",
    "def height(p):\n",
    "    h=0\n",
    "    for x,y in p.keys():\n",
    "        if y>h:\n",
    "            h=y\n",
    "    return h+1\n",
    "\n",
    "        \n",
    "\n",
    "class TT:\n",
    "    def __init__(s,I):\n",
    "        s.M={}\n",
    "        s.piece=0\n",
    "        s.I=I\n",
    "        s.ix=0\n",
    "        \n",
    "    def highest(s):\n",
    "        Y=[]\n",
    "        for x,y in s.M.keys():\n",
    "            Y.append(y)\n",
    "        if len(Y)==0:\n",
    "            return -1\n",
    "        return max(Y)\n",
    "    \n",
    "    def update(s, draw=True):\n",
    "        #spawn a piece\n",
    "        #let it fall while \n",
    "        #eating input\n",
    "        \n",
    "        p=getPiece(s.piece)\n",
    "        \n",
    "        x=2\n",
    "        y=s.highest()+4\n",
    "        \n",
    "        if draw:\n",
    "            s.pretty(p, x, y, s.piece)\n",
    "        \n",
    "        while 1:\n",
    "            inp=s.I[s.ix]\n",
    "            s.ix=(s.ix+1)%len(s.I)\n",
    "            \n",
    "            assert(inp == '<' or inp == '>')           \n",
    "            dx=1 if inp=='>' else -1            \n",
    "            assert(dx == 1 or dx == -1)\n",
    "            \n",
    "            #sideways\n",
    "            for xx,yy in p.keys():\n",
    "                xxx=x+xx+dx\n",
    "                yyy=y+yy\n",
    "                #if hit walls or collid old pieces\n",
    "                if xxx<0 or xxx >=7 or (xxx,yyy) in s.M:\n",
    "                    dx=0\n",
    "                    break\n",
    "            #print(dx)\n",
    "            x+=dx\n",
    "            \n",
    "            #down\n",
    "            dy=-1\n",
    "            for xx,yy in p.keys():\n",
    "                xxx=x+xx\n",
    "                yyy=y+yy+dy\n",
    "                if yyy < 0 or (xxx,yyy) in s.M:\n",
    "                    dy=0\n",
    "                    break\n",
    "            \n",
    "            if dy==0:\n",
    "                for xx,yy in p.keys():\n",
    "                    xxx=x+xx\n",
    "                    yyy=y+yy\n",
    "                    s.M[(xxx,yyy)]=s.piece\n",
    "                break\n",
    "            y+=dy\n",
    "            \n",
    "            if draw:\n",
    "                s.pretty(p, x, y, s.piece)\n",
    "        \n",
    "        if draw:\n",
    "            s.pretty(p, x, y, s.piece)\n",
    "        global pcs\n",
    "        s.piece=(s.piece+1)%len(pcs)\n",
    "        \n",
    "    \n",
    "    \n",
    "    def pretty(s, p, xx, yy, ft):\n",
    "        #return\n",
    "        C=[[255,0,0],[0,255,0],[0,0,255],[255,0,255],[255,255,0],[0,255,255]]\n",
    "        w=7\n",
    "        h=height(s.M) + 3 + 4\n",
    "        pix = np.zeros([h,w,3]).astype(np.ubyte)\n",
    "        for x,y in s.M.keys():\n",
    "            pix[y,x,:]=C[s.M[(x,y)]]\n",
    "    \n",
    "        for x,y in p.keys():\n",
    "            xxx = xx + x\n",
    "            yyy = yy + y\n",
    "            pix[yyy,xxx,:]=C[ft]\n",
    "    \n",
    "    \n",
    "        pix = cv2.flip(pix, 0)\n",
    "        \n",
    "        pix = pix[:20,:,:]\n",
    "    \n",
    "        F=8\n",
    "        pix = cv2.resize(pix, fx=F, fy=F, dsize=(0, 0), interpolation=cv2.INTER_NEAREST)    \n",
    "        display.clear_output(wait=True)    \n",
    "        display.display(Image.fromarray(pix, 'RGB'))\n",
    "        #time.sleep(0.1)\n",
    "    \n",
    "    def sig(s):\n",
    "        r=\"\"\n",
    "        h=s.highest()+1\n",
    "        for y in range(300):\n",
    "            for x in range(7):\n",
    "                if (x,h) in s.M:\n",
    "                    r+='#'\n",
    "                else:\n",
    "                    r+=' '\n",
    "            h-=1\n",
    "            r+='\\n'\n",
    "        r+=','+str(s.ix)\n",
    "        r+=','+str(s.piece)\n",
    "        return r\n",
    "                \n",
    "        \n",
    "\n",
    "\n",
    "def p1(N,I,draw=0):\n",
    "    t=TT(I)\n",
    "    for j in range(N):\n",
    "        t.update(draw)\n",
    "    return t.highest()+1\n",
    "\n",
    "print(\"test1:\",p1(2022,td()),3068)\n",
    "print(\"part1:\",p1(2022,ld()),3168)\n",
    "\n"
   ]
  },
  {
   "cell_type": "code",
   "execution_count": 2,
   "id": "5d652c16",
   "metadata": {
    "scrolled": false
   },
   "outputs": [
    {
     "name": "stdout",
     "output_type": "stream",
     "text": [
      "test1: 3068 3068\n",
      "part1: 3168 3168\n",
      "test2:\n",
      " 1514285714288 \n",
      " 1514285714288\n",
      "part2:\n",
      " 1554117647070 \n",
      " 1554117647070\n"
     ]
    }
   ],
   "source": [
    "N=1_000_000_000_000\n",
    "\n",
    "def p2(N,I,draw=0):\n",
    "    t=TT(I)\n",
    "    M={}\n",
    "    H={}\n",
    "    for j in range(N):\n",
    "        t.update(draw)\n",
    "        \n",
    "        s=t.sig()\n",
    "        h=t.highest()+1\n",
    "        \n",
    "        if s in M:\n",
    "            #print(s)\n",
    "            j0=M[s]\n",
    "            h0=H[j0]\n",
    "            \n",
    "            #print(\"djv %d to %d (%d)\"%(j,j0,j-j0))\n",
    "            \n",
    "            dj=j-j0\n",
    "            dh=h-h0\n",
    "            \n",
    "            #N is one indexed\n",
    "            #j is zero indexed\n",
    "            #only found the -1 via testcases\n",
    "            N0=N-j0-1\n",
    "            \n",
    "            \n",
    "            b=N0%dj\n",
    "            a=int((N0-b)/dj)\n",
    "            \n",
    "            #return h0+a*dh+H[j0+b]-h0\n",
    "            return H[j0+b]+a*dh\n",
    "        H[j]=h                           \n",
    "        M[s]=j\n",
    "    return h\n",
    "\n",
    "print(\"test1:\",p2(2022,td()),3068)\n",
    "print(\"part1:\",p2(2022,ld()),3168)\n",
    "print(\"test2:\\n\",p2(N,td()),\"\\n\",1514285714288)\n",
    "print(\"part2:\\n\",p2(N,ld()),\"\\n\",1554117647070)\n",
    "\n"
   ]
  },
  {
   "cell_type": "code",
   "execution_count": 3,
   "id": "4aad4525",
   "metadata": {},
   "outputs": [
    {
     "data": {
      "image/png": "[encoded data removed]",
      "text/plain": [
       "<PIL.Image.Image image mode=RGB size=56x160>"
      ]
     },
     "metadata": {},
     "output_type": "display_data"
    },
    {
     "name": "stdout",
     "output_type": "stream",
     "text": [
      "part1: 3168 3168\n"
     ]
    }
   ],
   "source": [
    "print(\"part1:\",p1(2022,ld(),1),3168)\n",
    "      \n"
   ]
  },
  {
   "cell_type": "code",
   "execution_count": 4,
   "id": "81e6dadf",
   "metadata": {},
   "outputs": [
    {
     "data": {
      "image/png": "[encoded data removed]",
      "text/plain": [
       "<PIL.Image.Image image mode=RGB size=56x160>"
      ]
     },
     "metadata": {},
     "output_type": "display_data"
    },
    {
     "name": "stdout",
     "output_type": "stream",
     "text": [
      "part2:\n",
      " 1554117647070 \n",
      " 1554117647070\n"
     ]
    }
   ],
   "source": [
    "print(\"part2:\\n\",p2(N,ld(),1),\"\\n\",1554117647070)\n",
    "\n",
    "      \n",
    "      \n"
   ]
  },
  {
   "cell_type": "code",
   "execution_count": null,
   "id": "b18c3c2d",
   "metadata": {},
   "outputs": [],
   "source": []
  }
 ],
 "metadata": {
  "kernelspec": {
   "display_name": "Python 3 (ipykernel)",
   "language": "python",
   "name": "python3"
  },
  "language_info": {
   "codemirror_mode": {
    "name": "ipython",
    "version": 3
   },
   "file_extension": ".py",
   "mimetype": "text/x-python",
   "name": "python",
   "nbconvert_exporter": "python",
   "pygments_lexer": "ipython3",
   "version": "3.8.10"
  }
 },
 "nbformat": 4,
 "nbformat_minor": 5
}
