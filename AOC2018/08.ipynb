{
 "cells": [
  {
   "cell_type": "code",
   "execution_count": 1,
   "id": "21d72ba3",
   "metadata": {},
   "outputs": [
    {
     "name": "stdout",
     "output_type": "stream",
     "text": [
      "part1: 45210 45210\n",
      "part1: 22793 22793\n"
     ]
    }
   ],
   "source": [
    "def ld():\n",
    "    return [int(x) for x in open(\"08.txt\").read().split(\" \")]\n",
    "\n",
    "class Node:\n",
    "    def __init__(s, c, m):\n",
    "        s.children = c\n",
    "        s.metadata = m    \n",
    "    \n",
    "    def metadatasum(s):\n",
    "        a = 0\n",
    "        for c in s.children:\n",
    "            a+=c.metadatasum()\n",
    "        for m in s.metadata:\n",
    "            a+=m\n",
    "        return a\n",
    "    \n",
    "    def metadatasum2(s):\n",
    "        if len(s.children) == 0:\n",
    "            return sum(s.metadata)\n",
    "        else:\n",
    "            a = 0\n",
    "            for m in s.metadata:\n",
    "                ix = m-1\n",
    "                if ix < len(s.children):\n",
    "                    a += s.children[ix].metadatasum2() \n",
    "            return a\n",
    "\n",
    "def expand(d):\n",
    "    x = 0\n",
    "    childcount = d[x]\n",
    "    x += 1\n",
    "    metacount = d[x]\n",
    "    x += 1\n",
    "    children = []\n",
    "    for i in range(childcount):\n",
    "        c, dx = expand(d[x:])\n",
    "        children.append(c)\n",
    "        x += dx\n",
    "    meta = []\n",
    "    for i in range(metacount):\n",
    "        meta.append(d[x])\n",
    "        x+=1\n",
    "    n = Node(children, meta)\n",
    "    return n, x\n",
    "\n",
    "def part1():\n",
    "    #get sum of all metadata\n",
    "    d = ld()\n",
    "    \n",
    "    #print(\"len:\", len(d))\n",
    "    \n",
    "    # A header, which is always exactly two numbers:\n",
    "    # The quantity of child nodes.\n",
    "    # The quantity of metadata entries.\n",
    "    # Zero or more child nodes (as specified in the header).\n",
    "    # One or more metadata entries (as specified in the header).\n",
    "    \n",
    "    tree, ix = expand(d)\n",
    "    return tree.metadatasum()\n",
    "    \n",
    "def part2():\n",
    "    d = ld()\n",
    "    tree, ix = expand(d)\n",
    "    return tree.metadatasum2()\n",
    "\n",
    "print(\"part1:\", part1(), 45210)\n",
    "print(\"part1:\", part2(), 22793)\n"
   ]
  }
 ],
 "metadata": {
  "kernelspec": {
   "display_name": "Python 3 (ipykernel)",
   "language": "python",
   "name": "python3"
  },
  "language_info": {
   "codemirror_mode": {
    "name": "ipython",
    "version": 3
   },
   "file_extension": ".py",
   "mimetype": "text/x-python",
   "name": "python",
   "nbconvert_exporter": "python",
   "pygments_lexer": "ipython3",
   "version": "3.8.10"
  }
 },
 "nbformat": 4,
 "nbformat_minor": 5
}
