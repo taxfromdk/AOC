{
 "cells": [
  {
   "cell_type": "code",
   "execution_count": 1,
   "id": "22ee75ad",
   "metadata": {},
   "outputs": [
    {
     "data": {
      "image/png": "[encoded data removed]",
      "text/plain": [
       "<PIL.Image.Image image mode=RGB size=400x400>"
      ]
     },
     "metadata": {},
     "output_type": "display_data"
    },
    {
     "name": "stdout",
     "output_type": "stream",
     "text": [
      "part1: 745008 745008\n"
     ]
    }
   ],
   "source": [
    "import re\n",
    "import sys\n",
    "import cv2\n",
    "import time\n",
    "import copy\n",
    "import numpy as np\n",
    "from PIL import Image\n",
    "from IPython import display\n",
    "\n",
    "C={}\n",
    "C['#']=[255,0,255]\n",
    "C['|']=[0,255,0]\n",
    "C['.']=[0,0,0]\n",
    "\n",
    "def printmap(M):\n",
    "    w=len(M[0])\n",
    "    h=len(M)\n",
    "    pix = np.zeros([h,w,3]).astype(np.ubyte)\n",
    "    for y in range(h):\n",
    "        for x in range(w):\n",
    "            pix[y,x,:]=C[M[y][x]]\n",
    "    \n",
    "    F=8\n",
    "    pix = cv2.resize(pix, fx=F, fy=F, dsize=(0, 0), interpolation=cv2.INTER_NEAREST)\n",
    "    \n",
    "    display.clear_output(wait=True)\n",
    "    \n",
    "    display.display(Image.fromarray(pix, 'RGB'))\n",
    "\n",
    "def ld():\n",
    "    return [list(l.strip()) for l in open(\"18.txt\").readlines()]\n",
    "M=ld()\n",
    "printmap(M)\n",
    "time.sleep(1)\n",
    "def evolve(M):\n",
    "    N=copy.deepcopy(M)\n",
    "    w=len(M[0])\n",
    "    h=len(M)\n",
    "    for y in range(h):\n",
    "        for x in range(w):\n",
    "            t=0\n",
    "            l=0\n",
    "            for xx in [-1,0,1]:\n",
    "                for yy in [-1,0,1]:\n",
    "                    if not (xx==0 and yy==0):\n",
    "                        xxx=x+xx\n",
    "                        yyy=y+yy\n",
    "                        if xxx>=0 and xxx<w:\n",
    "                            if yyy>=0 and yyy<h:\n",
    "                                if M[yyy][xxx]=='#':\n",
    "                                    l+=1\n",
    "                                if M[yyy][xxx]=='|':\n",
    "                                    t+=1\n",
    "            if M[y][x]=='#':\n",
    "                if t==0 or l==0:\n",
    "                    N[y][x]='.'\n",
    "            elif M[y][x]=='|':\n",
    "                if l>2:\n",
    "                    N[y][x]='#'\n",
    "            elif M[y][x]=='.':\n",
    "                if t>2:\n",
    "                    N[y][x]='|'\n",
    "                                \n",
    "    \n",
    "    return N\n",
    "\n",
    "def count(M,s):\n",
    "    return sum([l.count(s) for l in M])\n",
    "\n",
    "\n",
    "for i in range(10):\n",
    "    M=evolve(M)\n",
    "    printmap(M)\n",
    "    time.sleep(0.2)\n",
    "    \n",
    "def value(M):\n",
    "    return count(M,'|')*count(M,'#')\n",
    "    \n",
    "    \n",
    "print(\"part1:\", value(M),745008)\n",
    "    "
   ]
  },
  {
   "cell_type": "code",
   "execution_count": 2,
   "id": "4e5af41d",
   "metadata": {
    "scrolled": false
   },
   "outputs": [
    {
     "name": "stdout",
     "output_type": "stream",
     "text": [
      "part2:  219425 219425\n"
     ]
    }
   ],
   "source": [
    "def H(M):\n",
    "    return \"\".join([\"\".join(l) for l in M])\n",
    "\n",
    "M=ld()\n",
    "\n",
    "\n",
    "a=0\n",
    "LN=1_000_000_000\n",
    "\n",
    "def spd(M, LN):\n",
    "    a=0\n",
    "    hash_ages={}\n",
    "    hash_ages[H(M)]=a\n",
    "    hash_values=[value(M)]\n",
    "    while a < LN:\n",
    "        M=evolve(M)\n",
    "        a+=1\n",
    "        hv=H(M)\n",
    "        hash_values.append(value(M))\n",
    "        if hv in hash_ages:\n",
    "            b=hash_ages[hv]\n",
    "            period=a-b\n",
    "            ix=b+(LN-b)%(period)\n",
    "            return hash_values[ix]\n",
    "        hash_ages[hv]=a\n",
    "    return value(M)\n",
    "\n",
    "print(\"part2: \", spd(M,LN), 219425)\n",
    "\n",
    "    "
   ]
  }
 ],
 "metadata": {
  "kernelspec": {
   "display_name": "Python 3 (ipykernel)",
   "language": "python",
   "name": "python3"
  },
  "language_info": {
   "codemirror_mode": {
    "name": "ipython",
    "version": 3
   },
   "file_extension": ".py",
   "mimetype": "text/x-python",
   "name": "python",
   "nbconvert_exporter": "python",
   "pygments_lexer": "ipython3",
   "version": "3.8.10"
  }
 },
 "nbformat": 4,
 "nbformat_minor": 5
}
