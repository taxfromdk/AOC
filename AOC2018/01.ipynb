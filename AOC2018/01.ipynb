{
 "cells": [
  {
   "cell_type": "code",
   "execution_count": 1,
   "id": "f3bea413",
   "metadata": {},
   "outputs": [
    {
     "name": "stdout",
     "output_type": "stream",
     "text": [
      "416\n"
     ]
    }
   ],
   "source": [
    "\n",
    "\n",
    "\n",
    "print(sum([int(x) for x in open(\"01.txt\").readlines()]))"
   ]
  },
  {
   "cell_type": "code",
   "execution_count": 2,
   "id": "654a6404",
   "metadata": {
    "scrolled": false
   },
   "outputs": [
    {
     "name": "stdout",
     "output_type": "stream",
     "text": [
      "56752\n"
     ]
    }
   ],
   "source": [
    "n=[int(x) for x in open(\"01.txt\").readlines()]\n",
    "p=[]\n",
    "v=0\n",
    "running=1\n",
    "while running:\n",
    "    for c in n:\n",
    "        v+=c\n",
    "        if v in p:\n",
    "            print(v)\n",
    "            running = False\n",
    "            break\n",
    "        p.append(v)\n",
    "    \n",
    "\n",
    "\n"
   ]
  }
 ],
 "metadata": {
  "kernelspec": {
   "display_name": "Python 3 (ipykernel)",
   "language": "python",
   "name": "python3"
  },
  "language_info": {
   "codemirror_mode": {
    "name": "ipython",
    "version": 3
   },
   "file_extension": ".py",
   "mimetype": "text/x-python",
   "name": "python",
   "nbconvert_exporter": "python",
   "pygments_lexer": "ipython3",
   "version": "3.8.10"
  }
 },
 "nbformat": 4,
 "nbformat_minor": 5
}
