{
 "cells": [
  {
   "cell_type": "code",
   "execution_count": 1,
   "id": "c3814b1d",
   "metadata": {
    "scrolled": true
   },
   "outputs": [
    {
     "name": "stdout",
     "output_type": "stream",
     "text": [
      "test1() 5158916779 5158916779\n",
      "test1() 0124515891 0124515891\n",
      "test1() 9251071085 9251071085\n",
      "test1() 5941429882 5941429882\n",
      "part1() 3610281143 3610281143\n"
     ]
    }
   ],
   "source": [
    "def part1(sss,sk,cnt):\n",
    "    i=[int(x) for x in list(sss)]\n",
    "    \n",
    "    \n",
    "    a=0\n",
    "    b=1\n",
    "    n=len(i)\n",
    "    while 1:\n",
    "        \"\"\"\n",
    "        d=\"\"\n",
    "        for x in range(len(i)):\n",
    "            s=str(i[x])\n",
    "            if x == a:\n",
    "                s=\"(%s)\"%(s)\n",
    "            if x == b:\n",
    "                s=\"[%s]\"%(s)\n",
    "            if x!=a and x!=b:\n",
    "                s=\" %s \"%(s)\n",
    "            d+=s+\",\"\n",
    "        print(d)\n",
    "        \"\"\"         \n",
    "        \n",
    "        \n",
    "        sa=i[a]\n",
    "        sb=i[b]\n",
    "        i+= [int(x) for x in list(str(sa+sb))]\n",
    "        a=(a+sa+1)%len(i)\n",
    "        b=(b+sb+1)%len(i)\n",
    "        if len(i)>=sk+cnt:\n",
    "            break\n",
    "    return \"\".join([str(x) for x in i[sk:sk+cnt]])\n",
    "\n",
    "\n",
    "\n",
    "print(\"test1()\",part1(\"37\",9,10),'5158916779')\n",
    "print(\"test1()\",part1(\"37\",5,10),'0124515891')\n",
    "print(\"test1()\",part1(\"37\",18,10),'9251071085')\n",
    "print(\"test1()\",part1(\"37\",2018,10),'5941429882')\n",
    "\n",
    "#poorly stated goal - unclear what puzzle \n",
    "#input should be used for\n",
    "\n",
    "#print(\"part1()\",part1(\"554401\",554401,10),'?')\n",
    "#print(\"part1()\",part1(\"554401\",6,10),'?')\n",
    "print(\"part1()\",part1(\"37\",554401,10),'3610281143')\n",
    "\n",
    "\n"
   ]
  },
  {
   "cell_type": "code",
   "execution_count": null,
   "id": "e27644e6",
   "metadata": {
    "scrolled": false
   },
   "outputs": [
    {
     "name": "stdout",
     "output_type": "stream",
     "text": [
      "test2: 9 9\n",
      "test2: 5 5\n",
      "test2: 18 18\n",
      "test2: 2018 2018\n"
     ]
    }
   ],
   "source": [
    "def part2(sss):\n",
    "    i=[3,7]\n",
    "    sss=[int(x) for x in list(sss)]\n",
    "    ls=len(sss)\n",
    "    \n",
    "    a=0\n",
    "    b=1\n",
    "    \n",
    "    while 1:\n",
    "       \n",
    "        sa=i[a]\n",
    "        sb=i[b]\n",
    "        for r in [int(x) for x in list(str(sa+sb))]:\n",
    "            i.append(r)\n",
    "            if i[-ls:]==sss:\n",
    "                return len(i)-ls\n",
    "        a=(a+sa+1)%len(i)\n",
    "        b=(b+sb+1)%len(i)\n",
    "        \n",
    "    \n",
    "print(\"test2:\",part2(\"51589\"), 9)\n",
    "print(\"test2:\",part2(\"01245\"), 5)\n",
    "print(\"test2:\",part2(\"92510\"), 18)\n",
    "print(\"test2:\",part2(\"59414\"), 2018)\n",
    "print(\"part2:\",part2(\"554401\"), '20211326')\n",
    "\n",
    "\n",
    "\n"
   ]
  }
 ],
 "metadata": {
  "kernelspec": {
   "display_name": "Python 3 (ipykernel)",
   "language": "python",
   "name": "python3"
  },
  "language_info": {
   "codemirror_mode": {
    "name": "ipython",
    "version": 3
   },
   "file_extension": ".py",
   "mimetype": "text/x-python",
   "name": "python",
   "nbconvert_exporter": "python",
   "pygments_lexer": "ipython3",
   "version": "3.8.10"
  }
 },
 "nbformat": 4,
 "nbformat_minor": 5
}
