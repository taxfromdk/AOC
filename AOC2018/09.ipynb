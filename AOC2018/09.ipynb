{
 "cells": [
  {
   "cell_type": "code",
   "execution_count": 41,
   "id": "142a28de",
   "metadata": {},
   "outputs": [
    {
     "name": "stdout",
     "output_type": "stream",
     "text": [
      "test1: 32 32\n",
      "part1: 384288 384288\n",
      "part2: 3189426841 3189426841\n"
     ]
    }
   ],
   "source": [
    "from collections import deque \n",
    "\n",
    "def play(players, marbleval):\n",
    "    #print(players,marbleval)\n",
    "    p = deque([[] for x in range(players)])\n",
    "    d = deque([0])\n",
    "    v = 1\n",
    "    while v <= marbleval:\n",
    "        if v % 23 != 0:\n",
    "            d.rotate(-2)\n",
    "            d.extendleft([v])\n",
    "        else:\n",
    "            p[0].append(v)\n",
    "            d.rotate(7)\n",
    "            p[0].append(d[0])\n",
    "            del d[0]\n",
    "        p.rotate(1)\n",
    "        v+=1\n",
    "    #print(p)\n",
    "    return max([sum(x) for x in p])\n",
    "\n",
    "print(\"test1:\", play(9, 25), '32')\n",
    "#455 players; last marble is worth 71223 points\n",
    "print(\"part1:\", play(455, 71223), 384288)\n",
    "print(\"part2:\", play(455, 7122300), 3189426841)\n",
    "\n"
   ]
  }
 ],
 "metadata": {
  "kernelspec": {
   "display_name": "Python 3 (ipykernel)",
   "language": "python",
   "name": "python3"
  },
  "language_info": {
   "codemirror_mode": {
    "name": "ipython",
    "version": 3
   },
   "file_extension": ".py",
   "mimetype": "text/x-python",
   "name": "python",
   "nbconvert_exporter": "python",
   "pygments_lexer": "ipython3",
   "version": "3.8.10"
  }
 },
 "nbformat": 4,
 "nbformat_minor": 5
}
