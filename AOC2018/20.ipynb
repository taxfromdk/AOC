{
 "cells": [
  {
   "cell_type": "code",
   "execution_count": 1,
   "id": "74bf3b34",
   "metadata": {
    "scrolled": false
   },
   "outputs": [
    {
     "name": "stdout",
     "output_type": "stream",
     "text": [
      "start\n",
      "part1: 3755\n",
      "part2: 8627\n",
      "fin\n"
     ]
    }
   ],
   "source": [
    "from collections import defaultdict\n",
    "\n",
    "#started with a recursive strategy\n",
    "# it did not work\n",
    "#peaked on solutions :(\n",
    "\n",
    "print(\"start\")\n",
    "\n",
    "d=defaultdict(lambda: 999999)\n",
    "\n",
    "p=d[0]=0\n",
    "s=[]\n",
    "for c in open(\"20.txt\").read()[1:-1]:\n",
    "    if c=='(':\n",
    "        s.append(p)\n",
    "    elif c==')':\n",
    "        p=s.pop()\n",
    "    elif c=='|':\n",
    "        p=s[-1]\n",
    "    elif c in \"EWNS\":\n",
    "        l=p\n",
    "        dirs={'E':-1,'W':1,'N':-1j,'S':1j}\n",
    "        p+=dirs[c]\n",
    "        d[p]=min(d[p],d[l]+1)\n",
    "        \n",
    "print(\"part1:\", max(d.values()))\n",
    "print(\"part2:\", sum([x>=1000 for x in d.values()])  )   \n",
    "        \n",
    "\n",
    "print(\"fin\")           \n",
    "\n"
   ]
  }
 ],
 "metadata": {
  "kernelspec": {
   "display_name": "Python 3 (ipykernel)",
   "language": "python",
   "name": "python3"
  },
  "language_info": {
   "codemirror_mode": {
    "name": "ipython",
    "version": 3
   },
   "file_extension": ".py",
   "mimetype": "text/x-python",
   "name": "python",
   "nbconvert_exporter": "python",
   "pygments_lexer": "ipython3",
   "version": "3.8.10"
  }
 },
 "nbformat": 4,
 "nbformat_minor": 5
}
