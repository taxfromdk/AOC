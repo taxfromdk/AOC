{
 "cells": [
  {
   "cell_type": "code",
   "execution_count": 3,
   "id": "a49809ed",
   "metadata": {},
   "outputs": [
    {
     "name": "stdout",
     "output_type": "stream",
     "text": [
      "[[5, 1, 'G', 200, 3], [6, 2, 'G', 200, 3], [14, 2, 'G', 200, 3], [11, 3, 'G', 200, 3], [14, 4, 'G', 200, 3], [17, 5, 'G', 200, 3], [9, 6, 'G', 200, 3], [12, 6, 'G', 200, 3], [18, 7, 'G', 200, 3], [21, 8, 'G', 200, 3], [9, 9, 'G', 200, 3], [12, 10, 'G', 200, 3], [20, 10, 'E', 200, 3], [21, 10, 'E', 200, 3], [10, 11, 'G', 200, 3], [23, 11, 'E', 200, 3], [7, 13, 'G', 200, 3], [7, 16, 'G', 200, 3], [9, 17, 'E', 200, 3], [10, 17, 'G', 200, 3], [8, 18, 'G', 200, 3], [9, 20, 'E', 200, 3], [10, 21, 'G', 200, 3], [20, 21, 'E', 200, 3], [12, 22, 'G', 200, 3], [10, 23, 'G', 200, 3], [5, 27, 'E', 200, 3], [7, 27, 'E', 200, 3], [19, 27, 'E', 200, 3], [21, 28, 'E', 200, 3]]\n",
      "part1: 1 0\n"
     ]
    }
   ],
   "source": [
    "def lm():\n",
    "    \n",
    "    M={}\n",
    "    \n",
    "    P=[]\n",
    "    l=[x.strip() for x in open(\"15.txt\").readlines()]\n",
    "    for y in range(len(l)):\n",
    "        for x in range(len(l[0])):\n",
    "            if l[y][x]!='#':\n",
    "                M[(x,y)]=1\n",
    "            if l[y][x] in \"EG\":\n",
    "                P.append([x,y,l[y][x],200,3])\n",
    "                M[(x,y)]=1\n",
    "    #print(P)\n",
    "    return M,P\n",
    "            \n",
    "\n",
    "\n",
    "\n",
    "def part1():\n",
    "    M,P=lm()\n",
    "    print(P)\n",
    "    \n",
    "    fighting = True\n",
    "    while fighting:\n",
    "        for i in range(len(P)):\n",
    "            x0,y0,tp0,hp0,a0=P[i]\n",
    "            \n",
    "            #find all enemies\n",
    "            enemies = []\n",
    "            for j in range(len(P)):\n",
    "                x1,y1,tp1,hp1,a1=P[j]\n",
    "                if i != j and tp0 != tp1:\n",
    "                    enemies.append(j)\n",
    "            if len(enemies) == 0:\n",
    "                fighting = False\n",
    "            \n",
    "            fightlocations = {}\n",
    "            for j in enemies:\n",
    "                for dx,dy in [(-1,0),(1,0),(0,-1),(0,1)]:\n",
    "                    x1,y1,tp1,hp1,a1=P[j]\n",
    "                    x = x1 + dx\n",
    "                    y = y1 + dy\n",
    "                    while 1:\n",
    "                        if not (x,y) in M:\n",
    "                            fightlocations[(x,y)]=j\n",
    "                            x+=dx\n",
    "                            y+=dy\n",
    "            \n",
    "            if (x0,y0) in fightlocations:\n",
    "                \n",
    "                \n",
    "                    \n",
    "                    \n",
    "                    \n",
    "                \n",
    "            \n",
    "    \n",
    "    \n",
    "    \n",
    "    \n",
    "    return 1\n",
    "\n",
    "\n",
    "print(\"part1:\",part1(),0)\n",
    "\n",
    "\n"
   ]
  }
 ],
 "metadata": {
  "kernelspec": {
   "display_name": "Python 3 (ipykernel)",
   "language": "python",
   "name": "python3"
  },
  "language_info": {
   "codemirror_mode": {
    "name": "ipython",
    "version": 3
   },
   "file_extension": ".py",
   "mimetype": "text/x-python",
   "name": "python",
   "nbconvert_exporter": "python",
   "pygments_lexer": "ipython3",
   "version": "3.8.10"
  }
 },
 "nbformat": 4,
 "nbformat_minor": 5
}
