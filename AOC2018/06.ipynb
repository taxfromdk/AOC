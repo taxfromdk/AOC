{
 "cells": [
  {
   "cell_type": "code",
   "execution_count": 1,
   "id": "3423f60c",
   "metadata": {
    "scrolled": false
   },
   "outputs": [
    {
     "name": "stdout",
     "output_type": "stream",
     "text": [
      "part1: 5365 5365\n"
     ]
    }
   ],
   "source": [
    "def gd():\n",
    "    return [[int(x) for x in l.split(\", \")] for l in open(\"06.txt\").readlines()]\n",
    "\n",
    "def part1():\n",
    "    M={}\n",
    "    t=0\n",
    "    E=[]\n",
    "    for x,y in gd():\n",
    "        p=(x,y)\n",
    "        \n",
    "        E.append((p,t))\n",
    "        t+=1\n",
    "    d=0\n",
    "    while d < 300:\n",
    "        \n",
    "        print(d,end='\\r')\n",
    "        NE=[]\n",
    "        for p,t in E:\n",
    "            if not p in M:\n",
    "                M[p]=[]\n",
    "            if not t in M[p]:\n",
    "                M[p].append(t)\n",
    "        \n",
    "        for p,t in E:\n",
    "            if len(M[p])>1:\n",
    "                M[p]=[-1]\n",
    "            else:\n",
    "                x,y=p\n",
    "                for dx,dy in [[-1,0],[1,0],[0,-1],[0,1]]:\n",
    "                    xx=x+dx\n",
    "                    yy=y+dy\n",
    "                    np=(xx,yy)\n",
    "                    if not np in M:\n",
    "                        if (np,t) not in NE:\n",
    "                            NE.append((np,t))\n",
    "            \n",
    "        d+=1\n",
    "        E=NE\n",
    "        \n",
    "    #print(len(M.values()))\n",
    "    act=list(set([t for p,t in E]))\n",
    "    #print(len(act))\n",
    "    C={}\n",
    "    for k in M.keys():\n",
    "        t=M[k][0]\n",
    "        if t != -1:\n",
    "            if t not in act:\n",
    "                if not t in C:\n",
    "                    C[t]=0\n",
    "                C[t]+=1\n",
    "    return max(C.values())\n",
    "\n",
    "        \n",
    "print(\"part1:\",part1(),5365)\n",
    "\n"
   ]
  },
  {
   "cell_type": "code",
   "execution_count": 2,
   "id": "56c9f1cf",
   "metadata": {},
   "outputs": [
    {
     "name": "stdout",
     "output_type": "stream",
     "text": [
      "part1: 42513 42513\n"
     ]
    }
   ],
   "source": [
    "def sd(p,pts):\n",
    "    a=0\n",
    "    x,y=p\n",
    "    for px,py in pts:\n",
    "        a+=abs(x-px)+abs(y-py)\n",
    "    return a\n",
    "\n",
    "\n",
    "def part2():\n",
    "    T=10000\n",
    "    pts=gd()\n",
    "    N=[]\n",
    "    for p in pts:\n",
    "        \n",
    "        v=sd(p,pts)\n",
    "        if v<T:\n",
    "            N.append(tuple(p))\n",
    "    \n",
    "    M={}\n",
    "    acc=0\n",
    "    while len(N):\n",
    "        NN=[]\n",
    "        for p in N:\n",
    "            if not p in M:\n",
    "                if sd(p,pts)<T:\n",
    "                    acc+=1\n",
    "                    x,y=p\n",
    "                    for dx,dy in [[-1,0],[1,0],[0,-1],[0,1]]:\n",
    "                        xx=x+dx\n",
    "                        yy=y+dy\n",
    "                        np=(xx,yy)\n",
    "                        if not np in M:\n",
    "                            if np not in NN:\n",
    "                                NN.append(np)\n",
    "                M[p]=1\n",
    "        N=NN\n",
    "    return acc\n",
    "        \n",
    "        \n",
    "    \n",
    "    \n",
    "    \n",
    "    \n",
    "print(\"part1:\",part2(),42513)\n",
    "\n",
    "\n",
    "\n",
    "\n"
   ]
  }
 ],
 "metadata": {
  "kernelspec": {
   "display_name": "Python 3 (ipykernel)",
   "language": "python",
   "name": "python3"
  },
  "language_info": {
   "codemirror_mode": {
    "name": "ipython",
    "version": 3
   },
   "file_extension": ".py",
   "mimetype": "text/x-python",
   "name": "python",
   "nbconvert_exporter": "python",
   "pygments_lexer": "ipython3",
   "version": "3.8.10"
  }
 },
 "nbformat": 4,
 "nbformat_minor": 5
}
