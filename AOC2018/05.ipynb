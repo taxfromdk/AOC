{
 "cells": [
  {
   "cell_type": "code",
   "execution_count": 1,
   "id": "9c9433d4",
   "metadata": {},
   "outputs": [
    {
     "name": "stdout",
     "output_type": "stream",
     "text": [
      "part1: 10384 10384\n",
      "part2: 5412 0\n"
     ]
    }
   ],
   "source": [
    "def getData():\n",
    "    return open(\"05.txt\").read().strip()\n",
    "\n",
    "def collapse(p, types):\n",
    "    while 1:\n",
    "        l = len(p)\n",
    "        for t in types:\n",
    "            r=t+t.upper()\n",
    "            p = p.replace(r,\"\").replace(r[::-1],\"\")\n",
    "        \n",
    "        if l==len(p):\n",
    "            return len(p)\n",
    "\n",
    "def part1():\n",
    "    p = getData()\n",
    "    types = list(set(list(p.lower())))\n",
    "    types.sort\n",
    "    return collapse(p,types)\n",
    "        \n",
    "print(\"part1:\", part1(), 10384)\n",
    "\n",
    "def part2():\n",
    "    p = getData()\n",
    "    types = list(set(list(p.lower())))\n",
    "    types.sort\n",
    "    L=None\n",
    "    for t in types:\n",
    "        l = collapse(getData().replace(t,\"\").replace(t.upper(),\"\"), types)\n",
    "        if L is None or l < L:\n",
    "            L=l\n",
    "    \n",
    "    return L\n",
    "    \n",
    "\n",
    "\n",
    "print(\"part2:\", part2(), 0)\n"
   ]
  }
 ],
 "metadata": {
  "kernelspec": {
   "display_name": "Python 3 (ipykernel)",
   "language": "python",
   "name": "python3"
  },
  "language_info": {
   "codemirror_mode": {
    "name": "ipython",
    "version": 3
   },
   "file_extension": ".py",
   "mimetype": "text/x-python",
   "name": "python",
   "nbconvert_exporter": "python",
   "pygments_lexer": "ipython3",
   "version": "3.8.10"
  }
 },
 "nbformat": 4,
 "nbformat_minor": 5
}
