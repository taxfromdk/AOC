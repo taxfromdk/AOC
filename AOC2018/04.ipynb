{
 "cells": [
  {
   "cell_type": "code",
   "execution_count": 1,
   "id": "dc9bfdff",
   "metadata": {
    "scrolled": false
   },
   "outputs": [
    {
     "name": "stdout",
     "output_type": "stream",
     "text": [
      "part1/2: (76357, 41668) 76357 41668\n"
     ]
    }
   ],
   "source": [
    "import re\n",
    "#[1518-09-16 23:57] Guard #1889 begins shift\n",
    "#[1518-04-16 00:03] Guard #2897 begins shift\n",
    "#[1518-04-29 23:57] Guard #1663 begins shift\n",
    "#[1518-05-27 00:47] wakes up\n",
    "#[1518-04-27 23:50] Guard #661 begins shift\n",
    "\n",
    "\n",
    "\n",
    "def loaddata(fn):\n",
    "    \n",
    "    r=[x.strip() for x in open(fn).readlines()]\n",
    "    return r\n",
    "        \n",
    "def solve1():\n",
    "    d=loaddata(\"04.txt\")\n",
    "    d.sort()\n",
    "    \n",
    "    ix = None\n",
    "    \n",
    "    h  = None\n",
    "    m  = None\n",
    "    \n",
    "    S={}\n",
    "    for l in d:  \n",
    "        #print(l)\n",
    "        n=[int(x) for x in re.findall(\"[0-9]+\",l)]\n",
    "        \n",
    "        H = n[3]\n",
    "        M = n[4]    \n",
    "        if \"begins\" in l:\n",
    "            ix = n[5] \n",
    "            s='.'\n",
    "            h=0\n",
    "            m=0\n",
    "            p=\"%d \"%(ix)\n",
    "            if not ix in S:\n",
    "                S[ix] = [0 for x in range(60)]\n",
    "            \n",
    "        elif \"falls\" in l:\n",
    "            m=M\n",
    "            \n",
    "        elif \"wakes\" in l:\n",
    "            while m < M:\n",
    "                S[ix][m]+=1\n",
    "                m+=1\n",
    "            m=M\n",
    "    \n",
    "    sleepminutes=0\n",
    "    guard=None\n",
    "    for k in S.keys():\n",
    "        sm = sum(S[k])\n",
    "        if sm > sleepminutes:\n",
    "            sleepminutes = sm\n",
    "            guard=k\n",
    "    #print(guard, \" sleeps most \", sleepminutes)\n",
    "    \n",
    "    sleeps = 0\n",
    "    minute = 0\n",
    "    for m in range(60):\n",
    "        if S[guard][m] > sleeps:\n",
    "            sleeps = S[guard][m]\n",
    "            minute = m\n",
    "    \n",
    "    p1=minute*int(guard) \n",
    "    \n",
    "    \n",
    "    \n",
    "    guard = 0\n",
    "    minute = 0\n",
    "    sleeps = 0\n",
    "    for k in S.keys():\n",
    "        #print(k, \",\".join([str(x) for x in S[k]]))\n",
    "        for m in range(60):\n",
    "            if S[k][m] > sleeps:\n",
    "                sleeps = S[k][m]\n",
    "                minute = m\n",
    "                guard = k\n",
    "    p2 =  minute*int(guard)\n",
    "\n",
    "    return p1, p2\n",
    "\n",
    "    \n",
    "print(\"part1/2:\", solve1(),76357,41668)"
   ]
  }
 ],
 "metadata": {
  "kernelspec": {
   "display_name": "Python 3 (ipykernel)",
   "language": "python",
   "name": "python3"
  },
  "language_info": {
   "codemirror_mode": {
    "name": "ipython",
    "version": 3
   },
   "file_extension": ".py",
   "mimetype": "text/x-python",
   "name": "python",
   "nbconvert_exporter": "python",
   "pygments_lexer": "ipython3",
   "version": "3.8.10"
  }
 },
 "nbformat": 4,
 "nbformat_minor": 5
}
