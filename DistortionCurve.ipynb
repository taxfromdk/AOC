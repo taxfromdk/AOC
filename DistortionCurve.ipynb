{
 "cells": [
  {
   "cell_type": "code",
   "execution_count": 29,
   "id": "9521e139",
   "metadata": {},
   "outputs": [],
   "source": [
    "import matplotlib.pyplot as plt\n",
    "import numpy as np\n",
    "\n"
   ]
  },
  {
   "cell_type": "code",
   "execution_count": 30,
   "id": "189b7b4b",
   "metadata": {},
   "outputs": [
    {
     "data": {
      "image/png": "[encoded data removed]",
      "text/plain": [
       "<Figure size 432x288 with 1 Axes>"
      ]
     },
     "metadata": {
      "needs_background": "light"
     },
     "output_type": "display_data"
    }
   ],
   "source": [
    "#k1, k2, p1, p2, k3, k4, k5, k6, k7\n",
    "dist = \"3.670680675357433, 1.1612862793879029, 0.0, 0.0, 0.010907748126931006, 4.029813052720811, 2.357017484561505, 0.16278370795452082, 0.0, 0.0, 0.0, 0.0, 0.0, 0.0\"\n",
    "dist = [float(x) for x in dist.split(\", \")]\n",
    "d = {\n",
    "    \"k1\" : dist[0],\n",
    "    \"k2\" : dist[1],\n",
    "    \"p1\" : dist[2],\n",
    "    \"p2\" : dist[3],\n",
    "    \"k3\" : dist[4],\n",
    "    \"k4\" : dist[5],\n",
    "    \"k5\" : dist[6],\n",
    "    \"k6\" : dist[7],\n",
    "}\n",
    "\n",
    "#print(d)\n",
    "\n",
    "#forward function\n",
    "def f(r, d):\n",
    "    r2 = r*r;\n",
    "    r4 = r2 * r2;\n",
    "    r6 = r4 * r2;\n",
    "    return ((1.0 + d[\"k1\"] * r2 + d[\"k2\"] * r4 + d[\"k3\"] * r6) / (1.0 + d[\"k4\"] * r2 + d[\"k5\"] * r4 + d[\"k6\"] * r6))\n",
    "\n",
    "#reverse function\n",
    "def g():\n",
    "    \n",
    "\n",
    "\n",
    "x = np.arange(0,3,0.01)\n",
    "y = f(x, d)\n",
    "\n",
    "plt.plot(x,y)\n",
    "\n",
    "plt.show()\n"
   ]
  }
 ],
 "metadata": {
  "kernelspec": {
   "display_name": "Python 3 (ipykernel)",
   "language": "python",
   "name": "python3"
  },
  "language_info": {
   "codemirror_mode": {
    "name": "ipython",
    "version": 3
   },
   "file_extension": ".py",
   "mimetype": "text/x-python",
   "name": "python",
   "nbconvert_exporter": "python",
   "pygments_lexer": "ipython3",
   "version": "3.8.10"
  }
 },
 "nbformat": 4,
 "nbformat_minor": 5
}
