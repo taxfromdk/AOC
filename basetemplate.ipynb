{
 "cells": [
  {
   "cell_type": "code",
   "execution_count": 14,
   "metadata": {},
   "outputs": [
    {
     "name": "stdout",
     "output_type": "stream",
     "text": [
      "1234\n",
      "123456\n",
      "\n",
      "---< part 1 >---\n",
      "test (10): 10\n",
      "real (21): 21\n",
      "\n",
      "---< part 2 >---\n",
      "test (24): 24\n",
      "real (720): 720\n"
     ]
    }
   ],
   "source": [
    "# What assignment\n",
    "#\n",
    "# Link to task\n",
    "\n",
    "def  parse(data):\n",
    "    return [int(x) for x in data]\n",
    "\n",
    "def pretty(data):\n",
    "    print(data)\n",
    "    \n",
    "test_data = parse(\"\"\"1234\"\"\")\n",
    "pretty(test_data)\n",
    "\n",
    "real_data = parse(open(\"basetemplate.txt\").read())\n",
    "pretty(real_data)\n",
    "\n",
    "\n",
    "def solve(data, part, debug):\n",
    "    if part == 1:\n",
    "        acc = 0\n",
    "    else:\n",
    "        acc = 1\n",
    "    \n",
    "    for  d in data:\n",
    "        if part == 1:\n",
    "            acc += d\n",
    "        else:\n",
    "            acc *= d\n",
    "    \n",
    "    return acc\n",
    "\n",
    "\n",
    "print(\"\\n---< part 1 >---\")\n",
    "\n",
    "v = solve(test_data, 1, True)\n",
    "print(\"test (10):\", v)\n",
    "\n",
    "v = solve(real_data, 1, True)\n",
    "print(\"real (21):\", v)\n",
    "\n",
    "print(\"\\n---< part 2 >---\")\n",
    "\n",
    "v = solve(test_data, 2, True)\n",
    "print(\"test (24):\", v)\n",
    "\n",
    "v = solve(real_data, 2, True)\n",
    "print(\"real (720):\", v)"
   ]
  }
 ],
 "metadata": {
  "kernelspec": {
   "display_name": "Python 3",
   "language": "python",
   "name": "python3"
  },
  "language_info": {
   "codemirror_mode": {
    "name": "ipython",
    "version": 3
   },
   "file_extension": ".py",
   "mimetype": "text/x-python",
   "name": "python",
   "nbconvert_exporter": "python",
   "pygments_lexer": "ipython3",
   "version": "3.7.3"
  }
 },
 "nbformat": 4,
 "nbformat_minor": 2
}
