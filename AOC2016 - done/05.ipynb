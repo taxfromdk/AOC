{
 "cells": [
  {
   "cell_type": "code",
   "execution_count": 1,
   "id": "dcde966e",
   "metadata": {},
   "outputs": [
    {
     "name": "stdout",
     "output_type": "stream",
     "text": [
      "d\n",
      "4\n",
      "c\n",
      "d\n",
      "2\n",
      "e\n",
      "e\n",
      "1\n"
     ]
    }
   ],
   "source": [
    "import hashlib\n",
    "seed=\"ugkcyxxp\"\n",
    "i=0\n",
    "n=0\n",
    "while n<8:\n",
    "    s=seed+str(i)\n",
    "    #print(s)\n",
    "    h=hashlib.md5(s.encode('utf-8')).hexdigest()\n",
    "    if h[:5] ==\"00000\":\n",
    "        print(h[5])\n",
    "        n+=1\n",
    "        \n",
    "    i+=1"
   ]
  },
  {
   "cell_type": "code",
   "execution_count": 5,
   "id": "16b0b77b",
   "metadata": {
    "scrolled": true
   },
   "outputs": [
    {
     "name": "stdout",
     "output_type": "stream",
     "text": [
      "f2c730e5\n",
      "\n"
     ]
    }
   ],
   "source": [
    "import hashlib\n",
    "seed=\"ugkcyxxp\"\n",
    "i=0\n",
    "n=0\n",
    "pswd=[c for c in \"        \"]\n",
    "while n<8:\n",
    "    s=seed+str(i)\n",
    "    #print(s)\n",
    "    h=hashlib.md5(s.encode('utf-8')).hexdigest()\n",
    "    if h[:5] ==\"00000\":\n",
    "        #print(h[5])\n",
    "        if h[5] in \"01234567\":\n",
    "            ix=int(h[5])\n",
    "            if pswd[ix]==\" \":\n",
    "                n+=1\n",
    "                pswd[ix]=h[6]\n",
    "            \n",
    "            \n",
    "        \n",
    "    i+=1\n",
    "print(\"\".join(pswd))\n",
    "print()\n",
    "        \n",
    "   "
   ]
  },
  {
   "cell_type": "code",
   "execution_count": null,
   "id": "0dd0f38a",
   "metadata": {},
   "outputs": [],
   "source": []
  }
 ],
 "metadata": {
  "kernelspec": {
   "display_name": "Python 3 (ipykernel)",
   "language": "python",
   "name": "python3"
  },
  "language_info": {
   "codemirror_mode": {
    "name": "ipython",
    "version": 3
   },
   "file_extension": ".py",
   "mimetype": "text/x-python",
   "name": "python",
   "nbconvert_exporter": "python",
   "pygments_lexer": "ipython3",
   "version": "3.8.10"
  }
 },
 "nbformat": 4,
 "nbformat_minor": 5
}
