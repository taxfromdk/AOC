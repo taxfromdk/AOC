{
 "cells": [
  {
   "cell_type": "code",
   "execution_count": 1,
   "id": "2ea6eb7b",
   "metadata": {},
   "outputs": [
    {
     "name": "stdout",
     "output_type": "stream",
     "text": [
      "5\n",
      "test1 3 3\n",
      "6765145\n",
      "part1 1830117 1830117\n",
      "test2 2 2\n",
      "part2 1417887 1417887\n"
     ]
    }
   ],
   "source": [
    "import time\n",
    " \n",
    "def a(n,prt):\n",
    "    e=[]\n",
    "    for i in range(n):\n",
    "        e.append({\"ix\":i,\"cnt\":1,\"nbr\":(i+1)%n})\n",
    "    i=0\n",
    "    c=n\n",
    "    lt=0\n",
    "    while 1:\n",
    "        \n",
    "        now=time.time()\n",
    "        if now > lt+1:\n",
    "            lt=now\n",
    "            print(c,end='\\r')\n",
    "        j=i\n",
    "        nn=1\n",
    "        if prt==2:\n",
    "            nn=int(c/2)\n",
    "        for _ in range(nn):\n",
    "            j=e[j][\"nbr\"]\n",
    "        e[i][\"cnt\"]+=e[j][\"cnt\"]\n",
    "        e[i][\"nbr\"] =e[j][\"nbr\"]\n",
    "        c-=1\n",
    "        if e[i][\"cnt\"]==n:\n",
    "            print()\n",
    "            return e[i][\"ix\"]+1\n",
    "        i=e[i][\"nbr\"]\n",
    "\n",
    "def b(n):\n",
    "    e=[]\n",
    "    for i in range(n):\n",
    "        e.append({\"ix\":i,\"cnt\":1,\"n\":(i+1)%n, \"p\": (i+n-1)%n})\n",
    "    i=0\n",
    "    j=int(n/2)\n",
    "    c=n\n",
    "    lt=1\n",
    "    while 1:\n",
    "        \n",
    "        now=time.time()\n",
    "        if now > lt+0.1:\n",
    "            lt=now\n",
    "            print(c,end='\\r')\n",
    "        \n",
    "        e[i][\"cnt\"]+=e[j][\"cnt\"]\n",
    "        \n",
    "        nj=e[j][\"n\"]\n",
    "        pj=e[j][\"p\"]\n",
    "        e[pj][\"n\"]=nj\n",
    "        e[nj][\"p\"]=pj\n",
    "        c-=1\n",
    "        \n",
    "        j=nj\n",
    "        if c%2==0:\n",
    "            j=e[nj][\"n\"]\n",
    "            \n",
    "        i=e[i][\"n\"]\n",
    "        if c==1:\n",
    "            #print()\n",
    "            return e[i][\"ix\"]+1\n",
    "        \n",
    "        \n",
    "print(\"test1\",a(5,1),3)\n",
    "print(\"part1\",a(3012210,1),1830117)\n",
    "#print(\"part1\",a(3012210,2),0)\n",
    "\n",
    "      \n",
    "print(\"test2\",b(5),2)\n",
    "print(\"part2\",b(3012210),1417887)\n",
    "\n",
    "          \n",
    "  \n"
   ]
  },
  {
   "cell_type": "markdown",
   "id": "0fbbd210",
   "metadata": {},
   "source": [
    "(1)2 3 4[5]6 7 8 9  9\n",
    " 1(2)3 4   6[7]8 9  8 extra\n",
    " 1 2(3)4   6  [8]9  7\n",
    "[1]2 3(4)  6     9  6 extra\n",
    "  [2]3 4  (6)    9  5\n",
    "     3[4]  6    (9) 4 extra\n",
    "    (3)   [6]    9  3\n",
    "    [3]         (9) 2 extra\n",
    "                (n) 1\n"
   ]
  }
 ],
 "metadata": {
  "kernelspec": {
   "display_name": "Python 3 (ipykernel)",
   "language": "python",
   "name": "python3"
  },
  "language_info": {
   "codemirror_mode": {
    "name": "ipython",
    "version": 3
   },
   "file_extension": ".py",
   "mimetype": "text/x-python",
   "name": "python",
   "nbconvert_exporter": "python",
   "pygments_lexer": "ipython3",
   "version": "3.8.10"
  }
 },
 "nbformat": 4,
 "nbformat_minor": 5
}
