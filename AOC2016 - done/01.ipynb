{
 "cells": [
  {
   "cell_type": "code",
   "execution_count": 1,
   "id": "5f23b25a",
   "metadata": {
    "scrolled": false
   },
   "outputs": [
    {
     "name": "stdout",
     "output_type": "stream",
     "text": [
      "part2 159\n",
      "part1 300\n"
     ]
    }
   ],
   "source": [
    "def a():\n",
    "    def s(x,y):\n",
    "        return str(x)+\",\"+str(y)\n",
    "    x=0\n",
    "    y=0\n",
    "    past={}\n",
    "    past[s(x,y)]=1\n",
    "    i=3\n",
    "    dirs = \"ESWN\"\n",
    "    dv=[(1,0),(0,1),(-1,0),(0,-1)]\n",
    "    p2=0\n",
    "    for d, l in [(x[0], int(x[1:])) for x in open(\"01.txt\").read().split(\", \")]:\n",
    "        #print(d,l)\n",
    "        if d==\"R\":\n",
    "            i=(i+1)%4\n",
    "        else:\n",
    "            i=(i+3)%4\n",
    "            \n",
    "        dx,dy=dv[i]\n",
    "        for j in range(l):\n",
    "            x+=dx\n",
    "            y+=dy\n",
    "            ix=s(x,y)\n",
    "            if ix in past:\n",
    "                if not p2:\n",
    "                    print(\"part2\",abs(x)+abs(y))\n",
    "                    p2=1\n",
    "            else:\n",
    "                past[ix]=0\n",
    "            past[ix]+=1\n",
    "    print(\"part1\",abs(x)+abs(y))\n",
    "    \n",
    "            \n",
    "\n",
    "\n",
    "\n",
    "\n",
    "a()\n",
    "\n",
    "\n",
    "\n"
   ]
  },
  {
   "cell_type": "code",
   "execution_count": null,
   "id": "19908d72",
   "metadata": {},
   "outputs": [],
   "source": []
  }
 ],
 "metadata": {
  "kernelspec": {
   "display_name": "Python 3 (ipykernel)",
   "language": "python",
   "name": "python3"
  },
  "language_info": {
   "codemirror_mode": {
    "name": "ipython",
    "version": 3
   },
   "file_extension": ".py",
   "mimetype": "text/x-python",
   "name": "python",
   "nbconvert_exporter": "python",
   "pygments_lexer": "ipython3",
   "version": "3.8.10"
  }
 },
 "nbformat": 4,
 "nbformat_minor": 5
}
