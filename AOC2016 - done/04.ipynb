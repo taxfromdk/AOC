{
 "cells": [
  {
   "cell_type": "code",
   "execution_count": 1,
   "id": "07c2fcda",
   "metadata": {
    "scrolled": false
   },
   "outputs": [
    {
     "name": "stdout",
     "output_type": "stream",
     "text": [
      "part1 409147\n",
      "northpole-object-storage-991[oetrg]\n",
      "\n",
      "part2 991\n"
     ]
    }
   ],
   "source": [
    "import re\n",
    "def chk(s):\n",
    "    m={}\n",
    "    for i in range(len(s)):\n",
    "        if not s[i] in m:\n",
    "            m[s[i]]=0\n",
    "        m[s[i]]+=1\n",
    "    l=[(a,b) for a,b in m.items()]\n",
    "    \n",
    "    l.sort(key=lambda x: x[1]*1000-ord(x[0]),reverse=True)\n",
    "    \n",
    "    r =\"\".join([x[0] for x in l[:5]])\n",
    "    #print(r)\n",
    "    return r\n",
    "\n",
    "def decode(s,n):\n",
    "    r=\"\"\n",
    "    for i in range(len(s)):\n",
    "        if s[i] >= 'a' and s[i]<='z':\n",
    "            v=ord(s[i])-ord('a')\n",
    "            v=(v+n)%26\n",
    "            r+=chr(v+ord('a'))\n",
    "        else:\n",
    "            r+=s[i]\n",
    "    return r\n",
    "    \n",
    "    \n",
    "\n",
    "def a(part):\n",
    "    a=0\n",
    "    for c in open(\"04.txt\").readlines():\n",
    "        #print(c)\n",
    "        chars=\"\".join(re.findall(\"[a-z]\",c.split(\"[\")[0]))\n",
    "        n=int(re.findall(\"[0-9]+\",c)[0])\n",
    "        cs=re.findall(\"\\[[a-z]+\\]\",c)[0][1:-1]\n",
    "        #print(chars,n,cs)\n",
    "        if chk(chars)==cs:\n",
    "            a += n\n",
    "        \n",
    "        if part==2:\n",
    "            plaintext=decode(c,n)\n",
    "            if \"pole\" in plaintext:\n",
    "                print(plaintext)\n",
    "                return n\n",
    "            \n",
    "        \n",
    "    return a\n",
    "    \n",
    "for i in [1,2]:  \n",
    "    print(\"part%d\"%(i),a(i))"
   ]
  }
 ],
 "metadata": {
  "kernelspec": {
   "display_name": "Python 3 (ipykernel)",
   "language": "python",
   "name": "python3"
  },
  "language_info": {
   "codemirror_mode": {
    "name": "ipython",
    "version": 3
   },
   "file_extension": ".py",
   "mimetype": "text/x-python",
   "name": "python",
   "nbconvert_exporter": "python",
   "pygments_lexer": "ipython3",
   "version": "3.8.10"
  }
 },
 "nbformat": 4,
 "nbformat_minor": 5
}
