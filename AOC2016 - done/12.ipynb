{
 "cells": [
  {
   "cell_type": "code",
   "execution_count": 1,
   "id": "88c221ab",
   "metadata": {},
   "outputs": [
    {
     "name": "stdout",
     "output_type": "stream",
     "text": [
      "part1 318007\n",
      "part2 9227661\n"
     ]
    }
   ],
   "source": [
    "inst=[x.strip().split(\" \") for x in open(\"12.txt\").readlines()]\n",
    "\n",
    "#print(inst)\n",
    "\n",
    "\n",
    "#print(reg)\n",
    "\n",
    "def a(part):\n",
    "    i=0\n",
    "    reg={'a':0,'b':0,'c':0,'d':0}\n",
    "    if part==2:\n",
    "        reg['c']=1\n",
    "    while i < len(inst):\n",
    "        #print(inst[i])\n",
    "        ix=inst[i]\n",
    "        if ix[0]==\"cpy\":\n",
    "            src,dst=ix[1:]\n",
    "            if src.isnumeric():\n",
    "                src=int(src)\n",
    "            else:\n",
    "                src=reg[src]\n",
    "            reg[dst]=src\n",
    "            i+=1\n",
    "        elif ix[0]==\"inc\":\n",
    "            reg[ix[1]]+=1\n",
    "            i+=1\n",
    "        elif ix[0]==\"dec\":\n",
    "            reg[ix[1]]-=1\n",
    "            i+=1\n",
    "        elif ix[0]==\"jnz\":\n",
    "            src,dst=ix[1:]\n",
    "            if src.isnumeric():\n",
    "                src=int(src)\n",
    "            else:\n",
    "                src=reg[src]\n",
    "            if src:\n",
    "                i+=int(dst)\n",
    "            else:\n",
    "                i+=1\n",
    "        else:\n",
    "            print(ix)\n",
    "            i+=1\n",
    "    return reg[\"a\"]\n",
    "print(\"part1\", a(1))\n",
    "\n",
    "print(\"part2\", a(2))\n",
    "    \n",
    "\n"
   ]
  }
 ],
 "metadata": {
  "kernelspec": {
   "display_name": "Python 3 (ipykernel)",
   "language": "python",
   "name": "python3"
  },
  "language_info": {
   "codemirror_mode": {
    "name": "ipython",
    "version": 3
   },
   "file_extension": ".py",
   "mimetype": "text/x-python",
   "name": "python",
   "nbconvert_exporter": "python",
   "pygments_lexer": "ipython3",
   "version": "3.8.10"
  }
 },
 "nbformat": 4,
 "nbformat_minor": 5
}
