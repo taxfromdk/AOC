{
 "cells": [
  {
   "cell_type": "code",
   "execution_count": 1,
   "id": "2ac286c6",
   "metadata": {},
   "outputs": [
    {
     "name": "stdout",
     "output_type": "stream",
     "text": [
      "\n",
      "solve1 121834 121834\n",
      "\n",
      "solve2 3208099 3208099\n"
     ]
    }
   ],
   "source": [
    "import time\n",
    "\n",
    "def a(part):\n",
    "    discs = []\n",
    "    for l in [l.strip().split(\" \") for l in open(\"15.txt\").readlines()]:\n",
    "        #print(l)\n",
    "        ix = int(l[1][1:])\n",
    "        sz = int(l[3])\n",
    "        tm = int(l[6].split(\"=\")[1].replace(\",\", \"\"))\n",
    "        pos = int(l[11][:-1])\n",
    "        #print(ix, sz, tm, pos)\n",
    "        discs.append((ix, sz, tm, pos))\n",
    "    \n",
    "    if part == 2:\n",
    "        discs.append((7,11,0,0))\n",
    "    \n",
    "    #place largest discs first\n",
    "    discs.sort(key=lambda x: x[1],reverse=True)\n",
    "    \n",
    "    lt=time.time()\n",
    "    ix,sz,tm,pos=discs[0]\n",
    "    \n",
    "    #t+ix+pos==0\n",
    "    t=-ix-pos\n",
    "    deepest=0\n",
    "    once=0\n",
    "    while 1:\n",
    "        n=time.time()\n",
    "        if n > lt+3:\n",
    "            lt=n\n",
    "            print(t,deepest, end='\\r')\n",
    "            \n",
    "        if once:\n",
    "            for d in discs:\n",
    "                print(d)\n",
    "            once=0\n",
    "        v=True\n",
    "        \n",
    "        for i,d in enumerate(discs):\n",
    "            deepest=max(i,deepest)\n",
    "            ix,sz,tm,pos=d\n",
    "            if not (t+ix+pos)%sz==0:\n",
    "                v=False\n",
    "                break\n",
    "            #return 9\n",
    "        if v:\n",
    "            print()\n",
    "            return t\n",
    "        t+=discs[0][1]\n",
    "        #t+=1\n",
    "        \n",
    "\n",
    "print(\"solve1\", a(1),121834)\n",
    "print(\"solve2\", a(2),3208099)\n"
   ]
  }
 ],
 "metadata": {
  "kernelspec": {
   "display_name": "Python 3 (ipykernel)",
   "language": "python",
   "name": "python3"
  },
  "language_info": {
   "codemirror_mode": {
    "name": "ipython",
    "version": 3
   },
   "file_extension": ".py",
   "mimetype": "text/x-python",
   "name": "python",
   "nbconvert_exporter": "python",
   "pygments_lexer": "ipython3",
   "version": "3.8.10"
  }
 },
 "nbformat": 4,
 "nbformat_minor": 5
}
