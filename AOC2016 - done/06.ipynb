{
 "cells": [
  {
   "cell_type": "code",
   "execution_count": 1,
   "id": "c86cf8da",
   "metadata": {
    "scrolled": false
   },
   "outputs": [
    {
     "name": "stdout",
     "output_type": "stream",
     "text": [
      "mshjnduc\n",
      "\n"
     ]
    }
   ],
   "source": [
    "d = [list(x.strip()) for x in open(\"06.txt\").readlines()]\n",
    "\n",
    "#print(d)\n",
    "\n",
    "cm=[{} for i in range(len(d[0]))]\n",
    "for y in range(len(d)):\n",
    "    for x in range(len(d[0])):\n",
    "        c=d[y][x]\n",
    "        if not c in cm[x]:\n",
    "            cm[x][c]=0\n",
    "        cm[x][c]+=1\n",
    "r=\"\"\n",
    "for x in range(len(d[0])):\n",
    "    l = list(cm[x].items())\n",
    "    l=sorted(l,key=lambda x: x[1], reverse=True)\n",
    "    #print(l)\n",
    "    r+=l[0][0]\n",
    "print(r)\n",
    "print()\n",
    "\n",
    "        \n",
    "\n",
    "\n"
   ]
  },
  {
   "cell_type": "code",
   "execution_count": 2,
   "id": "50ea314e",
   "metadata": {},
   "outputs": [
    {
     "name": "stdout",
     "output_type": "stream",
     "text": [
      "apfeeebz\n",
      "\n"
     ]
    }
   ],
   "source": [
    "d = [list(x.strip()) for x in open(\"06.txt\").readlines()]\n",
    "\n",
    "#print(d)\n",
    "\n",
    "cm=[{} for i in range(len(d[0]))]\n",
    "for y in range(len(d)):\n",
    "    for x in range(len(d[0])):\n",
    "        c=d[y][x]\n",
    "        if not c in cm[x]:\n",
    "            cm[x][c]=0\n",
    "        cm[x][c]+=1\n",
    "r=\"\"\n",
    "for x in range(len(d[0])):\n",
    "    l = list(cm[x].items())\n",
    "    l=sorted(l,key=lambda x: x[1], reverse=False)\n",
    "    #print(l)\n",
    "    r+=l[0][0]\n",
    "print(r)\n",
    "print()\n"
   ]
  }
 ],
 "metadata": {
  "kernelspec": {
   "display_name": "Python 3 (ipykernel)",
   "language": "python",
   "name": "python3"
  },
  "language_info": {
   "codemirror_mode": {
    "name": "ipython",
    "version": 3
   },
   "file_extension": ".py",
   "mimetype": "text/x-python",
   "name": "python",
   "nbconvert_exporter": "python",
   "pygments_lexer": "ipython3",
   "version": "3.8.10"
  }
 },
 "nbformat": 4,
 "nbformat_minor": 5
}
