{
 "cells": [
  {
   "cell_type": "code",
   "execution_count": 1,
   "id": "a7a500a1",
   "metadata": {
    "scrolled": false
   },
   "outputs": [
    {
     "name": "stdout",
     "output_type": "stream",
     "text": [
      "part1 120765\n",
      "part2 11658395076\n"
     ]
    }
   ],
   "source": [
    "import re\n",
    "\n",
    "def n(s):\n",
    "    return [int(x) for x in s[1:-1].split(\"x\")]\n",
    "\n",
    "def d(s):\n",
    "    r=\"\"\n",
    "    while 1:\n",
    "        c=re.findall(\"\\([0-9]+x[0-9]+\\)\",s)\n",
    "        #print(c)\n",
    "        if len(c)>0:\n",
    "            pts=s.split(c[0])\n",
    "            #print(pts, \"c\", c[0])\n",
    "            r+=pts[0]\n",
    "            x,y=n(c[0])\n",
    "            \n",
    "            for j in range(y):\n",
    "                z=len(pts[0])+len(c[0])\n",
    "                r+=s[z:z+x]\n",
    "            s=s[z+x:]\n",
    "            #print(r)\n",
    "        else:\n",
    "            r+=s\n",
    "            break\n",
    "    return r\n",
    "            \n",
    " \n",
    "def expand(s):\n",
    "    r= re.search( \"\\([0-9]+x[0-9]+\\)\",s )\n",
    "    if r:\n",
    "        b=s[r.start():r.end()]\n",
    "        x,y=n(b)\n",
    "        return r.start()+y*expand(s[r.end():r.end()+x])+expand(s[r.end()+x:])\n",
    "    else:\n",
    "        return len(s)\n",
    "    \n",
    "    return 3\n",
    "            \n",
    "            \n",
    "\n",
    "\n",
    "\n",
    "w=[x.strip() for x in open(\"09.txt\").readlines()]\n",
    "        \n",
    "#print(len(w))\n",
    "              \n",
    "#print(d(\"(3x3)XYZ\"))\n",
    "#print(d(\"X(8x2)(3x3)ABCY\"))\n",
    "print(\"part1\", len(d(w[0])))\n",
    "print(\"part2\", expand(w[0]))\n",
    "              "
   ]
  },
  {
   "cell_type": "code",
   "execution_count": null,
   "id": "e9a27201",
   "metadata": {},
   "outputs": [],
   "source": []
  }
 ],
 "metadata": {
  "kernelspec": {
   "display_name": "Python 3 (ipykernel)",
   "language": "python",
   "name": "python3"
  },
  "language_info": {
   "codemirror_mode": {
    "name": "ipython",
    "version": 3
   },
   "file_extension": ".py",
   "mimetype": "text/x-python",
   "name": "python",
   "nbconvert_exporter": "python",
   "pygments_lexer": "ipython3",
   "version": "3.8.10"
  }
 },
 "nbformat": 4,
 "nbformat_minor": 5
}
