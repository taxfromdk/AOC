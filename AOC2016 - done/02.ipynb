{
 "cells": [
  {
   "cell_type": "code",
   "execution_count": 1,
   "id": "c9eda65c",
   "metadata": {},
   "outputs": [
    {
     "name": "stdout",
     "output_type": "stream",
     "text": [
      "part1\n",
      "9\n",
      "2\n",
      "4\n",
      "3\n",
      "5\n",
      "part2\n",
      "C\n",
      "1\n",
      "A\n",
      "8\n",
      "8\n"
     ]
    }
   ],
   "source": [
    "print(\"part1\")\n",
    "for i in open(\"02.txt\").readlines():\n",
    "    x=1\n",
    "    y=1\n",
    "    keys=[[1,2,3],[4,5,6],[7,8,9]]\n",
    "    for j in i:\n",
    "        if j=='U':\n",
    "            y-=1\n",
    "        elif j=='D':\n",
    "            y+=1\n",
    "        elif j=='L':\n",
    "            x-=1\n",
    "        elif j=='R':\n",
    "            x+=1\n",
    "            \n",
    "        x=max(0, min(2, x))\n",
    "        y=max(0, min(2, y))\n",
    "        \n",
    "    print(keys[y][x])\n",
    "    \n",
    "print(\"part2\")\n",
    "for i in open(\"02.txt\").readlines():\n",
    "    x=2\n",
    "    y=2\n",
    "    keys=[]\n",
    "    keys.append([' ',' ','1',' ',' '])\n",
    "    keys.append([' ','2','3','4',' '])\n",
    "    keys.append(['5','6','7','8','9'])\n",
    "    keys.append([' ','A','B','C',' '])\n",
    "    keys.append([' ',' ','D',' ',' '])\n",
    "    \n",
    "    for j in i:\n",
    "        lx=x\n",
    "        ly=y\n",
    "        if j=='U':\n",
    "            y-=1\n",
    "        elif j=='D':\n",
    "            y+=1\n",
    "        elif j=='L':\n",
    "            x-=1\n",
    "        elif j=='R':\n",
    "            x+=1\n",
    "            \n",
    "        x=max(0, min(4, x))\n",
    "        y=max(0, min(4, y))\n",
    "        if keys[y][x]==' ':\n",
    "            x=lx\n",
    "            y=ly\n",
    "        \n",
    "    print(keys[y][x])\n",
    "        \n",
    "    \n",
    "    "
   ]
  }
 ],
 "metadata": {
  "kernelspec": {
   "display_name": "Python 3 (ipykernel)",
   "language": "python",
   "name": "python3"
  },
  "language_info": {
   "codemirror_mode": {
    "name": "ipython",
    "version": 3
   },
   "file_extension": ".py",
   "mimetype": "text/x-python",
   "name": "python",
   "nbconvert_exporter": "python",
   "pygments_lexer": "ipython3",
   "version": "3.8.10"
  }
 },
 "nbformat": 4,
 "nbformat_minor": 5
}
