{
 "cells": [
  {
   "cell_type": "code",
   "execution_count": 1,
   "id": "21ca7084",
   "metadata": {},
   "outputs": [
    {
     "name": "stdout",
     "output_type": "stream",
     "text": [
      "part 1 862\n",
      "part 2 1577\n"
     ]
    }
   ],
   "source": [
    "import re\n",
    "import copy\n",
    "def a(fn, p):\n",
    "    d = [[int(y) for y in  re.findall(\"[0-9]+\",x)] for x in open(fn).readlines()]\n",
    "    \n",
    "    def pos(l):\n",
    "        for i in range(3):\n",
    "            a,b,c = l\n",
    "            if a+b <= c :\n",
    "                return False\n",
    "            l=l[1:]+[l[0]]\n",
    "        return True\n",
    "    \n",
    "    if p==2:\n",
    "        d2 = copy.deepcopy(d)\n",
    "        for y in range(len(d)):\n",
    "            for x in range(len(d[0])):\n",
    "                d2[y][x]=d[x%3 + (y // 3)*3][y%3]\n",
    "        d=d2\n",
    "    \n",
    "    \n",
    "    return sum(map(pos,d))\n",
    "    \n",
    "\n",
    "\n",
    "print(\"part 1\",a(\"03.txt\",1))\n",
    "print(\"part 2\",a(\"03.txt\",2))\n",
    "\n",
    "\n",
    "\n",
    "\n",
    "\n"
   ]
  }
 ],
 "metadata": {
  "kernelspec": {
   "display_name": "Python 3 (ipykernel)",
   "language": "python",
   "name": "python3"
  },
  "language_info": {
   "codemirror_mode": {
    "name": "ipython",
    "version": 3
   },
   "file_extension": ".py",
   "mimetype": "text/x-python",
   "name": "python",
   "nbconvert_exporter": "python",
   "pygments_lexer": "ipython3",
   "version": "3.8.10"
  }
 },
 "nbformat": 4,
 "nbformat_minor": 5
}
