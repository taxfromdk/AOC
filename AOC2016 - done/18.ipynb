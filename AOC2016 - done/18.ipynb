{
 "cells": [
  {
   "cell_type": "code",
   "execution_count": 1,
   "id": "6bac3003",
   "metadata": {},
   "outputs": [
    {
     "name": "stdout",
     "output_type": "stream",
     "text": [
      "part1 2016\n",
      "part2 19998750\n"
     ]
    }
   ],
   "source": [
    "def a(part):\n",
    "    i=open(\"18.txt\").read().strip()\n",
    "    #print(i)\n",
    "    \n",
    "    \n",
    "    def exp(il):\n",
    "        r=\"\"\n",
    "        for i in range(len(il)):\n",
    "            p=None\n",
    "            if i==0:\n",
    "                p=\".\"+il[:2]\n",
    "            elif i==len(il)-1:\n",
    "                p=il[i-1:]+\".\"\n",
    "         \n",
    "            else:\n",
    "                p=il[i-1:i+2]\n",
    "            if p in [\"^^.\",\".^^\",\"^..\",\"..^\"]:\n",
    "                r+='^'\n",
    "            else:\n",
    "                r+='.'\n",
    "        return r\n",
    "                \n",
    "            \n",
    "\n",
    "            #Its left and center tiles are traps, but its right tile is not.\n",
    "            #Its center and right tiles are traps, but its left tile is not.\n",
    "            #Only its left tile is a trap.\n",
    "            #Only its right tile is a trap.\n",
    "    \n",
    "    i=[i]\n",
    "    \n",
    "    sz=40\n",
    "    if part==2:\n",
    "        sz=400000\n",
    "    while len(i)<sz:\n",
    "        #print(i[-1])\n",
    "        i.append(exp(i[-1]))\n",
    "    \n",
    "    return sum([l.count('.') for l in i])\n",
    "            \n",
    "            \n",
    "\n",
    "\n",
    "\n",
    "\n",
    "\n",
    "#2068\n",
    "#2015\n",
    "\n",
    "print(\"part1\",a(1))\n",
    "\n",
    "print(\"part2\",a(2))\n"
   ]
  }
 ],
 "metadata": {
  "kernelspec": {
   "display_name": "Python 3 (ipykernel)",
   "language": "python",
   "name": "python3"
  },
  "language_info": {
   "codemirror_mode": {
    "name": "ipython",
    "version": 3
   },
   "file_extension": ".py",
   "mimetype": "text/x-python",
   "name": "python",
   "nbconvert_exporter": "python",
   "pygments_lexer": "ipython3",
   "version": "3.8.10"
  }
 },
 "nbformat": 4,
 "nbformat_minor": 5
}
