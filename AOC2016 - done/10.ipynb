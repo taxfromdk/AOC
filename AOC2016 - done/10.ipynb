{
 "cells": [
  {
   "cell_type": "code",
   "execution_count": 1,
   "id": "0d59e15e",
   "metadata": {
    "scrolled": false
   },
   "outputs": [
    {
     "name": "stdout",
     "output_type": "stream",
     "text": [
      "part1 bot 147\n",
      "bot 147 17 to bot 41 and 61 to bot 102\n",
      "\n",
      "part2 55637\n",
      "fin\n"
     ]
    }
   ],
   "source": [
    "import re\n",
    "f=[x.strip() for x in open(\"10.txt\").readlines()]\n",
    "sk=[61,17]\n",
    "bots={}\n",
    "outputs={}\n",
    "\n",
    "\n",
    "\n",
    "\n",
    "\n",
    "\n",
    "for l in f:\n",
    "    k = re.findall(\"(value [0-9]+|output [0-9]+|bot [0-9]+)\",l)\n",
    "    #print(k)\n",
    "    if len(k)==3:\n",
    "        \n",
    "        if not k[0] in bots:\n",
    "            bots[k[0]]={}\n",
    "        \n",
    "        if not k[1] in bots:\n",
    "            bots[k[1]]={'v':[]}\n",
    "        if not k[2] in bots:\n",
    "            bots[k[2]]={'v':[]}\n",
    "            \n",
    "        bots[k[0]]['l']=k[1]\n",
    "        bots[k[0]]['h']=k[2]\n",
    "        if not 'v' in bots[k[0]]:\n",
    "            bots[k[0]]['v']=[]\n",
    "        \n",
    "    else:\n",
    "        \n",
    "        if not k[1] in bots:\n",
    "            bots[k[1]]={}\n",
    "            bots[k[1]]['v']=[]\n",
    "        v=int(k[0].split(' ')[1])\n",
    "        #print(l,k,v)\n",
    "        bots[k[1]]['v'].append(v)\n",
    "while 1:\n",
    "    \n",
    "    w=0\n",
    "    for k in bots.keys():\n",
    "        if len(bots[k]['v']) > 1:\n",
    "            \n",
    "            l,h=bots[k]['v']\n",
    "            bots[k]['v']=[]\n",
    "            if l in sk and h in sk:\n",
    "                print(\"part1\",k)\n",
    "                print(\"%s %d to %s and %d to %s\"%(k,l,bots[k]['l'],h,bots[k]['h']))\n",
    "                \n",
    "            bots[bots[k]['l']]['v'].append(min([l,h]))\n",
    "            bots[bots[k]['h']]['v'].append(max([l,h]))\n",
    "            \n",
    "            w=1\n",
    "    \n",
    "    if not w:\n",
    "        break\n",
    "print()\n",
    "for k in bots.keys():\n",
    "    if \"output\" in k:\n",
    "        #print(k, bots[k]['v'][0])\n",
    "        pass\n",
    "        \n",
    "        \n",
    "a=1\n",
    "for i in [0,1,2]:\n",
    "    a*=bots[\"output %d\"%(i)]['v'][0]\n",
    "print(\"part2\",a)\n",
    "        \n",
    "        \n",
    "        \n",
    "       \n",
    "        \n",
    "print(\"fin\")        \n",
    "    \n",
    "    \n",
    "    "
   ]
  }
 ],
 "metadata": {
  "kernelspec": {
   "display_name": "Python 3 (ipykernel)",
   "language": "python",
   "name": "python3"
  },
  "language_info": {
   "codemirror_mode": {
    "name": "ipython",
    "version": 3
   },
   "file_extension": ".py",
   "mimetype": "text/x-python",
   "name": "python",
   "nbconvert_exporter": "python",
   "pygments_lexer": "ipython3",
   "version": "3.8.10"
  }
 },
 "nbformat": 4,
 "nbformat_minor": 5
}
