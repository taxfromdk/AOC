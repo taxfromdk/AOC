{
 "cells": [
  {
   "cell_type": "code",
   "execution_count": 1,
   "id": "af9995bc",
   "metadata": {},
   "outputs": [
    {
     "name": "stdout",
     "output_type": "stream",
     "text": [
      "part1 96\n",
      "part2 141\n"
     ]
    }
   ],
   "source": [
    "import math\n",
    "\n",
    "def a(n):\n",
    "    xx,yy=1,1\n",
    "    gx,gy = 31,39\n",
    "\n",
    "    def free(x,y):\n",
    "        A = x*x + 3*x + 2*x*y + y + y*y\n",
    "        A+=1358\n",
    "        ones = bin(A).count('1')\n",
    "        return ones%2==0 \n",
    "    \n",
    "    def h(x,y):\n",
    "        return abs(x-gx)+abs(y-gy)\n",
    "    \n",
    "    def f(sit):\n",
    "        x,y,c=sit\n",
    "        r = c\n",
    "        if n == 1:\n",
    "            r += h(x,y)\n",
    "        return r\n",
    "    \"\"\"\n",
    "    NN=40\n",
    "    for y in range(NN):\n",
    "        l=\"\"\n",
    "        for x in range(NN):\n",
    "            if free(x,y):\n",
    "                if x==gx and y==gy:\n",
    "                    l+=\"G\"\n",
    "                else:\n",
    "                    l+=\" \"\n",
    "            else:\n",
    "                l+=\"0\"\n",
    "        print(l)\n",
    "    \"\"\"        \n",
    "    futures = { 0 : [[xx,yy,0]] }\n",
    "    \n",
    "    past={}\n",
    "    while sum([len(futures[i]) for i in futures.keys()]):\n",
    "        \n",
    "        mf = min(futures.keys())\n",
    "        ex,ey,ec = futures[mf][0]\n",
    "        futures[mf]=futures[mf][1:]\n",
    "        if len(futures[mf]) == 0:\n",
    "            del futures[mf]\n",
    "        \n",
    "        sss  = \"%d,%d\"%(ex,ey)\n",
    "        if not sss in past:\n",
    "            past[sss]=1\n",
    "            \n",
    "            for dx,dy in [(-1,0), (1,0), (0,-1), (0,1)]:\n",
    "                ex2 = ex + dx\n",
    "                ey2 = ey + dy\n",
    "                ec2 = ec + 1\n",
    "                if ex2 >= 0 and ey2 >= 0:\n",
    "                    sss2  = \"%d,%d\"%(ex2,ey2)\n",
    "                    if not sss2 in past and free(ex2,ey2) and (n==1 or ec2 <= 50):\n",
    "                        if n == 1:\n",
    "                            if ex2==gx and ey2 == gy:\n",
    "                                #print(\"goal\")\n",
    "                                return ec2\n",
    "                        nm = [ex2,ey2,ec2]\n",
    "                        fix=f(nm)\n",
    "                        if not fix in futures:\n",
    "                            futures[fix]=[]\n",
    "                        futures[fix].append(nm)\n",
    "    if n == 2:\n",
    "        return len(past.keys())\n",
    "    return None\n",
    "        \n",
    "print(\"part1\", a(1)) #96 was right\n",
    "print(\"part2\", a(2)) #141 was right\n"
   ]
  }
 ],
 "metadata": {
  "kernelspec": {
   "display_name": "Python 3 (ipykernel)",
   "language": "python",
   "name": "python3"
  },
  "language_info": {
   "codemirror_mode": {
    "name": "ipython",
    "version": 3
   },
   "file_extension": ".py",
   "mimetype": "text/x-python",
   "name": "python",
   "nbconvert_exporter": "python",
   "pygments_lexer": "ipython3",
   "version": "3.8.10"
  }
 },
 "nbformat": 4,
 "nbformat_minor": 5
}
