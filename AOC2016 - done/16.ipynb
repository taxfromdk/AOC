{
 "cells": [
  {
   "cell_type": "code",
   "execution_count": 1,
   "id": "811dbdb1",
   "metadata": {},
   "outputs": [
    {
     "name": "stdout",
     "output_type": "stream",
     "text": [
      "part1 10111110010110110\n",
      "answ1 10111110010110110\n",
      "part2 01101100001100100\n",
      "answ2 01101100001100100\n"
     ]
    }
   ],
   "source": [
    "def a(part,tl):\n",
    "    \n",
    "    c=\"10011111011011001\"\n",
    "    while len(c)<tl:\n",
    "        c=c+\"0\"+c[::-1].replace('1','2').replace('0','1').replace('2','0')\n",
    "    c=c[:tl]\n",
    "    #print(len(c))\n",
    "    while len(c)%2==0:\n",
    "        #print(len(c))\n",
    "        #print(c)\n",
    "        parts=[c[x:x+2] for x in range(0,len(c),2)]\n",
    "        #print(parts)\n",
    "        c=['1' if x[0]==x[1] else '0' for x in parts]\n",
    "        c=\"\".join(c)\n",
    "    #print(c)\n",
    "    return c\n",
    "\n",
    "#10000111110000111\n",
    "print(\"part1\",a(1,272))\n",
    "print(\"answ1\",\"10111110010110110\")\n",
    "print(\"part2\",a(1, 35651584 ))\n",
    "print(\"answ2\",\"01101100001100100\")\n",
    "\n"
   ]
  }
 ],
 "metadata": {
  "kernelspec": {
   "display_name": "Python 3 (ipykernel)",
   "language": "python",
   "name": "python3"
  },
  "language_info": {
   "codemirror_mode": {
    "name": "ipython",
    "version": 3
   },
   "file_extension": ".py",
   "mimetype": "text/x-python",
   "name": "python",
   "nbconvert_exporter": "python",
   "pygments_lexer": "ipython3",
   "version": "3.8.10"
  }
 },
 "nbformat": 4,
 "nbformat_minor": 5
}
