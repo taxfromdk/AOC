{
 "cells": [
  {
   "cell_type": "code",
   "execution_count": 1,
   "id": "d1e72e86",
   "metadata": {
    "scrolled": false
   },
   "outputs": [
    {
     "name": "stdout",
     "output_type": "stream",
     "text": [
      "part1 19449262 19449262\n",
      "part2 119 119\n"
     ]
    }
   ],
   "source": [
    "def a(part):\n",
    "    o=[[0,2**32-1]]\n",
    "    for a,b in [[int(y) for y in x.strip().split(\"-\")] for x in open(\"20.txt\").readlines()]:\n",
    "        assert(a<=b)\n",
    "        no=[]\n",
    "        for oa,ob in o:\n",
    "            #block no touch\n",
    "            if ob < a or oa > b:\n",
    "                no.append([oa,ob])\n",
    "            else:\n",
    "                #touch\n",
    "                if oa<a:\n",
    "                    no.append([oa,a-1])\n",
    "                if b<ob:\n",
    "                    no.append([b+1,ob])\n",
    "        o=no\n",
    "      \n",
    "    \n",
    "    if part==2:\n",
    "        return sum([b-a+1 for a,b in o])\n",
    "    return min([x[0] for x in o])\n",
    "\n",
    "\n",
    "print(\"part1\",a(1),19449262)\n",
    "print(\"part2\",a(2),119)\n",
    "\n",
    "\n"
   ]
  }
 ],
 "metadata": {
  "kernelspec": {
   "display_name": "Python 3 (ipykernel)",
   "language": "python",
   "name": "python3"
  },
  "language_info": {
   "codemirror_mode": {
    "name": "ipython",
    "version": 3
   },
   "file_extension": ".py",
   "mimetype": "text/x-python",
   "name": "python",
   "nbconvert_exporter": "python",
   "pygments_lexer": "ipython3",
   "version": "3.8.10"
  }
 },
 "nbformat": 4,
 "nbformat_minor": 5
}
