{
 "cells": [
  {
   "cell_type": "code",
   "execution_count": 1,
   "id": "e56f0a7c",
   "metadata": {
    "scrolled": false
   },
   "outputs": [
    {
     "name": "stdout",
     "output_type": "stream",
     "text": [
      "part1 105\n",
      "part2 258\n"
     ]
    }
   ],
   "source": [
    "import re\n",
    "\n",
    "\n",
    "def abba(s):\n",
    "    for i in range(len(s)-3):\n",
    "        a=s[i:i+2]\n",
    "        b=\"\".join(reversed(s[i+2:i+4]))\n",
    "        #print(a,b)\n",
    "        if a == b and a[0] != a[1]:\n",
    "            \n",
    "            return True\n",
    "    return False\n",
    "\n",
    "def aba(s):\n",
    "    r=[]\n",
    "    for i in range(len(s)-2):\n",
    "        a=s[i]\n",
    "        b=s[i+1]\n",
    "        c=s[i+2]\n",
    "        if a==c and a!=b:\n",
    "            r.append(a+b+c)\n",
    "    return r\n",
    "\n",
    "def w(s):\n",
    "    return s[1]+s[0]+s[1]\n",
    "\n",
    "\n",
    "\n",
    "#print(abba(\"abba\"))\n",
    "tls=0\n",
    "ssl=0\n",
    "\n",
    "for x in [x.strip() for x in open(\"07.txt\").readlines()]:\n",
    "    #print(x)\n",
    "    inner=[]\n",
    "    outer=[]\n",
    "    inners=re.findall(\"\\[[a-z]+\\]\",x)\n",
    "\n",
    "    for i in range(len(inners)):\n",
    "        inner.append(inners[i][1:-1])\n",
    "        pts=x.split(inners[i])\n",
    "        outer.append(pts[0])\n",
    "        x=pts[1]\n",
    "        if i==len(inners)-1:\n",
    "            outer.append(x)\n",
    "    \n",
    "    \n",
    "    inner_abba=False\n",
    "    \n",
    "    \n",
    "    outer_aba=[]\n",
    "    outer_abba=False\n",
    "    for o in outer:\n",
    "        if abba(o):\n",
    "            outer_abba=True\n",
    "        outer_aba += aba(o)\n",
    "        \n",
    "       \n",
    "    \n",
    "    issl=False\n",
    "    for i in inner:\n",
    "        if abba(i):\n",
    "            inner_abba=True\n",
    "        for z in outer_aba:\n",
    "            if w(z) in i:\n",
    "                issl=True\n",
    "                break\n",
    "    if issl:\n",
    "        ssl+=1\n",
    "            \n",
    "    \n",
    "    if outer_abba and not inner_abba:\n",
    "        tls+=1\n",
    "        \n",
    "    \n",
    "    \n",
    "    \n",
    "print(\"part1\", tls)\n",
    "print(\"part2\", ssl)\n",
    "\n",
    "\n",
    "\n"
   ]
  }
 ],
 "metadata": {
  "kernelspec": {
   "display_name": "Python 3 (ipykernel)",
   "language": "python",
   "name": "python3"
  },
  "language_info": {
   "codemirror_mode": {
    "name": "ipython",
    "version": 3
   },
   "file_extension": ".py",
   "mimetype": "text/x-python",
   "name": "python",
   "nbconvert_exporter": "python",
   "pygments_lexer": "ipython3",
   "version": "3.8.10"
  }
 },
 "nbformat": 4,
 "nbformat_minor": 5
}
