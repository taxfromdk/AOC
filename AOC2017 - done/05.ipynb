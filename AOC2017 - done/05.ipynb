{
 "cells": [
  {
   "cell_type": "code",
   "execution_count": 14,
   "id": "17716f2d",
   "metadata": {},
   "outputs": [
    {
     "name": "stdout",
     "output_type": "stream",
     "text": [
      "part1: 326618 326618\n",
      "part2: 21841249 0\n"
     ]
    }
   ],
   "source": [
    "import copy\n",
    "\n",
    "p = [int(x.strip()) for x in open(\"05.txt\").readlines()]\n",
    "\n",
    "def s(program, part):\n",
    "    program = copy.deepcopy(program)\n",
    "    pc = 0\n",
    "    steps = 0\n",
    "    while pc < len(p):\n",
    "        tmp = pc\n",
    "        v = program[pc]\n",
    "        pc += v\n",
    "        if part == 1 or v < 3:\n",
    "            program[tmp]+=1\n",
    "        else:\n",
    "            program[tmp]-=1\n",
    "        steps += 1\n",
    "    return steps\n",
    "\n",
    "print(\"part1:\", s(p, 1), 326618)\n",
    "print(\"part2:\", s(p, 2), 21841249)\n",
    "\n",
    "    "
   ]
  }
 ],
 "metadata": {
  "kernelspec": {
   "display_name": "Python 3 (ipykernel)",
   "language": "python",
   "name": "python3"
  },
  "language_info": {
   "codemirror_mode": {
    "name": "ipython",
    "version": 3
   },
   "file_extension": ".py",
   "mimetype": "text/x-python",
   "name": "python",
   "nbconvert_exporter": "python",
   "pygments_lexer": "ipython3",
   "version": "3.8.10"
  }
 },
 "nbformat": 4,
 "nbformat_minor": 5
}
