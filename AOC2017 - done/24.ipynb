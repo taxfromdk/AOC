{
 "cells": [
  {
   "cell_type": "code",
   "execution_count": 1,
   "id": "6d4aab36",
   "metadata": {},
   "outputs": [
    {
     "name": "stdout",
     "output_type": "stream",
     "text": [
      "part1/2: 1868 1841 (1868, 1841)\n"
     ]
    }
   ],
   "source": [
    "import copy\n",
    "\n",
    "def strength(bridge):\n",
    "    acc=0\n",
    "    for a,b in bridge:\n",
    "        acc+=a+b\n",
    "    return acc\n",
    "\n",
    "_s=0\n",
    "_l=0\n",
    "_sl=0\n",
    "\n",
    "\n",
    "def expand(free,used):\n",
    "    \n",
    "    \n",
    "    s=strength(used)\n",
    "    l=len(used)\n",
    "    global _s\n",
    "    global _l\n",
    "    global _sl\n",
    "    if s>_s:\n",
    "        _s=s\n",
    "    if l>_l:\n",
    "        _l=l\n",
    "        _sl=s\n",
    "    if l==_l and s>_sl:\n",
    "        _sl=s\n",
    "    \n",
    "    for i in range(len(free)):\n",
    "        c,d=free[i]\n",
    "        m=0\n",
    "        if len(used):\n",
    "            _,m=used[-1]\n",
    "        \n",
    "        if not m in [c,d]:\n",
    "            continue\n",
    "            \n",
    "        newused=copy.deepcopy(used)\n",
    "        newfree=copy.deepcopy(free)\n",
    "        del newfree[i]\n",
    "        \n",
    "        N=[c,d]\n",
    "        if d==m:\n",
    "            N=[d,c]\n",
    "        \n",
    "        newused.append(N)\n",
    "        \n",
    "        expand(newfree, newused)\n",
    "        \n",
    "    \n",
    "\n",
    " \n",
    "\n",
    "f = [[int(y) for y in x.strip().split('/')] for x in open(\"24.txt\").readlines()]\n",
    "expand(f,[])\n",
    "\n",
    "print(\"part1/2:\", _s,_sl, (1868, 1841))\n",
    "\n",
    "\n",
    "\n",
    "\n",
    "\n",
    "\n"
   ]
  }
 ],
 "metadata": {
  "kernelspec": {
   "display_name": "Python 3 (ipykernel)",
   "language": "python",
   "name": "python3"
  },
  "language_info": {
   "codemirror_mode": {
    "name": "ipython",
    "version": 3
   },
   "file_extension": ".py",
   "mimetype": "text/x-python",
   "name": "python",
   "nbconvert_exporter": "python",
   "pygments_lexer": "ipython3",
   "version": "3.8.10"
  }
 },
 "nbformat": 4,
 "nbformat_minor": 5
}
