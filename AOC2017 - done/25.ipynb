{
 "cells": [
  {
   "cell_type": "code",
   "execution_count": 1,
   "id": "8d338be7",
   "metadata": {},
   "outputs": [
    {
     "name": "stdout",
     "output_type": "stream",
     "text": [
      "part1: 4225 4225\n"
     ]
    }
   ],
   "source": [
    "def part1():\n",
    "    tape={}\n",
    "    s='A'\n",
    "    ix=0\n",
    "    for step in range(12523873):\n",
    "        if s=='A':\n",
    "            if ix in tape:\n",
    "                ix-=1\n",
    "                s='E'\n",
    "            else:\n",
    "                tape[ix]=1\n",
    "                ix+=1\n",
    "                s='B'\n",
    "        elif s=='B':\n",
    "            if ix in tape:\n",
    "                ix+=1\n",
    "                s='F'\n",
    "            else:\n",
    "                tape[ix]=1\n",
    "                ix+=1\n",
    "                s='C'\n",
    "        elif s=='C':\n",
    "            if ix in tape:\n",
    "                del tape[ix]\n",
    "                ix+=1\n",
    "                s='B'\n",
    "                \n",
    "            else:\n",
    "                tape[ix]=1\n",
    "                ix-=1\n",
    "                s='D'\n",
    "        elif s=='D':\n",
    "            if ix in tape:\n",
    "                del tape[ix]\n",
    "                ix-=1\n",
    "                s='C'\n",
    "                \n",
    "            else:\n",
    "                tape[ix]=1\n",
    "                ix+=1\n",
    "                s='E'\n",
    "        elif s=='E':\n",
    "            if ix in tape:\n",
    "                del tape[ix]\n",
    "                ix+=1\n",
    "                s='D'\n",
    "                \n",
    "            else:\n",
    "                tape[ix]=1\n",
    "                ix-=1\n",
    "                s='A'\n",
    "        elif s=='F':\n",
    "            if ix in tape:\n",
    "                ix+=1\n",
    "                s='C'\n",
    "               \n",
    "            else:\n",
    "                tape[ix]=1\n",
    "                ix+=1\n",
    "                s='A'\n",
    "            \n",
    "    \n",
    "    return len(tape.keys())\n",
    "\n",
    "print(\"part1:\",part1(),4225)"
   ]
  }
 ],
 "metadata": {
  "kernelspec": {
   "display_name": "Python 3 (ipykernel)",
   "language": "python",
   "name": "python3"
  },
  "language_info": {
   "codemirror_mode": {
    "name": "ipython",
    "version": 3
   },
   "file_extension": ".py",
   "mimetype": "text/x-python",
   "name": "python",
   "nbconvert_exporter": "python",
   "pygments_lexer": "ipython3",
   "version": "3.8.10"
  }
 },
 "nbformat": 4,
 "nbformat_minor": 5
}
