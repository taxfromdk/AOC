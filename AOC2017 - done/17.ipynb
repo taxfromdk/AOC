{
 "cells": [
  {
   "cell_type": "code",
   "execution_count": 1,
   "id": "b2ba6ba8",
   "metadata": {
    "scrolled": false
   },
   "outputs": [
    {
     "name": "stdout",
     "output_type": "stream",
     "text": [
      "test1: 638 638\n",
      "part1: 808 808\n",
      "part2: 47465686 ?\n"
     ]
    }
   ],
   "source": [
    "\n",
    "def part1(s):\n",
    "    v=1\n",
    "    ix=0\n",
    "    l=[0]\n",
    "    while 1:\n",
    "        ix+=1\n",
    "        l.insert(ix,v)\n",
    "        if v == 2017:\n",
    "            ix=(ix+1)%len(l)\n",
    "            return l[ix]\n",
    "        v+=1\n",
    "        ix=(ix+s)%len(l)\n",
    "        \n",
    "def part2(s):\n",
    "    v=1\n",
    "    ix=0\n",
    "    l=[0]\n",
    "    while 1:\n",
    "        ix+=1\n",
    "        l.insert(ix,v)\n",
    "        if v%100000==0:\n",
    "            print(v,end=\"\\r\")\n",
    "        if v == 50_000_000:\n",
    "            ix=(l.index(0)+1)%len(l)\n",
    "            return l[ix]\n",
    "        v+=1\n",
    "        ix=(ix+s)%len(l)   \n",
    "\n",
    "        \n",
    "from collections import deque\n",
    "def part2_b(s):\n",
    "    d=deque([0])\n",
    "    for i in range(1,50_000_001):\n",
    "        if i %1000000==0:\n",
    "            print(i,end=\"\\r\")\n",
    "        d.rotate(-s)\n",
    "        d.append(i)\n",
    "    return d[d.index(0)+1]\n",
    "        \n",
    "        \n",
    "        \n",
    "           \n",
    "\n",
    "\n",
    "\n",
    "\n",
    "print(\"test1:\", part1(3),638)\n",
    "\n",
    "print(\"part1:\", part1(356),808)\n",
    "\n",
    "\n",
    "print(\"part2:\", part2_b(356),\"?\")\n"
   ]
  }
 ],
 "metadata": {
  "kernelspec": {
   "display_name": "Python 3 (ipykernel)",
   "language": "python",
   "name": "python3"
  },
  "language_info": {
   "codemirror_mode": {
    "name": "ipython",
    "version": 3
   },
   "file_extension": ".py",
   "mimetype": "text/x-python",
   "name": "python",
   "nbconvert_exporter": "python",
   "pygments_lexer": "ipython3",
   "version": "3.8.10"
  }
 },
 "nbformat": 4,
 "nbformat_minor": 5
}
