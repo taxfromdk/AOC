{
 "cells": [
  {
   "cell_type": "code",
   "execution_count": 10,
   "id": "0ea4be5a",
   "metadata": {},
   "outputs": [
    {
     "name": "stdout",
     "output_type": "stream",
     "text": [
      "part1:  36174 36174\n",
      "part2:  244 244\n"
     ]
    }
   ],
   "source": [
    "i = [[int(y) for y in x.strip().split(\"\\t\")] for x in open(\"02.txt\").readlines()]\n",
    "\n",
    "def part1(spreadsheet):\n",
    "    r = 0\n",
    "    for l in spreadsheet:\n",
    "        r += max(l) - min(l)\n",
    "    return r\n",
    "\n",
    "def part2(spreadsheet):\n",
    "    r = 0\n",
    "    for l in spreadsheet:\n",
    "        for x in range(len(l)):\n",
    "            for y in range(len(l)):\n",
    "                if x != y:\n",
    "                    a = l[x]\n",
    "                    b = l[y]                    \n",
    "                    if a % b == 0:\n",
    "                        r+= int(a/b)\n",
    "                        break;\n",
    "            \n",
    "    return r\n",
    "\n",
    "\n",
    "print(\"part1: \", part1(i), 36174)\n",
    "print(\"part2: \", part2(i), 244)\n",
    "#1047"
   ]
  }
 ],
 "metadata": {
  "kernelspec": {
   "display_name": "Python 3 (ipykernel)",
   "language": "python",
   "name": "python3"
  },
  "language_info": {
   "codemirror_mode": {
    "name": "ipython",
    "version": 3
   },
   "file_extension": ".py",
   "mimetype": "text/x-python",
   "name": "python",
   "nbconvert_exporter": "python",
   "pygments_lexer": "ipython3",
   "version": "3.8.10"
  }
 },
 "nbformat": 4,
 "nbformat_minor": 5
}
