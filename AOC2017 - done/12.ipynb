{
 "cells": [
  {
   "cell_type": "code",
   "execution_count": 1,
   "id": "88479c55",
   "metadata": {},
   "outputs": [
    {
     "name": "stdout",
     "output_type": "stream",
     "text": [
      "part1: 141 141\n",
      "part2: 171 171\n"
     ]
    }
   ],
   "source": [
    "import re\n",
    "\n",
    "r=[]\n",
    "\n",
    "class node:\n",
    "    def __init__(s,id):\n",
    "        s.id=id\n",
    "        s.c = []\n",
    "    \n",
    "    def connect(s, other):\n",
    "        if other.id == s.id:\n",
    "            #print(\"never connect to self\", s.id)\n",
    "            return\n",
    "        \n",
    "        if not other in s.c:\n",
    "            s.c.append(other)\n",
    "            other.connect(s)\n",
    "    \n",
    "    def search(s):\n",
    "        global r\n",
    "        \n",
    "        if s.id not in r:\n",
    "            r.append(s.id)\n",
    "            for c in s.c:\n",
    "                if not c.id in r:\n",
    "                    c.search() \n",
    "\n",
    "        \n",
    "        \n",
    "d=[[int(x) for x in re.findall(\"[0-9]+\", x.strip())] for x in open(\"12.txt\").readlines()]\n",
    "nodes={}\n",
    "for n in d:\n",
    "    nodes[n[0]] = node(n[0])\n",
    "\n",
    "for n in d:\n",
    "    for c in n[1:]:\n",
    "        nodes[n[0]].connect(nodes[c])\n",
    "    \n",
    "def cluster(id):        \n",
    "    global r\n",
    "    r = []\n",
    "    nodes[id].search()\n",
    "    return r\n",
    "    \n",
    "    \n",
    "\n",
    "print(\"part1:\", len(cluster(0)), 141)\n",
    "\n",
    "def part2():\n",
    "    clusters = []\n",
    "    for k in nodes.keys():\n",
    "        found = False\n",
    "        for c in clusters:\n",
    "            if k in c:\n",
    "                found = True\n",
    "        if not found:\n",
    "            global r\n",
    "            r = []\n",
    "            nodes[k].search()\n",
    "            clusters.append(r)\n",
    "    return clusters\n",
    "print(\"part2:\", len(part2()), 171)\n",
    "\n"
   ]
  }
 ],
 "metadata": {
  "kernelspec": {
   "display_name": "Python 3 (ipykernel)",
   "language": "python",
   "name": "python3"
  },
  "language_info": {
   "codemirror_mode": {
    "name": "ipython",
    "version": 3
   },
   "file_extension": ".py",
   "mimetype": "text/x-python",
   "name": "python",
   "nbconvert_exporter": "python",
   "pygments_lexer": "ipython3",
   "version": "3.8.10"
  }
 },
 "nbformat": 4,
 "nbformat_minor": 5
}
