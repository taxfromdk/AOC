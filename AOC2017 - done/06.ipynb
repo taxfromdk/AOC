{
 "cells": [
  {
   "cell_type": "code",
   "execution_count": 2,
   "id": "6a141100",
   "metadata": {},
   "outputs": [
    {
     "name": "stdout",
     "output_type": "stream",
     "text": [
      "Part1:  7864 0\n"
     ]
    }
   ],
   "source": [
    "import copy\n",
    "banks = [int(l.strip()) for l in open(\"06.txt\").read().split(\"\\t\")]\n",
    "\n",
    "\n",
    "def part1(b):\n",
    "    b = copy.deepcopy(b)\n",
    "    M = {}\n",
    "    l = len(b)\n",
    "    while tuple(b) not in M:\n",
    "        M[tuple(b)]=1\n",
    "        mx = max(b)\n",
    "        ix = b.index(mx)\n",
    "        b[ix] = 0\n",
    "        while mx:\n",
    "            ix = (ix + 1)%l \n",
    "            b[ix]+=1\n",
    "            mx -= 1\n",
    "        \n",
    "        \n",
    "    return len(M.keys())\n",
    "\n",
    "print(\"Part1: \", part1(banks), 7864)\n"
   ]
  },
  {
   "cell_type": "code",
   "execution_count": 6,
   "id": "8417752d",
   "metadata": {},
   "outputs": [
    {
     "name": "stdout",
     "output_type": "stream",
     "text": [
      "Part2:  1695 0\n"
     ]
    }
   ],
   "source": [
    "def part2(b):\n",
    "    b = copy.deepcopy(b)\n",
    "    M = {}\n",
    "    l = len(b)\n",
    "    step = 0\n",
    "    while 1:\n",
    "        if tuple(b) in M:\n",
    "            return step - M[tuple(b)]\n",
    "        M[tuple(b)]=step\n",
    "        mx = max(b)\n",
    "        ix = b.index(mx)\n",
    "        b[ix] = 0\n",
    "        while mx:\n",
    "            ix = (ix + 1)%l \n",
    "            b[ix]+=1\n",
    "            mx -= 1\n",
    "        step += 1\n",
    "        \n",
    "        \n",
    "    return len(M.keys())\n",
    "\n",
    "print(\"Part2: \", part2(banks), 1695)\n"
   ]
  }
 ],
 "metadata": {
  "kernelspec": {
   "display_name": "Python 3 (ipykernel)",
   "language": "python",
   "name": "python3"
  },
  "language_info": {
   "codemirror_mode": {
    "name": "ipython",
    "version": 3
   },
   "file_extension": ".py",
   "mimetype": "text/x-python",
   "name": "python",
   "nbconvert_exporter": "python",
   "pygments_lexer": "ipython3",
   "version": "3.8.10"
  }
 },
 "nbformat": 4,
 "nbformat_minor": 5
}
