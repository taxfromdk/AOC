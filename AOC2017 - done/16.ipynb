{
 "cells": [
  {
   "cell_type": "code",
   "execution_count": 1,
   "id": "77c8be97",
   "metadata": {},
   "outputs": [],
   "source": [
    "#note that one of the operations was spicific to moving spicific program names.\n",
    "#Hence the dance could not be converted to a single transformaton.\n",
    "\n",
    "#when this insight was had a cycle was fortunately found at step 60, making the billionth \n",
    "#configuration a simple lookup for the configuration experienced at billion%loopcycle\n",
    "\n",
    "ops = open(\"16.txt\").read().split(\",\")\n",
    "p0=\"\".join([chr(ord('a')+x) for x in range(16)])\n",
    "           \n",
    "def dance(p):\n",
    "    for o in ops:\n",
    "        #print(o)\n",
    "    \n",
    "        if o[0]=='x':\n",
    "            #Exchange, written xA/B, \n",
    "            #makes the programs at \n",
    "            #positions A and B swap \n",
    "            #places.\n",
    "\n",
    "            a,b=[int(x) for x in o[1:].split('/')]\n",
    "            #print(\"x\",a,b)\n",
    "            p = list(p)\n",
    "            t=p[a]\n",
    "            p[a]=p[b]\n",
    "            p[b]=t\n",
    "            p = \"\".join(p)\n",
    "        elif o[0]=='p':\n",
    "            #Partner, written pA/B, \n",
    "            #makes the programs named \n",
    "            #A and B swap places.\n",
    "\n",
    "            a,b=o[1:].split('/')\n",
    "            p=p.replace(a,'?').replace(b,a).replace('?',b)\n",
    "            #print(\"p\",a,b)\n",
    "        elif o[0]=='s':\n",
    "            #Spin, written sX, makes X \n",
    "            #programs move from the \n",
    "            #end to the front, but \n",
    "            #maintain their order \n",
    "            #otherwise. (For example, \n",
    "            #s3 on abcde produces cdeab).\n",
    "\n",
    "            a=int(o[1:])\n",
    "            for i in range(a):\n",
    "                p=p[-1:]+p[:-1]\n",
    "        else:\n",
    "        \n",
    "            print(\"fail\",o)\n",
    "    return p\n"
   ]
  },
  {
   "cell_type": "code",
   "execution_count": 2,
   "id": "94250cd4",
   "metadata": {},
   "outputs": [
    {
     "name": "stdout",
     "output_type": "stream",
     "text": [
      "part1: glnacbhedpfjkiom glnacbhedpfjkiom\n"
     ]
    }
   ],
   "source": [
    "def part1():\n",
    "    return dance(p0)\n",
    "\n",
    "print(\"part1:\",part1(), \"glnacbhedpfjkiom\")"
   ]
  },
  {
   "cell_type": "code",
   "execution_count": 3,
   "id": "342425ab",
   "metadata": {},
   "outputs": [
    {
     "name": "stdout",
     "output_type": "stream",
     "text": [
      "cycle after step 60\n",
      "part2: fmpanloehgkdcbji fmpanloehgkdcbji\n"
     ]
    }
   ],
   "source": [
    "def part2():\n",
    "    p=p0\n",
    "    i=0\n",
    "    M={}\n",
    "    cycle = None     \n",
    "    billion = 1_000_000_000\n",
    "    while i < billion:\n",
    "        if i % 1000 == 0:\n",
    "            print(i, end=\"\\r\")\n",
    "        if cycle is None:\n",
    "            M[i]=p\n",
    "        \n",
    "        p=dance(p)\n",
    "        i+=1\n",
    "        \n",
    "        if cycle == None:\n",
    "            if p == M[0]:\n",
    "                cycle = i\n",
    "                print(\"cycle after step\", i)            \n",
    "                #print(\"cyclical prediction of billionth dance: \", M[billion % cycle])\n",
    "                return  M[billion % cycle]\n",
    "        #else:\n",
    "        #    assert(p == M[i%cycle])\n",
    "    print()\n",
    "    return p\n",
    "            \n",
    "print(\"part2:\",part2(),\"fmpanloehgkdcbji\")\n",
    "\n",
    "\n",
    "\n",
    "\n"
   ]
  }
 ],
 "metadata": {
  "kernelspec": {
   "display_name": "Python 3 (ipykernel)",
   "language": "python",
   "name": "python3"
  },
  "language_info": {
   "codemirror_mode": {
    "name": "ipython",
    "version": 3
   },
   "file_extension": ".py",
   "mimetype": "text/x-python",
   "name": "python",
   "nbconvert_exporter": "python",
   "pygments_lexer": "ipython3",
   "version": "3.8.10"
  }
 },
 "nbformat": 4,
 "nbformat_minor": 5
}
