{
 "cells": [
  {
   "cell_type": "code",
   "execution_count": 1,
   "id": "f4cc1fd2",
   "metadata": {},
   "outputs": [
    {
     "name": "stdout",
     "output_type": "stream",
     "text": [
      "part1: 2508 2508\n"
     ]
    }
   ],
   "source": [
    "def elem(l):\n",
    "    a,b = [int(x) for x in l.strip().split(\": \")]\n",
    "    return [a,b]\n",
    "\n",
    "i = [elem(x) for x in open(\"13.txt\").readlines()]\n",
    "\n",
    "S = {}\n",
    "for d,r in i:\n",
    "    #    range, interval \n",
    "    S[d] = r, (r-2)*2+2\n",
    "\n",
    "#range is natural number\n",
    "#index is zero indexed\n",
    "\n",
    "#1 0 2 4 6 8 10\n",
    "#2  1 3 5 7 9\n",
    "#3   2 4 6 8\n",
    "#4    3 5 7\n",
    "#      4 6\n",
    "#       5\n",
    "#        6\n",
    "\n",
    "#range\n",
    "#2     2  0X2\n",
    "#3     4  0_X_4\n",
    "#4     6  0__X__6\n",
    "#5     8  0___X___8\n",
    "#6    10  0____X___NA\n",
    "#7    12\n",
    "#8    14\n",
    "\n",
    "#(N-2)*2+2\n",
    "\n",
    "#2 2\n",
    "#3 4\n",
    "#4 6\n",
    "#5 8\n",
    "#6 \n",
    "\n",
    "def part1(S):\n",
    "    m=max(S.keys())\n",
    "    i=0\n",
    "    a=0\n",
    "    while i <= m :\n",
    "        if i in S:\n",
    "            if i % S[i][1] == 0:\n",
    "                a += i*S[i][0]\n",
    "        i+=1\n",
    "    return a\n",
    "\n",
    "print(\"part1:\", part1(S), 2508)\n"
   ]
  },
  {
   "cell_type": "code",
   "execution_count": 2,
   "id": "3fc0ffb4",
   "metadata": {
    "scrolled": false
   },
   "outputs": [
    {
     "name": "stdout",
     "output_type": "stream",
     "text": [
      "part2: 3913186 3913186\n"
     ]
    }
   ],
   "source": [
    "def part2(S):\n",
    "    scanners=[]\n",
    "    for k in S.keys():\n",
    "        scanners.append((k, S[k][1]))\n",
    "    #print(scanners)\n",
    "    scanners.sort(key=lambda x: x[1])\n",
    "    #print(scanners)\n",
    "    t=0\n",
    "    while True:\n",
    "        if t%1000==0:\n",
    "            print(t,end=\"\\r\")\n",
    "        d=False\n",
    "        for ix,n in scanners:\n",
    "            if (t+ix)%n==0:\n",
    "                d=True\n",
    "                break\n",
    "        if not d:\n",
    "            return t\n",
    "        t+=1\n",
    "    \n",
    "    \n",
    "    return 9\n",
    "\n",
    "print(\"part2:\", part2(S), 3913186 )\n",
    "\n"
   ]
  }
 ],
 "metadata": {
  "kernelspec": {
   "display_name": "Python 3 (ipykernel)",
   "language": "python",
   "name": "python3"
  },
  "language_info": {
   "codemirror_mode": {
    "name": "ipython",
    "version": 3
   },
   "file_extension": ".py",
   "mimetype": "text/x-python",
   "name": "python",
   "nbconvert_exporter": "python",
   "pygments_lexer": "ipython3",
   "version": "3.8.10"
  }
 },
 "nbformat": 4,
 "nbformat_minor": 5
}
