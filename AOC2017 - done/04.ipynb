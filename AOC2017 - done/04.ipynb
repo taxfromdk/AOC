{
 "cells": [
  {
   "cell_type": "code",
   "execution_count": 31,
   "id": "655b5edf",
   "metadata": {},
   "outputs": [
    {
     "name": "stdout",
     "output_type": "stream",
     "text": [
      "part1: 337 337\n",
      "part2: 231 231\n"
     ]
    }
   ],
   "source": [
    "i = [x.strip().split(\" \") for x in open(\"04.txt\").readlines()]\n",
    "print(\"part1:\", sum([1 for x in i if len(x) == len(list(set(x))) ]),337)\n",
    "print(\"part2:\", sum([1 for x in [[\"\".join(list(sorted(list(y)))) for y in x] for x in i] if len(x) == len(list(set(x))) ]),231)"
   ]
  }
 ],
 "metadata": {
  "kernelspec": {
   "display_name": "Python 3 (ipykernel)",
   "language": "python",
   "name": "python3"
  },
  "language_info": {
   "codemirror_mode": {
    "name": "ipython",
    "version": 3
   },
   "file_extension": ".py",
   "mimetype": "text/x-python",
   "name": "python",
   "nbconvert_exporter": "python",
   "pygments_lexer": "ipython3",
   "version": "3.8.10"
  }
 },
 "nbformat": 4,
 "nbformat_minor": 5
}
