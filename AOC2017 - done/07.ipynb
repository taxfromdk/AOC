{
 "cells": [
  {
   "cell_type": "code",
   "execution_count": 1,
   "id": "b95d25d6",
   "metadata": {},
   "outputs": [
    {
     "name": "stdout",
     "output_type": "stream",
     "text": [
      "part1: dgoocsw dgoocsw\n"
     ]
    }
   ],
   "source": [
    "\n",
    "\n",
    "def part1():\n",
    "    prox = {}\n",
    "    lines = [x.strip() for x in open(\"07.txt\").readlines()]\n",
    "    for l in lines:\n",
    "        n,w = l.split(\" \")[:2]\n",
    "        w = int(w[1:-1])\n",
    "        children = []\n",
    "        if \" -> \" in l:\n",
    "            children = l.split(\" -> \")[-1].split(\", \")\n",
    "        #print(l)\n",
    "        #print(n,w, children)\n",
    "        prox[n] = [w, None, children]\n",
    "    \n",
    "        \n",
    "    for n in prox.keys():\n",
    "        #print(n)\n",
    "        w,p,children = prox[n]\n",
    "        for c in children:\n",
    "            #print(c)\n",
    "            prox[c][1] = n\n",
    "    \n",
    "    ix = list(prox.keys())[1]\n",
    "    while not prox[ix][1] is None:\n",
    "        #print(ix)\n",
    "        ix = prox[ix][1]        \n",
    "    return ix\n",
    "    \n",
    "\n",
    "\n",
    "print(\"part1:\", part1(), \"dgoocsw\")\n",
    "\n"
   ]
  },
  {
   "cell_type": "code",
   "execution_count": 2,
   "id": "ee18a81e",
   "metadata": {
    "scrolled": false
   },
   "outputs": [
    {
     "name": "stdout",
     "output_type": "stream",
     "text": [
      "part2: 1275 1275\n"
     ]
    }
   ],
   "source": [
    "prox = {}\n",
    "\n",
    "fix = None\n",
    "\n",
    "class Prog:\n",
    "    def __init__(s, n,w,c):\n",
    "        s.name = n\n",
    "        s.parent = None\n",
    "        s.children = c\n",
    "        s.w = w\n",
    "    \n",
    "    def gw(s, d=0):\n",
    "        w = []\n",
    "        rem=\"\"\n",
    "        #print(s.children)\n",
    "        for c in s.children:\n",
    "            w.append(prox[c].gw(d+1))\n",
    "        if len(w)>1:\n",
    "            if max(w)!=min(w):\n",
    "                rem=\"<===========\"\n",
    "                #print(\"!\", s.children, w)\n",
    "                h={}\n",
    "                for ww in w:\n",
    "                    if not ww in h:\n",
    "                        h[ww]=0\n",
    "                    h[ww]+=1\n",
    "                \n",
    "                h=[(k,v) for k,v in h.items()]\n",
    "                h.sort(key=lambda x:x[1])\n",
    "                diff = h[1][0]-h[0][0]\n",
    "                \n",
    "                \n",
    "                global fix\n",
    "                if fix is None:\n",
    "                    #print(diff)\n",
    "                    fix = prox[s.children[w.index(h[0][0])]].w + diff\n",
    "                    \n",
    "                    \n",
    "        r=sum(w)+s.w\n",
    "        #print(\"   \"))\n",
    "        s.r=\"%s%06d %d %s\"%(\" \"*d,r,s.w,rem)\n",
    "        return r \n",
    "    \n",
    "    def p(s):\n",
    "        print(s.r)\n",
    "        for c in s.children:\n",
    "            prox[c].p()\n",
    "                        \n",
    "                \n",
    "        \n",
    "        \n",
    "        \n",
    "        \n",
    "\n",
    "def part2():\n",
    "    \n",
    "    lines = [x.strip() for x in open(\"07.txt\").readlines()]\n",
    "    \n",
    "    for l in lines:\n",
    "        n,w = l.split(\" \")[:2]\n",
    "        w = int(w[1:-1])\n",
    "        children = []\n",
    "        if \" -> \" in l:\n",
    "            children = l.split(\" -> \")[-1].split(\", \")\n",
    "        #print(l)\n",
    "        #print(n,w, children)\n",
    "        prox[n] = Prog(n, w, children)\n",
    "    \n",
    "    prox[part1()].gw()   \n",
    "    #prox[part1()].p()\n",
    "    return fix\n",
    "    \n",
    "    \n",
    "    \n",
    "            \n",
    "\n",
    "#value found by manually inspecting printout\n",
    "# also via.code. on first unbalance find difference and use that to adjuat the aingle weight in the outlier\n",
    "print(\"part2:\", part2(), 1275)"
   ]
  }
 ],
 "metadata": {
  "kernelspec": {
   "display_name": "Python 3 (ipykernel)",
   "language": "python",
   "name": "python3"
  },
  "language_info": {
   "codemirror_mode": {
    "name": "ipython",
    "version": 3
   },
   "file_extension": ".py",
   "mimetype": "text/x-python",
   "name": "python",
   "nbconvert_exporter": "python",
   "pygments_lexer": "ipython3",
   "version": "3.8.10"
  }
 },
 "nbformat": 4,
 "nbformat_minor": 5
}
