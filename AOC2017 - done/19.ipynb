{
 "cells": [
  {
   "cell_type": "code",
   "execution_count": 1,
   "id": "898b0bed",
   "metadata": {
    "scrolled": true
   },
   "outputs": [
    {
     "name": "stdout",
     "output_type": "stream",
     "text": [
      "201 201\n",
      "part1/2: ('RYLONKEWB', 16016) ('RYLONKEWB', 16016)\n"
     ]
    }
   ],
   "source": [
    "M=open(\"19.txt\").readlines()\n",
    "w=len(M[0])-1 #remember newlines\n",
    "h=len(M)\n",
    "print(w,h)\n",
    "#for l in M:\n",
    "#    print(l)\n",
    "#    break\n",
    "\n",
    "#flat_ls = [item for sublist in M for item in sublist]\n",
    "#print(set(flat_ls))\n",
    "\n",
    "def part1():\n",
    "    #set start point\n",
    "    x=M[0].index('|')\n",
    "    y=0\n",
    "    d='d'\n",
    "    #print(x,y)\n",
    "    \n",
    "    def t(x,y):\n",
    "        if x in range(w) and y in range(h):\n",
    "            return M[y][x] != ' '\n",
    "        else:\n",
    "            return True\n",
    "    st=0\n",
    "    kp=[]\n",
    "    while st<20000 and x>=0 and x<w and y>=0 and y<h:\n",
    "        \n",
    "        n=M[y][x]\n",
    "        #print(x,y)\n",
    "        if not n in \"-|+\":\n",
    "            if not n in kp:\n",
    "                kp.append(n)\n",
    "            else:\n",
    "                return \"\".join(kp),st\n",
    "        \n",
    "        if d=='r':\n",
    "            if   t(x+1,  y):\n",
    "                x+=1\n",
    "            elif t(  x,y-1):\n",
    "                d='u'\n",
    "                y-=1\n",
    "            elif t(  x,y+1):\n",
    "                d='d'\n",
    "                y+=1\n",
    "        elif d=='u':\n",
    "            if   t(  x,y-1):\n",
    "                y-=1\n",
    "            elif t(x-1,  y):\n",
    "                d='l'\n",
    "                x-=1\n",
    "            elif t(x+1,  y):\n",
    "                d='r'\n",
    "                x+=1\n",
    "        elif d=='l':\n",
    "            if   t(x-1,  y):\n",
    "                x-=1\n",
    "            elif t(  x,y+1):\n",
    "                d='d'\n",
    "                y+=1\n",
    "            elif t(  x,y-1):\n",
    "                d='u'\n",
    "                y-=1\n",
    "        elif d=='d':\n",
    "            if   t(  x,y+1):\n",
    "                y+=1\n",
    "            elif t(x+1,  y):\n",
    "                d='r'\n",
    "                x+=1\n",
    "            elif t(x-1,  y):\n",
    "                d='l'\n",
    "                x-=1\n",
    "        else:\n",
    "            print(\"invalid dir\")\n",
    "            break\n",
    "        st+=1\n",
    "            \n",
    "            \n",
    "            \n",
    "    \n",
    "    \n",
    "    \n",
    "print(\"part1/2:\", part1(), (\"RYLONKEWB\",16016)) \n",
    "    \n",
    "    \n"
   ]
  }
 ],
 "metadata": {
  "kernelspec": {
   "display_name": "Python 3 (ipykernel)",
   "language": "python",
   "name": "python3"
  },
  "language_info": {
   "codemirror_mode": {
    "name": "ipython",
    "version": 3
   },
   "file_extension": ".py",
   "mimetype": "text/x-python",
   "name": "python",
   "nbconvert_exporter": "python",
   "pygments_lexer": "ipython3",
   "version": "3.8.10"
  }
 },
 "nbformat": 4,
 "nbformat_minor": 5
}
