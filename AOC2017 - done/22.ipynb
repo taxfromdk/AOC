{
 "cells": [
  {
   "cell_type": "code",
   "execution_count": 1,
   "id": "a2ab99c2",
   "metadata": {
    "scrolled": false
   },
   "outputs": [
    {
     "name": "stdout",
     "output_type": "stream",
     "text": [
      "test1: 41 41\n",
      "test1: 5587 5587\n",
      "part1: 5280 5280\n",
      "test2: 26 26\n",
      "test2: 2511944 2511944\n",
      "part2: 2512261 2512261\n"
     ]
    }
   ],
   "source": [
    "import copy\n",
    "def part(M, N, part=1):\n",
    "    M=copy.deepcopy(M)\n",
    "    #for l in M:\n",
    "    #    print(\"\".join(l))\n",
    "    h = len(M)\n",
    "    w = len(M[0])\n",
    "    \n",
    "    #print(M)\n",
    "    m = {}\n",
    "    for y in range(len(M)):\n",
    "        for x in range(len(M[0])):\n",
    "            if M[y][x] not in  '.#':\n",
    "                print(\"bad input\",M[y][x])\n",
    "            if M[y][x] == '#':\n",
    "                m[(x,y)] = '#'\n",
    "            \n",
    "    M=m\n",
    "    #print(M)\n",
    "    \n",
    "    OM=copy.deepcopy(M )\n",
    "    \n",
    "    x = int((w-1)/2)\n",
    "    y = int((h-1)/2)\n",
    "    d = 0  #up\n",
    "    \n",
    "    #print(w,h,x,y,d)\n",
    "    \n",
    "    infections = 0\n",
    "    \n",
    "    for i in range(N):\n",
    "        n = (x,y)\n",
    "        if part == 1:\n",
    "            if not n in M:\n",
    "                #turn left\n",
    "                d = (d-1)%4\n",
    "                M[n] = '#'\n",
    "                \n",
    "                infections+=1\n",
    "            else:\n",
    "                #turn right\n",
    "                d = (d+1)%4            \n",
    "                del M[n]    \n",
    "        else:\n",
    "            if not n in M:\n",
    "                #turn left\n",
    "                d = (d-1)%4\n",
    "                M[n] = 'W'\n",
    "            elif M[n] == 'W':\n",
    "                M[n] = '#'\n",
    "                infections+=1\n",
    "            elif M[n]== '#':\n",
    "                #turn right\n",
    "                d = (d+1)%4\n",
    "                M[n] = 'F'\n",
    "            elif M[n]=='F':\n",
    "                d = (d+2)%4\n",
    "                del M[n]\n",
    "            else:\n",
    "                print(\"bad state\",M[n])\n",
    "              \n",
    "        \n",
    "        #The virus carrier moves forward one node in the direction it is facing.\n",
    "        dx,dy = [[0,-1],[1,0],[0,1],[-1,0]][d]\n",
    "        \n",
    "        x+=dx\n",
    "        y+=dy\n",
    "        \n",
    "    #print(M)\n",
    "    return infections\n",
    "\n",
    "test_M = [list(x) for x in \"..#/#../...\".split(\"/\")]\n",
    "real_M = [list(x.strip()) for x in open(\"22.txt\").readlines()]\n",
    "\n",
    "print(\"test1:\", part(test_M,         70, 1),      41)\n",
    "print(\"test1:\", part(test_M,     10_000, 1),    5587)\n",
    "print(\"part1:\", part(real_M,     10_000, 1),    5280)\n",
    "print(\"test2:\", part(test_M,        100, 2),      26)\n",
    "print(\"test2:\", part(test_M, 10_000_000, 2), 2511944)\n",
    "print(\"part2:\", part(real_M, 10_000_000, 2), 2512261)\n",
    "\n",
    "\n"
   ]
  },
  {
   "cell_type": "code",
   "execution_count": null,
   "id": "5aff084d",
   "metadata": {},
   "outputs": [],
   "source": []
  }
 ],
 "metadata": {
  "kernelspec": {
   "display_name": "Python 3 (ipykernel)",
   "language": "python",
   "name": "python3"
  },
  "language_info": {
   "codemirror_mode": {
    "name": "ipython",
    "version": 3
   },
   "file_extension": ".py",
   "mimetype": "text/x-python",
   "name": "python",
   "nbconvert_exporter": "python",
   "pygments_lexer": "ipython3",
   "version": "3.8.10"
  }
 },
 "nbformat": 4,
 "nbformat_minor": 5
}
