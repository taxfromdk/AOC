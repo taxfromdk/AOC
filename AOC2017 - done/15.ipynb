{
 "cells": [
  {
   "cell_type": "code",
   "execution_count": 1,
   "id": "194d2986",
   "metadata": {},
   "outputs": [
    {
     "name": "stdout",
     "output_type": "stream",
     "text": [
      "39900000\n",
      "test1: 588 588\n",
      "39900000\n",
      "part1: 577 577\n"
     ]
    }
   ],
   "source": [
    "A,B=[int(x.split(\" \")[-1]) for x in [l.strip() for l in open(\"15.txt\").readlines()]]\n",
    "\n",
    "def nxt(a,b):\n",
    "    va=16807\n",
    "    vb=48271\n",
    "    n=2147483647\n",
    "    return (a*va)%n,(b*vb)%n\n",
    "\n",
    "def part1(a,b):\n",
    "    m=0\n",
    "    for x in range(40_000_000):\n",
    "        if x % 100000==0:\n",
    "            print(x,end=\"\\r\")\n",
    "        a,b=nxt(a,b)\n",
    "        if a & 0xffff == b & 0xffff:\n",
    "            m+=1\n",
    "        \n",
    "    print()\n",
    "    return m\n",
    "\n",
    "print(\"test1:\", part1(65,8921), 588)\n",
    "print(\"part1:\", part1(A,B), 577)\n",
    "\n",
    "\n",
    "\n"
   ]
  },
  {
   "cell_type": "code",
   "execution_count": 2,
   "id": "ae3918a6",
   "metadata": {},
   "outputs": [
    {
     "name": "stdout",
     "output_type": "stream",
     "text": [
      "test2: 309 309\n",
      "real2: 316 316\n"
     ]
    }
   ],
   "source": [
    "def generator(v,m,d):\n",
    "    \n",
    "    while 1:\n",
    "        v=(v*m)%2147483647\n",
    "        if v % d== 0:\n",
    "            yield v\n",
    "        \n",
    "        \n",
    "\n",
    "\n",
    "\n",
    "def part2(a,b):\n",
    "\n",
    "    aaa = generator(a,16807,4)\n",
    "    bbb = generator(b,48271,8)\n",
    "    m=0\n",
    "    for x in range(5_000_000):\n",
    "        if x % 100000==0:\n",
    "            print(x,end=\"\\r\")\n",
    "        \n",
    "        if next(aaa) & 0xffff == next(bbb) & 0xffff:\n",
    "            m+=1\n",
    "    return m\n",
    "\n",
    "\n",
    "\n",
    "\n",
    "print(\"test2:\", part2(65,8921), 309)\n",
    "print(\"real2:\", part2(A,B), 316)\n",
    "\n",
    "\n"
   ]
  }
 ],
 "metadata": {
  "kernelspec": {
   "display_name": "Python 3 (ipykernel)",
   "language": "python",
   "name": "python3"
  },
  "language_info": {
   "codemirror_mode": {
    "name": "ipython",
    "version": 3
   },
   "file_extension": ".py",
   "mimetype": "text/x-python",
   "name": "python",
   "nbconvert_exporter": "python",
   "pygments_lexer": "ipython3",
   "version": "3.8.10"
  }
 },
 "nbformat": 4,
 "nbformat_minor": 5
}
