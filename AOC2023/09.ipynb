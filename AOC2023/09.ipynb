{
 "cells": [
  {
   "cell_type": "code",
   "execution_count": 1,
   "id": "46d71c70",
   "metadata": {},
   "outputs": [
    {
     "name": "stdout",
     "output_type": "stream",
     "text": [
      "p1: 1757008019 1757008019\n",
      "p2: 995 2\n"
     ]
    }
   ],
   "source": [
    "def parse(fn):\n",
    "    return [[int(y) for y in x.split(\" \")] for x in open(fn).read().split(\"\\n\")]\n",
    "\n",
    "def est(s):\n",
    "    lines=[s]\n",
    "    while len(set(lines[-1]))!=1 or lines[-1][0]:\n",
    "        l=[]\n",
    "        ll=lines[-1]\n",
    "        for i in range(len(ll)-1):\n",
    "            l.append(ll[i+1]-ll[i])\n",
    "        lines.append(l)\n",
    "    return sum([x[-1] for x in lines])\n",
    "\n",
    "def p1(fn):\n",
    "    a=0\n",
    "    for s in parse(fn):\n",
    "        a+=est(s)\n",
    "    return a\n",
    "\n",
    "print(\"p1:\",p1(\"09.txt\"), 1757008019)\n",
    "\n",
    "\n",
    "def est2(s):\n",
    "    lines=[s]\n",
    "    while len(set(lines[-1]))!=1 or lines[-1][0]:\n",
    "        l=[]\n",
    "        ll=lines[-1]\n",
    "        for i in range(len(ll)-1):\n",
    "            l.append(ll[i+1]-ll[i])\n",
    "        lines.append(l)\n",
    "    \n",
    "    l=0\n",
    "    for i in reversed(list(range(len(lines)-1))):\n",
    "        l=lines[i][0]-l\n",
    "    return l\n",
    "\n",
    "\n",
    "def p2(fn):\n",
    "    a=0\n",
    "    for s in parse(fn):\n",
    "        a+=est2(s)\n",
    "    return a\n",
    "\n",
    "print(\"p2:\",p2(\"09.txt\"), 995)\n",
    "\n",
    "\n"
   ]
  }
 ],
 "metadata": {
  "kernelspec": {
   "display_name": "Python 3 (ipykernel)",
   "language": "python",
   "name": "python3"
  },
  "language_info": {
   "codemirror_mode": {
    "name": "ipython",
    "version": 3
   },
   "file_extension": ".py",
   "mimetype": "text/x-python",
   "name": "python",
   "nbconvert_exporter": "python",
   "pygments_lexer": "ipython3",
   "version": "3.8.10"
  }
 },
 "nbformat": 4,
 "nbformat_minor": 5
}
