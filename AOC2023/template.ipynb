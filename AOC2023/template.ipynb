{
 "cells": [
  {
   "cell_type": "code",
   "execution_count": null,
   "id": "33319806",
   "metadata": {},
   "outputs": [],
   "source": [
    "def parse(fn):\n",
    "    return []\n",
    "\n",
    "def part1(fn):\n",
    "    D=parse(fn)\n",
    "    \n",
    "    return 1\n",
    "\n",
    "def part2(fn):\n",
    "    D=parse(fn)\n",
    "    \n",
    "    return 2\n",
    "\n",
    "print(\"part1:\",part1(\"05.txt\"),1)\n",
    "print(\"part2:\",part2(\"05.txt\"),1)"
   ]
  }
 ],
 "metadata": {
  "kernelspec": {
   "display_name": "Python 3 (ipykernel)",
   "language": "python",
   "name": "python3"
  },
  "language_info": {
   "codemirror_mode": {
    "name": "ipython",
    "version": 3
   },
   "file_extension": ".py",
   "mimetype": "text/x-python",
   "name": "python",
   "nbconvert_exporter": "python",
   "pygments_lexer": "ipython3",
   "version": "3.8.10"
  }
 },
 "nbformat": 4,
 "nbformat_minor": 5
}
