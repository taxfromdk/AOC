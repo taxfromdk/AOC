{
 "cells": [
  {
   "cell_type": "code",
   "execution_count": 1,
   "id": "778f9a81",
   "metadata": {
    "scrolled": false
   },
   "outputs": [],
   "source": [
    "from sympy.solvers import solve\n",
    "from sympy import Symbol\n",
    "import sympy as sp\n",
    "\n",
    "def crs1(a,b):\n",
    "    p0,v0=a\n",
    "    \n",
    "    p1,v1=b\n",
    "    u=Symbol('u')\n",
    "    v=Symbol('v')\n",
    "    \n",
    "    #p0-p1+u*v0-v*v1)\n",
    "    e=[]\n",
    "    e.append(p0[0]-p1[0]+u*v0[0]-v*v1[0])\n",
    "    e.append(p0[1]-p1[1]+u*v0[1]-v*v1[1])\n",
    "    r=solve(e, [u,v])\n",
    "    if not u in r:\n",
    "        return False,0,0\n",
    "    u=r[u].evalf()\n",
    "    v=r[v].evalf()\n",
    "    x=p0[0]+u*v0[0]\n",
    "    y=p0[1]+u*v0[1]\n",
    "    i=u>0 and v>0\n",
    "    #print(i,x,y)\n",
    "    return(i,x,y)\n",
    "    \n",
    "    \n",
    "\n",
    "\n",
    "\n",
    "\n",
    "def parse(fn):\n",
    "    lines=open(fn).read().split('\\n')\n",
    "    P=[]\n",
    "    for l in lines:\n",
    "        p,v=l.split(' @ ')\n",
    "        p=[int(x) for x in p.split(', ')]\n",
    "        v=[int(x) for x in v.split(', ')]\n",
    "        P.append((tuple(p),tuple(v)))\n",
    "    return P\n",
    "\n",
    "\n",
    "\n",
    "    \n",
    "\n",
    "\n",
    "\n",
    "def p1(fn):\n",
    "    P=parse(fn)\n",
    "    l=len(P)\n",
    "    print(l)\n",
    "    l_min = 200000000000000\n",
    "    l_max = 400000000000000\n",
    "    acc=0\n",
    "    for a in range(l):\n",
    "        print(a,acc,end='\\r')\n",
    "        for b in range(a,l):\n",
    "            if a!=b:\n",
    "                r=crs1(P[a],P[b])\n",
    "                if r:\n",
    "                    i,x,y=r\n",
    "                    if i:\n",
    "                        if x>=l_min and x<=l_max:\n",
    "                            if y>=l_min and y<=l_max:\n",
    "                                acc+=1\n",
    "    return acc\n",
    "\n",
    "\n",
    "#print(\"\\np1:\",p1(\"24.txt\"),27732)\n",
    "\n"
   ]
  },
  {
   "cell_type": "code",
   "execution_count": 2,
   "id": "a7cc7876",
   "metadata": {},
   "outputs": [
    {
     "name": "stdout",
     "output_type": "stream",
     "text": [
      "\n",
      "p2: 641619849766168 641619849766168\n"
     ]
    }
   ],
   "source": [
    "\n",
    "def p2(fn):\n",
    "    P=parse(fn)\n",
    "    unknowns=sp.symbols(\"x,y,z,dx,dy,dz,t1,t2,t3\") \n",
    "    x,y,z,dx,dy,dz,*time=unknowns\n",
    "    eq=[]\n",
    "    for t,h in zip(time,P[:3]):\n",
    "        #print(t,h)\n",
    "        p,v=h\n",
    "        eq.append(sp.Eq(x+t*dx,p[0]+t*v[0]))\n",
    "        eq.append(sp.Eq(y+t*dy,p[1]+t*v[1]))\n",
    "        eq.append(sp.Eq(z+t*dz,p[2]+t*v[2]))\n",
    "    sol=sp.solve(eq,unknowns).pop()\n",
    "    #print(sol)\n",
    "    return sum(sol[:3])\n",
    "\n",
    "print(\"\\np2:\",p2(\"24.txt\"), 641619849766168)\n"
   ]
  }
 ],
 "metadata": {
  "kernelspec": {
   "display_name": "Python 3 (ipykernel)",
   "language": "python",
   "name": "python3"
  },
  "language_info": {
   "codemirror_mode": {
    "name": "ipython",
    "version": 3
   },
   "file_extension": ".py",
   "mimetype": "text/x-python",
   "name": "python",
   "nbconvert_exporter": "python",
   "pygments_lexer": "ipython3",
   "version": "3.8.10"
  }
 },
 "nbformat": 4,
 "nbformat_minor": 5
}
