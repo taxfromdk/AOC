{
 "cells": [
  {
   "cell_type": "code",
   "execution_count": 1,
   "id": "faa5b9f3",
   "metadata": {},
   "outputs": [
    {
     "name": "stdout",
     "output_type": "stream",
     "text": [
      "part1:2447 2447\n",
      "part2:56322 56322\n"
     ]
    }
   ],
   "source": [
    "def parse(l):\n",
    "    #print(l)\n",
    "    l=l.replace(\"\\n\",\"\")\n",
    "    r={}\n",
    "    l=l.split(\":\")\n",
    "    r[\"id\"]=int(l[0].split(\" \")[1])\n",
    "    r[\"g\"]=[]\n",
    "    for g in l[1].split(\";\"):\n",
    "        gg={}\n",
    "        #print(g)\n",
    "        \n",
    "        for t in g.split(\",\"):\n",
    "            tt=t.split(\" \")\n",
    "            \n",
    "             \n",
    "            gg[tt[2]]=int(tt[1])\n",
    "              \n",
    "                \n",
    "        r[\"g\"].append(gg)\n",
    "    #print(r)\n",
    "    return r\n",
    "\n",
    "\n",
    "def part1(f):\n",
    "    d=open(f,\"r\").readlines()\n",
    "    \n",
    "    p={}\n",
    "    p[\"red\"]=12\n",
    "    p[\"green\"]=13\n",
    "    p[\"blue\"]=14\n",
    "    r=0\n",
    "    for l in d:\n",
    "        v=1\n",
    "        g=parse(l)\n",
    "        for t in g[\"g\"]:\n",
    "            for k in t.keys():\n",
    "                if t[k]>p[k]:\n",
    "                    v=0\n",
    "        if v:\n",
    "            r+=g[\"id\"]\n",
    "        \n",
    "    \n",
    "    \n",
    "    return r\n",
    "\n",
    "def part2(f):\n",
    "    d=open(f,\"r\").readlines()\n",
    "    \n",
    "    \n",
    "    r=0\n",
    "    for l in d:\n",
    "        \n",
    "        g=parse(l)\n",
    "        m={}\n",
    "        m[\"red\"]=0\n",
    "        m[\"green\"]=0\n",
    "        m[\"blue\"]=0\n",
    "        for t in g[\"g\"]:\n",
    "            for k in t.keys():\n",
    "                m[k]=max(m[k],t[k])\n",
    "        p=1\n",
    "        for k in m.keys():\n",
    "            p*=m[k]\n",
    "        r+=p\n",
    "    return r\n",
    "\n",
    "print(\"part1:%d\"%(part1(\"02.txt\")), 2447)\n",
    "print(\"part2:%d\"%(part2(\"02.txt\")), 56322)\n",
    "     \n"
   ]
  }
 ],
 "metadata": {
  "kernelspec": {
   "display_name": "Python 3 (ipykernel)",
   "language": "python",
   "name": "python3"
  },
  "language_info": {
   "codemirror_mode": {
    "name": "ipython",
    "version": 3
   },
   "file_extension": ".py",
   "mimetype": "text/x-python",
   "name": "python",
   "nbconvert_exporter": "python",
   "pygments_lexer": "ipython3",
   "version": "3.8.10"
  }
 },
 "nbformat": 4,
 "nbformat_minor": 5
}
