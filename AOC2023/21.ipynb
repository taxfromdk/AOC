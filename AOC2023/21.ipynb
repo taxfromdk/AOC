{
 "cells": [
  {
   "cell_type": "code",
   "execution_count": 1,
   "id": "00bb9444",
   "metadata": {},
   "outputs": [
    {
     "name": "stdout",
     "output_type": "stream",
     "text": [
      "p1: 3666 3666\n"
     ]
    }
   ],
   "source": [
    "from functools import lru_cache\n",
    "import sys\n",
    "\n",
    "\n",
    "\n",
    "def parse(fn):\n",
    "    M={}\n",
    "    w=0\n",
    "    h=0\n",
    "    for y,l in enumerate(open(fn).read().split(\"\\n\")):\n",
    "        for x,c in enumerate(l):\n",
    "            if c=='S':\n",
    "                M['S']=(x,y)\n",
    "                M[(x,y)]='.'\n",
    "            else:\n",
    "                M[(x,y)]=c\n",
    "            w=max(w,x)\n",
    "        h=max(h,y)\n",
    "    return M,w+1,h+1\n",
    "\n",
    "M=None\n",
    "\n",
    "@lru_cache(maxsize=None)   \n",
    "def ep(p,N,d=0):\n",
    "    global M\n",
    "    if d==N:\n",
    "        return [p]\n",
    "    r=[]\n",
    "    x,y=p\n",
    "    for dx,dy in [(-1,0),(0,-1),(1,0),(0,1)]:\n",
    "        pp=(x+dx,y+dy)\n",
    "        if pp in M and M[pp]=='.':\n",
    "            r+=ep(pp,N,d+1)\n",
    "    r=list(set(r))\n",
    "    return r\n",
    "    \n",
    "\n",
    "def p1(fn):\n",
    "    global M\n",
    "    M,_,__=parse(fn)\n",
    "    return len(ep(M['S'],64))\n",
    "\n",
    "\n",
    "print(\"p1:\",p1(\"21.txt\"),3666)\n"
   ]
  },
  {
   "cell_type": "code",
   "execution_count": null,
   "id": "afa6c2a9",
   "metadata": {
    "scrolled": false
   },
   "outputs": [
    {
     "name": "stdout",
     "output_type": "stream",
     "text": [
      "64 3666\n",
      "99 8691\n",
      "199 34940\n"
     ]
    }
   ],
   "source": [
    "from sympy.solvers import solve\n",
    "from sympy import Symbol\n",
    "\n",
    "\n",
    "def sortmeout(X,Y):\n",
    "    N = 26501365\n",
    "    a = Symbol('a')\n",
    "    b = Symbol('b')\n",
    "    c = Symbol('c')\n",
    "    \n",
    "    r=solve([a*X[0]*X[0] + b*X[0] +c - Y[0],  a*X[1]*X[1] + b*X[1] +c - Y[1],  a*X[2]*X[2] + b*X[2] +c - Y[2] ], [a,b,c], dict=False)\n",
    "    \n",
    "    return int((r[a]*N*N+r[b]*N+r[c]).evalf())\n",
    "    \n",
    "\n",
    "\n",
    "    \n",
    "def p2(fn):\n",
    "    M,w,h=parse(fn)\n",
    "    X=[]\n",
    "    Y=[]\n",
    "    H={}\n",
    "    for i in range(3*131+65):\n",
    "        if i==0:\n",
    "            H[i]={M['S']:1}\n",
    "        else:\n",
    "            N={}\n",
    "            #print(i)\n",
    "            for p in H[i-1].keys():\n",
    "                x,y=p\n",
    "               \n",
    "                for dx,dy in [(-1,0),(0,-1),(1,0),(0,1)]:\n",
    "                    xx=x+dx\n",
    "                    yy=y+dy\n",
    "                    xxx=xx%w\n",
    "                    yyy=yy%h\n",
    "                    pp=(xx,yy)\n",
    "                    ppp=(xxx,yyy)\n",
    "                    if M[ppp]=='.' and not pp in N:\n",
    "                        N[pp]=1\n",
    "            H[i]=N\n",
    "            \n",
    "        X.append(i)\n",
    "        Y.append(len(H[i]))\n",
    "        if i==64 or (i+1)%100==0:\n",
    "            print(X[-1],Y[-1])\n",
    "    XX=[]\n",
    "    YY=[]\n",
    "    for i in range(3):\n",
    "        ii=i*131+65\n",
    "        XX.append(X[ii])\n",
    "        YY.append(Y[ii])\n",
    "        \n",
    "    return sortmeout(XX,YY)\n",
    "\n",
    "\n",
    "print(\"p2:\",p2(\"21.txt\"),609298746763952)\n",
    "\n",
    "                        \n",
    "    \n",
    "    \n",
    "    \n",
    "    "
   ]
  }
 ],
 "metadata": {
  "kernelspec": {
   "display_name": "Python 3 (ipykernel)",
   "language": "python",
   "name": "python3"
  },
  "language_info": {
   "codemirror_mode": {
    "name": "ipython",
    "version": 3
   },
   "file_extension": ".py",
   "mimetype": "text/x-python",
   "name": "python",
   "nbconvert_exporter": "python",
   "pygments_lexer": "ipython3",
   "version": "3.8.10"
  }
 },
 "nbformat": 4,
 "nbformat_minor": 5
}
