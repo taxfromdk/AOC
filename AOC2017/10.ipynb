{
 "cells": [
  {
   "cell_type": "code",
   "execution_count": 1,
   "id": "575623bd",
   "metadata": {
    "scrolled": false
   },
   "outputs": [
    {
     "name": "stdout",
     "output_type": "stream",
     "text": [
      "[3, 4, 1, 5]\n",
      "test1: 12 12\n",
      "[94, 84, 0, 79, 2, 27, 81, 1, 123, 93, 218, 23, 103, 255, 254, 243]\n",
      "part1: 23715 23715\n"
     ]
    }
   ],
   "source": [
    "\n",
    "test_data=[3,4,1,5]\n",
    "real_data=[int(x.strip()) for x in open(\"10.txt\").read().split(\",\")]  \n",
    "class Node:\n",
    "    def __init__(s, v):\n",
    "        s.v = v\n",
    "        s.next=None\n",
    "\n",
    "#print\n",
    "def p(L,n):\n",
    "    return\n",
    "    r=\"\"\n",
    "    for i in range(len(L)):\n",
    "        if n == i:\n",
    "            r+= \"[%d]\"%(L[i])\n",
    "        else:\n",
    "            r+= \" %d \"%(L[i])\n",
    "    print(r)\n",
    "\n",
    "def solve(seq, sz):\n",
    "    print(seq)\n",
    "    L=list(range(sz))\n",
    "    n=0\n",
    "    skip_steps=0\n",
    "    p(L,n)\n",
    "    for l in seq:\n",
    "        #print(\"l:%d skip:%d\"%(l,skip_steps))\n",
    "        #pickup values\n",
    "        t=[]\n",
    "        b=n\n",
    "        for j in range(l):\n",
    "            t.append(L[b])\n",
    "            b=(b+1)%sz\n",
    "            \n",
    "        #insert reverse and move\n",
    "        for v in t[::-1]:\n",
    "            L[n]=v\n",
    "            n=(n+1)%sz\n",
    "        n=(n+skip_steps)%sz\n",
    "        skip_steps+=1\n",
    "        \n",
    "        p(L,n)\n",
    "    \n",
    "    #mult two first numbers as result\n",
    "    return L[0]*L[1]\n",
    "    \n",
    "print(\"test1:\", solve(test_data,  5), 12)\n",
    "print(\"part1:\", solve(real_data,256),23715)\n",
    "\n",
    "\n"
   ]
  },
  {
   "cell_type": "code",
   "execution_count": 2,
   "id": "0ba1daee",
   "metadata": {},
   "outputs": [
    {
     "name": "stdout",
     "output_type": "stream",
     "text": [
      "test2: a2582a3a0e66e6e86e3812dcb672a272 a2582a3a0e66e6e86e3812dcb672a272\n",
      "test2: 33efeb34ea91902bb2f59c9920caa6cd 33efeb34ea91902bb2f59c9920caa6cd\n",
      "test2: 3efbe78a8d82f29979031a4aa0b16a9d 3efbe78a8d82f29979031a4aa0b16a9d\n",
      "test2: 63960835bcdc130f0b66d7ff4f6a5a8e 63960835bcdc130f0b66d7ff4f6a5a8e\n",
      "part2: 541dc3180fd4b72881e39cf925a50253 0\n"
     ]
    }
   ],
   "source": [
    "\n",
    "\n",
    "def solve2(i):\n",
    "    seq=[ord(x) for x in i]+[17, 31, 73, 47, 23]\n",
    "    #print(i)\n",
    "    \n",
    "    L=list(range(256))\n",
    "    n=0\n",
    "    skip_steps=0\n",
    "    for _ in range(64):\n",
    "        \n",
    "        for l in seq:\n",
    "            if l>256:\n",
    "                continue\n",
    "            \n",
    "        \n",
    "            t=[]\n",
    "            b=n\n",
    "            for j in range(l):\n",
    "                t.append(L[b])\n",
    "                b=(b+1)%256\n",
    "            \n",
    "            #insert reverse and move\n",
    "            for v in t[::-1]:\n",
    "                L[n]=v\n",
    "                n=(n+1)%256\n",
    "            n=(n+skip_steps)%256\n",
    "            skip_steps+=1\n",
    "    o=\"\"\n",
    "    while len(L):\n",
    "        l=L[:16]\n",
    "        L=L[16:]\n",
    "        a=None\n",
    "        for x in l:\n",
    "            if a is None:\n",
    "                a=x\n",
    "            else:\n",
    "                a ^= x\n",
    "        o+=\"%02x\"%(a)\n",
    "    return o\n",
    "    p(L,n)\n",
    "\n",
    "print(\"test2:\", solve2(\"\"),         \"a2582a3a0e66e6e86e3812dcb672a272\")\n",
    "print(\"test2:\", solve2(\"AoC 2017\"), \"33efeb34ea91902bb2f59c9920caa6cd\")\n",
    "print(\"test2:\", solve2(\"1,2,3\"),    \"3efbe78a8d82f29979031a4aa0b16a9d\")\n",
    "print(\"test2:\", solve2(\"1,2,4\"),    \"63960835bcdc130f0b66d7ff4f6a5a8e\")\n",
    "\n",
    "\n",
    "print(\"part2:\", solve2(open(\"10.txt\").read().strip()), 0)\n",
    "\n",
    "\n",
    "\n"
   ]
  }
 ],
 "metadata": {
  "kernelspec": {
   "display_name": "Python 3 (ipykernel)",
   "language": "python",
   "name": "python3"
  },
  "language_info": {
   "codemirror_mode": {
    "name": "ipython",
    "version": 3
   },
   "file_extension": ".py",
   "mimetype": "text/x-python",
   "name": "python",
   "nbconvert_exporter": "python",
   "pygments_lexer": "ipython3",
   "version": "3.8.10"
  }
 },
 "nbformat": 4,
 "nbformat_minor": 5
}
