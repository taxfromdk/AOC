{
 "cells": [
  {
   "cell_type": "code",
   "execution_count": 4,
   "id": "f4cc1fd2",
   "metadata": {},
   "outputs": [
    {
     "name": "stdout",
     "output_type": "stream",
     "text": [
      "[0, 3]\n",
      "[1, 2]\n",
      "[2, 5]\n",
      "[4, 4]\n",
      "[6, 4]\n",
      "[8, 6]\n",
      "[10, 6]\n",
      "[12, 6]\n",
      "[14, 8]\n",
      "[16, 6]\n",
      "[18, 8]\n",
      "[20, 8]\n",
      "[22, 8]\n",
      "[24, 12]\n",
      "[26, 8]\n",
      "[28, 12]\n",
      "[30, 8]\n",
      "[32, 12]\n",
      "[34, 12]\n",
      "[36, 14]\n",
      "[38, 10]\n",
      "[40, 12]\n",
      "[42, 14]\n",
      "[44, 10]\n",
      "[46, 14]\n",
      "[48, 12]\n",
      "[50, 14]\n",
      "[52, 12]\n",
      "[54, 9]\n",
      "[56, 14]\n",
      "[58, 12]\n",
      "[60, 12]\n",
      "[64, 14]\n",
      "[66, 12]\n",
      "[70, 14]\n",
      "[76, 20]\n",
      "[78, 17]\n",
      "[80, 14]\n",
      "[84, 14]\n",
      "[86, 14]\n",
      "[88, 18]\n",
      "[90, 20]\n",
      "[92, 14]\n",
      "[98, 18]\n"
     ]
    }
   ],
   "source": [
    "def elem(l):\n",
    "    a,b = [int(x) for x in l.strip().split(\": \")]\n",
    "    return [a,b]\n",
    "\n",
    "i = [elem(x) for x in open(\"13.txt\").readlines()]\n",
    "\n",
    "for l in i:\n",
    "    print(l)"
   ]
  }
 ],
 "metadata": {
  "kernelspec": {
   "display_name": "Python 3 (ipykernel)",
   "language": "python",
   "name": "python3"
  },
  "language_info": {
   "codemirror_mode": {
    "name": "ipython",
    "version": 3
   },
   "file_extension": ".py",
   "mimetype": "text/x-python",
   "name": "python",
   "nbconvert_exporter": "python",
   "pygments_lexer": "ipython3",
   "version": "3.8.10"
  }
 },
 "nbformat": 4,
 "nbformat_minor": 5
}
