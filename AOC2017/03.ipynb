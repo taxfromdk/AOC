{
 "cells": [
  {
   "cell_type": "code",
   "execution_count": 1,
   "id": "ea62b214",
   "metadata": {},
   "outputs": [
    {
     "name": "stdout",
     "output_type": "stream",
     "text": [
      "test1: 0 0\n",
      "test1: 3 3\n",
      "test1: 2 2\n",
      "test1: 31 31\n",
      "part1: 475 475\n"
     ]
    }
   ],
   "source": [
    "def getXY(i, dbg):\n",
    "    m = 1\n",
    "    dirs = 'ruld'\n",
    "    d = 0\n",
    "    \n",
    "    x = 0\n",
    "    y = 0\n",
    "    \n",
    "    for _ in range(i):\n",
    "        r = \"% 3d % 3d %c\"%(x,y, dirs[d])\n",
    "        if dirs[d] == 'r':\n",
    "            x+=1\n",
    "            if x >= m:\n",
    "                d=(d+1)%len(dirs)\n",
    "                \n",
    "        elif dirs[d] == 'u':\n",
    "            y-=1\n",
    "            if -y >= m:\n",
    "                d=(d+1)%len(dirs)\n",
    "        elif dirs[d] == 'l':\n",
    "            x-=1\n",
    "            if -x >= m:\n",
    "                d=(d+1)%len(dirs)\n",
    "        elif dirs[d] == 'd':\n",
    "            y+=1\n",
    "            if y >= m:\n",
    "                d=(d+1)%len(dirs)\n",
    "                m+=1\n",
    "        if dbg:\n",
    "            print(r)\n",
    "        \n",
    "    return x,y\n",
    "    \n",
    "\n",
    "def part1(x, dbg):\n",
    "    x,y = getXY(x, dbg)\n",
    "    return abs(x)+abs(y) - 1\n",
    "\n",
    "print(\"test1:\", part1(1, 0), 0 )\n",
    "print(\"test1:\", part1(12, 0), 3 )\n",
    "print(\"test1:\", part1(23, 0), 2 )\n",
    "print(\"test1:\", part1(1024, 0), 31 )\n",
    "print(\"part1:\", part1(277678, 0), 475 )\n"
   ]
  },
  {
   "cell_type": "code",
   "execution_count": 10,
   "id": "5bb9f9f0",
   "metadata": {},
   "outputs": [
    {
     "name": "stdout",
     "output_type": "stream",
     "text": [
      "part2: 279138 279138\n"
     ]
    }
   ],
   "source": [
    "def part2(N,dbg):\n",
    "    M={}\n",
    "    m = 1\n",
    "    dirs = 'ruld'\n",
    "    d = 0\n",
    "    \n",
    "    x = 0\n",
    "    y = 0\n",
    "    M[(x,y)]=1\n",
    "    for i in range(N+1):\n",
    "        r = \"% 3d % 3d %c\"%(x,y, dirs[d])\n",
    "        if dirs[d] == 'r':\n",
    "            x+=1\n",
    "            if x >= m:\n",
    "                d=(d+1)%len(dirs)\n",
    "                \n",
    "        elif dirs[d] == 'u':\n",
    "            y-=1\n",
    "            if -y >= m:\n",
    "                d=(d+1)%len(dirs)\n",
    "        elif dirs[d] == 'l':\n",
    "            x-=1\n",
    "            if -x >= m:\n",
    "                d=(d+1)%len(dirs)\n",
    "        elif dirs[d] == 'd':\n",
    "            y+=1\n",
    "            if y >= m:\n",
    "                d=(d+1)%len(dirs)\n",
    "                m+=1\n",
    "        if dbg:\n",
    "            print(r)\n",
    "        \n",
    "        v = 0\n",
    "        for dx,dy in [(-1,-1),(-1, 0),(-1, 1),( 0,-1),( 0, 1),(1,-1),(1, 0),(1, 1)]:\n",
    "            xx = x+dx\n",
    "            yy = y+dy\n",
    "            if (xx,yy) in M:\n",
    "                v += M[(xx,yy)]\n",
    "        M[(x,y)] = v\n",
    "        #if i < 40:\n",
    "        #    print(i,x,y,v)\n",
    "        if v > N:\n",
    "            return v\n",
    "            \n",
    "print(\"part2:\", part2(277678, 0), 279138 )"
   ]
  }
 ],
 "metadata": {
  "kernelspec": {
   "display_name": "Python 3 (ipykernel)",
   "language": "python",
   "name": "python3"
  },
  "language_info": {
   "codemirror_mode": {
    "name": "ipython",
    "version": 3
   },
   "file_extension": ".py",
   "mimetype": "text/x-python",
   "name": "python",
   "nbconvert_exporter": "python",
   "pygments_lexer": "ipython3",
   "version": "3.8.10"
  }
 },
 "nbformat": 4,
 "nbformat_minor": 5
}
