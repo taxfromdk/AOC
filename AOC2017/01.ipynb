{
 "cells": [
  {
   "cell_type": "code",
   "execution_count": 14,
   "id": "e03c855d",
   "metadata": {},
   "outputs": [
    {
     "name": "stdout",
     "output_type": "stream",
     "text": [
      "part1 1119 0\n"
     ]
    }
   ],
   "source": [
    "l = [int(x) for x in list(open(\"01.txt\").read().strip())]\n",
    "\n",
    "#print(l)\n",
    "\n",
    "def s(lst):\n",
    "    r = 0\n",
    "    lix = None\n",
    "    for i in range(len(lst)+1):\n",
    "        ix = i % len(lst)\n",
    "        if not lix is None:\n",
    "            if l[ix] == l[lix]:\n",
    "                r += l[ix]\n",
    "        lix = ix\n",
    "    return r\n",
    "            \n",
    "        \n",
    "        \n",
    "        \n",
    "        \n",
    "\n",
    "\n",
    "print(\"part1\", s(l), 1119)"
   ]
  }
 ],
 "metadata": {
  "kernelspec": {
   "display_name": "Python 3 (ipykernel)",
   "language": "python",
   "name": "python3"
  },
  "language_info": {
   "codemirror_mode": {
    "name": "ipython",
    "version": 3
   },
   "file_extension": ".py",
   "mimetype": "text/x-python",
   "name": "python",
   "nbconvert_exporter": "python",
   "pygments_lexer": "ipython3",
   "version": "3.8.10"
  }
 },
 "nbformat": 4,
 "nbformat_minor": 5
}
