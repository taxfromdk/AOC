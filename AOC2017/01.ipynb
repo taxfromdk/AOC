{
 "cells": [
  {
   "cell_type": "code",
   "execution_count": 5,
   "id": "e03c855d",
   "metadata": {},
   "outputs": [
    {
     "name": "stdout",
     "output_type": "stream",
     "text": [
      "part1 1119 1119\n",
      "part1 1420 1420\n"
     ]
    }
   ],
   "source": [
    "l = [int(x) for x in list(open(\"01.txt\").read().strip())]\n",
    "\n",
    "#print(l)\n",
    "\n",
    "def part1(lst):\n",
    "    r = 0\n",
    "    lix = None\n",
    "    for i in range(len(lst)+1):\n",
    "        ix = i % len(lst)\n",
    "        if not lix is None:\n",
    "            if lst[ix] == lst[lix]:\n",
    "                r += lst[ix]\n",
    "        lix = ix\n",
    "    return r\n",
    "\n",
    "def part2(lst):\n",
    "    r = 0\n",
    "    l = len(lst)\n",
    "    h = int(l/2)\n",
    "    for ix in range(l):\n",
    "        mix = (ix+h) % len(lst)\n",
    "        if lst[ix] == lst[mix]:\n",
    "            r += lst[ix]\n",
    "    return r\n",
    "\n",
    "\n",
    "print(\"part1\", part1(l), 1119)\n",
    "print(\"part1\", part2(l), 1420)"
   ]
  }
 ],
 "metadata": {
  "kernelspec": {
   "display_name": "Python 3 (ipykernel)",
   "language": "python",
   "name": "python3"
  },
  "language_info": {
   "codemirror_mode": {
    "name": "ipython",
    "version": 3
   },
   "file_extension": ".py",
   "mimetype": "text/x-python",
   "name": "python",
   "nbconvert_exporter": "python",
   "pygments_lexer": "ipython3",
   "version": "3.8.10"
  }
 },
 "nbformat": 4,
 "nbformat_minor": 5
}
