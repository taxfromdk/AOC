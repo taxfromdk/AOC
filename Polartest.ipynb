{
 "cells": [
  {
   "cell_type": "code",
   "execution_count": 44,
   "metadata": {},
   "outputs": [
    {
     "name": "stdout",
     "output_type": "stream",
     "text": [
      "26/26\n"
     ]
    }
   ],
   "source": [
    "from math import *\n",
    "\n",
    "def pol2dir(pol):\n",
    "    lon,lat = pol\n",
    "    x = cos(lat)*sin(lon)\n",
    "    y = -sin(lat)\n",
    "    z = cos(lat)*cos(lon)    \n",
    "    return x, y, z\n",
    "\n",
    "def dir2pol(d):\n",
    "    x,y,z = d\n",
    "    lon = atan2(x, z);\n",
    "    lat = atan2(-y, (x**2+z**2)**0.5);\n",
    "    return (lon, lat);\n",
    "\n",
    "def len(v):\n",
    "    x,y,z = v\n",
    "    return (x*x+y*y+z*z)**0.5\n",
    "\n",
    "def cmp(a,b):\n",
    "    ax,ay,az = a\n",
    "    bx,by,bz = b\n",
    "    dx = ax-bx\n",
    "    dy = ay-by\n",
    "    dz = az-bz\n",
    "    return (dx**2.0+dy**2.0+dz**2.0)**0.5\n",
    "\n",
    "W = 1\n",
    "\n",
    "good = 0\n",
    "all = 0\n",
    "for x in range(-W, W+1, 1):\n",
    "    for y in range(-W, W+1, 1):\n",
    "        for z in range(-W, W+1, 1):\n",
    "            if not (x == 0 and y == 0 and z == 0):\n",
    "                d = (x,y,z)\n",
    "                l = len(d)\n",
    "                d = x/l, y/l, z/l \n",
    "                \n",
    "                p = dir2pol(d)            \n",
    "                \n",
    "                d2 = (pol2dir(p))\n",
    "                \n",
    "                c = cmp(d,d2)\n",
    "                if abs(c) < 0.00001:\n",
    "                    #print(\"%0.1f %0.1f %0.1f    %0.1f %0.1f %s\"%(d[0], d[1], d[2], p[0], p[1], \"OK!!!\"))\n",
    "                    good += 1\n",
    "                else:\n",
    "                    print(\"%0.1f %0.1f %0.1f    %0.1f %0.1f %s\"%(d[0], d[1], d[2], p[0], p[1], \"ERROR!!!\"))\n",
    "                all += 1\n",
    "    \n",
    "print(\"%d/%d\"%(good,all))"
   ]
  },
  {
   "cell_type": "code",
   "execution_count": null,
   "metadata": {},
   "outputs": [],
   "source": []
  }
 ],
 "metadata": {
  "kernelspec": {
   "display_name": "Python 3",
   "language": "python",
   "name": "python3"
  },
  "language_info": {
   "codemirror_mode": {
    "name": "ipython",
    "version": 3
   },
   "file_extension": ".py",
   "mimetype": "text/x-python",
   "name": "python",
   "nbconvert_exporter": "python",
   "pygments_lexer": "ipython3",
   "version": "3.8.10"
  }
 },
 "nbformat": 4,
 "nbformat_minor": 4
}
