{
 "cells": [
  {
   "cell_type": "code",
   "execution_count": 39,
   "id": "beefac96",
   "metadata": {},
   "outputs": [
    {
     "name": "stdout",
     "output_type": "stream",
     "text": [
      "Sq feet 1606483\n",
      "ribbon 3842356\n"
     ]
    }
   ],
   "source": [
    "d = open(\"02.txt\").readlines()\n",
    "sqft = 0\n",
    "ribbon = 0\n",
    "for p in d:\n",
    "    #print(p)\n",
    "    l,w,h = [int(x) for x in p.strip().split('x')]\n",
    "    \n",
    "    #print(l,w,h)\n",
    "    areas = []\n",
    "    areas.append(2*l*w)\n",
    "    areas.append(2*w*h)\n",
    "    areas.append(2*h*l)\n",
    "    \n",
    "    ribbon+=min([(l+w)*2,(w+h)*2,(h+l)*2])\n",
    "    ribbon+=l*w*h\n",
    "    \n",
    "    #print(areas)\n",
    "    snip= int(min(areas)/2)\n",
    "    s=sum(areas)\n",
    "    #print(snip,s)\n",
    "    ad=snip+s\n",
    "    #print(ad)\n",
    "    sqft+=ad\n",
    "    #print()\n",
    "    \n",
    "    \n",
    "print(\"Sq feet\", sqft)\n",
    "print(\"ribbon\", ribbon)\n",
    "        \n",
    "        "
   ]
  },
  {
   "cell_type": "code",
   "execution_count": null,
   "id": "670992a9",
   "metadata": {},
   "outputs": [],
   "source": []
  },
  {
   "cell_type": "code",
   "execution_count": null,
   "id": "99927ba9",
   "metadata": {},
   "outputs": [],
   "source": []
  }
 ],
 "metadata": {
  "kernelspec": {
   "display_name": "Python 3 (ipykernel)",
   "language": "python",
   "name": "python3"
  },
  "language_info": {
   "codemirror_mode": {
    "name": "ipython",
    "version": 3
   },
   "file_extension": ".py",
   "mimetype": "text/x-python",
   "name": "python",
   "nbconvert_exporter": "python",
   "pygments_lexer": "ipython3",
   "version": "3.8.10"
  }
 },
 "nbformat": 4,
 "nbformat_minor": 5
}
