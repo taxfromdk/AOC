{
 "cells": [
  {
   "cell_type": "code",
   "execution_count": 1,
   "id": "28f291c8",
   "metadata": {
    "scrolled": true
   },
   "outputs": [
    {
     "name": "stdout",
     "output_type": "stream",
     "text": [
      "a:\n",
      "b: 46065\n",
      "c: 14134\n"
     ]
    }
   ],
   "source": [
    "\n",
    "    \n",
    "def op_or(a,b):    \n",
    "    return eval(a)+eval(b)\n",
    "def s(a):\n",
    "    if a < 0:\n",
    "        a+= 65536\n",
    "    return a & 65535\n",
    "\n",
    "def eval(n,m):\n",
    "    #print(n)\n",
    "    try:\n",
    "        return int(float(n))\n",
    "    except:\n",
    "        pass\n",
    "    \n",
    "    if n in m.keys():\n",
    "        r=eval(m[n],m)\n",
    "        m[n]=r\n",
    "        return r\n",
    "    \n",
    "    op = n.split(\" \")\n",
    "    l = len(op)\n",
    "    #print(op,l)\n",
    "    \n",
    "    if l == 1:\n",
    "        return int(float(op[O]))\n",
    "    elif l == 3:\n",
    "        a = eval(op[0],m)\n",
    "        b = eval(op[2],m)\n",
    "        if op[1] == \"OR\":\n",
    "            return s(a | b)\n",
    "        elif op[1] == \"AND\":\n",
    "            return s(a & b)\n",
    "        elif op[1] == \"LSHIFT\":\n",
    "            return s(a << b)\n",
    "        elif op[1] == \"RSHIFT\":\n",
    "            return s(a >> b)\n",
    "        \n",
    "    elif l == 2:\n",
    "        return s(~eval(op[1],m))\n",
    "       \n",
    "     \n",
    "    return 1\n",
    "\n",
    "def test(fn, facit, override):\n",
    "    m = {}    \n",
    "    for recipe, name in [x.strip().split(\" -> \") for x in open(fn, \"r\").readlines()]:\n",
    "        assert(name not in m.keys())\n",
    "        m[name] = recipe\n",
    "    for k in override.keys():\n",
    "        m[k]=override[k]\n",
    "    for k in m.keys():\n",
    "        m[k]=eval(m[k],m)\n",
    "    for k in facit.keys():\n",
    "        if m[k]!=facit[k]:\n",
    "            print(k,m[k],facit[k])\n",
    "    return m\n",
    "\n",
    "        \n",
    "fa={\n",
    "    \"d\": 72,\n",
    "    \"e\": 507,\n",
    "    \"f\": 492,\n",
    "    \"g\": 114,\n",
    "    \"h\": 65412,\n",
    "    \"i\": 65079,\n",
    "    \"x\": 123,\n",
    "    \"y\": 456\n",
    "}\n",
    "\n",
    "print(\"a:\")\n",
    "test(\"07a.txt\", fa, {})\n",
    "print(\"b:\", test(\"07.txt\",{},{})[\"a\"])\n",
    "\n",
    "print(\"c:\", test(\"07.txt\",{},{\"b\":46065})[\"a\"])\n",
    "      "
   ]
  },
  {
   "cell_type": "code",
   "execution_count": null,
   "id": "29280d34",
   "metadata": {},
   "outputs": [],
   "source": []
  },
  {
   "cell_type": "code",
   "execution_count": null,
   "id": "5b0848f1",
   "metadata": {},
   "outputs": [],
   "source": []
  }
 ],
 "metadata": {
  "kernelspec": {
   "display_name": "Python 3 (ipykernel)",
   "language": "python",
   "name": "python3"
  },
  "language_info": {
   "codemirror_mode": {
    "name": "ipython",
    "version": 3
   },
   "file_extension": ".py",
   "mimetype": "text/x-python",
   "name": "python",
   "nbconvert_exporter": "python",
   "pygments_lexer": "ipython3",
   "version": "3.8.10"
  }
 },
 "nbformat": 4,
 "nbformat_minor": 5
}
