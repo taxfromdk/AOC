{
 "cells": [
  {
   "cell_type": "code",
   "execution_count": 2,
   "id": "c0891867",
   "metadata": {},
   "outputs": [
    {
     "name": "stdout",
     "output_type": "stream",
     "text": [
      "733 ['Alice', 'Bob', 'Frank', 'Carol', 'Eric', 'David', 'George', 'Mallory']\n",
      "725 ['Alice', 'Bob', 'Frank', 'Carol', 'Eric', 'David', 'George', 'Jesper', 'Mallory']\n"
     ]
    }
   ],
   "source": [
    "import itertools\n",
    "\n",
    "i=[x.strip().split() for x in open(\"13.txt\").readlines()]\n",
    "i=[(x[0], x[2], int(x[3]),x[10][:-1]) for x in i]\n",
    "\n",
    "m={}\n",
    "for a,d,s,p in i:\n",
    "    if a not in m.keys():\n",
    "        m[a] = {}\n",
    "    if d == \"lose\":\n",
    "        s*=-1\n",
    "    m[a][p]=s\n",
    "\n",
    "def e(x):\n",
    "    a=0 \n",
    "    l=len(x)\n",
    "    for i in range(l):\n",
    "        p0=x[i]\n",
    "        pl=x[(i+1)%l]\n",
    "        pr=x[(i+l-1)%l]\n",
    "        if p0 in m.keys():\n",
    "            if pl in m.keys():\n",
    "                a+=m[p0][pl]\n",
    "            if pr in m.keys():\n",
    "                a+=m[p0][pr]\n",
    "    return a\n",
    "    \n",
    "    \n",
    "#print(m)\n",
    "\n",
    "\n",
    "def a(me):\n",
    "    best=None\n",
    "    bl=None\n",
    "    participants = list(m.keys())\n",
    "    if me:\n",
    "        participants.append(\"Jesper\")\n",
    "    for x in itertools.permutations(participants):\n",
    "        x = list(x)\n",
    "        #print(x)\n",
    "        v = e(x)\n",
    "        if not best or v > best:\n",
    "            best=v\n",
    "            bl=x\n",
    "    print(best,bl)\n",
    "\n",
    "a(0) \n",
    "a(1)\n",
    "    \n",
    "    "
   ]
  },
  {
   "cell_type": "code",
   "execution_count": null,
   "id": "6f2f6ddd",
   "metadata": {},
   "outputs": [],
   "source": []
  }
 ],
 "metadata": {
  "kernelspec": {
   "display_name": "Python 3 (ipykernel)",
   "language": "python",
   "name": "python3"
  },
  "language_info": {
   "codemirror_mode": {
    "name": "ipython",
    "version": 3
   },
   "file_extension": ".py",
   "mimetype": "text/x-python",
   "name": "python",
   "nbconvert_exporter": "python",
   "pygments_lexer": "ipython3",
   "version": "3.8.10"
  }
 },
 "nbformat": 4,
 "nbformat_minor": 5
}
