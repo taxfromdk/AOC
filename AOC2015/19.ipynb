{
 "cells": [
  {
   "cell_type": "code",
   "execution_count": null,
   "id": "ae9ba81f",
   "metadata": {
    "scrolled": false
   },
   "outputs": [],
   "source": [
    "import re\n",
    "\n",
    "def sep(s):\n",
    "    return re.findall(\"[A-Z][a-z]*\",s)\n",
    "def j(l):\n",
    "    return \"\".join(l)\n",
    "def a(fn):\n",
    "    l = [x.strip() for x in open(fn).readlines()]\n",
    "    c = [x.split(\" => \") for x in l[:-2]]\n",
    "    for i in range(len(c)):\n",
    "        c[i][1]=sep(c[i][1])\n",
    "    #print(c)\n",
    "    \n",
    "    s=sep(l[-1])\n",
    "    #print(s)\n",
    "    \n",
    "    r=[]\n",
    "    for i in range(len(s)):\n",
    "        for j in range(len(c)):\n",
    "            if c[j][0] == s[i]:\n",
    "                cp=[x for x in s]\n",
    "                del cp[i]\n",
    "                for e in c[j][1][::-1]:\n",
    "                    cp.insert(j,e)\n",
    "                    r+=[cp]\n",
    "    r=list(set([\"\".join(x) for x in r]))\n",
    "    l=len(r)\n",
    "    print(l)\n",
    "    return l\n",
    "    \n",
    "print(\"a\")\n",
    "assert(a(\"19a.txt\")==4)\n",
    "assert(a(\"19.txt\")==509)\n",
    "\n",
    "def b(fn):\n",
    "    line = [x.strip() for x in open(fn).readlines()]\n",
    "    conversions = [x.split(\" => \") for x in line[:-2]]\n",
    "    for i in range(len(conversions)):\n",
    "        conversions[i] = [conversions[i][0], sep(conversions[i][1])]\n",
    "    end_molecule=sep(line[-1])\n",
    "    #print(\"end\", end_molecule)\n",
    "    collapse_stages=[]\n",
    "    collapse_stages.append([end_molecule]) #insert target molecule\n",
    "    leiche=2\n",
    "    while leiche > 0:\n",
    "        leiche-=1\n",
    "        o=[] #next collapse level\n",
    "        for molecule in collapse_stages[-1]:\n",
    "            for start, end in conversions:\n",
    "                for i in range(len(molecule)-len(end)+1):\n",
    "                    if molecule[i:i+len(end)]==end:\n",
    "                        r = molecule[:i]+[start]+molecule[i+len(end):]\n",
    "                        o.append(r)\n",
    "                    \n",
    "                        #print(i,start,end)\n",
    "                        #print(j(molecule))\n",
    "                        #print(j(r))\n",
    "            \n",
    "            #return -1\n",
    "        print(\"cl\",len(o))\n",
    "        collapse_stages += [o]        \n",
    "        #print(\"collapse_stages\", collapse_stages)\n",
    "        #break\n",
    "    return 1\n",
    "print(\"b\")\n",
    "print(b(\"19.txt\"))\n",
    "print(\"done\")\n"
   ]
  },
  {
   "cell_type": "code",
   "execution_count": null,
   "id": "5d5ec89e",
   "metadata": {},
   "outputs": [],
   "source": []
  },
  {
   "cell_type": "code",
   "execution_count": null,
   "id": "91005375",
   "metadata": {},
   "outputs": [],
   "source": []
  }
 ],
 "metadata": {
  "kernelspec": {
   "display_name": "Python 3 (ipykernel)",
   "language": "python",
   "name": "python3"
  },
  "language_info": {
   "codemirror_mode": {
    "name": "ipython",
    "version": 3
   },
   "file_extension": ".py",
   "mimetype": "text/x-python",
   "name": "python",
   "nbconvert_exporter": "python",
   "pygments_lexer": "ipython3",
   "version": "3.8.10"
  }
 },
 "nbformat": 4,
 "nbformat_minor": 5
}
