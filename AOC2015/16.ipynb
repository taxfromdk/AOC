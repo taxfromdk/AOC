{
 "cells": [
  {
   "cell_type": "code",
   "execution_count": 1,
   "id": "9fd25558",
   "metadata": {},
   "outputs": [
    {
     "name": "stdout",
     "output_type": "stream",
     "text": [
      "373\n",
      "260\n"
     ]
    }
   ],
   "source": [
    "\n",
    "\n",
    "def a():\n",
    "    i=open(\"16.txt\").readlines()\n",
    "    \n",
    "    a={}\n",
    "    for x in i:\n",
    "        x=x.replace(\":\",\"\").replace(\",\",\"\").split(\" \")\n",
    "        n=int(x[1])\n",
    "        p={}\n",
    "        for i in range(2,len(x),2):\n",
    "            p[x[i]]=int(x[i+1])\n",
    "        a[n]=p\n",
    "    #print(a)\n",
    "    \n",
    "    b=open(\"16i.txt\").readlines()\n",
    "    s={}\n",
    "    for x in b:\n",
    "        x=x.strip().split(\": \")\n",
    "        #print(x)\n",
    "        s[x[0]]=int(x[1])\n",
    "    #print(s)\n",
    "    \n",
    "    invalid=[]\n",
    "    for p in a.keys():\n",
    "        #print(p)\n",
    "        for i in s.keys():\n",
    "            #print(i)\n",
    "            if i in a[p].keys():\n",
    "                if a[p][i] != s[i]:\n",
    "                    invalid.append(p)\n",
    "                    \n",
    "                \n",
    "    for p in a.keys():\n",
    "        if p not in invalid:\n",
    "            print(p)\n",
    "            \n",
    "    \n",
    "    higher=[\"cats\",\"trees\"]\n",
    "    lower=[\"pomeranians\",\"goldfish\"]\n",
    "    \n",
    "    invalid=[]  and goldfish\n",
    "    for p in a.keys():\n",
    "        #print(p)\n",
    "        for i in s.keys():\n",
    "            #print(i)\n",
    "            if i in a[p].keys():\n",
    "                if i in higher:\n",
    "                    if a[p][i] <= s[i]:\n",
    "                        invalid.append(p)\n",
    "                elif i in lower:\n",
    "                    if a[p][i] >= s[i]:\n",
    "                        invalid.append(p)\n",
    "                else:\n",
    "                    if a[p][i] != s[i]:\n",
    "                        invalid.append(p)\n",
    "                    \n",
    "                \n",
    "    for p in a.keys():\n",
    "        if p not in invalid:\n",
    "            print(p)\n",
    "    \n",
    "    \n",
    "a()"
   ]
  },
  {
   "cell_type": "code",
   "execution_count": null,
   "id": "1c0fa9cf",
   "metadata": {},
   "outputs": [],
   "source": []
  }
 ],
 "metadata": {
  "kernelspec": {
   "display_name": "Python 3 (ipykernel)",
   "language": "python",
   "name": "python3"
  },
  "language_info": {
   "codemirror_mode": {
    "name": "ipython",
    "version": 3
   },
   "file_extension": ".py",
   "mimetype": "text/x-python",
   "name": "python",
   "nbconvert_exporter": "python",
   "pygments_lexer": "ipython3",
   "version": "3.8.10"
  }
 },
 "nbformat": 4,
 "nbformat_minor": 5
}
