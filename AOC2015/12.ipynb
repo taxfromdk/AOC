{
 "cells": [
  {
   "cell_type": "code",
   "execution_count": 1,
   "id": "e45cabbc",
   "metadata": {},
   "outputs": [
    {
     "data": {
      "text/plain": [
       "119433"
      ]
     },
     "execution_count": 1,
     "metadata": {},
     "output_type": "execute_result"
    }
   ],
   "source": [
    "import re\n",
    "i=open(\"12.txt\").read()\n",
    "#print(i[:300])\n",
    "d=re.findall(\"[\\-0-9]+\",i)\n",
    "#print(d[:200])\n",
    "sum([int(x) for x in d])"
   ]
  },
  {
   "cell_type": "code",
   "execution_count": 2,
   "id": "172a2a22",
   "metadata": {},
   "outputs": [
    {
     "name": "stdout",
     "output_type": "stream",
     "text": [
      "68466\n"
     ]
    }
   ],
   "source": [
    "import json\n",
    "j=json.loads(i)\n",
    "\n",
    "def e(j):\n",
    "    if isinstance(j, list):\n",
    "        return sum([e(x) for x in j])\n",
    "    if isinstance(j, dict):\n",
    "        if not \"red\" in j.values():\n",
    "            return sum([e(j[x]) for x in j.keys()])\n",
    "    if type(j) == int:\n",
    "        return j\n",
    "    return 0\n",
    "#print(j)\n",
    "print(e(j))"
   ]
  },
  {
   "cell_type": "code",
   "execution_count": null,
   "id": "536ec5bc",
   "metadata": {},
   "outputs": [],
   "source": []
  }
 ],
 "metadata": {
  "kernelspec": {
   "display_name": "Python 3 (ipykernel)",
   "language": "python",
   "name": "python3"
  },
  "language_info": {
   "codemirror_mode": {
    "name": "ipython",
    "version": 3
   },
   "file_extension": ".py",
   "mimetype": "text/x-python",
   "name": "python",
   "nbconvert_exporter": "python",
   "pygments_lexer": "ipython3",
   "version": "3.8.10"
  }
 },
 "nbformat": 4,
 "nbformat_minor": 5
}
