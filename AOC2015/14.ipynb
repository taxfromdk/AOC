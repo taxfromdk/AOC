{
 "cells": [
  {
   "cell_type": "code",
   "execution_count": 1,
   "id": "e790cd93",
   "metadata": {},
   "outputs": [
    {
     "name": "stdout",
     "output_type": "stream",
     "text": [
      "2640\n",
      "1102\n"
     ]
    }
   ],
   "source": [
    "def a(it):\n",
    "    i = [x.strip().split() for x in open(\"14.txt\").readlines()]\n",
    "    #print(i[0])\n",
    "    i = [(x[0],x[3],x[6],x[13],0,0) for x in i]\n",
    "    #print(i)\n",
    "    rd={}\n",
    "    for n,s,r,z,d,w in i:\n",
    "        rd[n]={\"speed\":int(s),\"burst\":int(r),\"dist\":0, \"rest\":int(z), \"state\":-int(r), \"points\":0}\n",
    "    #print(rd)\n",
    "    \n",
    "    for t in range(it):\n",
    "        farthest=0\n",
    "        for nm in rd.keys():\n",
    "            if rd[nm][\"state\"] < 0:\n",
    "                rd[nm][\"dist\"]+=rd[nm][\"speed\"]\n",
    "            if rd[nm][\"dist\"] > farthest:\n",
    "                farthest = rd[nm][\"dist\"]   \n",
    "            if rd[nm][\"state\"]<rd[nm][\"rest\"]-1:\n",
    "                rd[nm][\"state\"]+=1\n",
    "            else:\n",
    "                rd[nm][\"state\"]=-rd[nm][\"burst\"]\n",
    "        for nm in rd.keys():\n",
    "            if rd[nm][\"dist\"] == farthest:\n",
    "                rd[nm][\"points\"]+=1\n",
    "                \n",
    "    return rd\n",
    "                \n",
    "r=a(2503)\n",
    "r= [(x[\"dist\"],x[\"points\"]) for x in r.values()]\n",
    "\n",
    "\n",
    "def myFunc1(x):\n",
    "    return x[0]\n",
    "\n",
    "def myFunc2(x):\n",
    "    return x[1]\n",
    "r.sort(key=myFunc1)\n",
    "print(r[-1][0])\n",
    "r.sort(key=myFunc2)\n",
    "print(r[-1][1])\n"
   ]
  },
  {
   "cell_type": "code",
   "execution_count": null,
   "id": "d73f750a",
   "metadata": {},
   "outputs": [],
   "source": []
  }
 ],
 "metadata": {
  "kernelspec": {
   "display_name": "Python 3 (ipykernel)",
   "language": "python",
   "name": "python3"
  },
  "language_info": {
   "codemirror_mode": {
    "name": "ipython",
    "version": 3
   },
   "file_extension": ".py",
   "mimetype": "text/x-python",
   "name": "python",
   "nbconvert_exporter": "python",
   "pygments_lexer": "ipython3",
   "version": "3.8.10"
  }
 },
 "nbformat": 4,
 "nbformat_minor": 5
}
