{
 "cells": [
  {
   "cell_type": "code",
   "execution_count": 1,
   "id": "5c9ffbfc",
   "metadata": {},
   "outputs": [
    {
     "name": "stdout",
     "output_type": "stream",
     "text": [
      "12\n",
      "1333\n"
     ]
    }
   ],
   "source": [
    "def chars(s):\n",
    "    i = 1\n",
    "    c=0\n",
    "    n=\"0123456789abcdefABCDEF\"\n",
    "    assert(s[0]=='\"' and s[-1]=='\"')\n",
    "    while i < len(s)-1:\n",
    "        if s[i]=='\\\\':\n",
    "            if s[i+1]=='x' and s[i+2] in n and s[i+3] in n:\n",
    "                i+=2\n",
    "            if s[i+1]=='\\\\':\n",
    "                i+= 1\n",
    "                c+=1\n",
    "        else:\n",
    "            c+=1\n",
    "        \n",
    "        i+=1\n",
    "    return c\n",
    "\n",
    "def analyze(fn):\n",
    "    mem=0\n",
    "    cha=0\n",
    "    for s in [x.strip().replace(\" \",\"\") for x in open(fn).readlines()]:\n",
    "        l=len(s)\n",
    "        c=chars(s)\n",
    "        \n",
    "        mem+= l\n",
    "        cha+= c\n",
    "        #print(l,c,s)\n",
    "    \n",
    "    \n",
    "    return mem-cha\n",
    "\n",
    "tr = analyze(\"08a.txt\")\n",
    "print(tr)\n",
    "if tr == 12:\n",
    "    print(analyze(\"08.txt\"))"
   ]
  },
  {
   "cell_type": "code",
   "execution_count": 4,
   "id": "a669e3b7",
   "metadata": {},
   "outputs": [
    {
     "name": "stdout",
     "output_type": "stream",
     "text": [
      "19\n",
      "2046\n"
     ]
    }
   ],
   "source": [
    "def chars2(s):\n",
    "    n=2\n",
    "    for c in s:\n",
    "        if c in \"\\\\\\\"\":\n",
    "            n+=1\n",
    "        n+=1\n",
    "    return n\n",
    "        \n",
    "        \n",
    "        \n",
    "\n",
    "def analyze2(fn):\n",
    "    mem=0\n",
    "    newlen=0\n",
    "    for s in [x.strip().replace(\" \",\"\") for x in open(fn).readlines()]:\n",
    "        l=len(s)\n",
    "        c=chars2(s)\n",
    "        \n",
    "        mem+= l\n",
    "        newlen+= c\n",
    "        #print(l,c,s)\n",
    "    \n",
    "    \n",
    "    return newlen-mem\n",
    "\n",
    "tr = analyze2(\"08a.txt\")\n",
    "print(tr)\n",
    "if tr == 19:\n",
    "    print(analyze2(\"08.txt\"))"
   ]
  },
  {
   "cell_type": "code",
   "execution_count": null,
   "id": "ab343d68",
   "metadata": {},
   "outputs": [],
   "source": []
  }
 ],
 "metadata": {
  "kernelspec": {
   "display_name": "Python 3 (ipykernel)",
   "language": "python",
   "name": "python3"
  },
  "language_info": {
   "codemirror_mode": {
    "name": "ipython",
    "version": 3
   },
   "file_extension": ".py",
   "mimetype": "text/x-python",
   "name": "python",
   "nbconvert_exporter": "python",
   "pygments_lexer": "ipython3",
   "version": "3.8.10"
  }
 },
 "nbformat": 4,
 "nbformat_minor": 5
}
