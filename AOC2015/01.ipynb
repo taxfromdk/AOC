{
 "cells": [
  {
   "cell_type": "code",
   "execution_count": 7,
   "id": "beefac96",
   "metadata": {},
   "outputs": [
    {
     "name": "stdout",
     "output_type": "stream",
     "text": [
      "answer B 1795\n",
      "answer A 74\n"
     ]
    }
   ],
   "source": [
    "d = open(\"01.txt\").read()\n",
    "floor = 0\n",
    "answer_B_found = False\n",
    "for i in range(len(d)):\n",
    "    if d[i] == '(':\n",
    "        floor += 1\n",
    "    if d[i] == ')':\n",
    "        floor -= 1\n",
    "    if floor == -1 and not answer_B_found:\n",
    "        print(\"answer B\", i+1)\n",
    "        answer_B_found = True\n",
    "print(\"answer A\", floor)\n",
    "        \n",
    "        "
   ]
  }
 ],
 "metadata": {
  "kernelspec": {
   "display_name": "Python 3 (ipykernel)",
   "language": "python",
   "name": "python3"
  },
  "language_info": {
   "codemirror_mode": {
    "name": "ipython",
    "version": 3
   },
   "file_extension": ".py",
   "mimetype": "text/x-python",
   "name": "python",
   "nbconvert_exporter": "python",
   "pygments_lexer": "ipython3",
   "version": "3.8.10"
  }
 },
 "nbformat": 4,
 "nbformat_minor": 5
}
