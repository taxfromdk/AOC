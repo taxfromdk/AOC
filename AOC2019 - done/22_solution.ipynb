{
 "cells": [
  {
   "cell_type": "code",
   "execution_count": 1,
   "id": "d990d296",
   "metadata": {},
   "outputs": [],
   "source": [
    "#sigh - https://www.reddit.com/r/adventofcode/comments/ee0rqi/2019_day_22_solutions/\n",
    "\n",
    "import re\n",
    "\n",
    "with open('22.txt') as file:\n",
    "    input = file.read()\n",
    "\n",
    "rules = input.split('\\n')"
   ]
  },
  {
   "cell_type": "code",
   "execution_count": 2,
   "id": "bc20f96b",
   "metadata": {},
   "outputs": [
    {
     "name": "stdout",
     "output_type": "stream",
     "text": [
      "CPU times: user 51.6 ms, sys: 0 ns, total: 51.6 ms\n",
      "Wall time: 51 ms\n"
     ]
    },
    {
     "data": {
      "text/plain": [
       "8379"
      ]
     },
     "execution_count": 2,
     "metadata": {},
     "output_type": "execute_result"
    }
   ],
   "source": [
    "%%time\n",
    "\n",
    "def shuffle(deck, rules):\n",
    "    for s in rules:\n",
    "        if s == 'deal into new stack':\n",
    "            deck.reverse()\n",
    "            continue\n",
    "        match = re.match(r'cut (-?\\d+)', s)\n",
    "        if match != None:\n",
    "            n = int(match.group(1))\n",
    "            deck = deck[n:]+deck[:n]\n",
    "            continue\n",
    "        match = re.match(r'deal with increment (\\d+)', s)\n",
    "        if match != None:\n",
    "            n = int(match.group(1))\n",
    "            ndeck = [0]*len(deck)\n",
    "            for i in range(len(deck)):\n",
    "                ndeck[(i*n)%len(deck)] = deck[i]\n",
    "            deck = ndeck\n",
    "            continue\n",
    "        raise Exception('unknown rule', s)\n",
    "    return deck\n",
    "\n",
    "deck = shuffle(list(range(10007)), rules)\n",
    "deck.index(2019)"
   ]
  },
  {
   "cell_type": "code",
   "execution_count": 3,
   "id": "a0abd2d5",
   "metadata": {},
   "outputs": [],
   "source": [
    "# convert rules to linear polynomial.\n",
    "# (g∘f)(x) = g(f(x))\n",
    "def parse(L, rules):\n",
    "    a,b = 1,0\n",
    "    for s in rules[::-1]:\n",
    "        if s == 'deal into new stack':\n",
    "            a = -a\n",
    "            b = L-b-1\n",
    "            continue\n",
    "        if s.startswith('cut'):\n",
    "            n = int(s.split(' ')[1])\n",
    "            b = (b+n)%L\n",
    "            continue\n",
    "        if s.startswith('deal with increment'):\n",
    "            n = int(s.split(' ')[3])\n",
    "            z = pow(n,L-2,L) # == modinv(n,L)\n",
    "            a = a*z % L\n",
    "            b = b*z % L\n",
    "            continue\n",
    "        raise Exception('unknown rule', s)\n",
    "    return a,b\n",
    "\n",
    "# modpow the polynomial: (ax+b)^m % n\n",
    "# f(x) = ax+b\n",
    "# g(x) = cx+d\n",
    "# f^2(x) = a(ax+b)+b = aax + ab+b\n",
    "# f(g(x)) = a(cx+d)+b = acx + ad+b\n",
    "def polypow(a,b,m,n):\n",
    "    if m==0:\n",
    "        return 1,0\n",
    "    if m%2==0:\n",
    "        return polypow(a*a%n, (a*b+b)%n, m//2, n)\n",
    "    else:\n",
    "        c,d = polypow(a,b,m-1,n)\n",
    "        return a*c%n, (a*d+b)%n\n",
    "\n",
    "def shuffle2(L, N, pos, rules):\n",
    "    a,b = parse(L,rules)\n",
    "    #a,b = polypow(a,b,N,L)\n",
    "    return (pos*a+b)%L"
   ]
  },
  {
   "cell_type": "code",
   "execution_count": 4,
   "id": "21b5afdc",
   "metadata": {},
   "outputs": [
    {
     "name": "stdout",
     "output_type": "stream",
     "text": [
      "5343\n",
      "6194\n",
      "CPU times: user 496 ms, sys: 0 ns, total: 496 ms\n",
      "Wall time: 495 ms\n"
     ]
    }
   ],
   "source": [
    "%%time\n",
    "\n",
    "# test it out\n",
    "pos = 2019\n",
    "L = 10007\n",
    "N = 10\n",
    "deck = list(range(L))\n",
    "\n",
    "print(shuffle2(L,N,pos,rules))"
   ]
  },
  {
   "cell_type": "code",
   "execution_count": 5,
   "id": "1b3e7c02",
   "metadata": {},
   "outputs": [
    {
     "name": "stdout",
     "output_type": "stream",
     "text": [
      "CPU times: user 391 µs, sys: 0 ns, total: 391 µs\n",
      "Wall time: 394 µs\n"
     ]
    },
    {
     "data": {
      "text/plain": [
       "25715231120204"
      ]
     },
     "execution_count": 5,
     "metadata": {},
     "output_type": "execute_result"
    }
   ],
   "source": [
    "%%time\n",
    "\n",
    "L = 119315717514047\n",
    "N = 101741582076661\n",
    "shuffle2(L,N,2020,rules)"
   ]
  }
 ],
 "metadata": {
  "kernelspec": {
   "display_name": "Python 3 (ipykernel)",
   "language": "python",
   "name": "python3"
  },
  "language_info": {
   "codemirror_mode": {
    "name": "ipython",
    "version": 3
   },
   "file_extension": ".py",
   "mimetype": "text/x-python",
   "name": "python",
   "nbconvert_exporter": "python",
   "pygments_lexer": "ipython3",
   "version": "3.8.10"
  }
 },
 "nbformat": 4,
 "nbformat_minor": 5
}
