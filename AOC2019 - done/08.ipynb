{
 "cells": [
  {
   "cell_type": "code",
   "execution_count": 1,
   "id": "1356970f",
   "metadata": {},
   "outputs": [
    {
     "name": "stdout",
     "output_type": "stream",
     "text": [
      "part1: 2460 0\n"
     ]
    }
   ],
   "source": [
    "import numpy as np\n",
    "def l():\n",
    "    \n",
    "    r= [int(y) for y in open(\"08.txt\").read().strip()]\n",
    "    #r=np.array(r,dtype=np.uint8)\n",
    "    #r=r.reshape((w,h,-1))\n",
    "    #print(r.shape)\n",
    "    #r=r.transpose((1,0,-1))\n",
    "    #print(r.shape)\n",
    "    return r\n",
    "    \n",
    "\n",
    "\n",
    "\n",
    "\n",
    "def p1(a):\n",
    "    w=25\n",
    "    h=6\n",
    "    minzeros=w*h\n",
    "    r=0\n",
    "    i=0\n",
    "    while i<len(a):\n",
    "        l=a[i:i+w*h]\n",
    "        z=sum([1 if x==0 else 0 for x in l])\n",
    "        if z<minzeros:\n",
    "            minzeros=z\n",
    "            n1=sum([1 if x==1 else 0 for x in l])\n",
    "            n2=sum([1 if x==2 else 0 for x in l])\n",
    "            \n",
    "            r=n1*n2\n",
    "        i+=w*h\n",
    "        \n",
    "    return r\n",
    "            \n",
    "        \n",
    "    \n",
    "    \n",
    "    \n",
    "    \n",
    "\n",
    "print(\"part1:\",p1(l()),0)  \n",
    "\n",
    "\n",
    "            "
   ]
  },
  {
   "cell_type": "code",
   "execution_count": 2,
   "id": "162b585b",
   "metadata": {},
   "outputs": [
    {
     "data": {
      "image/png": "[encoded data removed]",
      "text/plain": [
       "<PIL.Image.Image image mode=L size=200x48>"
      ]
     },
     "metadata": {},
     "output_type": "display_data"
    },
    {
     "name": "stdout",
     "output_type": "stream",
     "text": [
      "part2: read img LRFKU\n"
     ]
    }
   ],
   "source": [
    "from PIL import Image\n",
    "from IPython import display\n",
    "import cv2\n",
    "\n",
    "\n",
    "#black,white,trans\n",
    "def p2(a):\n",
    "    w=25\n",
    "    h=6\n",
    "    r=[-1 for x in range(w*h)] #np.ones((h,w,3),dtype=np.uint8)\n",
    "    i=0\n",
    "    #print(len(a))\n",
    "    while i<len(a):\n",
    "        #print(i)\n",
    "        for x in range(w):\n",
    "            for y in range(h):\n",
    "                ix=y*w+x\n",
    "                if r[ix]==-1:\n",
    "                    \n",
    "                    p=a[i+y*w+x]\n",
    "                    if p==0:\n",
    "                        r[ix]=0\n",
    "                    elif p==1:\n",
    "                        r[ix]=155\n",
    "                        \n",
    "                        \n",
    "            \n",
    "        \n",
    "        i+=w*h\n",
    "        \n",
    "    r=np.array(r,dtype=np.uint8)\n",
    "    r=r.reshape((h,w))\n",
    "    #r=r.transpose((1,0))\n",
    "    \n",
    "    F=8\n",
    "    r = cv2.resize(r, fx=F, fy=F, dsize=(0, 0), interpolation=cv2.INTER_NEAREST)\n",
    "    \n",
    "\n",
    "    #display.clear_output(wait=True)\n",
    "    \n",
    "    display.display(Image.fromarray(r))\n",
    "\n",
    "    \n",
    "    return \"read img\"\n",
    "\n",
    "\n",
    "\n",
    "\n",
    "print(\"part2:\",p2(l()),\"LRFKU\")\n",
    "\n",
    "\n",
    "\n"
   ]
  }
 ],
 "metadata": {
  "kernelspec": {
   "display_name": "Python 3 (ipykernel)",
   "language": "python",
   "name": "python3"
  },
  "language_info": {
   "codemirror_mode": {
    "name": "ipython",
    "version": 3
   },
   "file_extension": ".py",
   "mimetype": "text/x-python",
   "name": "python",
   "nbconvert_exporter": "python",
   "pygments_lexer": "ipython3",
   "version": "3.8.10"
  }
 },
 "nbformat": 4,
 "nbformat_minor": 5
}
