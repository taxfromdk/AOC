{
 "cells": [
  {
   "cell_type": "code",
   "execution_count": 1,
   "id": "c8f6759a",
   "metadata": {
    "scrolled": false
   },
   "outputs": [
    {
     "name": "stdout",
     "output_type": "stream",
     "text": [
      "part1: 227 227\n",
      "part1: 604 604\n"
     ]
    }
   ],
   "source": [
    "import math\n",
    "import collections\n",
    "\n",
    "def l():\n",
    "    a={}\n",
    "    d=open(\"10.txt\").readlines()\n",
    "    for y,l in enumerate(d):\n",
    "        for x,v in enumerate(l):\n",
    "            if v=='#':\n",
    "                a[(x,y)]=0\n",
    "    return a\n",
    "    \n",
    "    \n",
    "def parts():\n",
    "    a=l()\n",
    "    ang=[]\n",
    "    for x0,y0 in a.keys():\n",
    "        al=[]\n",
    "        for x1,y1 in a.keys():\n",
    "            if x0!=x1 or y0!=y1:\n",
    "                dx=x1-x0\n",
    "                dy=y1-y0\n",
    "                d2=dx*dx+dy*dy\n",
    "                al.append((math.atan2(dy,dx),d2))\n",
    "        ang.append(((x0,y0),al,len(set([x[0] for x in al]))))\n",
    "    \n",
    "    p=0\n",
    "    mx=0\n",
    "    for p0,ls,h in ang:\n",
    "        if h>mx:\n",
    "            mx=h\n",
    "            p=p0\n",
    "    \n",
    "    \n",
    "    mx\n",
    "    \n",
    "    ########\n",
    "    \n",
    "    #print(p)\n",
    "    x0,y0=p\n",
    "    \n",
    "    bl=[]\n",
    "    for x1,y1 in a.keys():\n",
    "        dx=x1-x0\n",
    "        dy=y1-y0\n",
    "        d2=math.sqrt(dx*dx+dy*dy)\n",
    "        if dx or dy:\n",
    "            bl.append((math.atan2(dy,dx),d2,x1,y1))\n",
    "    #print(\"---\",len(bl))\n",
    "    blastang=-math.pi/2\n",
    "    bl=sorted(bl,key=lambda x: x[0]*1000000+x[1])\n",
    "            \n",
    "    while 1:\n",
    "       \n",
    "        aa,dd,xx,yt=bl[0]\n",
    "        if aa >= blastang:\n",
    "            break\n",
    "        bl=bl[1:]+[bl[0]]\n",
    "    \n",
    "    kills=0\n",
    "    while 1:\n",
    "        kills+=1\n",
    "        aa,dd,xx,yy=bl[0]\n",
    "        if kills==200:\n",
    "            x0=xx\n",
    "            y0=yy\n",
    "            break\n",
    "        blastang=aa\n",
    "        bl=bl[1:]\n",
    "        while bl[0][0]==blastang:\n",
    "            bl=bl[1:]+[bl[0]]\n",
    "     \n",
    "    \n",
    "   \n",
    "    \n",
    "    return mx,100*x0+y0\n",
    "    \n",
    "a,b=parts()\n",
    "print(\"part1:\",a,227)\n",
    "print(\"part1:\",b,604)\n",
    "      \n",
    "      "
   ]
  }
 ],
 "metadata": {
  "kernelspec": {
   "display_name": "Python 3 (ipykernel)",
   "language": "python",
   "name": "python3"
  },
  "language_info": {
   "codemirror_mode": {
    "name": "ipython",
    "version": 3
   },
   "file_extension": ".py",
   "mimetype": "text/x-python",
   "name": "python",
   "nbconvert_exporter": "python",
   "pygments_lexer": "ipython3",
   "version": "3.8.10"
  }
 },
 "nbformat": 4,
 "nbformat_minor": 5
}
