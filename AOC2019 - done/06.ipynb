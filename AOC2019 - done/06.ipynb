{
 "cells": [
  {
   "cell_type": "code",
   "execution_count": 1,
   "id": "d2f98d4a",
   "metadata": {
    "scrolled": false
   },
   "outputs": [
    {
     "name": "stdout",
     "output_type": "stream",
     "text": [
      "part1: 144909 144909\n",
      "part2: 259 259\n"
     ]
    }
   ],
   "source": [
    "import collections\n",
    "def l():\n",
    "    return [tuple(x.strip().split(\")\")) for x in open(\"06.txt\").readlines()]\n",
    "\n",
    "def root(m):\n",
    "    g=list(m.keys())[0]\n",
    "    while 1:\n",
    "        e=1\n",
    "        for k in m.keys():\n",
    "            if g in m[k]:\n",
    "                g=k\n",
    "                e=0\n",
    "                break\n",
    "        if e:\n",
    "            break\n",
    "    #print(g)\n",
    "    return g\n",
    "\n",
    "def orbits(m,r,d=0):\n",
    "    #print(\"o\",r,m[r])\n",
    "    ret=0\n",
    "    if len(m[r])>0:\n",
    "        #print(m[r])\n",
    "        for b in m[r]:\n",
    "            #print(b)\n",
    "            ret+=orbits(m,b,d+1)\n",
    "    \n",
    "    ret+=d\n",
    "        \n",
    "    return ret\n",
    "\n",
    "def p1():\n",
    "    m=collections.defaultdict(list)\n",
    "    for a,b in l():\n",
    "        m[a].append(b)\n",
    "    #print(m)\n",
    "    return orbits(m,root(m))\n",
    "\n",
    "def find(m,n,o):\n",
    "    if n==o:\n",
    "        return [n] \n",
    "    r=[]\n",
    "    for k in m[n]:\n",
    "        j=find(m,k,o)\n",
    "        if len(j):\n",
    "            return [n]+j\n",
    "    return []\n",
    "\n",
    "\n",
    "def p2():\n",
    "    m=collections.defaultdict(list)\n",
    "        \n",
    "    for a,b in l():\n",
    "        m[a].append(b)\n",
    "    r=root(m)    \n",
    "    a=find(m,r,\"YOU\")\n",
    "    b=find(m,r,\"SAN\")\n",
    "    \n",
    "    for i in range(len(a)):\n",
    "        if a[i:i+2]!=b[i:i+2]:\n",
    "            \n",
    "            r=a[i:]\n",
    "            r.reverse()\n",
    "            #r+=[\"!!!!!\"]\n",
    "            r+=b[i+1:]\n",
    "            #print(r)\n",
    "            \n",
    "            return len(r)-3\n",
    "    \n",
    "       \n",
    "    #print(m)\n",
    "    return 0\n",
    "\n",
    "\n",
    "\n",
    "print(\"part1:\",p1(),144909)\n",
    "print(\"part2:\",p2(),259)\n",
    "#195 \n",
    "#260\n",
    "#262\n",
    "#258\n",
    "    \n",
    "    "
   ]
  }
 ],
 "metadata": {
  "kernelspec": {
   "display_name": "Python 3 (ipykernel)",
   "language": "python",
   "name": "python3"
  },
  "language_info": {
   "codemirror_mode": {
    "name": "ipython",
    "version": 3
   },
   "file_extension": ".py",
   "mimetype": "text/x-python",
   "name": "python",
   "nbconvert_exporter": "python",
   "pygments_lexer": "ipython3",
   "version": "3.8.10"
  }
 },
 "nbformat": 4,
 "nbformat_minor": 5
}
