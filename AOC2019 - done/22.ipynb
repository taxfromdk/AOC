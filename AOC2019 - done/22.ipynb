{
 "cells": [
  {
   "cell_type": "code",
   "execution_count": 1,
   "id": "4efe5943",
   "metadata": {},
   "outputs": [
    {
     "name": "stdout",
     "output_type": "stream",
     "text": [
      "part1: 8379 8379\n"
     ]
    }
   ],
   "source": [
    "#more efficient solution of part1 borrowed from reddit\n",
    "\n",
    "#implementing the reverse step\n",
    "\n",
    "def deal_into(c, L):\n",
    "    return (-c - 1) % L\n",
    "def deal_with(c, L, n):\n",
    "    return ( c * n) % L\n",
    "def cut(c, L, n):\n",
    "    return ( c - n) % L\n",
    "\n",
    "def p1(d,n,c):\n",
    "    for l in d.split(\"\\n\"):\n",
    "        i=l.split(' ')[-1]\n",
    "        if \"deal with\" in l:\n",
    "            c = deal_with(c,n,int(i))\n",
    "        elif \"deal into\" in l:\n",
    "            c = deal_into(c,n)\n",
    "        elif \"cut\" in l:\n",
    "            c = cut(c,n,int(i))\n",
    "    return c\n",
    "\n",
    "d=open(\"22.txt\").read()\n",
    "print(\"part1:\",p1(d,10007,2019),8379)\n",
    "    \n",
    "\n",
    "\n",
    "\n"
   ]
  },
  {
   "cell_type": "code",
   "execution_count": 2,
   "id": "aa7c205b",
   "metadata": {},
   "outputs": [
    {
     "name": "stdout",
     "output_type": "stream",
     "text": [
      "part1 a: 8379 8379\n",
      "part1 b: 6194 8379\n",
      "test a: 5197\n",
      "test b: 5343\n",
      "part2 b: 96959315590030 96959315590030\n"
     ]
    }
   ],
   "source": [
    "#collapae all operations into a*x+b\n",
    "\n",
    "def shuffle(d,L,x):\n",
    "    c=x\n",
    "    a=1\n",
    "    b=0\n",
    "    for l in d.split(\"\\n\"):\n",
    "        i=l.split(' ')[-1]\n",
    "        if \"deal with\" in l:\n",
    "            n=int(i)\n",
    "            c=( c * n) % L\n",
    "        elif \"deal into\" in l:\n",
    "            c=(-c - 1) % L\n",
    "        elif \"cut\" in l:\n",
    "            n=int(i)\n",
    "            c= ( c - n) % L\n",
    "            \n",
    "    return c\n",
    "\n",
    "\n",
    "def collapse(d,L):\n",
    "    a=1\n",
    "    b=0\n",
    "    for l in d.split(\"\\n\"):\n",
    "        i=l.split(' ')[-1]\n",
    "        if \"deal with\" in l:\n",
    "            n=int(i)\n",
    "            a = (a*n) % L\n",
    "            b = (b*n) % L\n",
    "        elif \"deal into\" in l:\n",
    "            a=-a %L\n",
    "            b=(L-1-b)%L\n",
    "        elif \"cut\" in l:\n",
    "            n=int(i)\n",
    "            b = (b-n)%L\n",
    "    return a,b\n",
    "\n",
    "def p11(d,L,x,times,method=0):\n",
    "    if method==0:\n",
    "        for i in range(times):\n",
    "            x=shuffle(d,L,x)\n",
    "    else:\n",
    "        a,b=collapse(d,L)\n",
    "        r = (b * pow(1-a, L-2, L))%L\n",
    "        \n",
    "        x= ((x - r) * pow(a, times*(L-2), L) + r) % L\n",
    "\n",
    "\n",
    "    return x\n",
    "        \n",
    "        \n",
    "\n",
    "d=open(\"22.txt\").read()\n",
    "print(\"part1 a:\",p11(d,10007,2019,1,0),8379)\n",
    "print(\"part1 b:\",p11(d,10007,2019,1,1),8379)\n",
    "print(\"test a:\",p11(d,10007,2019,10,0))\n",
    "print(\"test b:\",p11(d,10007,2019,10,1))\n",
    "\n",
    "cards=119315717514047\n",
    "times=101741582076661\n",
    "print(\"part2 b:\",p11(d,cards,2020,times,1),96959315590030 )\n",
    "\n",
    "\n",
    "\n",
    "\n"
   ]
  },
  {
   "cell_type": "code",
   "execution_count": 3,
   "id": "09baa78c",
   "metadata": {},
   "outputs": [
    {
     "name": "stdout",
     "output_type": "stream",
     "text": [
      "Card at #2019: 6194\n"
     ]
    }
   ],
   "source": [
    "m = 119315717514047\n",
    "n = 101741582076661\n",
    "pos = 2020\n",
    "\n",
    "m = 10007\n",
    "n = 1\n",
    "pos = 2019\n",
    "\n",
    "shuffles = { 'deal with increment ': lambda x,m,a,b: (a*x %m, b*x %m),\n",
    "         'deal into new stack': lambda _,m,a,b: (-a %m, (m-1-b)%m),\n",
    "         'cut ': lambda x,m,a,b: (a, (b-x)%m) }\n",
    "a,b = 1,0\n",
    "with open('22.txt') as f:\n",
    "  for s in f.read().strip().split('\\n'):\n",
    "    for name,fn in shuffles.items():\n",
    "      if s.startswith(name):\n",
    "        arg = int(s[len(name):]) if name[-1] == ' ' else 0\n",
    "        a,b = fn(arg, m, a, b)\n",
    "        break\n",
    "r = (b * pow(1-a, m-2, m)) % m\n",
    "print(f\"Card at #{pos}: {((pos - r) * pow(a, n*(m-2), m) + r) % m}\")\n",
    "\n"
   ]
  },
  {
   "cell_type": "code",
   "execution_count": null,
   "id": "24b45f1d",
   "metadata": {},
   "outputs": [],
   "source": []
  }
 ],
 "metadata": {
  "kernelspec": {
   "display_name": "Python 3 (ipykernel)",
   "language": "python",
   "name": "python3"
  },
  "language_info": {
   "codemirror_mode": {
    "name": "ipython",
    "version": 3
   },
   "file_extension": ".py",
   "mimetype": "text/x-python",
   "name": "python",
   "nbconvert_exporter": "python",
   "pygments_lexer": "ipython3",
   "version": "3.8.10"
  }
 },
 "nbformat": 4,
 "nbformat_minor": 5
}
