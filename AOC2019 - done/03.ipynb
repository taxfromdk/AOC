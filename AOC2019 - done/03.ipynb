{
 "cells": [
  {
   "cell_type": "code",
   "execution_count": 1,
   "id": "8ddf0b84",
   "metadata": {},
   "outputs": [
    {
     "name": "stdout",
     "output_type": "stream",
     "text": [
      "part1 399 399\n",
      "part2 15678 0\n"
     ]
    }
   ],
   "source": [
    "import sys\n",
    "\n",
    "sys.setrecursionlimit(20000)\n",
    "\n",
    "def l():\n",
    "    d=open(\"03.txt\").readlines()\n",
    "    return [[(y[0],int(y[1:])) for y in x.split(',')] for x in d]\n",
    "    \n",
    "dirs =  {'U':(0,-1),'D':(0,1),'L':(-1,0),'R':(1,0)}  \n",
    "\n",
    "\n",
    "\n",
    "\n",
    "def e(p):\n",
    "    r,x,y,d={},0,0,0\n",
    "    for dr,n in p:\n",
    "        dx,dy=dirs[dr]\n",
    "        for i in range(n):\n",
    "            x+=dx\n",
    "            y+=dy\n",
    "            d+=1\n",
    "            z=(x,y)\n",
    "            if not z in r:\n",
    "                r[z]=d\n",
    "    return r\n",
    "\n",
    "def p(prt):\n",
    "    d=l()\n",
    "    #print([len(x) for x in d])\n",
    "    a=e(d[0])\n",
    "    b=e(d[1])\n",
    "    u=set(a.keys()) & set(b.keys())\n",
    "    if prt==1:\n",
    "        u=[int(abs(x)+abs(y)) for x,y in u]\n",
    "    elif prt==2:\n",
    "        u=[a[(x,y)]+b[(x,y)] for x,y in u]\n",
    "    u=sorted(u)\n",
    "    return u[0]\n",
    "\n",
    "print(\"part1\",p(1),399)\n",
    "print(\"part2\",p(2),15678)\n",
    "\n",
    "#4241 too low\n",
    "#4242 too low\n",
    "#4000\n",
    "#3252\n",
    "#3254\n"
   ]
  },
  {
   "cell_type": "code",
   "execution_count": 2,
   "id": "5531a873",
   "metadata": {},
   "outputs": [
    {
     "name": "stdout",
     "output_type": "stream",
     "text": [
      "399\n",
      "15678\n"
     ]
    }
   ],
   "source": [
    "#borrowed solution fom reddit to understand tsk\n",
    "#step was defined vaguewly and i understood\n",
    "# it initially wrong\n",
    "def process_wire(instr_line):\n",
    "    current_pos = [0, 0]\n",
    "    for instr in instr_line.split(','):\n",
    "        for _ in range(int(instr[1:])):\n",
    "            current_pos[0 if instr[0] in ('L', 'R') else 1] += -1 if instr[0] in ('L', 'D') else 1\n",
    "            yield tuple(current_pos)\n",
    "with open('03.txt', 'r') as f:\n",
    "    wires = [list(process_wire(line)) for line in f.readlines()]\n",
    "intersections = set(wires[0]) & set(wires[1])\n",
    "print(min(abs(x)+abs(y) for (x, y) in intersections)) #Part 1\n",
    "print(2 + min(sum(wire.index(intersect) for wire in wires) for intersect in intersections)) #Part 2\n",
    "\n"
   ]
  },
  {
   "cell_type": "code",
   "execution_count": null,
   "id": "0b80beb1",
   "metadata": {},
   "outputs": [],
   "source": []
  }
 ],
 "metadata": {
  "kernelspec": {
   "display_name": "Python 3 (ipykernel)",
   "language": "python",
   "name": "python3"
  },
  "language_info": {
   "codemirror_mode": {
    "name": "ipython",
    "version": 3
   },
   "file_extension": ".py",
   "mimetype": "text/x-python",
   "name": "python",
   "nbconvert_exporter": "python",
   "pygments_lexer": "ipython3",
   "version": "3.8.10"
  }
 },
 "nbformat": 4,
 "nbformat_minor": 5
}
