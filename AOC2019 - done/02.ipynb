{
 "cells": [
  {
   "cell_type": "code",
   "execution_count": 1,
   "id": "ab7be0c3",
   "metadata": {
    "scrolled": false
   },
   "outputs": [
    {
     "name": "stdout",
     "output_type": "stream",
     "text": [
      "part1: 3790645 3790645\n"
     ]
    }
   ],
   "source": [
    "def l():\n",
    "    return [int(x) for x in open(\"02.txt\").read().split(',')]\n",
    "\n",
    "\n",
    "\n",
    "def run(p):\n",
    "    ip=0\n",
    "    l=len(p)\n",
    "    while 1:\n",
    "        if ip<l and p[ip+1]<l and p[ip+2]<l and p[ip+3]<l:\n",
    "            if p[ip]==1:\n",
    "                p[p[ip+3]]=p[p[ip+1]]+p[p[ip+2]]\n",
    "            elif p[ip]==2:\n",
    "                p[p[ip+3]]=p[p[ip+1]]*p[p[ip+2]]\n",
    "            elif p[ip]==99:\n",
    "                return p\n",
    "            ip+=4\n",
    "        else:\n",
    "            return None\n",
    "        \n",
    "\n",
    "def p1():\n",
    "    p=l()\n",
    "    p[1]=12\n",
    "    p[2]=2\n",
    "    o=run(p)\n",
    "    return o[0]\n",
    "        \n",
    "                        \n",
    "print(\"part1:\",p1(),3790645)                        \n",
    "                        "
   ]
  },
  {
   "cell_type": "code",
   "execution_count": 2,
   "id": "bce83f09",
   "metadata": {},
   "outputs": [
    {
     "name": "stdout",
     "output_type": "stream",
     "text": [
      "part2: 6577 6577\n"
     ]
    }
   ],
   "source": [
    "def p2():\n",
    "    for n in range(1000):\n",
    "        for v in range(1000):\n",
    "            p=l()\n",
    "            p[1]=n\n",
    "            p[2]=v\n",
    "            o=run(p)\n",
    "            if not o is None and o[0]==19690720:\n",
    "                return n*100+v\n",
    "    return None\n",
    "            \n",
    "            \n",
    "print(\"part2:\",p2(),6577)            \n",
    "            \n",
    "            "
   ]
  }
 ],
 "metadata": {
  "kernelspec": {
   "display_name": "Python 3 (ipykernel)",
   "language": "python",
   "name": "python3"
  },
  "language_info": {
   "codemirror_mode": {
    "name": "ipython",
    "version": 3
   },
   "file_extension": ".py",
   "mimetype": "text/x-python",
   "name": "python",
   "nbconvert_exporter": "python",
   "pygments_lexer": "ipython3",
   "version": "3.8.10"
  }
 },
 "nbformat": 4,
 "nbformat_minor": 5
}
