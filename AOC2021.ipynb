{
 "cells": [
  {
   "cell_type": "code",
   "execution_count": 27,
   "metadata": {},
   "outputs": [
    {
     "name": "stdout",
     "output_type": "stream",
     "text": [
      "Day 1 - Part 1:  1387\n",
      "Day 1 - Part 2:  1362\n"
     ]
    }
   ],
   "source": [
    "#Day 1\n",
    "I = open(\"i1.txt\", \"r\").read()\n",
    "I = [int(x) for x in I.split(\"\\n\") ] \n",
    "#print(I[:20]) \n",
    "s=0\n",
    "for i in range(len(I)-1):\n",
    "    if I[i] < I[i+1]:\n",
    "        s+=1\n",
    "print(\"Day 1 - Part 1: \", s)\n",
    "\n",
    "W = [sum(I[x:x+3]) for x in range(len(I)-2)] \n",
    "#print(W)\n",
    "s=0\n",
    "for i in range(len(W)-1):\n",
    "    if W[i] < W[i+1]:\n",
    "        s+=1\n",
    "print(\"Day 1 - Part 2: \", s)"
   ]
  },
  {
   "cell_type": "code",
   "execution_count": 28,
   "metadata": {
    "scrolled": true
   },
   "outputs": [
    {
     "name": "stdout",
     "output_type": "stream",
     "text": [
      "Day 2 - Part 1:  1488669\n",
      "Day 2 - Part 2:  1176514794\n"
     ]
    }
   ],
   "source": [
    "#Day 2\n",
    "I2 = open(\"i2.txt\", \"r\").read()\n",
    "\n",
    "#print(I2[:10])\n",
    "cmds=[x.split(\" \") for x in I2.split(\"\\n\")] \n",
    "#print(cmds[:10])\n",
    "\n",
    "x=0\n",
    "y=0\n",
    "for c, v in cmds:\n",
    "    v=int(v) \n",
    "    if c==\"up\" :\n",
    "        y-=v\n",
    "    elif c==\"down\" :\n",
    "        y+=v\n",
    "    elif c==\"forward\" :\n",
    "        x+=v\n",
    "print(\"Day 2 - Part 1: \", x*y) \n",
    "\n",
    "x=0\n",
    "y=0\n",
    "a=0\n",
    "for c, v in cmds:\n",
    "    v=int(v) \n",
    "    if c==\"up\" :\n",
    "        a-=v\n",
    "    elif c==\"down\" :\n",
    "        a+=v\n",
    "    elif c==\"forward\" :\n",
    "        x+=v\n",
    "        y+=a*v\n",
    "print(\"Day 2 - Part 2: \", x*y) \n"
   ]
  },
  {
   "cell_type": "code",
   "execution_count": 32,
   "metadata": {},
   "outputs": [
    {
     "name": "stdout",
     "output_type": "stream",
     "text": [
      "Day 3 - Part 1:  4103154\n",
      "Day 3 - Part 2:  4245351\n"
     ]
    }
   ],
   "source": [
    "#Day 3\n",
    "samples=open(\"i3.txt\", \"r\").read().split(\"\\n\")\n",
    "\n",
    "def count_occurence(sss):\n",
    "    c=[0]*len(sss[0])\n",
    "    for s in sss:\n",
    "        #print(s, len(s) ) \n",
    "        for b in range(len(s)):\n",
    "            if s[b] == '1':\n",
    "                c[b]+=1\n",
    "            elif s[b] == '0':\n",
    "                c[b]-=1\n",
    "            else:\n",
    "                print(\"error\")\n",
    "    return c\n",
    "\n",
    "c=count_occurence(samples)\n",
    "            \n",
    "#print(c)\n",
    "g = \"\"\n",
    "e = \"\"\n",
    "for i in range(len(c)):\n",
    "    if c[i] > 0:\n",
    "        g += \"1\"\n",
    "        e += \"0\"\n",
    "    elif c[i] < 0:\n",
    "        g += \"0\"\n",
    "        e += \"1\"\n",
    "    else:\n",
    "        pass\n",
    "g = int(g, 2)\n",
    "e = int(e, 2)\n",
    "print(\"Day 3 - Part 1: \", g*e)\n",
    "\n",
    "def myfilter(smp, t):\n",
    "    i = 0\n",
    "    while len(smp) > 1:\n",
    "        c = count_occurence(smp)\n",
    "        if t == \"ogr\":\n",
    "            if c[i] >= 0:\n",
    "                smp = list(filter(lambda x: x[i] == '1', smp))\n",
    "            else:\n",
    "                smp = list(filter(lambda x: x[i] == '0', smp))\n",
    "        else:\n",
    "            if c[i] >= 0:\n",
    "                smp = list(filter(lambda x: x[i] == '0', smp))\n",
    "            else:\n",
    "                smp = list(filter(lambda x: x[i] == '1', smp))\n",
    "        i+=1\n",
    "    return int(smp[0], 2)\n",
    "\n",
    "ogr = myfilter(I3.split(\"\\n\"), \"ogr\")\n",
    "co2 = myfilter(I3.split(\"\\n\"), \"co2\")\n",
    "\n",
    "lsr = ogr*co2\n",
    "print(\"Day 3 - Part 2: \", lsr)"
   ]
  },
  {
   "cell_type": "code",
   "execution_count": null,
   "metadata": {},
   "outputs": [],
   "source": []
  }
 ],
 "metadata": {
  "kernelspec": {
   "display_name": "Python 3",
   "language": "python",
   "name": "python3"
  },
  "language_info": {
   "codemirror_mode": {
    "name": "ipython",
    "version": 3
   },
   "file_extension": ".py",
   "mimetype": "text/x-python",
   "name": "python",
   "nbconvert_exporter": "python",
   "pygments_lexer": "ipython3",
   "version": "3.7.3"
  }
 },
 "nbformat": 4,
 "nbformat_minor": 2
}
