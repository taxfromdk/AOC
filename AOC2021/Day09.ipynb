{
 "cells": [
  {
   "cell_type": "code",
   "execution_count": 19,
   "metadata": {
    "scrolled": false
   },
   "outputs": [],
   "source": [
    "#Day 9\n",
    "\n",
    "def parse(i):\n",
    "    return i\n"
   ]
  },
  {
   "cell_type": "code",
   "execution_count": 20,
   "metadata": {},
   "outputs": [
    {
     "name": "stdout",
     "output_type": "stream",
     "text": [
      "Test input has 3 entries.\n",
      "123\n"
     ]
    }
   ],
   "source": [
    "\n",
    "test_input = \"\"\"123\"\"\"\n",
    "\n",
    "test_input = parse(test_input)\n",
    "print(\"Test input has %d entries.\" %(len(test_input)))\n",
    "print(test_input[:3])\n",
    "\n"
   ]
  },
  {
   "cell_type": "code",
   "execution_count": 21,
   "metadata": {},
   "outputs": [
    {
     "name": "stdout",
     "output_type": "stream",
     "text": [
      "Real input has 3 entries.\n",
      "123\n"
     ]
    }
   ],
   "source": [
    "real_input=parse(open(\"i9.txt\").read())\n",
    "print(\"Real input has %d entries.\" %(len(real_input)))\n",
    "print(real_input[:3])"
   ]
  }
 ],
 "metadata": {
  "kernelspec": {
   "display_name": "Python 3",
   "language": "python",
   "name": "python3"
  },
  "language_info": {
   "codemirror_mode": {
    "name": "ipython",
    "version": 3
   },
   "file_extension": ".py",
   "mimetype": "text/x-python",
   "name": "python",
   "nbconvert_exporter": "python",
   "pygments_lexer": "ipython3",
   "version": "3.7.3"
  }
 },
 "nbformat": 4,
 "nbformat_minor": 2
}
