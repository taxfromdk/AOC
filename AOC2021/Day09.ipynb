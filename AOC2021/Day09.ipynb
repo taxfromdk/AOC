{
 "cells": [
  {
   "cell_type": "code",
   "execution_count": 1,
   "metadata": {
    "scrolled": false
   },
   "outputs": [],
   "source": [
    "#Day 9\n",
    "\n",
    "def parse(i):\n",
    "    return [[int(x) for x in y] for y in i.split(\"\\n\")]"
   ]
  },
  {
   "cell_type": "code",
   "execution_count": 2,
   "metadata": {},
   "outputs": [
    {
     "name": "stdout",
     "output_type": "stream",
     "text": [
      "Test input has 5 entries.\n",
      "[[2, 1, 9, 9, 9, 4, 3, 2, 1, 0], [3, 9, 8, 7, 8, 9, 4, 9, 2, 1], [9, 8, 5, 6, 7, 8, 9, 8, 9, 2]]\n"
     ]
    }
   ],
   "source": [
    "\n",
    "test_input = \"\"\"2199943210\n",
    "3987894921\n",
    "9856789892\n",
    "8767896789\n",
    "9899965678\"\"\"\n",
    "\n",
    "test_input = parse(test_input)\n",
    "print(\"Test input has %d entries.\" %(len(test_input)))\n",
    "print(test_input[:3])\n",
    "\n"
   ]
  },
  {
   "cell_type": "code",
   "execution_count": 3,
   "metadata": {},
   "outputs": [
    {
     "name": "stdout",
     "output_type": "stream",
     "text": [
      "Real input has 100 entries.\n"
     ]
    }
   ],
   "source": [
    "real_input=parse(open(\"i9.txt\").read())\n",
    "print(\"Real input has %d entries.\" %(len(real_input)))\n",
    "#print(real_input[:3])"
   ]
  },
  {
   "cell_type": "code",
   "execution_count": 4,
   "metadata": {},
   "outputs": [
    {
     "name": "stdout",
     "output_type": "stream",
     "text": [
      "[(1, 0), (2, 2), (6, 4), (9, 0)]\n",
      "test part 1 (15) 15\n",
      "Day 9 - part 1 452\n"
     ]
    }
   ],
   "source": [
    "def lowpoints(i):\n",
    "    r = []\n",
    "    w = len(i[0])\n",
    "    h = len(i)\n",
    "    \n",
    "    #all of field\n",
    "    for x in range(w):\n",
    "        for y in range(h):\n",
    "            \n",
    "            H = i[y][x]\n",
    "            \n",
    "            low = 0\n",
    "            count = 0\n",
    "            \n",
    "            #check straight neighbours\n",
    "            for dx in range(-1,2,1):\n",
    "                xx = x+dx\n",
    "                for dy in range(-1,2,1):\n",
    "                    yy = y+dy\n",
    "                    if dx == 0 or dy == 0:\n",
    "                        \n",
    "                        #dont check self\n",
    "                        if not (dx == 0 and dy == 0):\n",
    "                    \n",
    "                            #inside field\n",
    "                            if xx >= 0 and xx < w:\n",
    "                                if yy >= 0 and yy < h:\n",
    "                                    \n",
    "                                    count += 1\n",
    "                                    if i[yy][xx] > H:\n",
    "                                        low+= 1\n",
    "            if low == count:\n",
    "                 r.append((x,y))\n",
    "    return r\n",
    "\n",
    "def risklevel(i, lp):\n",
    "    rl = 0\n",
    "    for x,y in lp:\n",
    "        rl += i[y][x]+1\n",
    "    return rl\n",
    "tlp = lowpoints(test_input)\n",
    "print(tlp)\n",
    "print(\"test part 1 (15)\", risklevel(test_input, tlp))\n",
    "rlp = lowpoints(real_input)\n",
    "#print(rlp)\n",
    "print(\"Day 9 - part 1\", risklevel(real_input, rlp))\n",
    "                     \n",
    "                     \n",
    "    \n",
    "   \n",
    "            "
   ]
  },
  {
   "cell_type": "code",
   "execution_count": 5,
   "metadata": {},
   "outputs": [
    {
     "name": "stdout",
     "output_type": "stream",
     "text": [
      "test part 2 (15) 1134\n",
      "Day 9 - part 2 1263735\n"
     ]
    }
   ],
   "source": [
    "def basinsize(i,lp):\n",
    "    #print(lp)\n",
    "    evaluate = [lp]\n",
    "    visited = []\n",
    "    basin = []\n",
    "    \n",
    "    w = len(i[0])\n",
    "    h = len(i)\n",
    "    \n",
    "    while len(evaluate):\n",
    "        \n",
    "        t = evaluate[0]\n",
    "        evaluate = evaluate[1:]\n",
    "        \n",
    "        basin.append(t)\n",
    "        \n",
    "        visited.append(t)\n",
    "        \n",
    "        tx,ty = t\n",
    "        \n",
    "        #neighbours\n",
    "        for dx in range(-1,2,1):\n",
    "            xx = tx+dx\n",
    "            \n",
    "            for dy in range(-1,2,1):\n",
    "                yy = ty+dy\n",
    "                \n",
    "                \n",
    "                #straight:\n",
    "                if dx == 0 or dy == 0:\n",
    "                    #print(dx,dy)\n",
    "\n",
    "                    #inside playarea\n",
    "                    if xx >= 0 and xx < w:\n",
    "                        if yy >= 0 and yy < h:\n",
    "\n",
    "                                #not visited before\n",
    "                                if (xx,yy) not in visited:\n",
    "\n",
    "                                    #and not has value 9\n",
    "                                    if i[yy][xx] < 9:\n",
    "                                        evaluate.append((xx,yy))\n",
    "\n",
    "                    visited.append((xx,yy))\n",
    "                \n",
    "            \n",
    "    #print(basin)\n",
    "    return len(basin)\n",
    "\n",
    "import numpy\n",
    "\n",
    "def threelargest(i, lp):\n",
    "    l = sorted([basinsize(i,l) for l in lp])\n",
    "    return numpy.prod(l[-3:])\n",
    "\n",
    "print(\"test part 2 (15)\", threelargest(test_input, tlp))\n",
    "print(\"Day 9 - part 2\",   threelargest(real_input, rlp))\n",
    "                                     \n",
    "                                     "
   ]
  },
  {
   "cell_type": "code",
   "execution_count": null,
   "metadata": {},
   "outputs": [],
   "source": []
  }
 ],
 "metadata": {
  "kernelspec": {
   "display_name": "Python 3",
   "language": "python",
   "name": "python3"
  },
  "language_info": {
   "codemirror_mode": {
    "name": "ipython",
    "version": 3
   },
   "file_extension": ".py",
   "mimetype": "text/x-python",
   "name": "python",
   "nbconvert_exporter": "python",
   "pygments_lexer": "ipython3",
   "version": "3.7.3"
  }
 },
 "nbformat": 4,
 "nbformat_minor": 2
}
