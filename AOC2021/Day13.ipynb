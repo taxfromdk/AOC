{
 "cells": [
  {
   "cell_type": "code",
   "execution_count": 1,
   "metadata": {},
   "outputs": [
    {
     "name": "stdout",
     "output_type": "stream",
     "text": [
      "\n",
      "---PART 1---\n",
      "test 1 (  10): 1\n",
      "real 1 (5157): 1\n",
      "\n",
      "---PART 2---\n",
      "test 2 (   36): 1\n",
      "real 2 (   ?): 1\n",
      "\n",
      "fin!\n"
     ]
    }
   ],
   "source": [
    "###### day 13\n",
    "\n",
    "def parse(i):\n",
    "    return i\n",
    "\n",
    "def pretty(i):\n",
    "    print(i)\n",
    "\n",
    "small_data = parse(\"\"\"123\"\"\")\n",
    "real_data= parse(\"\"\"123\"\"\")\n",
    "\n",
    "def solve(data, part, debug):\n",
    "    return 1\n",
    "\n",
    "print(\"\\n---PART 1---\")\n",
    "\n",
    "print(\"test 1 (  10):\", solve(small_data,            1,  False))\n",
    "print(\"real 1 (5157):\", solve(real_data,             1, False))\n",
    "\n",
    "print(\"\\n---PART 2---\")\n",
    "\n",
    "print(\"test 2 (   36):\", solve(small_data,           2,  False))\n",
    "print(\"real 2 (   ?):\", solve(real_data,             2,  False))\n",
    "\n",
    "print(\"\\nfin!\")\n"
   ]
  },
  {
   "cell_type": "code",
   "execution_count": null,
   "metadata": {},
   "outputs": [],
   "source": []
  }
 ],
 "metadata": {
  "kernelspec": {
   "display_name": "Python 3",
   "language": "python",
   "name": "python3"
  },
  "language_info": {
   "codemirror_mode": {
    "name": "ipython",
    "version": 3
   },
   "file_extension": ".py",
   "mimetype": "text/x-python",
   "name": "python",
   "nbconvert_exporter": "python",
   "pygments_lexer": "ipython3",
   "version": "3.7.3"
  }
 },
 "nbformat": 4,
 "nbformat_minor": 2
}
