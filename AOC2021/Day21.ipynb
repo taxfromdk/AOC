{
 "cells": [
  {
   "cell_type": "code",
   "execution_count": 20,
   "metadata": {},
   "outputs": [
    {
     "name": "stdout",
     "output_type": "stream",
     "text": [
      "#######################\n",
      "Player 1 won\n",
      "#######################\n",
      "looser_score: 745\n",
      "dice rolls: 993\n",
      "result: 739785\n",
      "#######################\n",
      "Player 2 won\n",
      "#######################\n",
      "looser_score: 772\n",
      "dice rolls: 924\n",
      "result: 713328\n"
     ]
    }
   ],
   "source": [
    "#day 21\n",
    "\n",
    "class Dice:\n",
    "    def __init__(s):\n",
    "        s.count = 0\n",
    "    \n",
    "    def roll(s):\n",
    "        v = (s.count)%100 + 1 \n",
    "        s.count += 1 \n",
    "        return v\n",
    "    \n",
    "\n",
    "class player:\n",
    "    def __init__(s, id, pos):\n",
    "        s.id = id\n",
    "        s.pos0 = pos-1\n",
    "        s.score = 0\n",
    "    \n",
    "    def play(s, dice):\n",
    "        acc = 0\n",
    "        for i in range(3):\n",
    "            acc += dice.roll()\n",
    "        s.pos0 = (s.pos0 + acc)%10\n",
    "        s.score += s.pos0 + 1\n",
    "        \n",
    "    \n",
    "        \n",
    "\n",
    "\n",
    "test = \"\"\"Player 1 starting position: 4\n",
    "Player 2 starting position: 8\"\"\"\n",
    "real = \"\"\"Player 1 starting position: 3\n",
    "Player 2 starting position: 10\"\"\"\n",
    "\n",
    "\n",
    "def solve(text):\n",
    "    players = []\n",
    "    for playerline in text.split(\"\\n\"):\n",
    "        id = playerline.split(\" \")[1]\n",
    "        pos = playerline.split(\": \")[1]\n",
    "        players.append(Player(int(id), int(pos)))\n",
    "    dice = Dice()\n",
    "    \n",
    "    playhist = []\n",
    "    playing = True\n",
    "    while playing:\n",
    "        for player in players:\n",
    "            playhist.append(player)\n",
    "            player.play(dice)\n",
    "            if player.score >= 1000:\n",
    "                print(\"#######################\")\n",
    "                print(\"Player\", player.id, \"won\")\n",
    "                print(\"#######################\")\n",
    "                playing = False\n",
    "                break\n",
    "    looser_score = playhist[-2].score\n",
    "    dice_rolls = dice.count\n",
    "    print(\"looser_score:\", looser_score)\n",
    "    print(\"dice rolls:\", dice_rolls)\n",
    "    print(\"result:\", looser_score * dice_rolls)\n",
    "    \n",
    "    \n",
    "solve(test)\n",
    "solve(real)\n",
    "    \n"
   ]
  }
 ],
 "metadata": {
  "kernelspec": {
   "display_name": "Python 3",
   "language": "python",
   "name": "python3"
  },
  "language_info": {
   "codemirror_mode": {
    "name": "ipython",
    "version": 3
   },
   "file_extension": ".py",
   "mimetype": "text/x-python",
   "name": "python",
   "nbconvert_exporter": "python",
   "pygments_lexer": "ipython3",
   "version": "3.7.3"
  }
 },
 "nbformat": 4,
 "nbformat_minor": 2
}
