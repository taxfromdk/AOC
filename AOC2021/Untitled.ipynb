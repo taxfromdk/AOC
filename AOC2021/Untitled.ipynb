{
 "cells": [
  {
   "cell_type": "code",
   "execution_count": 3,
   "metadata": {},
   "outputs": [
    {
     "name": "stdout",
     "output_type": "stream",
     "text": [
      "test 1 (): ['123']\n",
      "real 1 (): ['sdfghjkl']\n",
      "test 2 (): ['123', '123']\n",
      "real 2 (): ['sdfghjkl', 'sdfghjkl']\n"
     ]
    }
   ],
   "source": [
    "#Day14\n",
    "\n",
    "def parse(s):\n",
    "    return s.split(\"\\n\\n\")\n",
    "\n",
    "\n",
    "def solve(data, part, debug):\n",
    "    return data*part\n",
    "\n",
    "test_data = parse(\"\"\"123\"\"\")\n",
    "real_data = parse(open(\"i14.txt\").read())\n",
    "\n",
    "\n",
    "print(\"test 1 ():\", solve(test_data, 1, False))\n",
    "print(\"real 1 ():\", solve(real_data, 1, False))\n",
    "\n",
    "print(\"test 2 ():\", solve(test_data, 2, False))\n",
    "print(\"real 2 ():\", solve(real_data, 2, False))\n",
    "\n"
   ]
  }
 ],
 "metadata": {
  "kernelspec": {
   "display_name": "Python 3",
   "language": "python",
   "name": "python3"
  },
  "language_info": {
   "codemirror_mode": {
    "name": "ipython",
    "version": 3
   },
   "file_extension": ".py",
   "mimetype": "text/x-python",
   "name": "python",
   "nbconvert_exporter": "python",
   "pygments_lexer": "ipython3",
   "version": "3.7.3"
  }
 },
 "nbformat": 4,
 "nbformat_minor": 2
}
