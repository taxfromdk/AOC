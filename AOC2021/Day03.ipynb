{
 "cells": [
  {
   "cell_type": "code",
   "execution_count": 3,
   "metadata": {},
   "outputs": [
    {
     "name": "stdout",
     "output_type": "stream",
     "text": [
      "Day 3 - Part 1:  4103154\n",
      "Day 3 - Part 2:  4245351\n"
     ]
    }
   ],
   "source": [
    "#Day 3\n",
    "samples=open(\"i3.txt\", \"r\").read().split(\"\\n\")\n",
    "\n",
    "def count_occurence(sss):\n",
    "    c=[0]*len(sss[0])\n",
    "    for s in sss:\n",
    "        #print(s, len(s) ) \n",
    "        for b in range(len(s)):\n",
    "            if s[b] == '1':\n",
    "                c[b]+=1\n",
    "            elif s[b] == '0':\n",
    "                c[b]-=1\n",
    "            else:\n",
    "                print(\"error\")\n",
    "    return c\n",
    "\n",
    "c=count_occurence(samples)\n",
    "            \n",
    "#print(c)\n",
    "g = \"\"\n",
    "e = \"\"\n",
    "for i in range(len(c)):\n",
    "    if c[i] > 0:\n",
    "        g += \"1\"\n",
    "        e += \"0\"\n",
    "    elif c[i] < 0:\n",
    "        g += \"0\"\n",
    "        e += \"1\"\n",
    "    else:\n",
    "        pass\n",
    "g = int(g, 2)\n",
    "e = int(e, 2)\n",
    "print(\"Day 3 - Part 1: \", g*e)\n",
    "\n",
    "def myfilter(smp, t):\n",
    "    i = 0\n",
    "    while len(smp) > 1:\n",
    "        c = count_occurence(smp)\n",
    "        if t == \"ogr\":\n",
    "            if c[i] >= 0:\n",
    "                smp = list(filter(lambda x: x[i] == '1', smp))\n",
    "            else:\n",
    "                smp = list(filter(lambda x: x[i] == '0', smp))\n",
    "        else:\n",
    "            if c[i] >= 0:\n",
    "                smp = list(filter(lambda x: x[i] == '0', smp))\n",
    "            else:\n",
    "                smp = list(filter(lambda x: x[i] == '1', smp))\n",
    "        i+=1\n",
    "    return int(smp[0], 2)\n",
    "\n",
    "ogr = myfilter(samples, \"ogr\")\n",
    "co2 = myfilter(samples, \"co2\")\n",
    "\n",
    "lsr = ogr*co2\n",
    "print(\"Day 3 - Part 2: \", lsr)"
   ]
  }
 ],
 "metadata": {
  "kernelspec": {
   "display_name": "Python 3",
   "language": "python",
   "name": "python3"
  },
  "language_info": {
   "codemirror_mode": {
    "name": "ipython",
    "version": 3
   },
   "file_extension": ".py",
   "mimetype": "text/x-python",
   "name": "python",
   "nbconvert_exporter": "python",
   "pygments_lexer": "ipython3",
   "version": "3.7.3"
  }
 },
 "nbformat": 4,
 "nbformat_minor": 2
}
