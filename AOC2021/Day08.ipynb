{
 "cells": [
  {
   "cell_type": "code",
   "execution_count": 1,
   "metadata": {
    "scrolled": false
   },
   "outputs": [],
   "source": [
    "#Day 8\n",
    "\n",
    "import itertools\n",
    "\n",
    "def str2ints(i):\n",
    "    o = [ord(x) - ord('a') for x in i]\n",
    "    o = sorted(o)\n",
    "    return tuple(o)\n",
    "\n",
    "def parse(i):\n",
    "    r = []\n",
    "    for l in i.split(\"\\n\"):\n",
    "        a,b = l.split(\" | \")\n",
    "        r.append([[str2ints(x) for x in a.split(\" \")], [str2ints(x) for x in b.split(\" \")]])\n",
    "    return r\n"
   ]
  },
  {
   "cell_type": "code",
   "execution_count": 2,
   "metadata": {},
   "outputs": [
    {
     "name": "stdout",
     "output_type": "stream",
     "text": [
      "Test input has 10 entries.\n",
      "[[[(1, 4), (0, 1, 2, 3, 4, 5, 6), (1, 2, 3, 4, 5, 6), (0, 2, 3, 4, 5, 6), (1, 2, 4, 6), (2, 3, 4, 5, 6), (0, 1, 3, 4, 5, 6), (1, 2, 3, 4, 5), (0, 1, 2, 3, 5), (1, 3, 4)], [(0, 1, 2, 3, 4, 5, 6), (1, 2, 3, 4, 5), (1, 2, 3, 4, 5, 6), (1, 2, 4, 6)]], [[(0, 1, 3, 4, 5, 6), (1, 2, 3, 4, 6), (1, 2, 6), (2, 6), (0, 1, 2, 3, 4, 5, 6), (1, 3, 4, 5, 6), (0, 1, 2, 3, 5, 6), (0, 1, 2, 3, 4), (1, 2, 3, 4, 5, 6), (2, 4, 5, 6)], [(1, 2, 3, 4, 5, 6), (1, 2, 6), (0, 1, 2, 3, 4, 5, 6), (2, 6)]]]\n"
     ]
    }
   ],
   "source": [
    "\n",
    "test_input = \"\"\"be cfbegad cbdgef fgaecd cgeb fdcge agebfd fecdb fabcd edb | fdgacbe cefdb cefbgd gcbe\n",
    "edbfga begcd cbg gc gcadebf fbgde acbgfd abcde gfcbed gfec | fcgedb cgb dgebacf gc\n",
    "fgaebd cg bdaec gdafb agbcfd gdcbef bgcad gfac gcb cdgabef | cg cg fdcagb cbg\n",
    "fbegcd cbd adcefb dageb afcb bc aefdc ecdab fgdeca fcdbega | efabcd cedba gadfec cb\n",
    "aecbfdg fbg gf bafeg dbefa fcge gcbea fcaegb dgceab fcbdga | gecf egdcabf bgf bfgea\n",
    "fgeab ca afcebg bdacfeg cfaedg gcfdb baec bfadeg bafgc acf | gebdcfa ecba ca fadegcb\n",
    "dbcfg fgd bdegcaf fgec aegbdf ecdfab fbedc dacgb gdcebf gf | cefg dcbef fcge gbcadfe\n",
    "bdfegc cbegaf gecbf dfcage bdacg ed bedf ced adcbefg gebcd | ed bcgafe cdgba cbgef\n",
    "egadfb cdbfeg cegd fecab cgb gbdefca cg fgcdab egfdb bfceg | gbdfcae bgc cg cgb\n",
    "gcafb gcf dcaebfg ecagb gf abcdeg gaef cafbge fdbac fegbdc | fgae cfgab fg bagce\"\"\"\n",
    "\n",
    "test_input = parse(test_input)\n",
    "print(\"Test input has %d entries.\" %(len(test_input)))\n",
    "print(test_input[:2])\n",
    "\n"
   ]
  },
  {
   "cell_type": "code",
   "execution_count": 3,
   "metadata": {},
   "outputs": [
    {
     "name": "stdout",
     "output_type": "stream",
     "text": [
      "Real input has 200 entries.\n",
      "[[[(0, 2, 3, 4, 5, 6), (0, 3, 4, 5, 6), (0, 1, 3, 4, 5, 6), (0, 1, 2, 3, 5, 6), (0, 1, 3), (0, 1, 2, 4, 5), (1, 3, 4, 6), (0, 1, 3, 4, 5), (1, 3), (0, 1, 2, 3, 4, 5, 6)], [(0, 1, 2, 3, 5, 6), (0, 1, 2, 3, 5, 6), (0, 1, 2, 3, 4, 5, 6), (0, 2, 3, 4, 5, 6)]], [[(0, 1, 3, 4, 5, 6), (0, 1, 2, 3, 4, 5), (3, 5, 6), (0, 2, 3, 4, 6), (5, 6), (0, 1, 2, 3, 4, 5, 6), (1, 2, 3, 4, 5, 6), (0, 1, 5, 6), (0, 3, 4, 5, 6), (0, 1, 3, 4, 5)], [(3, 5, 6), (0, 1, 2, 3, 4, 5, 6), (1, 2, 3, 4, 5, 6), (0, 1, 3, 4, 5, 6)]]]\n"
     ]
    }
   ],
   "source": [
    "real_input=parse(open(\"i8.txt\").read())\n",
    "print(\"Real input has %d entries.\" %(len(real_input)))\n",
    "print(real_input[:2])"
   ]
  },
  {
   "cell_type": "code",
   "execution_count": 4,
   "metadata": {},
   "outputs": [
    {
     "name": "stdout",
     "output_type": "stream",
     "text": [
      "{0: (0, 1, 2, 4, 5, 6), 1: (2, 5), 2: (0, 2, 3, 4, 6), 3: (0, 2, 3, 5, 6), 4: (1, 2, 3, 5), 5: (0, 1, 3, 5, 6), 6: (0, 1, 3, 4, 5, 6), 7: (0, 2, 5), 8: (0, 1, 2, 3, 4, 5, 6), 9: (0, 1, 2, 3, 5, 6)}\n",
      "{(0, 1, 2, 4, 5, 6): 0, (2, 5): 1, (0, 2, 3, 4, 6): 2, (0, 2, 3, 5, 6): 3, (1, 2, 3, 5): 4, (0, 1, 3, 5, 6): 5, (0, 1, 3, 4, 5, 6): 6, (0, 2, 5): 7, (0, 1, 2, 3, 4, 5, 6): 8, (0, 1, 2, 3, 5, 6): 9}\n",
      "0\n"
     ]
    }
   ],
   "source": [
    "#  aaaa\n",
    "# b    c\n",
    "# b    c\n",
    "#  dddd\n",
    "# e    f\n",
    "# e    f\n",
    "#  gggg\n",
    "\n",
    "int2code = {}\n",
    "int2code[0] = tuple(str2ints(\"abcefg\"))  #0 -     6\n",
    "int2code[1] = tuple(str2ints(\"cf\"))      #1 - 2\n",
    "int2code[2] = tuple(str2ints(\"acdeg\"))   #2 -    5\n",
    "int2code[3] = tuple(str2ints(\"acdfg\"))   #3 -    5\n",
    "int2code[4] = tuple(str2ints(\"bcdf\"))    #4 -   4\n",
    "int2code[5] = tuple(str2ints(\"abdfg\"))   #5 -    5\n",
    "int2code[6] = tuple(str2ints(\"abdefg\"))  #6 -     6\n",
    "int2code[7] = tuple(str2ints(\"acf\"))     #7 -  3\n",
    "int2code[8] = tuple(str2ints(\"abcdefg\")) #8 -      7 \n",
    "int2code[9] = tuple(str2ints(\"abcdfg\"))  #9 -     6 \n",
    "\n",
    "print(int2code)\n",
    "code2int = {v: k for k, v in int2code.items()}\n",
    "print(code2int)\n",
    "\n",
    "#test reverse lookup\n",
    "if (0, 1, 2, 4, 5, 6) in code2int.keys():\n",
    "    print(code2int[(0, 1, 2, 4, 5, 6)])\n"
   ]
  },
  {
   "cell_type": "code",
   "execution_count": 5,
   "metadata": {},
   "outputs": [
    {
     "name": "stdout",
     "output_type": "stream",
     "text": [
      "[[0, 1, 2, 3, 4, 5, 6], [0, 1, 2, 3, 4, 6, 5], [0, 1, 2, 3, 5, 4, 6], [0, 1, 2, 3, 5, 6, 4], [0, 1, 2, 3, 6, 4, 5], [0, 1, 2, 3, 6, 5, 4], [0, 1, 2, 4, 3, 5, 6], [0, 1, 2, 4, 3, 6, 5], [0, 1, 2, 4, 5, 3, 6], [0, 1, 2, 4, 5, 6, 3]]\n"
     ]
    }
   ],
   "source": [
    "\n",
    "signals = str2ints(\"abcdefg\")\n",
    "\n",
    "#5040 permutations\n",
    "permutations = list(itertools.permutations(signals))\n",
    "\n",
    "print([list(x) for x in permutations[:10]])\n",
    "\n",
    "def m(d, pmap):\n",
    "    o = []\n",
    "    for i in list(d):\n",
    "        o.append(pmap[i])\n",
    "    o = sorted(o)\n",
    "    return tuple(o)\n",
    "\n"
   ]
  },
  {
   "cell_type": "code",
   "execution_count": 6,
   "metadata": {},
   "outputs": [],
   "source": [
    "\n",
    "#try permutations on all numbers\n",
    "def solve(a,b):\n",
    "    #print(len(permutations))\n",
    "    for p in permutations:\n",
    "        #create map\n",
    "        pmap = {}\n",
    "        for i in range(len(p)):\n",
    "            pmap[i] = p[i]\n",
    "        ok = True\n",
    "        for d in a+b:\n",
    "            t = m(d, pmap)\n",
    "            if not t in code2int.keys():\n",
    "                ok = False\n",
    "                break\n",
    "        if ok == True:\n",
    "            #permutation is good\n",
    "            o = []\n",
    "            for d in b:\n",
    "                o.append(code2int[m(d, pmap)])\n",
    "            return o\n",
    "    print(\"no working permutation found\")\n",
    "    raise ValueError()"
   ]
  },
  {
   "cell_type": "code",
   "execution_count": 7,
   "metadata": {},
   "outputs": [
    {
     "name": "stdout",
     "output_type": "stream",
     "text": [
      "Day 8 - test 1 (26): 26\n",
      "Day 8 - part 1 (?): 390\n"
     ]
    }
   ],
   "source": [
    "def part1(i):\n",
    "    c = 0\n",
    "    for a,b in i:\n",
    "        s = solve(a,b)\n",
    "        for i in s:\n",
    "            if i in [1,4,7,8]:\n",
    "                c+=1\n",
    "        #print(s)\n",
    "    return c\n",
    "\n",
    "print(\"Day 8 - test 1 (26):\", part1(test_input))\n",
    "print(\"Day 8 - part 1 (?):\", part1(real_input))\n",
    "\n"
   ]
  },
  {
   "cell_type": "code",
   "execution_count": 8,
   "metadata": {},
   "outputs": [
    {
     "name": "stdout",
     "output_type": "stream",
     "text": [
      "Day 8 - test 2 (61229): 61229\n",
      "Day 8 - part 2 (?): 1011785\n"
     ]
    }
   ],
   "source": [
    "def part2(i):\n",
    "    c = 0\n",
    "    for a,b in i:\n",
    "        s = solve(a,b)\n",
    "        v = 0\n",
    "        for d in s:\n",
    "            v *= 10\n",
    "            v += d\n",
    "        #print(v)\n",
    "        c += v\n",
    "        \n",
    "    return c\n",
    "\n",
    "print(\"Day 8 - test 2 (61229):\", part2(test_input))\n",
    "print(\"Day 8 - part 2 (?):\", part2(real_input))"
   ]
  }
 ],
 "metadata": {
  "kernelspec": {
   "display_name": "Python 3",
   "language": "python",
   "name": "python3"
  },
  "language_info": {
   "codemirror_mode": {
    "name": "ipython",
    "version": 3
   },
   "file_extension": ".py",
   "mimetype": "text/x-python",
   "name": "python",
   "nbconvert_exporter": "python",
   "pygments_lexer": "ipython3",
   "version": "3.7.3"
  }
 },
 "nbformat": 4,
 "nbformat_minor": 2
}
