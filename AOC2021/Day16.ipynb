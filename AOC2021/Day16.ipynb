{
 "cells": [
  {
   "cell_type": "code",
   "execution_count": null,
   "metadata": {},
   "outputs": [],
   "source": [
    "# What assignment\n",
    "#\n",
    "# Link to task\n",
    "\n",
    "def  parse(data):\n",
    "    return [int(x) for x in data]\n",
    "\n",
    "def pretty(data):\n",
    "    print(data)\n",
    "    \n",
    "test_data = parse(\"\"\"1234\"\"\")\n",
    "pretty(test_data)\n",
    "\n",
    "real_data = parse(open(\"basetemplate.txt\").read())\n",
    "pretty(real_data)\n",
    "\n",
    "\n"
   ]
  }
 ],
 "metadata": {
  "kernelspec": {
   "display_name": "Python 3",
   "language": "python",
   "name": "python3"
  },
  "language_info": {
   "codemirror_mode": {
    "name": "ipython",
    "version": 3
   },
   "file_extension": ".py",
   "mimetype": "text/x-python",
   "name": "python",
   "nbconvert_exporter": "python",
   "pygments_lexer": "ipython3",
   "version": "3.7.3"
  }
 },
 "nbformat": 4,
 "nbformat_minor": 2
}
