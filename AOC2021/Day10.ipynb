{
 "cells": [
  {
   "cell_type": "code",
   "execution_count": 1,
   "metadata": {},
   "outputs": [
    {
     "name": "stdout",
     "output_type": "stream",
     "text": [
      "Test input has 10 entries.\n"
     ]
    }
   ],
   "source": [
    "#Day 10\n",
    "\n",
    "test_input = \"\"\"[({(<(())[]>[[{[]{<()<>>\n",
    "[(()[<>])]({[<{<<[]>>(\n",
    "{([(<{}[<>[]}>{[]{[(<()>\n",
    "(((({<>}<{<{<>}{[]{[]{}\n",
    "[[<[([]))<([[{}[[()]]]\n",
    "[{[{({}]{}}([{[{{{}}([]\n",
    "{<[[]]>}<{[{[{[]{()[[[]\n",
    "[<(<(<(<{}))><([]([]()\n",
    "<{([([[(<>()){}]>(<<{{\n",
    "<{([{{}}[<[[[<>{}]]]>[]]\"\"\".split('\\n')\n",
    "\n",
    "print(\"Test input has %d entries.\" %(len(test_input)))\n",
    "#print(test_input[:3])"
   ]
  },
  {
   "cell_type": "code",
   "execution_count": 2,
   "metadata": {},
   "outputs": [
    {
     "name": "stdout",
     "output_type": "stream",
     "text": [
      "Real input has 90 entries.\n"
     ]
    }
   ],
   "source": [
    "real_input=open(\"i10.txt\").read().split('\\n')\n",
    "print(\"Real input has %d entries.\" %(len(real_input)))\n",
    "#print(real_input[:3])"
   ]
  },
  {
   "cell_type": "code",
   "execution_count": 3,
   "metadata": {},
   "outputs": [
    {
     "name": "stdout",
     "output_type": "stream",
     "text": [
      "test part 1 (26397) 26397\n",
      "Day 10 - part 1 (265527): 265527\n",
      "test part 2 (288957) 288957\n",
      "Day 10 - part 2 (3969823589): 3969823589\n"
     ]
    }
   ],
   "source": [
    "open2close = {'(':')', '[':']', '{':'}', '<':'>'}\n",
    "close2open = {v: k for k, v in open2close.items()}\n",
    "\n",
    "def validate(l):\n",
    "    scoretable = {')':3,']':57,'}':1197,'>':25137 }\n",
    "    stack = []    \n",
    "    for c in l:\n",
    "        if c in open2close.keys():\n",
    "            stack.append(c)\n",
    "        else:\n",
    "            if c in close2open.keys():\n",
    "                o = close2open[c]\n",
    "                if stack[-1] == o:\n",
    "                    stack.pop()                \n",
    "                else:\n",
    "                    return (scoretable[c], None)\n",
    "            else:\n",
    "                print(\"error unknown char!!!\", c)\n",
    "                assert(0)\n",
    "    return (0, stack)\n",
    "        \n",
    "def part1(i):\n",
    "    acc = 0\n",
    "    for l in i:\n",
    "        score, stack = validate(l)\n",
    "        acc += score\n",
    "    return acc\n",
    "    \n",
    "print(\"test part 1 (26397)\", part1(test_input))\n",
    "print(\"Day 10 - part 1 (265527):\", part1(real_input))\n",
    "\n",
    "\n",
    "def part2(i):\n",
    "    scoretable2 = {')':1,']':2,'}':3,'>':4 }\n",
    "    line_scores = []\n",
    "    for l in i:\n",
    "        score, stack = validate(l)\n",
    "        if score == 0:\n",
    "            #print(l)\n",
    "            tmp = \"\"\n",
    "            while len(stack):\n",
    "                c = open2close[stack.pop()]\n",
    "                l += c\n",
    "                tmp += c\n",
    "            #print(tmp)\n",
    "            acc = 0\n",
    "            for c in tmp:\n",
    "                acc *= 5\n",
    "                acc += scoretable2[c]\n",
    "            line_scores.append(acc)\n",
    "    line_scores = sorted(line_scores)\n",
    "    #print(line_scores)\n",
    "    return line_scores[int(len(line_scores)/2)]\n",
    "\n",
    "print(\"test part 2 (288957)\", part2(test_input))\n",
    "print(\"Day 10 - part 2 (3969823589):\", part2(real_input))\n",
    "\n",
    "\n",
    "\n"
   ]
  },
  {
   "cell_type": "code",
   "execution_count": null,
   "metadata": {},
   "outputs": [],
   "source": []
  }
 ],
 "metadata": {
  "kernelspec": {
   "display_name": "Python 3",
   "language": "python",
   "name": "python3"
  },
  "language_info": {
   "codemirror_mode": {
    "name": "ipython",
    "version": 3
   },
   "file_extension": ".py",
   "mimetype": "text/x-python",
   "name": "python",
   "nbconvert_exporter": "python",
   "pygments_lexer": "ipython3",
   "version": "3.7.3"
  }
 },
 "nbformat": 4,
 "nbformat_minor": 2
}
