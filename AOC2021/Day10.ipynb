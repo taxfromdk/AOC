{
 "cells": [
  {
   "cell_type": "code",
   "execution_count": 4,
   "metadata": {},
   "outputs": [],
   "source": [
    "#Day 10\n",
    "\n",
    "\n",
    "def parse(i):\n",
    "    return i"
   ]
  },
  {
   "cell_type": "code",
   "execution_count": 5,
   "metadata": {},
   "outputs": [
    {
     "name": "stdout",
     "output_type": "stream",
     "text": [
      "Test input has 3 entries.\n",
      "123\n"
     ]
    }
   ],
   "source": [
    "test_input = \"\"\"123\"\"\"\n",
    "\n",
    "test_input = parse(test_input)\n",
    "print(\"Test input has %d entries.\" %(len(test_input)))\n",
    "print(test_input[:3])"
   ]
  },
  {
   "cell_type": "code",
   "execution_count": 6,
   "metadata": {},
   "outputs": [
    {
     "name": "stdout",
     "output_type": "stream",
     "text": [
      "Real input has 10099 entries.\n"
     ]
    }
   ],
   "source": [
    "real_input=parse(open(\"i10.txt\").read())\n",
    "print(\"Real input has %d entries.\" %(len(real_input)))\n",
    "#print(real_input[:3])"
   ]
  }
 ],
 "metadata": {
  "kernelspec": {
   "display_name": "Python 3",
   "language": "python",
   "name": "python3"
  },
  "language_info": {
   "codemirror_mode": {
    "name": "ipython",
    "version": 3
   },
   "file_extension": ".py",
   "mimetype": "text/x-python",
   "name": "python",
   "nbconvert_exporter": "python",
   "pygments_lexer": "ipython3",
   "version": "3.7.3"
  }
 },
 "nbformat": 4,
 "nbformat_minor": 2
}
