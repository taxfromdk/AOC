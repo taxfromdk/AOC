{
 "cells": [
  {
   "cell_type": "code",
   "execution_count": 2,
   "metadata": {
    "scrolled": false
   },
   "outputs": [
    {
     "name": "stdout",
     "output_type": "stream",
     "text": [
      "[1101, 1, 29, 67, 1102, 0, 1, 65, 1008, 65]\n",
      "[16, 1, 2, 0, 4, 2, 7, 1, 2, 14]\n",
      "[0, 1, 2, 3, 4, 5, 6, 7, 8, 9]\n",
      "[0, 1, 3, 6, 10, 15, 21, 28, 36, 45]\n",
      "Test 1: 37\n",
      "Test 2: 168\n"
     ]
    }
   ],
   "source": [
    "#Day 7\n",
    "crabs=[int(x) for x in open(\"i7.txt\").read().split(\",\")]\n",
    "#print(crabs[:10])\n",
    "testcrabs= [int(x) for x in \"16,1,2,0,4,2,7,1,2,14\".split(\",\")]\n",
    "#print(testcrabs[:10])\n",
    "\n",
    "def crabcost(dist):\n",
    "    fuel = 0\n",
    "    cost = 1\n",
    "    while dist > 0:\n",
    "        fuel += cost\n",
    "        cost += 1\n",
    "        dist-=1\n",
    "    #print (fuel)\n",
    "    return fuel\n",
    "\n",
    "costtable1 = list(range(2000))\n",
    "costtable2 = [crabcost(x) for x in range(2000)]\n",
    "\n",
    "#print(costtable1[:10])\n",
    "#print(costtable2[:10])\n",
    "\n",
    "def minfuel(c, t):\n",
    "    cost=[]\n",
    "    for i in range(min(c),max(c),1):\n",
    "        v=0\n",
    "        for C in c:\n",
    "            v+=t[int(abs(C-i))]\n",
    "        cost.append(v)\n",
    "    return min(cost)\n",
    "    \n",
    "print(\"Test 1:\", minfuel(testcrabs, costtable1))\n",
    "print(\"Test 2:\", minfuel(testcrabs, costtable2))\n",
    "\n",
    "\n"
   ]
  },
  {
   "cell_type": "code",
   "execution_count": null,
   "metadata": {},
   "outputs": [],
   "source": [
    "\n"
   ]
  },
  {
   "cell_type": "code",
   "execution_count": null,
   "metadata": {},
   "outputs": [],
   "source": []
  },
  {
   "cell_type": "code",
   "execution_count": null,
   "metadata": {},
   "outputs": [],
   "source": []
  }
 ],
 "metadata": {
  "kernelspec": {
   "display_name": "Python 3",
   "language": "python",
   "name": "python3"
  },
  "language_info": {
   "codemirror_mode": {
    "name": "ipython",
    "version": 3
   },
   "file_extension": ".py",
   "mimetype": "text/x-python",
   "name": "python",
   "nbconvert_exporter": "python",
   "pygments_lexer": "ipython3",
   "version": "3.7.3"
  }
 },
 "nbformat": 4,
 "nbformat_minor": 2
}
