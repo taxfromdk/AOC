{
 "cells": [
  {
   "cell_type": "code",
   "execution_count": 1,
   "id": "20daf2c6",
   "metadata": {
    "scrolled": true
   },
   "outputs": [
    {
     "name": "stdout",
     "output_type": "stream",
     "text": [
      "part1: 65912 65912\n",
      "part2: 195625 195625\n"
     ]
    }
   ],
   "source": [
    "def p(d):\n",
    "    d=d.split('\\n\\n')\n",
    "    d=[sum([int(x) for x in c.split()]) for c in d]\n",
    "    d=sorted(d)\n",
    "    return d[-1],sum(d[-3:])\n",
    "\n",
    "a,b=p(open(\"01.txt\").read())\n",
    "print(\"part1:\",a,65912)\n",
    "print(\"part2:\",b,195625)\n",
    "                  \n",
    "                 "
   ]
  }
 ],
 "metadata": {
  "kernelspec": {
   "display_name": "Python 3 (ipykernel)",
   "language": "python",
   "name": "python3"
  },
  "language_info": {
   "codemirror_mode": {
    "name": "ipython",
    "version": 3
   },
   "file_extension": ".py",
   "mimetype": "text/x-python",
   "name": "python",
   "nbconvert_exporter": "python",
   "pygments_lexer": "ipython3",
   "version": "3.8.10"
  }
 },
 "nbformat": 4,
 "nbformat_minor": 5
}
