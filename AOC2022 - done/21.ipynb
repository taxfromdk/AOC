{
 "cells": [
  {
   "cell_type": "code",
   "execution_count": 2,
   "id": "6a8f3062",
   "metadata": {},
   "outputs": [
    {
     "name": "stdout",
     "output_type": "stream",
     "text": [
      "part1: 379578518396784 379578518396784\n",
      "part2: 3353687996514 3353687996514\n"
     ]
    }
   ],
   "source": [
    "from z3 import *\n",
    "\n",
    "def ld():\n",
    "    d=open('21.txt').read().split('\\n')\n",
    "    r={}\n",
    "    for l in d:\n",
    "        a,b=l.split(': ')\n",
    "        r[a]=b\n",
    "        \n",
    "    return r\n",
    "\n",
    "def expand(M,v):\n",
    "    v=M[v]\n",
    "    while 1:\n",
    "        done = 1\n",
    "        for k in M.keys():\n",
    "            if k in v:\n",
    "                \n",
    "                v=v.replace(k,'('+M[k]+')')\n",
    "                done=0\n",
    "        if done:\n",
    "            break\n",
    "    \n",
    "    \n",
    "    #print(v)\n",
    "    return v\n",
    "\n",
    "def p1():\n",
    "    M=ld()\n",
    "    v=expand(M,'root')\n",
    "    \n",
    "    a=int(eval(v))\n",
    "    \n",
    "    M['root']=M['root'].replace('+','==')\n",
    "    M['humn']='x'\n",
    "    v=expand(M,'root')\n",
    "    #print(v)\n",
    "    x=Int('x')\n",
    "    s = Solver()\n",
    "    eval('s.add(%s)'%(v))\n",
    "    s.check()\n",
    "    m=s.model()\n",
    "    b=m[x].as_long()\n",
    "    return a,b\n",
    "\n",
    "a,b=p1()\n",
    "print('part1:',a, 379578518396784)\n",
    "print('part2:',b, 3353687996514 )\n",
    "    \n",
    "    "
   ]
  }
 ],
 "metadata": {
  "kernelspec": {
   "display_name": "Python 3 (ipykernel)",
   "language": "python",
   "name": "python3"
  },
  "language_info": {
   "codemirror_mode": {
    "name": "ipython",
    "version": 3
   },
   "file_extension": ".py",
   "mimetype": "text/x-python",
   "name": "python",
   "nbconvert_exporter": "python",
   "pygments_lexer": "ipython3",
   "version": "3.8.10"
  }
 },
 "nbformat": 4,
 "nbformat_minor": 5
}
