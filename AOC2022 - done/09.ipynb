{
 "cells": [
  {
   "cell_type": "code",
   "execution_count": 1,
   "id": "6bd2b71b",
   "metadata": {},
   "outputs": [
    {
     "name": "stdout",
     "output_type": "stream",
     "text": [
      "part1: 6018 6018\n",
      "part2: 2619 2619\n"
     ]
    }
   ],
   "source": [
    "import math\n",
    "\n",
    "def sign(x):\n",
    "    if x>0:\n",
    "        return 1\n",
    "    elif x<0:\n",
    "        return -1\n",
    "    return 0\n",
    "        \n",
    "\n",
    "def p(prt):\n",
    "    d=open(\"09.txt\").read().split('\\n')\n",
    "    d=[x.split(' ') for x in d]\n",
    "    #print(d)\n",
    "    M={}\n",
    "    \n",
    "    tailpos=[]\n",
    "    snake=[[0,0],[0,0]]\n",
    "    #print(prt)\n",
    "    if prt==2:\n",
    "        while len(snake)<10:\n",
    "            snake.append([0,0])\n",
    "    for dr,ln in d:\n",
    "        \n",
    "        ln=int(ln)\n",
    "        for i in range(ln):\n",
    "            lx,ly=snake[0]\n",
    "            if dr=='R':\n",
    "                lx+=1\n",
    "            elif dr=='D':\n",
    "                ly+=1\n",
    "            elif dr=='L':\n",
    "                lx-=1\n",
    "            elif dr=='U':\n",
    "                ly-=1\n",
    "            snake[0]=[lx,ly]\n",
    "            for j in range(1,len(snake)):\n",
    "                #l is lead\n",
    "                lx,ly=snake[j-1]\n",
    "                fx,fy=snake[j]\n",
    "                dx=lx-fx\n",
    "                dy=ly-fy\n",
    "                l=math.sqrt(dx*dx+dy*dy)\n",
    "                if l>2:\n",
    "                    fx+=sign(dx)\n",
    "                    fy+=sign(dy)\n",
    "                elif abs(dx)>1:\n",
    "                    fx+=sign(dx)\n",
    "                elif abs(dy)>1:\n",
    "                    fy+=sign(dy)\n",
    "             \n",
    "                snake[j]=[fx,fy]\n",
    "                #print(snake)\n",
    "                ntp=tuple(snake[-1])\n",
    "                if not ntp in tailpos:\n",
    "                    tailpos.append(ntp)\n",
    "    \n",
    "    #print(snake)\n",
    "    return len(tailpos)\n",
    "\n",
    "print(\"part1:\",p(1),6018)\n",
    "print(\"part2:\",p(2),2619)\n",
    "\n"
   ]
  }
 ],
 "metadata": {
  "kernelspec": {
   "display_name": "Python 3 (ipykernel)",
   "language": "python",
   "name": "python3"
  },
  "language_info": {
   "codemirror_mode": {
    "name": "ipython",
    "version": 3
   },
   "file_extension": ".py",
   "mimetype": "text/x-python",
   "name": "python",
   "nbconvert_exporter": "python",
   "pygments_lexer": "ipython3",
   "version": "3.8.10"
  }
 },
 "nbformat": 4,
 "nbformat_minor": 5
}
