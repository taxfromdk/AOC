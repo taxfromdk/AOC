{
 "cells": [
  {
   "cell_type": "code",
   "execution_count": 1,
   "id": "ec3e73bb",
   "metadata": {
    "scrolled": false
   },
   "outputs": [
    {
     "name": "stdout",
     "output_type": "stream",
     "text": [
      "     0\r",
      "     1\r",
      "     2\r",
      "     3\r",
      "     4\r",
      "     5\r",
      "     6\r",
      "     7\r",
      "     8\r",
      "     9\r",
      "    10\r",
      "    11\r",
      "    12\r",
      "    13\r",
      "    14\r",
      "    15\r",
      "    16\r",
      "    17\r",
      "    18\r",
      "    19\r\n",
      "part1: 110888 110888\n"
     ]
    }
   ],
   "source": [
    "import re\n",
    "\n",
    "def p(prt):\n",
    "    d=open(\"11.txt\").read().split('\\n\\n')\n",
    "    M={}\n",
    "    zzz=1\n",
    "    for m in d:\n",
    "        ml=m.split('\\n')\n",
    "        #print(m)\n",
    "        monkey={}\n",
    "        \n",
    "        \n",
    "        monkey['number']=int(re.findall('[0-9]+',ml[0])[0])\n",
    "        monkey['items']=[int(x) for x in re.findall('[0-9]+',ml[1])]\n",
    "        monkey['operation']=ml[2].split(': ')[1]\n",
    "        monkey['test']=int(re.findall('[0-9]+',ml[3])[0])\n",
    "        monkey['true']=int(re.findall('[0-9]+',ml[4])[0])\n",
    "        monkey['false']=int(re.findall('[0-9]+',ml[5])[0])\n",
    "        monkey['inspections']=0\n",
    "        zzz*=monkey['test']\n",
    "        M[monkey['number']]=monkey\n",
    "    \n",
    "    rds=20 if prt==1 else 10000\n",
    "    #print(rds)\n",
    "    for round in range(rds):\n",
    "        #if round%10==0:\n",
    "        print(\"%6d\"%(round),end='\\r')\n",
    "        for m in range(len(M.keys())):\n",
    "            for i in range(len(M[m]['items'])):\n",
    "                old=M[m]['items'][0]\n",
    "                M[m]['items']=M[m]['items'][1:]\n",
    "                o=M[m]['operation']\n",
    "                #print(o)\n",
    "                new=eval(o.split('=')[1])\n",
    "                if prt==1:\n",
    "                    new=new//3\n",
    "                else:\n",
    "                    new%=zzz\n",
    "                t=None\n",
    "                if new%M[m]['test']==0:\n",
    "                    t=M[m]['true']\n",
    "                else:\n",
    "                    t=M[m]['false']\n",
    "                M[t]['items'].append(new)\n",
    "                M[m]['inspections']+=1\n",
    "    isp=[M[x]['inspections'] for x in M.keys()]\n",
    "    isp=sorted(isp)\n",
    "    #print(isp)\n",
    "    return isp[-1]*isp[-2]\n",
    "        \n",
    "    \n",
    "print(\"\\npart1:\",p(1),110888)\n",
    "\n",
    "\n",
    "\n"
   ]
  },
  {
   "cell_type": "code",
   "execution_count": 2,
   "id": "d4ae6da1",
   "metadata": {
    "scrolled": true
   },
   "outputs": [
    {
     "name": "stdout",
     "output_type": "stream",
     "text": [
      "part2: 25590400731 25590400731\n"
     ]
    }
   ],
   "source": [
    "print(\"part2:\",p(2),25590400731)\n",
    "\n",
    "\n",
    "\n"
   ]
  }
 ],
 "metadata": {
  "kernelspec": {
   "display_name": "Python 3 (ipykernel)",
   "language": "python",
   "name": "python3"
  },
  "language_info": {
   "codemirror_mode": {
    "name": "ipython",
    "version": 3
   },
   "file_extension": ".py",
   "mimetype": "text/x-python",
   "name": "python",
   "nbconvert_exporter": "python",
   "pygments_lexer": "ipython3",
   "version": "3.8.10"
  }
 },
 "nbformat": 4,
 "nbformat_minor": 5
}
