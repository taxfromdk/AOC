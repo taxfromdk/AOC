{
 "cells": [
  {
   "cell_type": "code",
   "execution_count": 1,
   "id": "321ed596",
   "metadata": {},
   "outputs": [
    {
     "name": "stdout",
     "output_type": "stream",
     "text": [
      "part1: 450 450\n"
     ]
    }
   ],
   "source": [
    "class Axis:\n",
    "    def __init__(s,a,b):\n",
    "        s.a=a\n",
    "        s.b=b\n",
    "    \n",
    "    def touch(s,o):\n",
    "        if o.b < s.a:\n",
    "            return 0\n",
    "        if s.b < o.a:\n",
    "            return 0\n",
    "        return 1\n",
    "    \n",
    "    def contain(s,o):\n",
    "        return s.a<=o.a and o.b <= s.b\n",
    "\n",
    "def p1():\n",
    "    b=open(\"04.txt\").read().split('\\n')\n",
    "    c=0\n",
    "    R=[]\n",
    "    for l in b:\n",
    "        l=l.split(',')\n",
    "        x0,x1=l[0].split('-')\n",
    "        y0,y1=l[1].split('-')\n",
    "        zzz=[int(x) for x in [x0,x1,y0,y1]]\n",
    "        x0,x1,y0,y1=zzz\n",
    "        A=Axis(x0,x1)\n",
    "        B=Axis(y0,y1)\n",
    "        if B.contain(A) or A.contain(B):\n",
    "            c+=1\n",
    "        \n",
    "    \n",
    "    return c\n",
    "    \n",
    "print(\"part1:\", p1(),450)\n",
    "\n"
   ]
  },
  {
   "cell_type": "code",
   "execution_count": 2,
   "id": "f654c2de",
   "metadata": {},
   "outputs": [
    {
     "name": "stdout",
     "output_type": "stream",
     "text": [
      "part2: 837 837\n"
     ]
    }
   ],
   "source": [
    "def p2():\n",
    "    b=open(\"04.txt\").read().split('\\n')\n",
    "    c=0\n",
    "    R=[]\n",
    "    for l in b:\n",
    "        l=l.split(',')\n",
    "        x0,x1=l[0].split('-')\n",
    "        y0,y1=l[1].split('-')\n",
    "        zzz=[int(x) for x in [x0,x1,y0,y1]]\n",
    "        x0,x1,y0,y1=zzz\n",
    "        A=Axis(x0,x1)\n",
    "        B=Axis(y0,y1)\n",
    "        if B.touch(A):\n",
    "            c+=1\n",
    "    return c\n",
    "    \n",
    "print(\"part2:\", p2(),837)\n"
   ]
  }
 ],
 "metadata": {
  "kernelspec": {
   "display_name": "Python 3 (ipykernel)",
   "language": "python",
   "name": "python3"
  },
  "language_info": {
   "codemirror_mode": {
    "name": "ipython",
    "version": 3
   },
   "file_extension": ".py",
   "mimetype": "text/x-python",
   "name": "python",
   "nbconvert_exporter": "python",
   "pygments_lexer": "ipython3",
   "version": "3.8.10"
  }
 },
 "nbformat": 4,
 "nbformat_minor": 5
}
