{
 "cells": [
  {
   "cell_type": "code",
   "execution_count": 1,
   "id": "a75d09ec",
   "metadata": {
    "scrolled": false
   },
   "outputs": [
    {
     "name": "stdout",
     "output_type": "stream",
     "text": [
      "test\n",
      "containers:  5\n",
      "4 [[20, 5], [20, 5], [15, 10]]\n",
      "minimal containers 2\n",
      "3 [[20, 5], [20, 5], [15, 10]]\n",
      "containers:  20\n",
      "4372 [[11, 30, 47, 31, 3, 1, 5, 3, 15, 1, 3], [11, 30, 47, 31, 3, 1, 5, 3, 19], [11, 30, 47, 31, 3, 1, 5, 19, 3]]\n",
      "minimal containers 4\n",
      "4 [[47, 31, 36, 36], [47, 31, 46, 26], [32, 36, 36, 46]]\n"
     ]
    }
   ],
   "source": [
    "def f(c, a, u, N, m):    \n",
    "    #c container sizes\n",
    "    #a available indices\n",
    "    #u used container indices\n",
    "    #N target volume\n",
    "    \n",
    "    r = []\n",
    "    v = sum([c[x] for x in u])\n",
    "    if v == N:\n",
    "        r+=[u]\n",
    "    else:\n",
    "        for p in range(len(a)):\n",
    "            if v + c[a[p]] <= N and len(u)< m:\n",
    "                uu = u.copy()\n",
    "                uu.append(a[p])\n",
    "                t = a.copy()[p+1:]\n",
    "                r += f(c, t, uu, N, m)\n",
    "    return r\n",
    "\n",
    "def analyze(N, fn, part):\n",
    "    c=[int(x) for x in open(fn).readlines()]\n",
    "    print(\"containers: \", len(c))\n",
    "    t=f(c, list(range(len(c))), [], N, len(c))    \n",
    "    #print(t[:5])\n",
    "    print(len(t), [[c[x] for x in y] for y in t[:3]])\n",
    "    m=min([len(x) for x in t])\n",
    "    print(\"minimal containers\", m)\n",
    "    t=f(c, list(range(len(c))), [], N, m)    \n",
    "    #print(t[:5])\n",
    "    print(len(t), [[c[x] for x in y] for y in t[:3]])\n",
    "    \n",
    "    \n",
    "    \n",
    "   \n",
    "print(\"test\")\n",
    "analyze(25, \"17a.txt\",1)\n",
    "analyze(150, \"17.txt\",1)\n",
    "    \n"
   ]
  },
  {
   "cell_type": "code",
   "execution_count": null,
   "id": "bb6947c6",
   "metadata": {},
   "outputs": [],
   "source": []
  }
 ],
 "metadata": {
  "kernelspec": {
   "display_name": "Python 3 (ipykernel)",
   "language": "python",
   "name": "python3"
  },
  "language_info": {
   "codemirror_mode": {
    "name": "ipython",
    "version": 3
   },
   "file_extension": ".py",
   "mimetype": "text/x-python",
   "name": "python",
   "nbconvert_exporter": "python",
   "pygments_lexer": "ipython3",
   "version": "3.8.10"
  }
 },
 "nbformat": 4,
 "nbformat_minor": 5
}
