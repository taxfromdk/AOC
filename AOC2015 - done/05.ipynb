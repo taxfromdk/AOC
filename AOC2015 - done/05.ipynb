{
 "cells": [
  {
   "cell_type": "code",
   "execution_count": 10,
   "id": "ab3e03d5",
   "metadata": {
    "scrolled": false
   },
   "outputs": [
    {
     "name": "stdout",
     "output_type": "stream",
     "text": [
      "236\n",
      "51\n"
     ]
    }
   ],
   "source": [
    "\n",
    "\n",
    "\n",
    "def isnice1(w):\n",
    "    wow=0\n",
    "    double=False\n",
    "    ll = None\n",
    "    for l in w:\n",
    "        if not double and ll==l:\n",
    "            double=True\n",
    "        if l in \"aeiou\":\n",
    "            wow+=1\n",
    "        ll = l\n",
    "    if wow<3 or not double:\n",
    "        return False\n",
    "    for d in [\"ab\", \"cd\", \"pq\", \"xy\"]:\n",
    "        if d in w:\n",
    "            return False\n",
    "    \n",
    "    return True\n",
    "\n",
    "def isnice2(w):\n",
    "    r = False\n",
    "    for i in range(len(w)-2):\n",
    "        if w[i:i+2] in w[i+2:]:\n",
    "            r = True\n",
    "    if r:\n",
    "        for i in range(2,len(w),1):\n",
    "            if w[i]==w[i-2]:\n",
    "                return True\n",
    "        return False\n",
    "            \n",
    "    \n",
    "    \n",
    "    return r\n",
    "\n",
    "\n",
    "\n",
    "nice=[]\n",
    "for w in open(\"05.txt\").readlines():\n",
    "    w=w.strip()\n",
    "    if isnice1(w):\n",
    "        nice.append(w)\n",
    "print(len(nice))\n",
    "\n",
    "nice=[]\n",
    "for w in open(\"05.txt\").readlines():\n",
    "    w=w.strip()\n",
    "    if isnice2(w):\n",
    "        nice.append(w)\n",
    "print(len(nice))\n",
    "\n",
    "\n",
    "\n",
    "\n"
   ]
  },
  {
   "cell_type": "code",
   "execution_count": null,
   "id": "2cab2713",
   "metadata": {},
   "outputs": [],
   "source": []
  }
 ],
 "metadata": {
  "kernelspec": {
   "display_name": "Python 3 (ipykernel)",
   "language": "python",
   "name": "python3"
  },
  "language_info": {
   "codemirror_mode": {
    "name": "ipython",
    "version": 3
   },
   "file_extension": ".py",
   "mimetype": "text/x-python",
   "name": "python",
   "nbconvert_exporter": "python",
   "pygments_lexer": "ipython3",
   "version": "3.8.10"
  }
 },
 "nbformat": 4,
 "nbformat_minor": 5
}
