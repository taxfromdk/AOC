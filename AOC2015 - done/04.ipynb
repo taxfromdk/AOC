{
 "cells": [
  {
   "cell_type": "code",
   "execution_count": 23,
   "id": "fe854e5c",
   "metadata": {},
   "outputs": [
    {
     "name": "stdout",
     "output_type": "stream",
     "text": [
      "254575 b'bgvyzdsv254575' 000004b30d481662b9cb0c105f6549b2\n",
      "1038736 b'bgvyzdsv1038736' 000000b1b64bf5eb55aad89986126953\n"
     ]
    }
   ],
   "source": [
    "import hashlib\n",
    "salt = \"bgvyzdsv\"\n",
    "\n",
    "\n",
    "def find(target):\n",
    "    i = 1\n",
    "    while 1:\n",
    "        t=(salt+str(i)).encode('utf-8')\n",
    "        r=hashlib.md5(t).hexdigest()\n",
    "        if r.startswith(target):\n",
    "            print(i,t,r)\n",
    "            break\n",
    "        i+=1\n",
    "find(\"00000\")\n",
    "\n",
    "find(\"000000\")\n"
   ]
  },
  {
   "cell_type": "code",
   "execution_count": null,
   "id": "2bcad356",
   "metadata": {},
   "outputs": [],
   "source": []
  },
  {
   "cell_type": "code",
   "execution_count": null,
   "id": "84168fdb",
   "metadata": {},
   "outputs": [],
   "source": []
  }
 ],
 "metadata": {
  "kernelspec": {
   "display_name": "Python 3 (ipykernel)",
   "language": "python",
   "name": "python3"
  },
  "language_info": {
   "codemirror_mode": {
    "name": "ipython",
    "version": 3
   },
   "file_extension": ".py",
   "mimetype": "text/x-python",
   "name": "python",
   "nbconvert_exporter": "python",
   "pygments_lexer": "ipython3",
   "version": "3.8.10"
  }
 },
 "nbformat": 4,
 "nbformat_minor": 5
}
