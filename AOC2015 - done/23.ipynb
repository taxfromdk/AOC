{
 "cells": [
  {
   "cell_type": "code",
   "execution_count": 88,
   "id": "432d1a70",
   "metadata": {},
   "outputs": [
    {
     "name": "stdout",
     "output_type": "stream",
     "text": [
      "{'a': 1.0, 'b': 255}\n"
     ]
    }
   ],
   "source": [
    "inst = []\n",
    "for i in [x.strip() for x in open(\"23.txt\").readlines()]:\n",
    "    #print(i)\n",
    "    i = i.replace(\",\", \"\").split(\" \")\n",
    "    for x in [1,2]:\n",
    "        try:\n",
    "            i[x] = int(float(i[x]))\n",
    "        except:\n",
    "            pass\n",
    "    inst.append(tuple(i))\n",
    "\n",
    "#for i in inst:\n",
    "#    print(i)\n",
    "    \n",
    "i = 0\n",
    "reg = {}\n",
    "reg['a'] = 0\n",
    "reg['b'] = 0\n",
    "while i < len(inst):\n",
    "    #print(inst[i])\n",
    "    if inst[i][0] == 'hlf':\n",
    "        reg[inst[i][1]] /= 2\n",
    "        i+=1\n",
    "    elif inst[i][0] == 'tpl':\n",
    "        reg[inst[i][1]] *= 3\n",
    "        i+=1\n",
    "    elif inst[i][0] == 'inc':\n",
    "        reg[inst[i][1]] += 1\n",
    "        i+=1\n",
    "    elif inst[i][0] == 'jmp':\n",
    "        i+=inst[i][1]\n",
    "    elif inst[i][0] == 'jie':\n",
    "        if reg[inst[i][1]] %2 == 0:\n",
    "            i += inst[i][2]\n",
    "        else:\n",
    "            i += 1\n",
    "    elif inst[i][0] == 'jio':\n",
    "        if reg[inst[i][1]] == 1:\n",
    "            i += inst[i][2]\n",
    "        else:\n",
    "            i += 1\n",
    "print(reg)\n",
    "\n",
    "\n",
    "#hlf r sets register r to half its current value, then continues with the next instruction.\n",
    "#tpl r sets register r to triple its current value, then continues with the next instruction.\n",
    "#inc r increments register r, adding 1 to it, then continues with the next instruction.\n",
    "#jmp offset is a jump; it continues with the instruction offset away relative to itself.\n",
    "#jie r, offset is like jmp, but only jumps if register r is even (\"jump if even\").\n",
    "#jio r, offset is like jmp, but only jumps if register r is 1 (\"jump if one\", not odd)."
   ]
  },
  {
   "cell_type": "code",
   "execution_count": 89,
   "id": "78af05ed",
   "metadata": {},
   "outputs": [
    {
     "name": "stdout",
     "output_type": "stream",
     "text": [
      "{'a': 1.0, 'b': 334}\n"
     ]
    }
   ],
   "source": [
    "inst = []\n",
    "for i in [x.strip() for x in open(\"23.txt\").readlines()]:\n",
    "    #print(i)\n",
    "    i = i.replace(\",\", \"\").split(\" \")\n",
    "    for x in [1,2]:\n",
    "        try:\n",
    "            i[x] = int(float(i[x]))\n",
    "        except:\n",
    "            pass\n",
    "    inst.append(tuple(i))\n",
    "\n",
    "#for i in inst:\n",
    "#    print(i)\n",
    "    \n",
    "i = 0\n",
    "reg = {}\n",
    "reg['a'] = 1\n",
    "reg['b'] = 0\n",
    "while i < len(inst):\n",
    "    #print(inst[i])\n",
    "    if inst[i][0] == 'hlf':\n",
    "        reg[inst[i][1]] /= 2\n",
    "        i+=1\n",
    "    elif inst[i][0] == 'tpl':\n",
    "        reg[inst[i][1]] *= 3\n",
    "        i+=1\n",
    "    elif inst[i][0] == 'inc':\n",
    "        reg[inst[i][1]] += 1\n",
    "        i+=1\n",
    "    elif inst[i][0] == 'jmp':\n",
    "        i+=inst[i][1]\n",
    "    elif inst[i][0] == 'jie':\n",
    "        if reg[inst[i][1]] %2 == 0:\n",
    "            i += inst[i][2]\n",
    "        else:\n",
    "            i += 1\n",
    "    elif inst[i][0] == 'jio':\n",
    "        if reg[inst[i][1]] == 1:\n",
    "            i += inst[i][2]\n",
    "        else:\n",
    "            i += 1\n",
    "print(reg)\n"
   ]
  }
 ],
 "metadata": {
  "kernelspec": {
   "display_name": "Python 3 (ipykernel)",
   "language": "python",
   "name": "python3"
  },
  "language_info": {
   "codemirror_mode": {
    "name": "ipython",
    "version": 3
   },
   "file_extension": ".py",
   "mimetype": "text/x-python",
   "name": "python",
   "nbconvert_exporter": "python",
   "pygments_lexer": "ipython3",
   "version": "3.8.10"
  }
 },
 "nbformat": 4,
 "nbformat_minor": 5
}
