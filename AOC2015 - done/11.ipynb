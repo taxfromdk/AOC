{
 "cells": [
  {
   "cell_type": "code",
   "execution_count": 1,
   "id": "e8fb023c",
   "metadata": {},
   "outputs": [
    {
     "name": "stdout",
     "output_type": "stream",
     "text": [
      "hxbxwxba\n",
      "hxbxxyzz\n",
      "hxcaabcc\n"
     ]
    }
   ],
   "source": [
    "i=\"hxbxwxba\"\n",
    "\n",
    "def tolist(i):\n",
    "    return [ord(c) for c in i]\n",
    "\n",
    "def tostring(i):\n",
    "    return \"\".join([chr(c) for c in i])\n",
    "\n",
    "def inc(x):\n",
    "    i=len(x)-1\n",
    "    while i:\n",
    "        if x[i]==ord('z'):\n",
    "            x[i]=ord('a')\n",
    "        else:\n",
    "            x[i]+=1\n",
    "            break\n",
    "        i-=1\n",
    "    return x\n",
    "\n",
    "def hasseq(x):\n",
    "    #print(x)\n",
    "    c=0\n",
    "    l=0\n",
    "    for i in x:\n",
    "        if l+1==i:\n",
    "            c+=1\n",
    "            if c>=2:\n",
    "                return True\n",
    "        else:\n",
    "            c=0\n",
    "        l=i\n",
    "    return False\n",
    "\n",
    "def legal(x):\n",
    "    for c in [ord(i) for i in \"iol\"]:\n",
    "        if c in x:\n",
    "            return False\n",
    "    return True\n",
    "\n",
    "def twoseq(x):\n",
    "    s=0\n",
    "    l=0\n",
    "    hist=[]\n",
    "    for i in x:\n",
    "        if i==l and i not in hist:\n",
    "            s+=1\n",
    "            #hist.append(i)\n",
    "            l=0\n",
    "        else:\n",
    "            l=i\n",
    "    return s\n",
    "\n",
    "print(i)\n",
    "t=tolist(i)\n",
    "for i in range(2):\n",
    "    leiche=0\n",
    "    while 1:\n",
    "        t=inc(t)\n",
    "        if legal(t):\n",
    "            if hasseq(t):\n",
    "                if twoseq(t)>=2:\n",
    "                    print(tostring(t))\n",
    "                    break\n",
    "        if leiche>3000000:\n",
    "            print(\"leiche\")\n",
    "            break\n",
    "        leiche +=1\n",
    "    \n",
    "    "
   ]
  },
  {
   "cell_type": "code",
   "execution_count": null,
   "id": "72890343",
   "metadata": {},
   "outputs": [],
   "source": []
  }
 ],
 "metadata": {
  "kernelspec": {
   "display_name": "Python 3 (ipykernel)",
   "language": "python",
   "name": "python3"
  },
  "language_info": {
   "codemirror_mode": {
    "name": "ipython",
    "version": 3
   },
   "file_extension": ".py",
   "mimetype": "text/x-python",
   "name": "python",
   "nbconvert_exporter": "python",
   "pygments_lexer": "ipython3",
   "version": "3.8.10"
  }
 },
 "nbformat": 4,
 "nbformat_minor": 5
}
