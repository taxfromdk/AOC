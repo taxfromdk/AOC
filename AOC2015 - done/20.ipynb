{
 "cells": [
  {
   "cell_type": "code",
   "execution_count": 1,
   "id": "ce43ec0d",
   "metadata": {},
   "outputs": [
    {
     "name": "stdout",
     "output_type": "stream",
     "text": [
      "33611760 776160\n",
      "done\n"
     ]
    }
   ],
   "source": [
    "i=33100000\n",
    "\n",
    "ec=0\n",
    "elves={}\n",
    "\n",
    "def addelf():\n",
    "    global ec\n",
    "    elfnumber=ec+1\n",
    "    if not elfnumber in elves.keys():\n",
    "        elves[elfnumber]=[]\n",
    "    elves[elfnumber].append(elfnumber)\n",
    "    a=0\n",
    "    for en in elves[elfnumber]:\n",
    "        a+=en*10\n",
    "        nxt=elfnumber+en\n",
    "        if not nxt in elves.keys():\n",
    "            elves[nxt]=[]\n",
    "        elves[nxt].append(en)\n",
    "    del elves[elfnumber]\n",
    "    ec+=1\n",
    "    return a,ec\n",
    "        \n",
    "N=i\n",
    "while True:\n",
    "    a,h=addelf()\n",
    "    #print(a)\n",
    "    if a >= N:\n",
    "        print(a,h)\n",
    "        break\n",
    "print(\"done\")      \n",
    "        \n",
    "    \n",
    "    \n"
   ]
  },
  {
   "cell_type": "code",
   "execution_count": 2,
   "id": "53f17bd3",
   "metadata": {},
   "outputs": [
    {
     "name": "stdout",
     "output_type": "stream",
     "text": [
      "33161590 786240\n",
      "done\n"
     ]
    }
   ],
   "source": [
    "i=33100000\n",
    "\n",
    "ec=0\n",
    "elves={}\n",
    "\n",
    "def addelf():\n",
    "    global ec\n",
    "    elfnumber=ec+1\n",
    "    if not elfnumber in elves.keys():\n",
    "        elves[elfnumber]=[]\n",
    "    elves[elfnumber].append(elfnumber)\n",
    "    a=0\n",
    "    for en in elves[elfnumber]:\n",
    "        a+=en*11\n",
    "        nxt=elfnumber+en\n",
    "        if not nxt in elves.keys():\n",
    "            elves[nxt]=[]\n",
    "        if nxt < en*50:\n",
    "            elves[nxt].append(en)\n",
    "    del elves[elfnumber]\n",
    "    ec+=1\n",
    "    return a,ec\n",
    "        \n",
    "N=i\n",
    "while True:\n",
    "    a,h=addelf()\n",
    "    #print(a)\n",
    "    if a >= N:\n",
    "        print(a,h)\n",
    "        break\n",
    "print(\"done\")      \n",
    "        \n",
    "    \n",
    "    \n"
   ]
  },
  {
   "cell_type": "code",
   "execution_count": null,
   "id": "9ace4b5c",
   "metadata": {},
   "outputs": [],
   "source": []
  }
 ],
 "metadata": {
  "kernelspec": {
   "display_name": "Python 3 (ipykernel)",
   "language": "python",
   "name": "python3"
  },
  "language_info": {
   "codemirror_mode": {
    "name": "ipython",
    "version": 3
   },
   "file_extension": ".py",
   "mimetype": "text/x-python",
   "name": "python",
   "nbconvert_exporter": "python",
   "pygments_lexer": "ipython3",
   "version": "3.8.10"
  }
 },
 "nbformat": 4,
 "nbformat_minor": 5
}
