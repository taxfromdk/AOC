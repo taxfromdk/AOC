{
 "cells": [
  {
   "cell_type": "code",
   "execution_count": 1,
   "id": "126a458c",
   "metadata": {
    "scrolled": true
   },
   "outputs": [
    {
     "name": "stdout",
     "output_type": "stream",
     "text": [
      "4\n",
      "821\n",
      "17\n",
      "886\n"
     ]
    }
   ],
   "source": [
    "def l(fn):\n",
    "    return [ [y for y in x.strip()] for x in open(fn).readlines()]\n",
    "def sprint(s, m):\n",
    "    [print(\"\".join([x for x in y[:m]])) for y in s[:m]]\n",
    "def c(s):\n",
    "    w=len(s[0])\n",
    "    h=len(s)\n",
    "    n=0\n",
    "    for y in range(h):\n",
    "        for x in range(w):\n",
    "            if s[y][x] == '#':\n",
    "                n+=1\n",
    "    return n\n",
    "\n",
    "def i(s,e):\n",
    "    \n",
    "    w=len(s[0])\n",
    "    h=len(s)\n",
    "    if e:\n",
    "        s[0][0]='#'\n",
    "        s[h-1][0]='#'\n",
    "        s[0][w-1]='#'\n",
    "        s[h-1][w-1]='#'\n",
    "        \n",
    "    r=[[x for x in y] for y in s]\n",
    "    for y in range(h):\n",
    "        for x in range(w):\n",
    "            n=0\n",
    "            for yy in [-1,0,1]:\n",
    "                for xx in [-1,0,1]:\n",
    "                    if x+xx >= 0 and x+xx < w:\n",
    "                        if y+yy >= 0 and y+yy < h: \n",
    "                            if xx != 0 or yy != 0:\n",
    "                                if s[y+yy][x+xx] == '#':\n",
    "                                    n+=1\n",
    "                        \n",
    "            if s[y][x] == '#':           \n",
    "                if not n in [2,3]:\n",
    "                    r[y][x]='.'\n",
    "            else:\n",
    "                if n in [3]:\n",
    "                    r[y][x]='#'\n",
    "    if e:\n",
    "        r[0][0]='#'\n",
    "        r[h-1][0]='#'\n",
    "        r[0][w-1]='#'\n",
    "        r[h-1][w-1]='#' \n",
    "                \n",
    "    return r\n",
    "\n",
    "def a(fn,n,e):\n",
    "    a = l(fn)\n",
    "    #sprint(a, 10)\n",
    "    for j in range(n):\n",
    "        a=i(a,e)\n",
    "    #sprint(a, 10)\n",
    "    on=c(a)\n",
    "    print(on)\n",
    "    return on\n",
    "assert(a(\"18a.txt\",4,0)==4)\n",
    "assert(a(\"18.txt\",100,0)==821)\n",
    "assert(a(\"18a.txt\",5,1)==17)\n",
    "assert(a(\"18.txt\",100,1)==886)\n",
    "\n"
   ]
  }
 ],
 "metadata": {
  "kernelspec": {
   "display_name": "Python 3 (ipykernel)",
   "language": "python",
   "name": "python3"
  },
  "language_info": {
   "codemirror_mode": {
    "name": "ipython",
    "version": 3
   },
   "file_extension": ".py",
   "mimetype": "text/x-python",
   "name": "python",
   "nbconvert_exporter": "python",
   "pygments_lexer": "ipython3",
   "version": "3.8.10"
  }
 },
 "nbformat": 4,
 "nbformat_minor": 5
}
