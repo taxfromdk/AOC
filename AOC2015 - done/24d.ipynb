{
 "cells": [
  {
   "cell_type": "code",
   "execution_count": 1,
   "id": "8e1faf5a",
   "metadata": {},
   "outputs": [
    {
     "name": "stdout",
     "output_type": "stream",
     "text": [
      "begin\n",
      "part 1 10723906903\n",
      "DeltaTime:0\n",
      "part 2 74850409\n",
      "DeltaTime:0\n"
     ]
    }
   ],
   "source": [
    "import itertools as it\n",
    "import operator as op\n",
    "import functools as ft\n",
    "import time\n",
    "\n",
    "def hassum(lst, sub, osub, cw):\n",
    "    for y in range(1,len(lst)):\n",
    "        #print(\"y\",y)\n",
    "        #print(sub,osub,cw)\n",
    "             \n",
    "        for x in (z for z in it.combinations(lst,y) if sum(z)==cw):\n",
    "            #print(\"asaa\",x,lst,sub)\n",
    "            #print(list(set(lst)-set(x)))\n",
    "            if sub == 2:\n",
    "                return True\n",
    "            elif sub < osub:\n",
    "                #print(\"secpnd\",sub,ps)\n",
    "                return hassum(list(set(lst)-set(x)), sub-1, osub, cw)\n",
    "            elif hassum(      list(set(lst)-set(x)), sub-1, osub, cw):\n",
    "                #print(\"first\",x)\n",
    "                return ft.reduce(op.mul,x,1)\n",
    "    \n",
    "\n",
    "\n",
    "def a(parts):\n",
    "    weights=[int(x) for x in open(\"24.txt\").readlines()]\n",
    "    total=sum(weights) \n",
    "    comp_weight=int(total/parts)\n",
    "    #print(parts,weights,total,comp_weight)\n",
    "    \n",
    "    return hassum(weights, parts, parts, comp_weight)\n",
    "\n",
    "lt=None\n",
    "def tm():\n",
    "    global lt\n",
    "    n = time.time()\n",
    "    if not lt is None:\n",
    "        print(\"DeltaTime:%d\"%(n-lt))\n",
    "    lt=n\n",
    "print(\"begin\")\n",
    "tm()\n",
    "print(\"part 1\", a(3))\n",
    "tm()\n",
    "print(\"part 2\", a(4))\n",
    "tm()\n",
    "\n",
    "\n"
   ]
  },
  {
   "cell_type": "code",
   "execution_count": null,
   "id": "2b6773f9",
   "metadata": {},
   "outputs": [],
   "source": []
  },
  {
   "cell_type": "code",
   "execution_count": null,
   "id": "531a45bd",
   "metadata": {},
   "outputs": [],
   "source": []
  }
 ],
 "metadata": {
  "kernelspec": {
   "display_name": "Python 3 (ipykernel)",
   "language": "python",
   "name": "python3"
  },
  "language_info": {
   "codemirror_mode": {
    "name": "ipython",
    "version": 3
   },
   "file_extension": ".py",
   "mimetype": "text/x-python",
   "name": "python",
   "nbconvert_exporter": "python",
   "pygments_lexer": "ipython3",
   "version": "3.8.10"
  }
 },
 "nbformat": 4,
 "nbformat_minor": 5
}
