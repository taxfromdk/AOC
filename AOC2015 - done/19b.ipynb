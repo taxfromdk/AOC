{
 "cells": [
  {
   "cell_type": "code",
   "execution_count": 1,
   "id": "0efed679",
   "metadata": {},
   "outputs": [
    {
     "name": "stdout",
     "output_type": "stream",
     "text": [
      "62 8 204\n",
      "{'C': 1, 'Rn': 31, 'Ca': 52, 'Si': 41, 'B': 22, 'F': 26, 'Ar': 31, 'Ti': 10, 'P': 23, 'Th': 17, 'Mg': 9, 'Y': 8, 'Al': 3}\n",
      "195\n"
     ]
    }
   ],
   "source": [
    "import time\n",
    "import re\n",
    "\n",
    "\n",
    "\n",
    "def sep(s):\n",
    "    return re.findall(\"[A-Z][a-z]*\",s)\n",
    "\n",
    "\n",
    "#https://www.reddit.com/r/adventofcode/comments/3xflz8/day_19_solutions/\n",
    "\n",
    "def b(fn):\n",
    "    line = [x.strip() for x in open(fn).readlines()]\n",
    "    m=sep(line[-1])\n",
    "    \n",
    "    p={}\n",
    "    rnar=0\n",
    "    y=0\n",
    "    others=0\n",
    "    for i in m:\n",
    "        if not i in p:\n",
    "            p[i]=0\n",
    "        p[i]+=1\n",
    "        if i in ['Rn','Ar']:\n",
    "            rnar+=1\n",
    "        elif i == 'Y':\n",
    "            y+=1\n",
    "        else:\n",
    "            others+=1\n",
    "    print(rnar,y,others)\n",
    "        \n",
    "        \n",
    "    #print(m)\n",
    "    print(p)\n",
    "    print(len(m)-rnar-2*y-1)\n",
    "    \n",
    "\n",
    "    \n",
    "b(\"19.txt\")\n",
    "    "
   ]
  },
  {
   "cell_type": "code",
   "execution_count": null,
   "id": "9cca7eed",
   "metadata": {},
   "outputs": [],
   "source": []
  }
 ],
 "metadata": {
  "kernelspec": {
   "display_name": "Python 3 (ipykernel)",
   "language": "python",
   "name": "python3"
  },
  "language_info": {
   "codemirror_mode": {
    "name": "ipython",
    "version": 3
   },
   "file_extension": ".py",
   "mimetype": "text/x-python",
   "name": "python",
   "nbconvert_exporter": "python",
   "pygments_lexer": "ipython3",
   "version": "3.8.10"
  }
 },
 "nbformat": 4,
 "nbformat_minor": 5
}
