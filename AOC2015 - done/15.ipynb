{
 "cells": [
  {
   "cell_type": "code",
   "execution_count": 1,
   "id": "c9d9328a",
   "metadata": {},
   "outputs": [
    {
     "name": "stdout",
     "output_type": "stream",
     "text": [
      "[28, 35, 18, 19] 13882464\n",
      "[27, 27, 15, 31] 11171160\n"
     ]
    }
   ],
   "source": [
    "\n",
    "import itertools\n",
    "\n",
    "def partitions(n, k):\n",
    "    for c in itertools.combinations(range(n+k-1), k-1):\n",
    "        yield [b-a-1 for a, b in zip((-1,)+c, c+(n+k-1,))]\n",
    "\n",
    "part=1\n",
    "\n",
    "def a():\n",
    "    i=open(\"15.txt\").readlines()\n",
    "    #print(i)\n",
    "    \n",
    "    ingv=[]\n",
    "    \n",
    "    i = [x.split(\":\") for x in i]\n",
    "    ing={}\n",
    "    for x in i:\n",
    "        lv=[]\n",
    "        ing[x[0]]={}\n",
    "        for y in x[1].split(\",\"):\n",
    "            p,v=y.strip().split(\" \")\n",
    "            v=int(v)\n",
    "            lv.append(v)\n",
    "            ing[x[0]][p]=v\n",
    "        ingv.append(lv)\n",
    "    #print(ing)\n",
    "    #print(ingv)\n",
    "    \n",
    "    def e(x):\n",
    "        #print(\"-\",x)\n",
    "        score = [0,0,0,0,0]\n",
    "        for i in range(len(x)):\n",
    "            for j in range(len(score)):\n",
    "                score[j]+=x[i]*ingv[i][j]\n",
    "        #print(score)\n",
    "        s=1\n",
    "        for v in score[:-1]:\n",
    "            s *= max(0,v)\n",
    "        if part==2 and score[-1] != 500:\n",
    "            s = 0\n",
    "        return s\n",
    "    \n",
    "    #genetate recipies with evaluation\n",
    "    \n",
    "    rec = list(partitions(100, 4))\n",
    "    #print(rec[:3], len(rec))\n",
    "\n",
    "    #sort recipies\n",
    "    rec.sort(key=e)\n",
    "    \n",
    "    print(rec[-1], e(rec[-1]))\n",
    "    \n",
    "a()\n",
    "part = 2\n",
    "a()"
   ]
  },
  {
   "cell_type": "code",
   "execution_count": null,
   "id": "2f9e9430",
   "metadata": {},
   "outputs": [],
   "source": []
  }
 ],
 "metadata": {
  "kernelspec": {
   "display_name": "Python 3 (ipykernel)",
   "language": "python",
   "name": "python3"
  },
  "language_info": {
   "codemirror_mode": {
    "name": "ipython",
    "version": 3
   },
   "file_extension": ".py",
   "mimetype": "text/x-python",
   "name": "python",
   "nbconvert_exporter": "python",
   "pygments_lexer": "ipython3",
   "version": "3.8.10"
  }
 },
 "nbformat": 4,
 "nbformat_minor": 5
}
