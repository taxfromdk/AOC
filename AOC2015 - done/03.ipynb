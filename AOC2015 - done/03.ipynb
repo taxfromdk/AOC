{
 "cells": [
  {
   "cell_type": "code",
   "execution_count": 25,
   "id": "025b0dd5",
   "metadata": {},
   "outputs": [
    {
     "name": "stdout",
     "output_type": "stream",
     "text": [
      "2081\n",
      "2341\n"
     ]
    }
   ],
   "source": [
    "plan = open(\"03.txt\").read()\n",
    "\n",
    "def spread(p):\n",
    "    #print(p)\n",
    "    x,y= 0,0\n",
    "    for i in p:\n",
    "        ix = \"%d,%d\"%(x,y)\n",
    "        if not ix in houses.keys():\n",
    "            houses[ix]=0\n",
    "        houses[ix] += 1\n",
    "    \n",
    "        if i == 'v':\n",
    "            y+=1\n",
    "        if i == '<':\n",
    "            x-=1\n",
    "        if i == '^':\n",
    "            y-=1\n",
    "        if i == '>':\n",
    "            x+=1\n",
    "\n",
    "houses={}\n",
    "spread(plan)\n",
    "print(len(houses.keys()))\n",
    "houses={}\n",
    "spread([plan[i+0] for i in range(0,len(plan),2)])\n",
    "spread([plan[i+1] for i in range(0,len(plan),2)])\n",
    "\n",
    "print(len(houses.keys()))\n",
    "\n",
    "\n",
    "\n",
    "            \n",
    "           \n",
    "        "
   ]
  },
  {
   "cell_type": "code",
   "execution_count": null,
   "id": "f10bc396",
   "metadata": {},
   "outputs": [],
   "source": []
  }
 ],
 "metadata": {
  "kernelspec": {
   "display_name": "Python 3 (ipykernel)",
   "language": "python",
   "name": "python3"
  },
  "language_info": {
   "codemirror_mode": {
    "name": "ipython",
    "version": 3
   },
   "file_extension": ".py",
   "mimetype": "text/x-python",
   "name": "python",
   "nbconvert_exporter": "python",
   "pygments_lexer": "ipython3",
   "version": "3.8.10"
  }
 },
 "nbformat": 4,
 "nbformat_minor": 5
}
