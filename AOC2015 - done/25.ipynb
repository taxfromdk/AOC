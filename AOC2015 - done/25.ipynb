{
 "cells": [
  {
   "cell_type": "code",
   "execution_count": 1,
   "id": "2df46498",
   "metadata": {},
   "outputs": [
    {
     "name": "stdout",
     "output_type": "stream",
     "text": [
      "20151125 18749137 17289845\n",
      "31916031 21629792 16929656\n",
      "16080970 8057251 1601130\n",
      "part 1 8997277\n"
     ]
    }
   ],
   "source": [
    "row = 3010\n",
    "column= 3019\n",
    "\n",
    "seed=20151125\n",
    "multiplier=252533\n",
    "divisor=33554393\n",
    "\n",
    "def nv(i):\n",
    "    return (i*multiplier)%divisor\n",
    "\n",
    "#v=seed\n",
    "#for i in range(10):\n",
    "#    print(v)\n",
    "#    v=nv(v)\n",
    "    \n",
    "def getv(row,col):\n",
    "    r=0\n",
    "    c=0\n",
    "    v=seed\n",
    "    N=3\n",
    "    m=[[0 for i in range(N)] for i in range(N)]\n",
    "    m[0][0]=seed\n",
    "    while r != row-1 or c != col-1:\n",
    "        if r==0:\n",
    "            r=c+1\n",
    "            c=0\n",
    "        else:\n",
    "            c+=1\n",
    "            r-=1\n",
    "        v=nv(v)\n",
    "        if r<len(m) and c<len(m[0]):\n",
    "            m[r][c]=v\n",
    "    #print(v)\n",
    "    for r in m:\n",
    "        print(\" \".join([str(x) for x in r]))\n",
    "    return v\n",
    "\n",
    "\n",
    "\n",
    "#   |    1         2         3         4         5         6\n",
    "#---+---------+---------+---------+---------+---------+---------+\n",
    "# 1 | 20151125  18749137  17289845  30943339  10071777  33511524\n",
    "# 2 | 31916031  21629792  16929656   7726640  15514188   4041754\n",
    "# 3 | 16080970   8057251   1601130   7981243  11661866  16474243\n",
    "# 4 | 24592653  32451966  21345942   9380097  10600672  31527494\n",
    "# 5 |    77061  17552253  28094349   6899651   9250759  31663883\n",
    "# 6 | 33071741   6796745  25397450  24659492   1534922  27995004\n",
    "\n",
    "print(\"part 1\", getv(row, column))\n",
    "    \n"
   ]
  }
 ],
 "metadata": {
  "kernelspec": {
   "display_name": "Python 3 (ipykernel)",
   "language": "python",
   "name": "python3"
  },
  "language_info": {
   "codemirror_mode": {
    "name": "ipython",
    "version": 3
   },
   "file_extension": ".py",
   "mimetype": "text/x-python",
   "name": "python",
   "nbconvert_exporter": "python",
   "pygments_lexer": "ipython3",
   "version": "3.8.10"
  }
 },
 "nbformat": 4,
 "nbformat_minor": 5
}
