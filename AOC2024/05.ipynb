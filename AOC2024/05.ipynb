{
 "cells": [
  {
   "cell_type": "code",
   "execution_count": 1,
   "id": "845c30df",
   "metadata": {
    "scrolled": false
   },
   "outputs": [
    {
     "name": "stdout",
     "output_type": "stream",
     "text": [
      "part1: 7024 7024\n",
      "part2: 4151 4151\n"
     ]
    }
   ],
   "source": [
    "def parse(fn):\n",
    "    d=open(fn).read()\n",
    "    r,u=d.split(\"\\n\\n\")\n",
    "    r=[[int(y) for y in x.split(\"|\")] for x in r.split(\"\\n\")]\n",
    "    u=[[int(y) for y in x.split(\",\")] for x in u.split(\"\\n\")]\n",
    "    #print(r[:5])\n",
    "    #print(u[:5])\n",
    "    return r,u\n",
    "\n",
    "\n",
    "def part1(fn):\n",
    "    R,U=parse(fn)\n",
    "    r=0\n",
    "    for u in U:\n",
    "        v=1\n",
    "        for a,b in R:\n",
    "            if a in u and b in u:\n",
    "                ia=u.index(a)\n",
    "                ib=u.index(b)\n",
    "                if ia > ib:\n",
    "                    v=0\n",
    "                    #t=u[ia]\n",
    "                    #u[ia]=u[ib]\n",
    "                    #u[ib]=t\n",
    "                    break\n",
    "        if v:\n",
    "            ix=int((len(u)-1)/2)\n",
    "            r+=u[ix]\n",
    "    return r\n",
    "\n",
    "    \n",
    "\n",
    "\n",
    "def part2(fn):\n",
    "    R,U=parse(fn)\n",
    "    r=0\n",
    "    for u in U:\n",
    "        touched=0\n",
    "        while 1:\n",
    "            v=1\n",
    "            for a,b in R:\n",
    "                if a in u and b in u:\n",
    "                    ia=u.index(a)\n",
    "                    ib=u.index(b)\n",
    "                    if ia > ib:\n",
    "                        v=0\n",
    "                        touched=1\n",
    "                        t=u[ia]\n",
    "                        u[ia]=u[ib]\n",
    "                        u[ib]=t\n",
    "                        break\n",
    "            if v and touched:\n",
    "                ix=int((len(u)-1)/2)\n",
    "                r+=u[ix]\n",
    "            if v:\n",
    "                break\n",
    "    return r\n",
    "\n",
    "\n",
    "print(\"part1:\",part1(\"05.txt\"),7024)\n",
    "#11175 too high\n",
    "\n",
    "print(\"part2:\",part2(\"05.txt\"),4151)\n",
    "\n"
   ]
  }
 ],
 "metadata": {
  "kernelspec": {
   "display_name": "Python 3 (ipykernel)",
   "language": "python",
   "name": "python3"
  },
  "language_info": {
   "codemirror_mode": {
    "name": "ipython",
    "version": 3
   },
   "file_extension": ".py",
   "mimetype": "text/x-python",
   "name": "python",
   "nbconvert_exporter": "python",
   "pygments_lexer": "ipython3",
   "version": "3.12.3"
  }
 },
 "nbformat": 4,
 "nbformat_minor": 5
}
