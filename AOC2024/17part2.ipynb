{
 "cells": [
  {
   "cell_type": "code",
   "execution_count": 1,
   "id": "60868786",
   "metadata": {
    "scrolled": false
   },
   "outputs": [
    {
     "name": "stdout",
     "output_type": "stream",
     "text": [
      "---pseudo start---\n",
      "prog: [2, 4, 1, 5, 7, 5, 0, 3, 4, 0, 1, 6, 5, 5, 3, 0]\n",
      "00:2:bst:B=A%8\n",
      "02:1:bxl:B=xor(B,5)\n",
      "04:7:cdv:C=A/(1<<B)\n",
      "06:0:adv:A=A/(1<<3)\n",
      "08:4:bxc:B=xor(B,C)\n",
      "10:1:bxl:B=xor(B,6)\n",
      "12:5:out:print B%8\n",
      "14:3:jnz:jump to 0 if A\n",
      "---pseudo end---\n",
      "[2, 4, 1, 5, 7, 5, 0, 3, 4, 0, 1, 6, 5, 5, 3, 0]\n",
      "part2: 109019476330651\n"
     ]
    }
   ],
   "source": [
    "import re\n",
    "from decimal import Decimal\n",
    "from module17 import *\n",
    "\n",
    "\n",
    "def evaluate(p,A):\n",
    "    m=M(p)\n",
    "    m.setstate((A,0,0,0))\n",
    "    o=[]\n",
    "    while 1:\n",
    "        v=m.u()\n",
    "        #print(A,v)\n",
    "        if not v is None:\n",
    "            o.append(v)\n",
    "        else:\n",
    "            break\n",
    "    return(o)\n",
    "\n",
    "def describe(fn):\n",
    "    d=open(fn).read()\n",
    "    r,p=[getints(x) for x in d.split(\"\\n\\n\")]\n",
    "    m=M(p)\n",
    "    m.pseudo()\n",
    "    print(p)\n",
    "    #print(\"????\")\n",
    "\n",
    "def part2(fn):\n",
    "    describe(fn)\n",
    "    \n",
    "    d=open(fn).read()\n",
    "    r,p=[getints(x) for x in d.split(\"\\n\\n\")]\n",
    "    \n",
    "    lp=len(p)\n",
    "    \n",
    "    #a,octets\n",
    "    o=[(0,0)]\n",
    "    z=0\n",
    "    while len(o):\n",
    "        z+=1\n",
    "        \n",
    "        a,b=o[0]\n",
    "        o=o[1:]\n",
    "        \n",
    "        #print(\"------Evaluating\",a,b)\n",
    "        \n",
    "        for i in range(8):\n",
    "            A=(a<<3)+i\n",
    "            e=evaluate(p,A)\n",
    "            #print(\"constructing\",i,A,bin(A),e)\n",
    "            l=len(e)\n",
    "            if e==p:\n",
    "                return A\n",
    "            if p[-l:]==e and l==b+1:\n",
    "                o.append((A,b+1))\n",
    "\n",
    "print(\"part2:\",part2(\"17.txt\"))\n",
    "\n",
    "\n",
    "\n",
    "\n",
    "    "
   ]
  },
  {
   "cell_type": "code",
   "execution_count": null,
   "id": "39e175bd",
   "metadata": {},
   "outputs": [],
   "source": []
  }
 ],
 "metadata": {
  "kernelspec": {
   "display_name": "Python 3 (ipykernel)",
   "language": "python",
   "name": "python3"
  },
  "language_info": {
   "codemirror_mode": {
    "name": "ipython",
    "version": 3
   },
   "file_extension": ".py",
   "mimetype": "text/x-python",
   "name": "python",
   "nbconvert_exporter": "python",
   "pygments_lexer": "ipython3",
   "version": "3.12.3"
  }
 },
 "nbformat": 4,
 "nbformat_minor": 5
}
