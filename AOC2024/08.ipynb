{
 "cells": [
  {
   "cell_type": "code",
   "execution_count": null,
   "id": "943c09d7",
   "metadata": {},
   "outputs": [
    {
     "name": "stdout",
     "output_type": "stream",
     "text": [
      "test1: 14 14\n",
      "part1: 392 392\n"
     ]
    }
   ],
   "source": [
    "def parse(fn):\n",
    "    m={}\n",
    "    a={}\n",
    "    for y,l in enumerate(open(fn).readlines()):\n",
    "        for x,c in enumerate(l):\n",
    "            if c==\"\\n\":\n",
    "                continue\n",
    "            p=x+y*1j\n",
    "            m[p]=c\n",
    "            if c.isalnum():\n",
    "                if not c in a:\n",
    "                    a[c]=[]\n",
    "                a[c].append(p)\n",
    "    #print(m,a)\n",
    "    return m,a\n",
    "                \n",
    "            \n",
    "    \n",
    "def solve(fn,p=1):\n",
    "    r=[]\n",
    "    m,a=parse(fn)\n",
    "    for c in a.keys():\n",
    "        l=len(a[c])\n",
    "        for x in range(l):\n",
    "            for y in range(l):\n",
    "                if x!=y:\n",
    "                    xx=a[c][x]\n",
    "                    yy=a[c][y]\n",
    "                    x2y=yy-xx\n",
    "                    \n",
    "                    if p==1:\n",
    "                        pp=yy+x2y\n",
    "                        if pp in m:\n",
    "                            r.append(pp)\n",
    "                        pp=xx-x2y\n",
    "                        if pp in m:\n",
    "                            r.append(pp)\n",
    "                    elif p==2:\n",
    "                        i=0\n",
    "                        while 1:\n",
    "                            pp=yy+x2y*i\n",
    "                            if pp in m:\n",
    "                                r.append(pp)\n",
    "                            else:\n",
    "                                break\n",
    "                            i+=1\n",
    "                        i=0\n",
    "                        while 1:\n",
    "                            pp=xx-x2y*i\n",
    "                            if pp in m:\n",
    "                                r.append(pp)\n",
    "                            else:\n",
    "                                break\n",
    "                            i+=1\n",
    "    return len(set(r))\n",
    "\n",
    "print(\"test1:\",solve(\"08.tst\"),14)\n",
    "print(\"part1:\",solve(\"08.txt\"),392)\n",
    "print(\"test2:\",solve(\"08.tst\",2),34)\n",
    "print(\"part2:\",solve(\"08.txt\",2),1)\n",
    "\n",
    "#1232 too high\n",
    "#141 too low\n",
    "#397 too high\n",
    "\n",
    "\n"
   ]
  }
 ],
 "metadata": {
  "kernelspec": {
   "display_name": "Python 3 (ipykernel)",
   "language": "python",
   "name": "python3"
  },
  "language_info": {
   "codemirror_mode": {
    "name": "ipython",
    "version": 3
   },
   "file_extension": ".py",
   "mimetype": "text/x-python",
   "name": "python",
   "nbconvert_exporter": "python",
   "pygments_lexer": "ipython3",
   "version": "3.12.3"
  }
 },
 "nbformat": 4,
 "nbformat_minor": 5
}
