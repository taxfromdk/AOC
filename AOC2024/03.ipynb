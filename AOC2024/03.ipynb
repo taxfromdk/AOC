{
 "cells": [
  {
   "cell_type": "code",
   "execution_count": 1,
   "id": "f92e9569",
   "metadata": {
    "scrolled": false
   },
   "outputs": [
    {
     "name": "stdout",
     "output_type": "stream",
     "text": [
      "part1: 188116424 188116424\n",
      "part2: 104245808 104245808\n"
     ]
    }
   ],
   "source": [
    "import re\n",
    "\n",
    "def parse(fn):\n",
    "    d=open(fn).read()\n",
    "    return d\n",
    "\n",
    "\n",
    "\n",
    "\n",
    "def part1(fn):\n",
    "    text = parse(fn)\n",
    "    \n",
    "\n",
    "    # Pattern to match function name followed by numbers separated by comma in parentheses\n",
    "    pattern = r'mul\\((\\d+),(\\d+)\\)'\n",
    "\n",
    "    \n",
    "\n",
    "    # Find all matches\n",
    "    matches = re.findall(pattern, text)\n",
    "\n",
    "    # Process matches\n",
    "    r=0\n",
    "    for match in matches:\n",
    "        arg1, arg2 = match\n",
    "        \n",
    "        #print(f\"Args: {arg1}, {arg2}\")\n",
    "        r+=int(arg1)*int(arg2)\n",
    "    \n",
    "    return r\n",
    "\n",
    "\n",
    "def p(text):\n",
    "    pattern = r'mul\\((\\d+),(\\d+)\\)'\n",
    "    matches = re.findall(pattern, text)\n",
    "    r=0\n",
    "    for match in matches:\n",
    "        arg1, arg2 = match\n",
    "        r+=int(arg1)*int(arg2)\n",
    "    return r\n",
    "\n",
    "def part2(fn):\n",
    "    text = parse(fn)\n",
    "    \n",
    "\n",
    "    # Pattern to match function name followed by numbers separated by comma in parentheses\n",
    "    pattern = r'mul\\((\\d+),(\\d+)\\)'\n",
    "\n",
    "    r=0\n",
    "    ix=0\n",
    "    active=True\n",
    "    while ix<len(text):\n",
    "        ss=None\n",
    "        if active:\n",
    "            i=text.find(\"don't()\", ix)\n",
    "            #print(\"act\",i)\n",
    "            if i==-1:\n",
    "                ss=text[ix:]\n",
    "            else:\n",
    "                ss=text[ix:i]\n",
    "                active=False\n",
    "            r+=p(ss)\n",
    "        else:\n",
    "            i=text.find(\"do()\", ix)\n",
    "            #print(\"inact\",i)\n",
    "            if i==-1:\n",
    "                ss=text[ix:]\n",
    "            else:\n",
    "                ss=text[ix:i]\n",
    "                active=True\n",
    "        ix+=len(ss)+1\n",
    "    return r\n",
    "    \n",
    "\n",
    "\n",
    "print(\"part1:\",part1(\"03.txt\"),188116424 )\n",
    "\n",
    "\n",
    "\n",
    "print(\"part2:\",part2(\"03.txt\"),  104245808 )\n",
    "\n",
    "\n",
    "\n"
   ]
  },
  {
   "cell_type": "code",
   "execution_count": null,
   "id": "1feabb72",
   "metadata": {},
   "outputs": [],
   "source": []
  }
 ],
 "metadata": {
  "kernelspec": {
   "display_name": "Python 3 (ipykernel)",
   "language": "python",
   "name": "python3"
  },
  "language_info": {
   "codemirror_mode": {
    "name": "ipython",
    "version": 3
   },
   "file_extension": ".py",
   "mimetype": "text/x-python",
   "name": "python",
   "nbconvert_exporter": "python",
   "pygments_lexer": "ipython3",
   "version": "3.12.3"
  }
 },
 "nbformat": 4,
 "nbformat_minor": 5
}
