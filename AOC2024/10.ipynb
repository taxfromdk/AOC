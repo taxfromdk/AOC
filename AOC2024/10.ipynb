{
 "cells": [
  {
   "cell_type": "code",
   "execution_count": 1,
   "id": "d0b35f5d",
   "metadata": {},
   "outputs": [
    {
     "name": "stdout",
     "output_type": "stream",
     "text": [
      "part1: 744 744\n",
      "part2: 1651 1651\n"
     ]
    }
   ],
   "source": [
    "def parse(fn):\n",
    "    M={}\n",
    "    for y,l in enumerate(open(fn).readlines()):\n",
    "        for x,v in enumerate(l):\n",
    "            if v!= \"\\n\":\n",
    "                M[x+y*1j]=int(v)\n",
    "    return M\n",
    "\n",
    "def niners(M,p,v=0):\n",
    "    l=[]\n",
    "    if p in M and M[p]==v:\n",
    "        if v==9:\n",
    "            return [p]\n",
    "        else:\n",
    "            d=1\n",
    "            for i in range(4):\n",
    "                l+=niners(M,p+d,v+1)\n",
    "                d*=1j\n",
    "        \n",
    "    return l\n",
    "\n",
    "def part1(fn):\n",
    "    M=parse(fn)\n",
    "    s=0\n",
    "    for p in M.keys():\n",
    "        s+=len(set(niners(M,p)))\n",
    "    return s\n",
    "\n",
    "def part2(fn):\n",
    "    M=parse(fn)\n",
    "    s=0\n",
    "    for p in M.keys():\n",
    "        s+=len(niners(M,p))\n",
    "    return s\n",
    "\n",
    "print(\"part1:\",part1(\"10.txt\"),744)\n",
    "print(\"part2:\",part2(\"10.txt\"),1651)           \n",
    "        \n",
    "        \n",
    "        \n",
    "        \n",
    "        "
   ]
  }
 ],
 "metadata": {
  "kernelspec": {
   "display_name": "Python 3 (ipykernel)",
   "language": "python",
   "name": "python3"
  },
  "language_info": {
   "codemirror_mode": {
    "name": "ipython",
    "version": 3
   },
   "file_extension": ".py",
   "mimetype": "text/x-python",
   "name": "python",
   "nbconvert_exporter": "python",
   "pygments_lexer": "ipython3",
   "version": "3.12.3"
  }
 },
 "nbformat": 4,
 "nbformat_minor": 5
}
