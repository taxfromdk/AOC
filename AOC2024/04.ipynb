{
 "cells": [
  {
   "cell_type": "code",
   "execution_count": 2,
   "id": "2469b82d",
   "metadata": {},
   "outputs": [
    {
     "name": "stdout",
     "output_type": "stream",
     "text": [
      "part1: 2390 2390\n",
      "part2: 1809 1809\n"
     ]
    }
   ],
   "source": [
    "\n",
    "\n",
    "def parse(fn):\n",
    "    M=open(fn).readlines()\n",
    "    h=len(M)\n",
    "    w=len(M[0])\n",
    "    m={}\n",
    "    for y in range(h):\n",
    "        for x in range(w):\n",
    "            if x <len(M[y]):\n",
    "                c=M[y][x]\n",
    "                m[(x,y)]=c\n",
    "    return m,w,h\n",
    "\n",
    "\n",
    "\n",
    "\n",
    "def part1(fn):\n",
    "    m,w,h = parse(fn)\n",
    "    r=0\n",
    "    for y in range(h):\n",
    "        for x in range(w):\n",
    "            for dx in range(-1,2):\n",
    "                for dy in range(-1,2):\n",
    "                    v=1\n",
    "                    for i,c in enumerate(\"XMAS\"):\n",
    "                        xx=x+dx*i\n",
    "                        yy=y+dy*i\n",
    "                        cc=(xx,yy)\n",
    "                        if not cc in m or m[cc]!=c:\n",
    "                            v=0\n",
    "                            break\n",
    "                    if v:\n",
    "                        r+=1\n",
    "    \n",
    "    return r\n",
    "\n",
    "    \n",
    "\n",
    "\n",
    "\n",
    "def part2(fn):\n",
    "    m,w,h = parse(fn)\n",
    "    r=0\n",
    "    for y in range(h):\n",
    "        for x in range(w):\n",
    "            z=(x,y)\n",
    "            if z in m and m[z]=='A':\n",
    "                a=(x-1,y-1)\n",
    "                b=(x+1,y-1)\n",
    "                c=(x-1,y+1)\n",
    "                d=(x+1,y+1)\n",
    "                if a in m and b in m and c in m and d in m:\n",
    "                    a=m[a]\n",
    "                    b=m[b]\n",
    "                    c=m[c]\n",
    "                    d=m[d]\n",
    "                    if a!=d and b!=c:\n",
    "                        o=\"MS\"\n",
    "                        if a in o and b in o and c in o and d in o:\n",
    "                            r+=1\n",
    "    \n",
    "    return r\n",
    "\n",
    "print(\"part1:\",part1(\"04.txt\"),2390)\n",
    "\n",
    "print(\"part2:\",part2(\"04.txt\"), 1809)\n",
    "#1007 too low\n",
    "\n",
    "\n"
   ]
  },
  {
   "cell_type": "code",
   "execution_count": null,
   "id": "f866c08b",
   "metadata": {},
   "outputs": [],
   "source": []
  }
 ],
 "metadata": {
  "kernelspec": {
   "display_name": "Python 3 (ipykernel)",
   "language": "python",
   "name": "python3"
  },
  "language_info": {
   "codemirror_mode": {
    "name": "ipython",
    "version": 3
   },
   "file_extension": ".py",
   "mimetype": "text/x-python",
   "name": "python",
   "nbconvert_exporter": "python",
   "pygments_lexer": "ipython3",
   "version": "3.12.3"
  }
 },
 "nbformat": 4,
 "nbformat_minor": 5
}
