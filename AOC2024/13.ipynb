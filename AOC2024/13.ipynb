{
 "cells": [
  {
   "cell_type": "code",
   "execution_count": 1,
   "id": "b30905f6",
   "metadata": {
    "scrolled": false
   },
   "outputs": [
    {
     "name": "stdout",
     "output_type": "stream",
     "text": [
      "test1: 480 480\n",
      "part1: 40069 40069\n",
      "part2: 71493195288102 71493195288102\n"
     ]
    }
   ],
   "source": [
    "import re\n",
    "\n",
    "\n",
    "def extract_integers(text):\n",
    "    # Matches negative and positive integers\n",
    "    # -? optionally matches minus sign \n",
    "    # \\d+ matches one or more digits\n",
    "    numbers = re.findall(r'-?\\d+', text)\n",
    "    # Convert strings to integers\n",
    "    return [int(n) for n in numbers]\n",
    "\n",
    "\n",
    "\n",
    "def cheapest(p,part):\n",
    "    \n",
    "    #print(p)\n",
    "    # Ax=b\n",
    "    #\n",
    "    # [ xa  xb ] [ A ]   [ px ]\n",
    "    # [ ya  yb ] [ B ] = [ py ]\n",
    "    #print(p)\n",
    "    xa,ya,xb,yb,px,py=extract_integers(p)\n",
    "    \n",
    "    if part==2:\n",
    "        px+=10000000000000\n",
    "        py+=10000000000000\n",
    "    \n",
    "    #cramers rule\n",
    "    det_A=xa*yb-xb*ya\n",
    "    A   =(px*yb-xb*py)/det_A\n",
    "    B   =(xa*py-px*ya)/det_A\n",
    "    \n",
    "    #print(A,B)\n",
    "    \n",
    "    if float(int(A))==A and float(int(B))==B:\n",
    "        return int(A*3+B)\n",
    "   \n",
    "    \n",
    "    return 0\n",
    "\n",
    "\n",
    "def solve(fn,part=1):\n",
    "    c=0\n",
    "    for p in open(fn).read().split(\"\\n\\n\"):\n",
    "        \n",
    "        s=cheapest(p,part)\n",
    "        \n",
    "        if s:\n",
    "            c+=s\n",
    "    return c\n",
    "\n",
    "print(\"test1:\",solve(\"13.tst\"),480)\n",
    "print(\"part1:\",solve(\"13.txt\"),40069)\n",
    "print(\"part2:\",solve(\"13.txt\",2),71493195288102)\n",
    "#256 too low\n",
    "#2167 too low\n",
    "\n"
   ]
  },
  {
   "cell_type": "code",
   "execution_count": null,
   "id": "7fc05ce8",
   "metadata": {},
   "outputs": [],
   "source": []
  }
 ],
 "metadata": {
  "kernelspec": {
   "display_name": "Python 3 (ipykernel)",
   "language": "python",
   "name": "python3"
  },
  "language_info": {
   "codemirror_mode": {
    "name": "ipython",
    "version": 3
   },
   "file_extension": ".py",
   "mimetype": "text/x-python",
   "name": "python",
   "nbconvert_exporter": "python",
   "pygments_lexer": "ipython3",
   "version": "3.12.3"
  }
 },
 "nbformat": 4,
 "nbformat_minor": 5
}
