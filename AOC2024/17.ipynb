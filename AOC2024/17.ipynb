{
 "cells": [
  {
   "cell_type": "code",
   "execution_count": null,
   "id": "c33719a0",
   "metadata": {
    "scrolled": false
   },
   "outputs": [
    {
     "name": "stdout",
     "output_type": "stream",
     "text": [
      "test1: 4,6,3,5,6,3,5,2,1 4,6,3,5,6,3,5,2,1,0\n",
      "part1: 7,1,3,4,1,2,6,7,1 7,1,3,4,1,2,6,7,1\n",
      "117000\n",
      "test2: 117440 117440\n",
      "498435000\r"
     ]
    }
   ],
   "source": [
    "import re\n",
    "from module17 import *\n",
    "\n",
    "def getints(text):\n",
    "    return [int(n) for n in re.findall(r'-?\\d+', text)]\n",
    "\n",
    "                       \n",
    "    \n",
    "\n",
    "def solve1(fn):\n",
    "    d=open(fn).read()\n",
    "    r,p=[getints(x) for x in d.split(\"\\n\\n\")]\n",
    "    A,B,C=r\n",
    "    m=M(p)\n",
    "    m.setstate((A,B,C,0))\n",
    "    o=[]\n",
    "    while 1:\n",
    "        v=m.u()\n",
    "        if v:\n",
    "            o.append(v)\n",
    "        else:\n",
    "            break\n",
    "    return \",\".join([\"%d\"%(x) for x in o])\n",
    "    \n",
    "\n",
    "\n",
    "print(\"test1:\",solve1(\"17.tst\"), \"4,6,3,5,6,3,5,2,1,0\")\n",
    "print(\"part1:\",solve1(\"17.txt\"),  \"7,1,3,4,1,2,6,7,1\" )\n",
    "#not 713412671\n",
    "\n",
    "\n",
    "\n",
    "def solve2(fn):\n",
    "    d=open(fn).read()\n",
    "    r,p=[getints(x) for x in d.split(\"\\n\\n\")]\n",
    "    #print(\"r:\",r)\n",
    "    t=0\n",
    "    m=M(p)\n",
    "    #m.pseudo()\n",
    "    #return 1\n",
    "    A,B,C=r\n",
    "    while 1:\n",
    "        A=t\n",
    "        m.setstate((A,B,C,0))\n",
    "        pp=p+[None]\n",
    "        good=1\n",
    "        for i,x in enumerate(pp):\n",
    "            if x != m.u():\n",
    "                good=0\n",
    "                break\n",
    "            #print(t,i)\n",
    "        if good:\n",
    "            print()\n",
    "            return t\n",
    "        t+=1\n",
    "        if t%1000==0:\n",
    "            print(t,end=\"\\r\")\n",
    "            \n",
    "\n",
    "\n",
    "    \n",
    "print(\"test2:\",solve2(\"17b.tst\"), 117440)\n",
    "print(\"part2:\",solve2(\"17.txt\"),  2)\n",
    "\n",
    "\n",
    "  \n",
    "\n",
    "\n",
    "\n",
    "\n",
    "    "
   ]
  }
 ],
 "metadata": {
  "kernelspec": {
   "display_name": "Python 3 (ipykernel)",
   "language": "python",
   "name": "python3"
  },
  "language_info": {
   "codemirror_mode": {
    "name": "ipython",
    "version": 3
   },
   "file_extension": ".py",
   "mimetype": "text/x-python",
   "name": "python",
   "nbconvert_exporter": "python",
   "pygments_lexer": "ipython3",
   "version": "3.12.3"
  }
 },
 "nbformat": 4,
 "nbformat_minor": 5
}
