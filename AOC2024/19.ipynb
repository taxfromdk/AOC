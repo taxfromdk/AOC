{
 "cells": [
  {
   "cell_type": "code",
   "execution_count": 1,
   "id": "199954ad",
   "metadata": {
    "scrolled": false
   },
   "outputs": [
    {
     "name": "stdout",
     "output_type": "stream",
     "text": [
      "part1&2: (6, 16) 6 16\n",
      "part1&2: (242, 595975512785325) 242 2\n"
     ]
    }
   ],
   "source": [
    "m={}\n",
    "\n",
    "def canx(a,x):\n",
    "    global m\n",
    "    if x in m:\n",
    "        return m[x]\n",
    "    pos=0\n",
    "    for y in a:\n",
    "        l=len(y)\n",
    "        if x==y:\n",
    "            pos+=1\n",
    "        elif x[:l]==y:\n",
    "            pos+=canx(a,x[l:])\n",
    "    m[x]=pos\n",
    "    return pos\n",
    "\n",
    "            \n",
    "            \n",
    "def solve(fn):\n",
    "    a,b=open(fn).read().split(\"\\n\\n\")\n",
    "    a=a.split(\", \")\n",
    "    val=0\n",
    "    sol=0\n",
    "    for x in b.split(\"\\n\"):\n",
    "        r=canx(a,x)\n",
    "        if r:\n",
    "            val+=1\n",
    "        sol+=r\n",
    "    \n",
    "    return val,sol\n",
    "\n",
    "\n",
    "\n",
    "m={}\n",
    "print(\"part1&2:\",solve(\"19.tst\"),6,16)\n",
    "m={}\n",
    "print(\"part1&2:\",solve(\"19.txt\"),242,2)\n",
    "\n",
    "\n"
   ]
  }
 ],
 "metadata": {
  "kernelspec": {
   "display_name": "Python 3 (ipykernel)",
   "language": "python",
   "name": "python3"
  },
  "language_info": {
   "codemirror_mode": {
    "name": "ipython",
    "version": 3
   },
   "file_extension": ".py",
   "mimetype": "text/x-python",
   "name": "python",
   "nbconvert_exporter": "python",
   "pygments_lexer": "ipython3",
   "version": "3.12.3"
  }
 },
 "nbformat": 4,
 "nbformat_minor": 5
}
