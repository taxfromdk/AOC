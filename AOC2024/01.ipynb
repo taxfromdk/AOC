{
 "cells": [
  {
   "cell_type": "code",
   "execution_count": 1,
   "id": "305039dd",
   "metadata": {
    "scrolled": false
   },
   "outputs": [
    {
     "name": "stdout",
     "output_type": "stream",
     "text": [
      "test1: 11 11\n",
      "part1: 1341714 1341714\n",
      "test2: 31 31\n",
      "part2: 27384707 27384707\n"
     ]
    }
   ],
   "source": [
    "def parse(fn):\n",
    "    d=open(fn).readlines()\n",
    "    d=[[int(y) for y in x.split(\"   \")] for x in d]\n",
    "    #print(d)\n",
    "    a=list([x[0] for x in d])\n",
    "    b=list([x[1] for x in d])\n",
    "    a.sort()\n",
    "    b.sort()\n",
    "    #print(b)\n",
    "    return a,b\n",
    "\n",
    "def part1(fn):\n",
    "    a,b=parse(fn)\n",
    "    D=0\n",
    "    #print(len(a),len(b))\n",
    "    #print(a)\n",
    "    #print(b)\n",
    "    la=len(a)\n",
    "    lb=len(b)\n",
    "    ll=min(la,lb)\n",
    "    #print(la,lb,ll)\n",
    "    for i in range(ll):\n",
    "        aa=a[i]\n",
    "        bb=b[i]\n",
    "        if aa>bb:\n",
    "            cc=aa-bb\n",
    "        else:\n",
    "            cc=bb-aa\n",
    "        #print(aa,bb,cc)\n",
    "        D+=cc\n",
    "    \n",
    "    \n",
    "    return D\n",
    "\n",
    "def cnt(v,l):\n",
    "    r=0\n",
    "    for vv in l:\n",
    "        if vv==v:\n",
    "            r+=1\n",
    "    return r\n",
    "\n",
    "def part2(fn):\n",
    "    a,b=parse(fn)\n",
    "    r=0\n",
    "    for i in range(len(a)):\n",
    "        v=a[i]\n",
    "        r+=v*cnt(v,b)\n",
    "    \n",
    "    return r\n",
    "\n",
    "print(\"test1:\",part1(\"01.tst\"),11)\n",
    "\n",
    "print(\"part1:\",part1(\"01.txt\"),1341714)\n",
    "#2704251 too high\n",
    "\n",
    "print(\"test2:\",part2(\"01.tst\"),31)\n",
    "print(\"part2:\",part2(\"01.txt\"),27384707)\n",
    "\n"
   ]
  },
  {
   "cell_type": "code",
   "execution_count": null,
   "id": "e6ecbdb6",
   "metadata": {},
   "outputs": [],
   "source": []
  },
  {
   "cell_type": "code",
   "execution_count": null,
   "id": "39a457fd",
   "metadata": {},
   "outputs": [],
   "source": []
  },
  {
   "cell_type": "code",
   "execution_count": null,
   "id": "7224c5ca",
   "metadata": {},
   "outputs": [],
   "source": []
  }
 ],
 "metadata": {
  "kernelspec": {
   "display_name": "Python 3 (ipykernel)",
   "language": "python",
   "name": "python3"
  },
  "language_info": {
   "codemirror_mode": {
    "name": "ipython",
    "version": 3
   },
   "file_extension": ".py",
   "mimetype": "text/x-python",
   "name": "python",
   "nbconvert_exporter": "python",
   "pygments_lexer": "ipython3",
   "version": "3.12.3"
  }
 },
 "nbformat": 4,
 "nbformat_minor": 5
}
