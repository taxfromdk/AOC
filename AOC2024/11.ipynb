{
 "cells": [
  {
   "cell_type": "code",
   "execution_count": 2,
   "id": "9b1a5089",
   "metadata": {},
   "outputs": [
    {
     "name": "stdout",
     "output_type": "stream",
     "text": [
      "test1: 55312 55312\n",
      "part1: 189092 189092\n",
      "part2: 224869647102559 1\n"
     ]
    }
   ],
   "source": [
    "def parse(fn):\n",
    "    D={}\n",
    "    for s in open(fn).read().split(\" \"):\n",
    "        if not s in D:\n",
    "            D[s]=0\n",
    "        D[s]+=1\n",
    "    return D\n",
    " \n",
    "def blink(D):\n",
    "    o={}\n",
    "    for s in D.keys():\n",
    "        \n",
    "        if s==\"0\":\n",
    "            if not \"1\" in o:\n",
    "                o[\"1\"]=0\n",
    "            o[\"1\"]+=D[s]\n",
    "        else:\n",
    "            l=len(s)\n",
    "            if l%2==0:\n",
    "                ix=int(l/2)\n",
    "                a=str(int(s[:ix]))\n",
    "                b=str(int(s[ix:]))\n",
    "                if not a in o:\n",
    "                    o[a]=0\n",
    "                if not b in o:\n",
    "                    o[b]=0\n",
    "                o[a]+=D[s]\n",
    "                o[b]+=D[s]\n",
    "            else:\n",
    "                ss=str(int(s)*2024)\n",
    "                if not ss in o:\n",
    "                    o[ss]=0\n",
    "                o[ss]+=D[s]\n",
    "    return o\n",
    "        \n",
    "    \n",
    "def solve(fn,n):\n",
    "    D=parse(fn)\n",
    "    #print(D)\n",
    "    for i in range(n):\n",
    "        D=blink(D)\n",
    "        #print(D)\n",
    "    return sum(D.values())\n",
    "\n",
    "\n",
    "print(\"test1:\",solve(\"11.tst\",25),55312)\n",
    "print(\"part1:\",solve(\"11.txt\",25),189092)\n",
    "print(\"part2:\",solve(\"11.txt\",75),1)\n",
    "\n",
    "\n"
   ]
  }
 ],
 "metadata": {
  "kernelspec": {
   "display_name": "Python 3 (ipykernel)",
   "language": "python",
   "name": "python3"
  },
  "language_info": {
   "codemirror_mode": {
    "name": "ipython",
    "version": 3
   },
   "file_extension": ".py",
   "mimetype": "text/x-python",
   "name": "python",
   "nbconvert_exporter": "python",
   "pygments_lexer": "ipython3",
   "version": "3.12.3"
  }
 },
 "nbformat": 4,
 "nbformat_minor": 5
}
