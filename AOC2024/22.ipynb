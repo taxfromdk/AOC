{
 "cells": [
  {
   "cell_type": "code",
   "execution_count": 22,
   "id": "fb756ce4",
   "metadata": {
    "scrolled": false
   },
   "outputs": [
    {
     "name": "stdout",
     "output_type": "stream",
     "text": [
      "test1: 37327623 37327623\n",
      "part1: 14623556510 14623556510\n",
      "part2: 23 23\n",
      "part2: 1701 1701\n"
     ]
    }
   ],
   "source": [
    "\n",
    "def mix(x,s):\n",
    "    return x^s\n",
    "\n",
    "def prune(x):\n",
    "    return x%16777216\n",
    "\n",
    "def step(x):\n",
    "    x=prune(mix(x*64,x))\n",
    "    x=prune(mix(int(x/32),x))\n",
    "    x=prune(mix(x*2048,x))\n",
    "    return x\n",
    "\n",
    "\n",
    "def solve1(fn):\n",
    "    d=[int(x) for x in open(fn).readlines()]\n",
    "    r=[]\n",
    "    for x in d:\n",
    "        for y in range(2000):\n",
    "            x=step(x)\n",
    "        r.append(x)\n",
    "    return sum(r)\n",
    "    \n",
    "print(\"test1:\",solve1(\"22.tst\"), 37327623)\n",
    "print(\"part1:\",solve1(\"22.txt\"), 14623556510)\n",
    "\n",
    "\n",
    "\n",
    "def solve2(fn):\n",
    "    seeds=[int(x) for x in open(fn).readlines()]\n",
    "    #print(seeds)\n",
    "    #harvest sequences\n",
    "    N=2000\n",
    "    seqs=[]\n",
    "    for seed in seeds:\n",
    "        sequence=[seed]\n",
    "        price = [seed % 10]\n",
    "        delta = [None]\n",
    "        for i in range(N):\n",
    "            sequence.append(step(sequence[-1]))\n",
    "            price.append(sequence[-1]%10)\n",
    "            delta.append(price[-1]-price[-2] if not price[-2] is None else None)\n",
    "        seqs.append((sequence, price, delta))\n",
    "        #print(sequence[:10])\n",
    "        #print(price[:10])\n",
    "        #print(delta[:10])\n",
    "\n",
    "    c={}\n",
    "    bananas={}\n",
    "    for m,x in enumerate(seqs):\n",
    "        sequence,price,delta=x\n",
    "        for i in range(3,N):\n",
    "            ds=tuple(delta[i-3:i+1])\n",
    "            u=(m,ds)\n",
    "            if not u in c:\n",
    "                if not ds in bananas:\n",
    "                    bananas[ds]=0\n",
    "                bananas[ds]+=price[i]\n",
    "            c[u]=1\n",
    "    return max(bananas.values())\n",
    " \n",
    "print(\"part2:\",solve2(\"22.tst2\"),23)\n",
    "print(\"part2:\",solve2(\"22.txt\"), 1701)\n",
    "#3422858 too high\n",
    "\n",
    "      \n",
    "\n",
    "\n"
   ]
  }
 ],
 "metadata": {
  "kernelspec": {
   "display_name": "Python 3 (ipykernel)",
   "language": "python",
   "name": "python3"
  },
  "language_info": {
   "codemirror_mode": {
    "name": "ipython",
    "version": 3
   },
   "file_extension": ".py",
   "mimetype": "text/x-python",
   "name": "python",
   "nbconvert_exporter": "python",
   "pygments_lexer": "ipython3",
   "version": "3.12.3"
  }
 },
 "nbformat": 4,
 "nbformat_minor": 5
}
