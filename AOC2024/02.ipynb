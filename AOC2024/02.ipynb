{
 "cells": [
  {
   "cell_type": "code",
   "execution_count": 1,
   "id": "46bc91aa",
   "metadata": {},
   "outputs": [
    {
     "name": "stdout",
     "output_type": "stream",
     "text": [
      "part1: 257 257\n",
      "part2: 328 328\n"
     ]
    }
   ],
   "source": [
    "def parse(fn):\n",
    "    d=open(fn).readlines()\n",
    "    d=[[int(y) for y in x.split(\" \")] for x in d]\n",
    "    return d\n",
    "\n",
    "\n",
    "def safe(s):\n",
    "    last=None\n",
    "    dr=None\n",
    "    for v in s:\n",
    "        if not last is None:\n",
    "            j=v-last\n",
    "            if not abs(j) in [1,2,3]:\n",
    "                return False\n",
    "            if j>0:\n",
    "                if dr==-1:\n",
    "                    return False\n",
    "                dr=1\n",
    "            if j<0:\n",
    "                if dr==1:\n",
    "                    return False\n",
    "                dr=-1\n",
    "        last=v\n",
    "    return True\n",
    "    \n",
    "\n",
    "def part1(fn):\n",
    "    d=parse(fn)\n",
    "    r=0\n",
    "    for s in d:\n",
    "        if safe(s):\n",
    "            r+=1\n",
    "    return r\n",
    "\n",
    "\n",
    "def safe2(s):\n",
    "    if safe(s):\n",
    "        return True\n",
    "    for i in range(len(s)):\n",
    "        s2=s[:i]+s[i+1:]\n",
    "        if safe(s2):\n",
    "            return True\n",
    "    return False\n",
    "\n",
    "def part2(fn):\n",
    "    d=parse(fn)\n",
    "    r=0\n",
    "    for s in d:\n",
    "        if safe2(s):\n",
    "            r+=1\n",
    "    return r\n",
    "    \n",
    "\n",
    "\n",
    "print(\"part1:\",part1(\"02.txt\"),257)\n",
    "\n",
    "\n",
    "\n",
    "print(\"part2:\",part2(\"02.txt\"),328)\n",
    "\n",
    "\n",
    "\n"
   ]
  }
 ],
 "metadata": {
  "kernelspec": {
   "display_name": "Python 3 (ipykernel)",
   "language": "python",
   "name": "python3"
  },
  "language_info": {
   "codemirror_mode": {
    "name": "ipython",
    "version": 3
   },
   "file_extension": ".py",
   "mimetype": "text/x-python",
   "name": "python",
   "nbconvert_exporter": "python",
   "pygments_lexer": "ipython3",
   "version": "3.12.3"
  }
 },
 "nbformat": 4,
 "nbformat_minor": 5
}
