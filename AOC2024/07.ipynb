{
 "cells": [
  {
   "cell_type": "code",
   "execution_count": 1,
   "id": "e3329696",
   "metadata": {
    "scrolled": false
   },
   "outputs": [
    {
     "name": "stdout",
     "output_type": "stream",
     "text": [
      "part1: 1611660863222 1611660863222\n",
      "part2: 945341732469724 945341732469724\n"
     ]
    }
   ],
   "source": [
    "def h(t):\n",
    "    r,v=t.split(\": \")\n",
    "    r=int(r)\n",
    "    v=[int(x) for x in v.split(\" \")]\n",
    "    return (r,v)\n",
    "\n",
    "def parse(fn):\n",
    "    d=open(fn).readlines()\n",
    "    d=[h(t) for t in d]\n",
    "    return d\n",
    "\n",
    "def chk(r,v,p=1,sgn=[]):\n",
    "    \n",
    "    if len(sgn)<len(v)-1:\n",
    "        V=[]\n",
    "        V.append(chk(r,v,p,sgn+[\"+\"]))\n",
    "        V.append(chk(r,v,p,sgn+[\"*\"]))\n",
    "        if p==2:\n",
    "            V.append(chk(r,v,p,sgn+[\"||\"]))\n",
    "        return max(V)\n",
    "    else:\n",
    "        if p==2:\n",
    "            #print(r,v,sgn)\n",
    "            pass\n",
    "        c=v[0]\n",
    "        for i in range(len(sgn)):\n",
    "            s=sgn[i]\n",
    "            vv=v[i+1]\n",
    "            if s==\"*\":\n",
    "                c*=vv\n",
    "            elif s==\"+\":\n",
    "                c+=vv\n",
    "            elif s==\"||\":\n",
    "                c=int(str(c)+str(vv))\n",
    "                if c>r:\n",
    "                    break\n",
    "        return r if c==r else 0\n",
    "               \n",
    "        \n",
    "def part1(fn):\n",
    "    return sum([chk(x[0],x[1]) for x in parse(fn)])\n",
    "\n",
    "print(\"part1:\",part1(\"07.txt\"),1611660863222)\n",
    "\n",
    "def part2(fn):\n",
    "    return sum([chk(x[0],x[1],2) for x in parse(fn)])\n",
    "\n",
    "print(\"part2:\",part2(\"07.txt\"),  945341732469724  )\n",
    "\n",
    "\n",
    "\n",
    "\n",
    "\n"
   ]
  }
 ],
 "metadata": {
  "kernelspec": {
   "display_name": "Python 3 (ipykernel)",
   "language": "python",
   "name": "python3"
  },
  "language_info": {
   "codemirror_mode": {
    "name": "ipython",
    "version": 3
   },
   "file_extension": ".py",
   "mimetype": "text/x-python",
   "name": "python",
   "nbconvert_exporter": "python",
   "pygments_lexer": "ipython3",
   "version": "3.12.3"
  }
 },
 "nbformat": 4,
 "nbformat_minor": 5
}
